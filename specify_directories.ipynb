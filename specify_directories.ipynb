{
 "cells": [
  {
   "cell_type": "code",
   "execution_count": 58,
   "id": "8f54b495-6150-479b-a060-3c75d23c156c",
   "metadata": {},
   "outputs": [],
   "source": [
    "import pandas as pd"
   ]
  },
  {
   "cell_type": "code",
   "execution_count": 59,
   "id": "742dd3e0-486c-468b-b183-95d30aaf1b38",
   "metadata": {},
   "outputs": [],
   "source": [
    "directories_dct ={\n",
    "'source_dir':'/data/moldwinar/tcav2/',\n",
    "'working_dir':'/data/moldwinar/torch_tcav/tcav_scripts/',\n",
    "'checkpoints_dir':'/data/moldwinar/torch_tcav/model_train_scripts/checkpoints/',\n",
    "'data_dir':'/data/moldwinar/tcav2/data/',\n",
    "'concepts_dir':'/data/moldwinar/tcav2/concept_listfiles/',\n",
    "'mimic_dir':'/data/LHC_mimic/mimic3_1.4/raw_data/',\n",
    "'activations_dir:':'LSCRATCH'\n",
    "}"
   ]
  },
  {
   "cell_type": "code",
   "execution_count": 60,
   "id": "4d6eaeb3-94fd-43c0-ace5-a17e6d854fad",
   "metadata": {},
   "outputs": [],
   "source": [
    "pd.DataFrame({'paths':directories_dct.items()}).to_csv('directory_paths.csv',index=False)"
   ]
  },
  {
   "cell_type": "code",
   "execution_count": 61,
   "id": "427bc6f7-0b1b-414d-9359-b1db05d8a491",
   "metadata": {},
   "outputs": [
    {
     "data": {
      "text/plain": [
       "{'source_dir': '/data/moldwinar/tcav2/',\n",
       " 'working_dir': '/data/moldwinar/torch_tcav/tcav_scripts/',\n",
       " 'checkpoints_dir': '/data/moldwinar/torch_tcav/model_train_scripts/checkpoints/',\n",
       " 'data_dir': '/data/moldwinar/tcav2/data/',\n",
       " 'concepts_dir': '/data/moldwinar/tcav2/concept_listfiles/',\n",
       " 'mimic_dir': '/data/LHC_mimic/mimic3_1.4/raw_data/',\n",
       " 'activations_dir:': 'LSCRATCH'}"
      ]
     },
     "execution_count": 61,
     "metadata": {},
     "output_type": "execute_result"
    }
   ],
   "source": [
    "dict(list(pd.read_csv('directory_paths.csv')['paths'].apply(eval)))"
   ]
  },
  {
   "cell_type": "code",
   "execution_count": null,
   "id": "928acb65-b6f3-41e0-ba7c-c6117bdef243",
   "metadata": {},
   "outputs": [],
   "source": []
  }
 ],
 "metadata": {
  "kernelspec": {
   "display_name": "Python 3",
   "language": "python",
   "name": "python3"
  },
  "language_info": {
   "codemirror_mode": {
    "name": "ipython",
    "version": 3
   },
   "file_extension": ".py",
   "mimetype": "text/x-python",
   "name": "python",
   "nbconvert_exporter": "python",
   "pygments_lexer": "ipython3",
   "version": "3.6.10"
  }
 },
 "nbformat": 4,
 "nbformat_minor": 5
}
