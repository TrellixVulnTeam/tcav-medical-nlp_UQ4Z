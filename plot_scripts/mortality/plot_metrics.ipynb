{
 "cells": [
  {
   "cell_type": "code",
   "execution_count": 2,
   "metadata": {},
   "outputs": [],
   "source": [
    "import pandas as pd\n",
    "import matplotlib. pyplot as plt\n",
    "import os\n",
    "import numpy as np"
   ]
  },
  {
   "cell_type": "code",
   "execution_count": 3,
   "metadata": {},
   "outputs": [
    {
     "name": "stdout",
     "output_type": "stream",
     "text": [
      "0.3849372384937239\n"
     ]
    }
   ],
   "source": [
    "os.listdir('checkpoints/distilbert_weighted')\n",
    "f1_macro_avgs = []\n",
    "losses = []\n",
    "val_losses = []\n",
    "for i in range(100):\n",
    "    try:\n",
    "#         epoch_metrics = pd.read_csv('checkpoints/distilbert_weighted/distilbert_mortality_weighted'+str(i)+'scores.csv')\n",
    "#         epoch_metrics = pd.read_csv('checkpoints/distilbert_mortality_'+str(i)+'scores.csv')\n",
    "#         epoch_metrics = pd.read_csv('checkpoints/distilbert_weighted/distilbert_scdropout0.5_mortality_weighted'+str(i)+'scores.csv')\n",
    "        epoch_metrics = pd.read_csv('checkpoints/distilbert_weighted/distilbert_scdropout0.5attdropout0.5drouout0.5_mortality_weighted'+str(i)+'scores.csv')\n",
    "\n",
    "        f1_macro_avgs.append(epoch_metrics['1'].iloc[2])\n",
    "        losses.append(epoch_metrics['loss'].iloc[-1])\n",
    "        val_losses.append(epoch_metrics['val_loss'].iloc[-1])\n",
    "\n",
    "    except:\n",
    "        pass\n",
    "print(max(f1_macro_avgs))"
   ]
  },
  {
   "cell_type": "code",
   "execution_count": 4,
   "metadata": {},
   "outputs": [
    {
     "data": {
      "text/html": [
       "<div>\n",
       "<style scoped>\n",
       "    .dataframe tbody tr th:only-of-type {\n",
       "        vertical-align: middle;\n",
       "    }\n",
       "\n",
       "    .dataframe tbody tr th {\n",
       "        vertical-align: top;\n",
       "    }\n",
       "\n",
       "    .dataframe thead th {\n",
       "        text-align: right;\n",
       "    }\n",
       "</style>\n",
       "<table border=\"1\" class=\"dataframe\">\n",
       "  <thead>\n",
       "    <tr style=\"text-align: right;\">\n",
       "      <th></th>\n",
       "      <th>Unnamed: 0</th>\n",
       "      <th>0</th>\n",
       "      <th>1</th>\n",
       "      <th>accuracy</th>\n",
       "      <th>macro avg</th>\n",
       "      <th>weighted avg</th>\n",
       "      <th>loss</th>\n",
       "      <th>val_loss</th>\n",
       "    </tr>\n",
       "  </thead>\n",
       "  <tbody>\n",
       "    <tr>\n",
       "      <th>0</th>\n",
       "      <td>precision</td>\n",
       "      <td>0.923838</td>\n",
       "      <td>0.063830</td>\n",
       "      <td>0.885633</td>\n",
       "      <td>0.493834</td>\n",
       "      <td>0.858809</td>\n",
       "      <td>NaN</td>\n",
       "      <td>NaN</td>\n",
       "    </tr>\n",
       "    <tr>\n",
       "      <th>1</th>\n",
       "      <td>recall</td>\n",
       "      <td>0.955010</td>\n",
       "      <td>0.037500</td>\n",
       "      <td>0.885633</td>\n",
       "      <td>0.496255</td>\n",
       "      <td>0.885633</td>\n",
       "      <td>NaN</td>\n",
       "      <td>NaN</td>\n",
       "    </tr>\n",
       "    <tr>\n",
       "      <th>2</th>\n",
       "      <td>f1_score</td>\n",
       "      <td>0.939165</td>\n",
       "      <td>0.047244</td>\n",
       "      <td>0.885633</td>\n",
       "      <td>0.493205</td>\n",
       "      <td>0.871723</td>\n",
       "      <td>NaN</td>\n",
       "      <td>NaN</td>\n",
       "    </tr>\n",
       "    <tr>\n",
       "      <th>3</th>\n",
       "      <td>support</td>\n",
       "      <td>978.000000</td>\n",
       "      <td>80.000000</td>\n",
       "      <td>0.885633</td>\n",
       "      <td>1058.000000</td>\n",
       "      <td>1058.000000</td>\n",
       "      <td>NaN</td>\n",
       "      <td>NaN</td>\n",
       "    </tr>\n",
       "    <tr>\n",
       "      <th>4</th>\n",
       "      <td>losses</td>\n",
       "      <td>NaN</td>\n",
       "      <td>NaN</td>\n",
       "      <td>NaN</td>\n",
       "      <td>NaN</td>\n",
       "      <td>NaN</td>\n",
       "      <td>0.345846</td>\n",
       "      <td>0.642308</td>\n",
       "    </tr>\n",
       "  </tbody>\n",
       "</table>\n",
       "</div>"
      ],
      "text/plain": [
       "  Unnamed: 0           0          1  accuracy    macro avg  weighted avg  \\\n",
       "0  precision    0.923838   0.063830  0.885633     0.493834      0.858809   \n",
       "1     recall    0.955010   0.037500  0.885633     0.496255      0.885633   \n",
       "2   f1_score    0.939165   0.047244  0.885633     0.493205      0.871723   \n",
       "3    support  978.000000  80.000000  0.885633  1058.000000   1058.000000   \n",
       "4     losses         NaN        NaN       NaN          NaN           NaN   \n",
       "\n",
       "       loss  val_loss  \n",
       "0       NaN       NaN  \n",
       "1       NaN       NaN  \n",
       "2       NaN       NaN  \n",
       "3       NaN       NaN  \n",
       "4  0.345846  0.642308  "
      ]
     },
     "execution_count": 4,
     "metadata": {},
     "output_type": "execute_result"
    }
   ],
   "source": [
    "epoch_metrics.iloc[:,0]=['precision','recall','f1_score','support','losses']\n",
    "epoch_metrics"
   ]
  },
  {
   "cell_type": "code",
   "execution_count": 5,
   "metadata": {},
   "outputs": [],
   "source": [
    "# concept_names = pd.read_csv('resources/25classnames.csv')['0']"
   ]
  },
  {
   "cell_type": "code",
   "execution_count": 6,
   "metadata": {},
   "outputs": [],
   "source": [
    "# fig, ax = plt.subplots()\n",
    "# heights = epoch_metrics.iloc[2,1:-6]\n",
    "# ax.bar(x=range(len(heights)),height=heights)\n",
    "# plt.xticks(range(len(heights)),range(len(heights)))\n",
    "# props = dict(boxstyle='round', facecolor='wheat', alpha=0.5)\n",
    "# ax.text(1.05, 0.95, '\\n'.join([str(i)+' '+phe for i,phe in enumerate(concept_names)]), transform=ax.transAxes, fontsize=14,\n",
    "#         verticalalignment='top', bbox=props)\n",
    "# plt.ylabel('val f1 score')\n",
    "# plt.xlabel('disease phenotype')\n",
    "# plt.title('NCBI Bert classification of 25 phenotypes based on first 512 tokens\\nAfter 10 epochs')\n",
    "# plt.show()\n"
   ]
  },
  {
   "cell_type": "code",
   "execution_count": 7,
   "metadata": {},
   "outputs": [
    {
     "data": {
      "text/plain": [
       "Text(0.5, 1.0, 'DistilBert prediction of 30-hr Mortality based on first 512 tokens')"
      ]
     },
     "execution_count": 7,
     "metadata": {},
     "output_type": "execute_result"
    },
    {
     "data": {
      "image/png": "[encoded data removed]",
      "text/plain": [
       "<Figure size 432x288 with 1 Axes>"
      ]
     },
     "metadata": {
      "needs_background": "light"
     },
     "output_type": "display_data"
    }
   ],
   "source": [
    "xs = list(range(len(f1_macro_avgs)))\n",
    "xs = np.array(xs)\n",
    "plt.plot(xs,f1_macro_avgs)\n",
    "plt.xlabel('epochs')\n",
    "plt.ylabel('val_f1')\n",
    "plt.title('DistilBert prediction of 30-hr Mortality based on first 512 tokens')"
   ]
  },
  {
   "cell_type": "code",
   "execution_count": 8,
   "metadata": {},
   "outputs": [
    {
     "name": "stdout",
     "output_type": "stream",
     "text": [
      "0.3849372384937239 3\n"
     ]
    }
   ],
   "source": [
    "print(np.max(f1_macro_avgs), np.argmax(f1_macro_avgs) )"
   ]
  },
  {
   "cell_type": "code",
   "execution_count": 9,
   "metadata": {},
   "outputs": [
    {
     "data": {
      "text/plain": [
       "Text(0.5, 1.0, 'NCBI Bert prediction of 25 phenotypes based on first 512 tokens')"
      ]
     },
     "execution_count": 9,
     "metadata": {},
     "output_type": "execute_result"
    },
    {
     "data": {
      "image/png": "[encoded data removed]",
      "text/plain": [
       "<Figure size 432x288 with 1 Axes>"
      ]
     },
     "metadata": {
      "needs_background": "light"
     },
     "output_type": "display_data"
    }
   ],
   "source": [
    "plt.plot(xs,losses)\n",
    "plt.plot(xs,val_losses)\n",
    "plt.legend(['loss(on tenth of training epoch)', 'val loss'])\n",
    "plt.xlabel('epochs')\n",
    "plt.ylabel('loss')\n",
    "plt.title('NCBI Bert prediction of 25 phenotypes based on first 512 tokens')"
   ]
  },
  {
   "cell_type": "code",
   "execution_count": 7,
   "metadata": {},
   "outputs": [
    {
     "data": {
      "text/html": [
       "<div>\n",
       "<style scoped>\n",
       "    .dataframe tbody tr th:only-of-type {\n",
       "        vertical-align: middle;\n",
       "    }\n",
       "\n",
       "    .dataframe tbody tr th {\n",
       "        vertical-align: top;\n",
       "    }\n",
       "\n",
       "    .dataframe thead th {\n",
       "        text-align: right;\n",
       "    }\n",
       "</style>\n",
       "<table border=\"1\" class=\"dataframe\">\n",
       "  <thead>\n",
       "    <tr style=\"text-align: right;\">\n",
       "      <th></th>\n",
       "      <th>ROW_ID</th>\n",
       "      <th>SUBJECT_ID</th>\n",
       "      <th>HADM_ID</th>\n",
       "      <th>ITEMID</th>\n",
       "      <th>CHARTTIME</th>\n",
       "      <th>VALUE</th>\n",
       "      <th>VALUENUM</th>\n",
       "      <th>VALUEUOM</th>\n",
       "      <th>FLAG</th>\n",
       "    </tr>\n",
       "  </thead>\n",
       "  <tbody>\n",
       "    <tr>\n",
       "      <th>0</th>\n",
       "      <td>281</td>\n",
       "      <td>3</td>\n",
       "      <td>NaN</td>\n",
       "      <td>50820</td>\n",
       "      <td>2101-10-12 16:07:00</td>\n",
       "      <td>7.39</td>\n",
       "      <td>7.39</td>\n",
       "      <td>units</td>\n",
       "      <td>NaN</td>\n",
       "    </tr>\n",
       "    <tr>\n",
       "      <th>1</th>\n",
       "      <td>282</td>\n",
       "      <td>3</td>\n",
       "      <td>NaN</td>\n",
       "      <td>50800</td>\n",
       "      <td>2101-10-12 18:17:00</td>\n",
       "      <td>ART</td>\n",
       "      <td>NaN</td>\n",
       "      <td>NaN</td>\n",
       "      <td>NaN</td>\n",
       "    </tr>\n",
       "    <tr>\n",
       "      <th>2</th>\n",
       "      <td>283</td>\n",
       "      <td>3</td>\n",
       "      <td>NaN</td>\n",
       "      <td>50802</td>\n",
       "      <td>2101-10-12 18:17:00</td>\n",
       "      <td>-1</td>\n",
       "      <td>-1.00</td>\n",
       "      <td>mEq/L</td>\n",
       "      <td>NaN</td>\n",
       "    </tr>\n",
       "    <tr>\n",
       "      <th>3</th>\n",
       "      <td>284</td>\n",
       "      <td>3</td>\n",
       "      <td>NaN</td>\n",
       "      <td>50804</td>\n",
       "      <td>2101-10-12 18:17:00</td>\n",
       "      <td>22</td>\n",
       "      <td>22.00</td>\n",
       "      <td>mEq/L</td>\n",
       "      <td>NaN</td>\n",
       "    </tr>\n",
       "    <tr>\n",
       "      <th>4</th>\n",
       "      <td>285</td>\n",
       "      <td>3</td>\n",
       "      <td>NaN</td>\n",
       "      <td>50808</td>\n",
       "      <td>2101-10-12 18:17:00</td>\n",
       "      <td>0.93</td>\n",
       "      <td>0.93</td>\n",
       "      <td>mmol/L</td>\n",
       "      <td>abnormal</td>\n",
       "    </tr>\n",
       "    <tr>\n",
       "      <th>...</th>\n",
       "      <td>...</td>\n",
       "      <td>...</td>\n",
       "      <td>...</td>\n",
       "      <td>...</td>\n",
       "      <td>...</td>\n",
       "      <td>...</td>\n",
       "      <td>...</td>\n",
       "      <td>...</td>\n",
       "      <td>...</td>\n",
       "    </tr>\n",
       "    <tr>\n",
       "      <th>27854050</th>\n",
       "      <td>27428435</td>\n",
       "      <td>96443</td>\n",
       "      <td>103219.0</td>\n",
       "      <td>50882</td>\n",
       "      <td>2109-12-30 01:40:00</td>\n",
       "      <td>26</td>\n",
       "      <td>26.00</td>\n",
       "      <td>mEq/L</td>\n",
       "      <td>NaN</td>\n",
       "    </tr>\n",
       "    <tr>\n",
       "      <th>27854051</th>\n",
       "      <td>27428436</td>\n",
       "      <td>96443</td>\n",
       "      <td>103219.0</td>\n",
       "      <td>50885</td>\n",
       "      <td>2109-12-30 01:40:00</td>\n",
       "      <td>2.1</td>\n",
       "      <td>2.10</td>\n",
       "      <td>mg/dL</td>\n",
       "      <td>abnormal</td>\n",
       "    </tr>\n",
       "    <tr>\n",
       "      <th>27854052</th>\n",
       "      <td>27428437</td>\n",
       "      <td>96443</td>\n",
       "      <td>103219.0</td>\n",
       "      <td>50902</td>\n",
       "      <td>2109-12-30 01:40:00</td>\n",
       "      <td>97</td>\n",
       "      <td>97.00</td>\n",
       "      <td>mEq/L</td>\n",
       "      <td>NaN</td>\n",
       "    </tr>\n",
       "    <tr>\n",
       "      <th>27854053</th>\n",
       "      <td>27428438</td>\n",
       "      <td>96443</td>\n",
       "      <td>103219.0</td>\n",
       "      <td>50911</td>\n",
       "      <td>2109-12-30 01:40:00</td>\n",
       "      <td>2</td>\n",
       "      <td>2.00</td>\n",
       "      <td>ng/mL</td>\n",
       "      <td>NaN</td>\n",
       "    </tr>\n",
       "    <tr>\n",
       "      <th>27854054</th>\n",
       "      <td>27428439</td>\n",
       "      <td>96443</td>\n",
       "      <td>103219.0</td>\n",
       "      <td>50912</td>\n",
       "      <td>2109-12-30 01:40:00</td>\n",
       "      <td>1.6</td>\n",
       "      <td>1.60</td>\n",
       "      <td>mg/dL</td>\n",
       "      <td>abnormal</td>\n",
       "    </tr>\n",
       "  </tbody>\n",
       "</table>\n",
       "<p>27854055 rows × 9 columns</p>\n",
       "</div>"
      ],
      "text/plain": [
       "            ROW_ID  SUBJECT_ID   HADM_ID  ITEMID            CHARTTIME VALUE  \\\n",
       "0              281           3       NaN   50820  2101-10-12 16:07:00  7.39   \n",
       "1              282           3       NaN   50800  2101-10-12 18:17:00   ART   \n",
       "2              283           3       NaN   50802  2101-10-12 18:17:00    -1   \n",
       "3              284           3       NaN   50804  2101-10-12 18:17:00    22   \n",
       "4              285           3       NaN   50808  2101-10-12 18:17:00  0.93   \n",
       "...            ...         ...       ...     ...                  ...   ...   \n",
       "27854050  27428435       96443  103219.0   50882  2109-12-30 01:40:00    26   \n",
       "27854051  27428436       96443  103219.0   50885  2109-12-30 01:40:00   2.1   \n",
       "27854052  27428437       96443  103219.0   50902  2109-12-30 01:40:00    97   \n",
       "27854053  27428438       96443  103219.0   50911  2109-12-30 01:40:00     2   \n",
       "27854054  27428439       96443  103219.0   50912  2109-12-30 01:40:00   1.6   \n",
       "\n",
       "          VALUENUM VALUEUOM      FLAG  \n",
       "0             7.39    units       NaN  \n",
       "1              NaN      NaN       NaN  \n",
       "2            -1.00    mEq/L       NaN  \n",
       "3            22.00    mEq/L       NaN  \n",
       "4             0.93   mmol/L  abnormal  \n",
       "...            ...      ...       ...  \n",
       "27854050     26.00    mEq/L       NaN  \n",
       "27854051      2.10    mg/dL  abnormal  \n",
       "27854052     97.00    mEq/L       NaN  \n",
       "27854053      2.00    ng/mL       NaN  \n",
       "27854054      1.60    mg/dL  abnormal  \n",
       "\n",
       "[27854055 rows x 9 columns]"
      ]
     },
     "execution_count": 7,
     "metadata": {},
     "output_type": "execute_result"
    }
   ],
   "source": [
    "import pandas as pd\n",
    "import os\n",
    "os.listdir('../../LHC_mimic/mimic3_1.4/')\n",
    "pd.read_csv('../../LHC_mimic/mimic3_1.4/raw_data/LABEVENTS.csv')"
   ]
  },
  {
   "cell_type": "code",
   "execution_count": null,
   "metadata": {},
   "outputs": [],
   "source": []
  }
 ],
 "metadata": {
  "kernelspec": {
   "display_name": "Python 3",
   "language": "python",
   "name": "python3"
  },
  "language_info": {
   "codemirror_mode": {
    "name": "ipython",
    "version": 3
   },
   "file_extension": ".py",
   "mimetype": "text/x-python",
   "name": "python",
   "nbconvert_exporter": "python",
   "pygments_lexer": "ipython3",
   "version": "3.6.10"
  }
 },
 "nbformat": 4,
 "nbformat_minor": 4
}
