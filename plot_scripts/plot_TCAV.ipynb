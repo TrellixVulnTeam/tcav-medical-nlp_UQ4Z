{
 "cells": [
  {
   "cell_type": "code",
   "execution_count": 31,
   "id": "ff322e28",
   "metadata": {},
   "outputs": [],
   "source": [
    "import json \n",
    "import os\n",
    "import pandas as pd\n",
    "import matplotlib.pyplot as plt\n",
    "import numpy as np\n",
    "import math\n",
    "import pickle\n",
    "import seaborn as sns\n",
    "from plot_utils import *"
   ]
  },
  {
   "cell_type": "code",
   "execution_count": 32,
   "id": "fa2e8e1e-9085-4d00-bb61-e2b796849839",
   "metadata": {},
   "outputs": [],
   "source": [
    "results_dir = '/data/moldwinar/torch_tcav/tcav_scripts/results'\n",
    "cavs_dir = '/data/moldwinar/torch_tcav/tcav_scripts/'\n",
    "nicu_experiment_names = ['logistic_best_steps_84.pt_500_pre_sum',\n",
    "                         'NICU_MLP_0_checkpoint-28853_500_pool',\n",
    "                         'CNN_NICU_best_steps_420.pt_500_dropout',\n",
    "                         'FINALWeightedBlueBert512NicuLosAdmissions_2_checkpoint-26015_500_pool'\n",
    "                         ]\n",
    "nicu_concept_names =  ['Septicemia',\n",
    "                        'Jaundice', \n",
    "                        'Other perinatal conditions',\n",
    "                        'Suspected Infection', \n",
    "                        'Premature birth', \n",
    "                        'Patent ductus arteriosus',\n",
    "                        'Needs Hepatitis Vaccination',\n",
    "                        'Chronic respiratory disease',\n",
    "                        'MALE', 'FEMALE', \n",
    "                        'Single Birth, Cesarean Section', \n",
    "                        'Low birth weight', \n",
    "                        'Sleep Apnea',                        \n",
    "                        'Anemia of prematurity', \n",
    "                        'Retrolental fibroplasia', \n",
    "                        '3+ Birthmates, Cesarian Section', \n",
    "                        'Bradycardia', \n",
    "                        'Twin Birth, Cesarian Section',\n",
    "                        'Respiratory Distress Syndrome',\n",
    "#                        'Fake concept (not present)', \n",
    "                        'Sunday','Monday','Tuesday', 'Wednesday', 'Thursday','Friday','Saturday'\n",
    "                        ]"
   ]
  },
  {
   "cell_type": "code",
   "execution_count": null,
   "id": "29b71213-2740-4980-8411-6fde3c51cfd1",
   "metadata": {},
   "outputs": [
    {
     "name": "stdout",
     "output_type": "stream",
     "text": [
      "['positive_Septicemia', 'positive_Jaundice', 'positive_Other perinatal conditions', 'positive_Suspected Infection', 'positive_Premature birth', 'positive_Patent ductus arteriosus', 'positive_Needs Hepatitis Vaccination', 'positive_Chronic respiratory disease', 'positive_MALE', 'positive_FEMALE', 'positive_Single Birth, Cesarean Section', 'positive_Low birth weight', 'positive_Sleep Apnea', 'positive_Anemia of prematurity', 'positive_Retrolental fibroplasia', 'positive_3+ Birthmates, Cesarian Section', 'positive_Bradycardia', 'positive_Twin Birth, Cesarian Section', 'positive_Respiratory Distress Syndrome', 'positive_Sunday', 'positive_Monday', 'positive_Tuesday', 'positive_Wednesday', 'positive_Thursday', 'positive_Friday', 'positive_Saturday']\n",
      "['positive_Septicemia', 'positive_Jaundice', 'positive_Other perinatal conditions', 'positive_Suspected Infection', 'positive_Premature birth', 'positive_Patent ductus arteriosus', 'positive_Needs Hepatitis Vaccination', 'positive_Chronic respiratory disease', 'positive_MALE', 'positive_FEMALE', 'positive_Single Birth, Cesarean Section', 'positive_Low birth weight', 'positive_Sleep Apnea', 'positive_Anemia of prematurity', 'positive_Retrolental fibroplasia', 'positive_3+ Birthmates, Cesarian Section', 'positive_Bradycardia', 'positive_Twin Birth, Cesarian Section', 'positive_Respiratory Distress Syndrome', 'positive_Sunday', 'positive_Monday', 'positive_Tuesday', 'positive_Wednesday', 'positive_Thursday', 'positive_Friday', 'positive_Saturday']\n",
      "['positive_Septicemia', 'positive_Jaundice', 'positive_Other perinatal conditions', 'positive_Suspected Infection', 'positive_Premature birth', 'positive_Patent ductus arteriosus', 'positive_Needs Hepatitis Vaccination', 'positive_Chronic respiratory disease', 'positive_MALE', 'positive_FEMALE', 'positive_Single Birth, Cesarean Section', 'positive_Low birth weight', 'positive_Sleep Apnea', 'positive_Anemia of prematurity', 'positive_Retrolental fibroplasia', 'positive_3+ Birthmates, Cesarian Section', 'positive_Bradycardia', 'positive_Twin Birth, Cesarian Section', 'positive_Respiratory Distress Syndrome', 'positive_Sunday', 'positive_Monday', 'positive_Tuesday', 'positive_Wednesday', 'positive_Thursday', 'positive_Friday', 'positive_Saturday']\n",
      "['positive_Septicemia', 'positive_Jaundice', 'positive_Other perinatal conditions', 'positive_Suspected Infection', 'positive_Premature birth', 'positive_Patent ductus arteriosus', 'positive_Needs Hepatitis Vaccination', 'positive_Chronic respiratory disease', 'positive_MALE', 'positive_FEMALE', 'positive_Single Birth, Cesarean Section', 'positive_Low birth weight', 'positive_Sleep Apnea', 'positive_Anemia of prematurity', 'positive_Retrolental fibroplasia', 'positive_3+ Birthmates, Cesarian Section', 'positive_Bradycardia', 'positive_Twin Birth, Cesarian Section', 'positive_Respiratory Distress Syndrome', 'positive_Sunday', 'positive_Monday', 'positive_Tuesday', 'positive_Wednesday', 'positive_Thursday', 'positive_Friday', 'positive_Saturday']\n"
     ]
    }
   ],
   "source": [
    "NICU_targets = []\n",
    "for i, exp in enumerate(nicu_experiment_names):\n",
    "    targets=[exp+'_positive_'+x+'_.pk' for x in nicu_concept_names]\n",
    "    results = plot_multiple(targets,codes=['positive_'+x for x in nicu_concept_names],scores_dir=os.path.join(results_dir,exp),\n",
    "                        names=nicu_concept_names,normalized=True,metric='acc',\n",
    "                        cav_dir=os.path.join(cavs_dir,exp) )\n",
    "    NICU_targets.append(results)"
   ]
  },
  {
   "cell_type": "code",
   "execution_count": null,
   "id": "bf31b0c3-80e8-4cd0-b305-dfce68b6a818",
   "metadata": {},
   "outputs": [],
   "source": [
    "for i, dct in enumerate(NICU_targets):\n",
    "    NICU_targets[i] = {k:v[:-7] +[np.mean(dct[k][-7:])] for k,v in dct.items()}"
   ]
  },
  {
   "cell_type": "code",
   "execution_count": null,
   "id": "ab2ba253-b995-40bc-8120-91d5faf630a3",
   "metadata": {
    "tags": []
   },
   "outputs": [],
   "source": [
    "nicu_models= [' '.join(x.split('_')[:2]) for x in nicu_experiment_names]"
   ]
  },
  {
   "cell_type": "code",
   "execution_count": null,
   "id": "8e85e4da-774f-4659-b873-db3be1f05262",
   "metadata": {},
   "outputs": [],
   "source": [
    "import importlib\n",
    "import plot_utils\n",
    "importlib.reload(plot_utils)\n",
    "from plot_utils import *"
   ]
  },
  {
   "cell_type": "code",
   "execution_count": null,
   "id": "23419884-c1aa-422c-9d82-868fd3433c1c",
   "metadata": {},
   "outputs": [],
   "source": [
    "order = ['Chronic respiratory disease',\n",
    "                        'Retrolental fibroplasia',\n",
    "                        'Septicemia', \n",
    "                        'Patent ductus arteriosus', \n",
    "                        'Low birth weight', \n",
    "                        'Premature birth', \n",
    "                        'Anemia of prematurity', \n",
    "                        '3+ Birthmates, Cesarian Section', \n",
    "                        'Twin Birth, Cesarian Section', \n",
    "                        'Bradycardia', \n",
    "                        'Sleep Apnea', \n",
    "                        'Respiratory Distress Syndrome', \n",
    "                        'Jaundice', \n",
    "                        'Other perinatal conditions', \n",
    "                        'Single Birth, Cesarean Section',\n",
    "                        'Needs Hepatitis Vaccination', \n",
    "                        'Suspected Infection',\n",
    "                        'FEMALE',\n",
    "                        'MALE',\n",
    "                         'Fake concept (not present)',\n",
    "                        'Day of the Week']"
   ]
  },
  {
   "cell_type": "code",
   "execution_count": null,
   "id": "84a36d29-1be7-4f07-9742-0e3c3c839e2b",
   "metadata": {},
   "outputs": [],
   "source": [
    "model_names=['Logistic','MLP','CNN','BERT']\n",
    "tcav_plot(model_names, NICU_targets, order,nicu_concept_names[:-7]+['Day of the Week'],metric='acc')"
   ]
  },
  {
   "cell_type": "code",
   "execution_count": null,
   "id": "2e5a0963-4abd-4212-bb40-0b8ec288f79c",
   "metadata": {},
   "outputs": [],
   "source": [
    "metabolic_experiment_names = ['FINALLogisticCCS_halfsplit_0_best_steps_13.pt_500_pre_sum',\n",
    "                         'CCS_MLP_TEXT__0_checkpoint-14877_500_pool',\n",
    "                         'CNN_METABOLIC_best_steps_414.pt_500_dropout',\n",
    "                         'CCS_BERT_TEXT__0_checkpoint-4959_500_pool',\n",
    "                              'CCS_just_residual_0_checkpoint-133893_500_finaldense',\n",
    "                              'CNN_RES_METABOLIC_best_steps_1242.pt_500_final_dense',\n",
    "                              'checkpoint-13224__500_finaldense'\n",
    "                         ]\n",
    "metabolic_concept_names =  ['HYPERTENSION',\n",
    "                       'HYPERLIPIDEMIA',\n",
    "                       'MED_ACE',\n",
    "                       'MED_BETA',\n",
    "                       'MED_INS', \n",
    "                       'MED_FIBR', \n",
    "                       'MED_STAT', \n",
    "                       'DIABETES',\n",
    "                       'HYPERGLYCERIDEMIA',\n",
    "                       'LOWHDL',\n",
    "                       'OBESE', \n",
    "                       'SMOKER', \n",
    "                       'YOUNG',\n",
    "                       'OLD',\n",
    "                        'Sunday','Monday','Tuesday', 'Wednesday', 'Thursday','Friday','Saturday'\n",
    "                        ]"
   ]
  },
  {
   "cell_type": "code",
   "execution_count": null,
   "id": "8f99e1ac-2d00-43cc-a035-c683fb75a9df",
   "metadata": {},
   "outputs": [],
   "source": [
    "model_names=['Logistic','MLP','CNN','BERT','RMLP\\n((structured))','CNN+RMLP\\n(str+txt)','BERT+RMLP\\n(str+txt)']"
   ]
  },
  {
   "cell_type": "code",
   "execution_count": null,
   "id": "04830c52-e40a-4274-a26f-3318b08fe5ff",
   "metadata": {},
   "outputs": [],
   "source": [
    "metabolic_targets = []\n",
    "for i, exp in enumerate(metabolic_experiment_names):\n",
    "    targets=[exp+'_positive_'+x+'_.pk' for x in metabolic_concept_names]\n",
    "    results = plot_multiple(targets,codes=['positive_'+x for x in metabolic_concept_names],scores_dir=os.path.join(results_dir,exp),\n",
    "                        names=metabolic_concept_names,normalized=True,metric='acc',\n",
    "                        cav_dir=os.path.join(cavs_dir,exp) )\n",
    "    metabolic_targets.append(results)"
   ]
  },
  {
   "cell_type": "code",
   "execution_count": null,
   "id": "50b5a49b-5376-43a1-ad43-c2ee863ac5c7",
   "metadata": {},
   "outputs": [],
   "source": [
    " metabolic_names = ['Hypertension', 'Hyperlipidemia','Ace Inhibitors','Beta Blockers', 'Insulins','Fibrates', 'Statins', \n",
    "                       'Diabetes (II)', 'Hyperglyceridemia','Low HDL','Obese','Smoker','Below 65',\n",
    "                       'Above 65',\n",
    "                        'Sunday','Monday','Tuesday', 'Wednesday', 'Thursday','Friday','Saturday'\n",
    "                        ]"
   ]
  },
  {
   "cell_type": "code",
   "execution_count": null,
   "id": "4b920f0f-c10c-4156-b6da-1fe5ae79a11f",
   "metadata": {},
   "outputs": [],
   "source": [
    "order = metabolic_names[:-7]+['Day of the Week']"
   ]
  },
  {
   "cell_type": "code",
   "execution_count": null,
   "id": "7fc0692a-858d-45aa-8eee-164107ef526c",
   "metadata": {},
   "outputs": [],
   "source": [
    "for i, dct in enumerate(metabolic_targets):\n",
    "    metabolic_targets[i] = {k:v[:-7] +[np.mean(dct[k][-7:])] for k,v in dct.items()}"
   ]
  },
  {
   "cell_type": "code",
   "execution_count": null,
   "id": "e9f944b7-32cc-4e66-a32b-bb89c4a117f8",
   "metadata": {},
   "outputs": [],
   "source": [
    "tcav_plot(model_names, metabolic_targets, order,order,metric='acc')"
   ]
  },
  {
   "cell_type": "code",
   "execution_count": null,
   "id": "2450b154-45c0-49b3-b927-9165ae2fd7cd",
   "metadata": {},
   "outputs": [],
   "source": []
  }
 ],
 "metadata": {
  "kernelspec": {
   "display_name": "Python 3",
   "language": "python",
   "name": "python3"
  },
  "language_info": {
   "codemirror_mode": {
    "name": "ipython",
    "version": 3
   },
   "file_extension": ".py",
   "mimetype": "text/x-python",
   "name": "python",
   "nbconvert_exporter": "python",
   "pygments_lexer": "ipython3",
   "version": "3.6.10"
  }
 },
 "nbformat": 4,
 "nbformat_minor": 5
}
