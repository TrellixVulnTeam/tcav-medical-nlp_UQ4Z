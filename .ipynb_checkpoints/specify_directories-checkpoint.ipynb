{
 "cells": [
  {
   "cell_type": "code",
   "execution_count": 18,
   "id": "8f54b495-6150-479b-a060-3c75d23c156c",
   "metadata": {},
   "outputs": [],
   "source": [
    "import pandas as pd"
   ]
  },
  {
   "cell_type": "code",
   "execution_count": 19,
   "id": "742dd3e0-486c-468b-b183-95d30aaf1b38",
   "metadata": {},
   "outputs": [],
   "source": [
    "directories_dct ={\n",
    "'source_dir':'/data/moldwinar/tcav2/',\n",
    "'working_dir':'/data/moldwinar/torch_tcav/tcav_scripts/',\n",
    "'checkpoints_dir':'/data/moldwinar/torch_tcav/model_train_scripts/checkpoints/',\n",
    "'data_dir':'/data/moldwinar/tcav2/data/',\n",
    "'concepts_dir':'/data/moldwinar/tcav2/concept_listfiles/',\n",
    "'mimic_csvs_dir':'/data/LHC_mimic/mimic3_1.4/raw_data/',\n",
    "'activations_dir:':'LSCRATCH'\n",
    "}"
   ]
  },
  {
   "cell_type": "code",
   "execution_count": 34,
   "id": "4d6eaeb3-94fd-43c0-ace5-a17e6d854fad",
   "metadata": {},
   "outputs": [],
   "source": [
    "pd.DataFrame([directories_dct.items()]).transpose().to_csv('directory_paths.csv',index=False)"
   ]
  },
  {
   "cell_type": "code",
   "execution_count": 46,
   "id": "427bc6f7-0b1b-414d-9359-b1db05d8a491",
   "metadata": {},
   "outputs": [
    {
     "data": {
      "text/plain": [
       "[(0,\n",
       "  0    ('source_dir', '/data/moldwinar/tcav2/')\n",
       "  Name: 0, dtype: object),\n",
       " (1,\n",
       "  0    ('working_dir', '/data/moldwinar/torch_tcav/tc...\n",
       "  Name: 1, dtype: object),\n",
       " (2,\n",
       "  0    ('checkpoints_dir', '/data/moldwinar/torch_tca...\n",
       "  Name: 2, dtype: object),\n",
       " (3,\n",
       "  0    ('data_dir', '/data/moldwinar/tcav2/data/')\n",
       "  Name: 3, dtype: object),\n",
       " (4,\n",
       "  0    ('concepts_dir', '/data/moldwinar/tcav2/concep...\n",
       "  Name: 4, dtype: object),\n",
       " (5,\n",
       "  0    ('mimic_csvs_dir', '/data/LHC_mimic/mimic3_1.4...\n",
       "  Name: 5, dtype: object),\n",
       " (6,\n",
       "  0    ('activations_dir:', 'LSCRATCH')\n",
       "  Name: 6, dtype: object)]"
      ]
     },
     "execution_count": 46,
     "metadata": {},
     "output_type": "execute_result"
    }
   ],
   "source": [
    "pd.read_csv('directory_paths.csv',columns=['paths'])['paths']"
   ]
  },
  {
   "cell_type": "code",
   "execution_count": null,
   "id": "ec69eeca-b2ff-42e4-9d1e-79aeb1e8c63c",
   "metadata": {},
   "outputs": [],
   "source": []
  }
 ],
 "metadata": {
  "kernelspec": {
   "display_name": "Python 3",
   "language": "python",
   "name": "python3"
  },
  "language_info": {
   "codemirror_mode": {
    "name": "ipython",
    "version": 3
   },
   "file_extension": ".py",
   "mimetype": "text/x-python",
   "name": "python",
   "nbconvert_exporter": "python",
   "pygments_lexer": "ipython3",
   "version": "3.6.10"
  }
 },
 "nbformat": 4,
 "nbformat_minor": 5
}
