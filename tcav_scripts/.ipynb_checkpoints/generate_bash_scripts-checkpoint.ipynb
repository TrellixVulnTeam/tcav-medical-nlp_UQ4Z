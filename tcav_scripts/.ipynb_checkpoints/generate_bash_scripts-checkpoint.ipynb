{
 "cells": [
  {
   "cell_type": "code",
   "execution_count": 22,
   "id": "b056bc05-4381-45ed-8387-b5b32cd10568",
   "metadata": {},
   "outputs": [],
   "source": [
    "import argparse\n",
    "import pandas as pd\n",
    "import os"
   ]
  },
  {
   "cell_type": "code",
   "execution_count": 23,
   "id": "1e2ba770-c6fe-4aef-ab37-94f0deb84dc0",
   "metadata": {},
   "outputs": [],
   "source": [
    "nicu_concept_list=['positive_Septicemia', 'positive_Jaundice', 'positive_Other perinatal conditions', 'positive_Suspected Infection', 'positive_Tuesday', 'positive_Premature birth', 'positive_Patent ductus arteriosus', 'positive_Needs Hepatitis Vaccination', 'positive_Chronic respiratory disease', 'positive_MALE', 'positive_FEMALE', 'positive_Single Birth, Cesarean Section', 'positive_Sunday', 'positive_Saturday', 'positive_Low birth weight', 'positive_Sleep Apnea', 'positive_Wednesday', 'positive_Anemia of prematurity', 'positive_Monday', 'positive_Retrolental fibroplasia', 'positive_3+ Birthmates, Cesarian Section', 'positive_Bradycardia', 'positive_Friday', 'positive_Twin Birth, Cesarian Section', 'positive_Respiratory Distress Syndrome', 'positive_Thursday']"
   ]
  },
  {
   "cell_type": "code",
   "execution_count": 24,
   "id": "e922f66d-cea6-46d7-bc63-1af0b587459a",
   "metadata": {},
   "outputs": [],
   "source": [
    "metabolic_concept_list =['positive_MED_ACE', 'positive_MED_INS', 'positive_OLD', 'positive_SMOKER', 'positive_MED_STAT', 'positive_MED_BETA', 'positive_MED_FIBR', 'positive_MALE', 'positive_FEMALE', 'positive_OBESE', 'positive_HYPERTENSION', 'positive_LOWHDL', 'positive_Monday', 'positive_Tuesday', 'positive_Wednesday', 'positive_DIABETES', 'positive_HYPERGLYCERIDEMIA', 'positive_YOUNG', 'positive_HYPERLIPIDEMIA', 'positive_Sunday', 'positive_Monday', 'positive_Thursday', 'positive_Friday', 'positive_Saturday']"
   ]
  },
  {
   "cell_type": "code",
   "execution_count": 25,
   "id": "13cbb0cf-0591-436f-b13e-69e01848af3c",
   "metadata": {},
   "outputs": [],
   "source": [
    "common_header = \"\"\"#!/bin/bash\n",
    "#SBATCH --partition=gpu\n",
    "#SBATCH --mem=32g\n",
    "#SBATCH --cpus-per-task=16\n",
    "#SBATCH --output=/data/moldwinar/joboutputs/job_%j.out\n",
    "#SBATCH --error=/data/moldwinar/joboutputs/job_%j.error\n",
    "#SBATCH --time=5-9:00:00\n",
    "#SBATCH --gres=gpu:v100x:1,lscratch:500\"\"\"\n",
    "common_header = common_header+'\\n\\npython tcav_experiment.py '"
   ]
  },
  {
   "cell_type": "code",
   "execution_count": 26,
   "id": "be7f56af-99ee-476f-a01a-71885d9dca39",
   "metadata": {},
   "outputs": [],
   "source": [
    "def generate_args(ckpt_suffix,concept_list,bn,wrapper,task, target,encoder):\n",
    "    args = {}\n",
    "    args['ckpt_path']=os.path.join('/data/moldwinar/torch_tcav/model_train_scripts/checkpoints/',ckpt_suffix)\n",
    "    args['num_trials']=500\n",
    "    args['bottleneck_name']=bn\n",
    "    args['experiment_name']= '_'.join([args['ckpt_path'].split('/')[-2],args['ckpt_path'].split('/')[-1],str(args['num_trials']),args['bottleneck_name']])\n",
    "    args['working_dir']=os.path.join('/data/moldwinar/torch_tcav/tcav_scripts/',args['experiment_name'])\n",
    "    args['source_dir']='/data/moldwinar/tcav2/'\n",
    "    args['results_dir'] = os.path.join('/data/moldwinar/torch_tcav/tcav_scripts/results',args['experiment_name'])\n",
    "    args['target'] = target\n",
    "    args['activations_dir'] = 'LSCRATCH'\n",
    "    args['all_activations_dir']=os.path.join(args['activations_dir'],'all_activations/')\n",
    "    args['concepts_dir'] =os.path.join('/data/moldwinar/tcav2/concept_listfiles/',task)\n",
    "    args['data_encode_function_name']=encoder\n",
    "    args['wrapper_name']=wrapper\n",
    "    args['concepts_list'] ='\\\"'+str(concept_list)+'\\\"'\n",
    "    args_string = '\\n'.join([' '.join(['--'+k,str(v), '\\\\']) for k,v in args.items()])[:-1]\n",
    "#     print(args)\n",
    "    bash_text =  common_header+args_string\n",
    "    with open(os.path.join('bash_scripts/',args['wrapper_name'][:-7]+'_'+task+'.sh'),'w') as shfile:\n",
    "        shfile.write(bash_text)"
   ]
  },
  {
   "cell_type": "code",
   "execution_count": 27,
   "id": "a932d7e3-00a5-4924-abd3-5ac2f7c55968",
   "metadata": {},
   "outputs": [],
   "source": [
    "generate_args(ckpt_suffix='NICU_MLP_0/checkpoint-28853',\n",
    "              concept_list=nicu_concept_list, bn='pool',wrapper='MLPWrapper',task='NICU', target='nicu_los',encoder='bert_encode')"
   ]
  },
  {
   "cell_type": "code",
   "execution_count": 28,
   "id": "bb39a048-79ba-4cb5-be49-3f99af0394da",
   "metadata": {},
   "outputs": [],
   "source": [
    "generate_args(ckpt_suffix='CCS_MLP_TEXT__0/checkpoint-14877',\n",
    "              concept_list=metabolic_concept_list, bn='pool',wrapper='MLPWrapper',task='metabolic', target='CCS',encoder='bert_encode')"
   ]
  },
  {
   "cell_type": "code",
   "execution_count": 29,
   "id": "55a529ba-b7f1-4474-a5f9-5c86824dd973",
   "metadata": {},
   "outputs": [],
   "source": [
    "generate_args(ckpt_suffix='CCS_BERT_TEXT__0/checkpoint-4959',\n",
    "              concept_list=metabolic_concept_list, bn='pool',wrapper='BertWrapper',task='metabolic', target='CCS',encoder='bert_encode')"
   ]
  },
  {
   "cell_type": "code",
   "execution_count": 30,
   "id": "8891cadc-1c25-4803-aa82-11146d3c5aa7",
   "metadata": {},
   "outputs": [],
   "source": [
    "generate_args(ckpt_suffix='FINALWeightedBlueBert512NicuLosAdmissions_2/checkpoint-26015',\n",
    "              concept_list=nicu_concept_list, bn='pool',wrapper='BertWrapper',task='NICU', target='nicu_los',encoder='bert_encode')"
   ]
  },
  {
   "cell_type": "code",
   "execution_count": 32,
   "id": "bcb8b492-c0d1-415e-88a9-d4924d7e1e4d",
   "metadata": {},
   "outputs": [],
   "source": [
    "generate_args(ckpt_suffix='logistic/best_steps_84.pt',\n",
    "              concept_list=nicu_concept_list, bn='pre_sum',wrapper='LogisticWrapper',task='NICU', target='nicu_los',encoder='logistic_bert_encode')"
   ]
  },
  {
   "cell_type": "code",
   "execution_count": 33,
   "id": "d91f2160-0e09-4fe3-be43-9b7766fd44a4",
   "metadata": {},
   "outputs": [],
   "source": [
    "generate_args(ckpt_suffix='FINALLogisticCCS_halfsplit_0/best_steps_13.pt',\n",
    "              concept_list=metabolic_concept_list, bn='pre_sum',wrapper='LogisticWrapper',task='metabolic', target='CCS',encoder='logistic_bert_encode')"
   ]
  },
  {
   "cell_type": "code",
   "execution_count": null,
   "id": "14e786cc-8e44-4c33-a3f8-d4646b5d4c74",
   "metadata": {},
   "outputs": [],
   "source": [
    "generate_args(ckpt_suffix='CNN_NICU/best_steps_420.pt',\n",
    "              concept_list=nicu_concept_list, bn='dropout',wrapper='LogisticWrapper',task='NICU', target='nicu_los',encoder='logistic_bert_encode')"
   ]
  }
 ],
 "metadata": {
  "kernelspec": {
   "display_name": "Python 3",
   "language": "python",
   "name": "python3"
  },
  "language_info": {
   "codemirror_mode": {
    "name": "ipython",
    "version": 3
   },
   "file_extension": ".py",
   "mimetype": "text/x-python",
   "name": "python",
   "nbconvert_exporter": "python",
   "pygments_lexer": "ipython3",
   "version": "3.6.10"
  }
 },
 "nbformat": 4,
 "nbformat_minor": 5
}
