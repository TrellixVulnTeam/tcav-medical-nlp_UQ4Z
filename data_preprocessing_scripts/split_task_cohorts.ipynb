{
 "cells": [
  {
   "cell_type": "code",
   "execution_count": 1,
   "metadata": {},
   "outputs": [],
   "source": [
    "%load_ext autoreload\n",
    "%autoreload 2"
   ]
  },
  {
   "cell_type": "code",
   "execution_count": 2,
   "metadata": {},
   "outputs": [],
   "source": [
    "import logging\n",
    "import functools\n",
    "import pathlib\n",
    "import numpy as np\n",
    "import pandas as pd\n",
    "\n",
    "import clue"
   ]
  },
  {
   "cell_type": "code",
   "execution_count": null,
   "metadata": {},
   "outputs": [],
   "source": [
    "dirs_dct = dict(list(pd.read_csv('../directory_paths.csv')['paths'].apply(eval)))\n"
   ]
  },
  {
   "cell_type": "code",
   "execution_count": 3,
   "metadata": {},
   "outputs": [],
   "source": [
    "output_dir = pathlib.Path(dirs_dct['data_dir'])"
   ]
  },
  {
   "cell_type": "code",
   "execution_count": 4,
   "metadata": {},
   "outputs": [],
   "source": [
    "all_hadms = clue.load_hadms(os.path.join(dirs_dct['data_dir'],'hadms.csv'))"
   ]
  },
  {
   "cell_type": "code",
   "execution_count": 5,
   "metadata": {},
   "outputs": [],
   "source": [
    "metabolic_cohort =pd.read_csv(os.path.join(dirs_dct['data_dir'],'metabolic_syndrome_full_cohort.csv'))"
   ]
  },
  {
   "cell_type": "code",
   "execution_count": 6,
   "metadata": {},
   "outputs": [],
   "source": [
    "metabolic_hadms = all_hadms.reset_index().merge(metabolic_cohort[['new_HADM','label','CHARTTIME']], right_on='new_HADM',left_on='hadm_id', how='inner')[list(all_hadms.columns)+['label','hadm_id','subject_id','CHARTTIME']]"
   ]
  },
  {
   "cell_type": "code",
   "execution_count": 7,
   "metadata": {},
   "outputs": [],
   "source": [
    "metabolic_hadms['timestamp']=metabolic_hadms['CHARTTIME']"
   ]
  },
  {
   "cell_type": "code",
   "execution_count": 8,
   "metadata": {},
   "outputs": [],
   "source": [
    "metabolic_hadms=metabolic_hadms.drop_duplicates(keep='first',subset='hadm_id')"
   ]
  },
  {
   "cell_type": "code",
   "execution_count": 9,
   "metadata": {},
   "outputs": [],
   "source": [
    "metabolic_hadms[['hadm_id','timestamp']].to_csv(os.path.join(dirs_dct['data_dir'],'metabolic_hadms.csv'),index=False)"
   ]
  },
  {
   "cell_type": "code",
   "execution_count": 10,
   "metadata": {},
   "outputs": [],
   "source": [
    "metabolic_hadms= metabolic_hadms.set_index(['subject_id','hadm_id'])[list(all_hadms.columns)+['label']]"
   ]
  },
  {
   "cell_type": "code",
   "execution_count": 11,
   "metadata": {},
   "outputs": [
    {
     "name": "stdout",
     "output_type": "stream",
     "text": [
      "Determined (adjusted) age buckets as: [15.049966, 38.3436, 56.071182, 71.92882, 90.0]\n",
      "Determined (adjusted) oasis buckets as: [0.0, 11.0, 30.0, 64.0]\n"
     ]
    }
   ],
   "source": [
    "govf_threshold = 0.9\n",
    "_, age_buckets = clue.find_optimal_buckets(metabolic_hadms, \"adjusted_age\", govf_threshold)\n",
    "print('Determined (adjusted) age buckets as:', age_buckets)\n",
    "_, oasis_buckets = clue.find_optimal_buckets(metabolic_hadms, \"adjusted_oasis\", govf_threshold)\n",
    "print('Determined (adjusted) oasis buckets as:', oasis_buckets)"
   ]
  },
  {
   "cell_type": "code",
   "execution_count": 12,
   "metadata": {},
   "outputs": [
    {
     "data": {
      "text/plain": [
       "(16571, 16571)"
      ]
     },
     "execution_count": 12,
     "metadata": {},
     "output_type": "execute_result"
    }
   ],
   "source": [
    "(len(pd.read_csv(os.path.join(dirs_dct['data_dir'],'metabolic_hadms.csv')).reset_index()['hadm_id']), \n",
    " len(pd.read_csv(os.path.join(dirs_dct['data_dir'],'metabolic_hadms.csv')).reset_index()['hadm_id'].unique()))"
   ]
  },
  {
   "cell_type": "code",
   "execution_count": 13,
   "metadata": {},
   "outputs": [],
   "source": [
    "buckets = {\n",
    "    'adjusted_age': clue.BucketMapping([0] + age_buckets[1:-1] + [99]),\n",
    "    'gender': clue.CategoryMapping(['F', 'M']),\n",
    "    'icu': clue.CategoryMapping(['CCU', 'CSRU', 'MICU', 'SICU', 'TSICU', 'NICU']),\n",
    "    'adjusted_oasis': clue.BucketMapping([0] + oasis_buckets[1:-1] + [999]),\n",
    "    'ethnicity': clue.CategoryMapping(['ASIAN', 'BLACK', 'HISPANIC/LATINO', 'OTHER', 'UNKNOWN', 'WHITE']),\n",
    "    'insurance': clue.CategoryMapping(['Government', 'Medicaid', 'Medicare', 'Private', 'Self Pay']),\n",
    "    'admission_type': clue.CategoryMapping(['ELECTIVE', 'EMERGENCY', 'URGENT']),\n",
    "    'admission_location': clue.CategoryMapping(['CLINIC REFERRAL', 'OTHER', 'PHYS REFERRAL', 'TRANSFER FROM HOSP']),\n",
    "    'label':  clue.BooleanMapping()\n",
    "}\n",
    "\n",
    "splitter = clue.NamedStratifier({'train': 8,\n",
    "                                 'test': 1,\n",
    "                                 'valid': 1})\n",
    "\n",
    "stratify = functools.partial(clue.stratify, hadms=metabolic_hadms, splitter=splitter)"
   ]
  },
  {
   "cell_type": "code",
   "execution_count": 14,
   "metadata": {},
   "outputs": [],
   "source": [
    "for split, df in stratify(os.path.join(dirs_dct['data_dir'],'metabolic_hadms.csv'), buckets):\n",
    "    df.reset_index().rename(columns={'index':'hadm_id'}).to_csv(output_dir / f'metabolic.{split}.csv',index=False)"
   ]
  },
  {
   "cell_type": "code",
   "execution_count": 15,
   "metadata": {},
   "outputs": [],
   "source": [
    "train_metabolic = pd.read_csv(output_dir / f'metabolic.train.csv').merge(all_hadms.reset_index()[['subject_id','hadm_id']], on ='hadm_id',how='left')\n",
    "val_metabolic = pd.read_csv(output_dir / f'metabolic.valid.csv').merge(all_hadms.reset_index()[['subject_id','hadm_id']], on ='hadm_id',how='left')\n",
    "test_metabolic = pd.read_csv(output_dir / f'metabolic.test.csv').merge(all_hadms.reset_index()[['subject_id','hadm_id']], on ='hadm_id',how='left')"
   ]
  },
  {
   "cell_type": "code",
   "execution_count": 16,
   "metadata": {},
   "outputs": [
    {
     "data": {
      "text/plain": [
       "set()"
      ]
     },
     "execution_count": 16,
     "metadata": {},
     "output_type": "execute_result"
    }
   ],
   "source": [
    "set(val_metabolic['subject_id']).intersection(set(test_metabolic['subject_id']))\n",
    "# (len(train_metabolic),len(val_metabolic),len(test_metabolic))"
   ]
  },
  {
   "cell_type": "code",
   "execution_count": 17,
   "metadata": {},
   "outputs": [
    {
     "data": {
      "text/plain": [
       "(13218, 13218)"
      ]
     },
     "execution_count": 17,
     "metadata": {},
     "output_type": "execute_result"
    }
   ],
   "source": [
    "(len(train_metabolic['hadm_id']),  len(train_metabolic['hadm_id'].unique()))"
   ]
  },
  {
   "cell_type": "code",
   "execution_count": 18,
   "metadata": {},
   "outputs": [],
   "source": [
    "nicu_cohort =pd.read_csv(os.path.join(dirs_dct['data_dir'],'nicu_full_cohort.csv'))\n"
   ]
  },
  {
   "cell_type": "code",
   "execution_count": 19,
   "metadata": {},
   "outputs": [],
   "source": [
    "admissions_df =  pd.read_csv(os.path.join(dirs_dct['mimic_dir'],'ADMISSIONS.csv'))\n",
    "\n",
    "subjects_df = pd.read_csv(os.path.join(dirs_dct['mimic_dir'],'PATIENTS.csv'))\n",
    "\n",
    "patients_df = pd.read_csv(os.path.join(dirs_dct['mimic_dir'],'PATIENTS.csv'))"
   ]
  },
  {
   "cell_type": "code",
   "execution_count": 20,
   "metadata": {},
   "outputs": [],
   "source": [
    "stays_df = pd.read_csv(os.path.join(dirs_dct['mimic_dir'],'ICUSTAYS.csv')).drop_duplicates(keep='first',subset=['HADM_ID'])"
   ]
  },
  {
   "cell_type": "code",
   "execution_count": 21,
   "metadata": {},
   "outputs": [],
   "source": [
    "oasis_df=pd.read_csv(os.path.join(dirs_dct['data_dir'],'oasis.csv')).drop_duplicates(keep='first',subset=['hadm_id'])"
   ]
  },
  {
   "cell_type": "code",
   "execution_count": 22,
   "metadata": {},
   "outputs": [],
   "source": [
    "nicu_cohort = nicu_cohort.merge(stays_df[['HADM_ID','INTIME','FIRST_CAREUNIT']],how='left', left_on='new_HADM',right_on='HADM_ID')"
   ]
  },
  {
   "cell_type": "code",
   "execution_count": 23,
   "metadata": {},
   "outputs": [
    {
     "data": {
      "text/plain": [
       "(7614, 7614)"
      ]
     },
     "execution_count": 23,
     "metadata": {},
     "output_type": "execute_result"
    }
   ],
   "source": [
    "(len(nicu_cohort['new_HADM']),len(nicu_cohort['new_HADM'].unique()))"
   ]
  },
  {
   "cell_type": "code",
   "execution_count": 24,
   "metadata": {},
   "outputs": [],
   "source": [
    "nicu_cohort = nicu_cohort.merge(admissions_df[['HADM_ID','ADMITTIME','ADMISSION_TYPE','ADMISSION_LOCATION','ETHNICITY','INSURANCE']],how='left', left_on='new_HADM',right_on='HADM_ID')"
   ]
  },
  {
   "cell_type": "code",
   "execution_count": 25,
   "metadata": {},
   "outputs": [],
   "source": [
    "nicu_cohort = nicu_cohort.merge(oasis_df[['hadm_id','oasis']],how='left', left_on='new_HADM',right_on='hadm_id')"
   ]
  },
  {
   "cell_type": "code",
   "execution_count": 26,
   "metadata": {},
   "outputs": [],
   "source": [
    "nicu_hadms = nicu_cohort[['new_HADM','SUBJECT_ID','AGE','GENDER','ADMITTIME','INTIME','FIRST_CAREUNIT','ETHNICITY','INSURANCE','ADMISSION_TYPE','ADMISSION_LOCATION','oasis','label']]"
   ]
  },
  {
   "cell_type": "code",
   "execution_count": 27,
   "metadata": {},
   "outputs": [
    {
     "data": {
      "text/plain": [
       "(7614, 7614)"
      ]
     },
     "execution_count": 27,
     "metadata": {},
     "output_type": "execute_result"
    }
   ],
   "source": [
    "(len(pd.read_csv('nicu_hadms.csv')['hadm_id']),len(pd.read_csv(os.path.join(dirs_dct['data_dir'],'nicu_hadms.csv'))['hadm_id'].unique()))"
   ]
  },
  {
   "cell_type": "code",
   "execution_count": 28,
   "metadata": {},
   "outputs": [
    {
     "data": {
      "text/plain": [
       "(7614, 7614)"
      ]
     },
     "execution_count": 28,
     "metadata": {},
     "output_type": "execute_result"
    }
   ],
   "source": [
    "(len(pd.read_csv(os.path.join(dirs_dct['data_dir'],'nicu_hadms.csv'))['hadm_id']),len(pd.read_csv(os.path.join(dirs_dct['data_dir'],'nicu_hadms.csv'))['hadm_id'].unique()))"
   ]
  },
  {
   "cell_type": "code",
   "execution_count": 29,
   "metadata": {},
   "outputs": [],
   "source": [
    "nicu_hadms= nicu_hadms.rename(columns=str.lower).rename(columns={\n",
    "    'new_hadm':'hadm_id',\n",
    "    'intime':'icutime',\n",
    "    'first_careunit':'icu'\n",
    "})"
   ]
  },
  {
   "cell_type": "code",
   "execution_count": 30,
   "metadata": {},
   "outputs": [],
   "source": [
    "nicu_hadms['hadm_id']= nicu_hadms['hadm_id'].astype(int)"
   ]
  },
  {
   "cell_type": "code",
   "execution_count": 31,
   "metadata": {},
   "outputs": [],
   "source": [
    "nicu_hadms= nicu_hadms.set_index(['subject_id','hadm_id'])"
   ]
  },
  {
   "cell_type": "code",
   "execution_count": null,
   "metadata": {},
   "outputs": [],
   "source": []
  },
  {
   "cell_type": "code",
   "execution_count": 32,
   "metadata": {},
   "outputs": [],
   "source": [
    "# nicu_hadms['age']=nicu_hadms['age'].apply(lambda x: x/365)"
   ]
  },
  {
   "cell_type": "code",
   "execution_count": 33,
   "metadata": {},
   "outputs": [
    {
     "name": "stdout",
     "output_type": "stream",
     "text": [
      "Determined (adjusted) age buckets as: [0.0, 0.51805556, 3.7013888, 13.657639, 29.665277]\n",
      "Determined (adjusted) oasis buckets as: [6.0, nan, nan]\n"
     ]
    },
    {
     "name": "stderr",
     "output_type": "stream",
     "text": [
      "/gpfs/gsfs12/users/moldwinar/tcav2/stratification_stuff/clue.py:320: RuntimeWarning: Mean of empty slice.\n",
      "  sdcm = sum([np.sum((classified - classified.mean()) ** 2) for classified in array_sort])\n",
      "/gpfs/gsfs12/users/moldwinar/environments/torchtcav/lib/python3.6/site-packages/numpy/core/_methods.py:170: RuntimeWarning: invalid value encountered in double_scalars\n",
      "  ret = ret.dtype.type(ret / rcount)\n"
     ]
    }
   ],
   "source": [
    "govf_threshold = 0.9\n",
    "_, age_buckets = clue.find_optimal_buckets(nicu_hadms, \"age\", govf_threshold)\n",
    "print('Determined (adjusted) age buckets as:', age_buckets)\n",
    "_, oasis_buckets = clue.find_optimal_buckets(nicu_hadms, \"oasis\", govf_threshold)\n",
    "print('Determined (adjusted) oasis buckets as:', oasis_buckets)"
   ]
  },
  {
   "cell_type": "code",
   "execution_count": 34,
   "metadata": {},
   "outputs": [
    {
     "data": {
      "text/plain": [
       "subject_id  hadm_id\n",
       "28711       104132     M\n",
       "1291        141087     F\n",
       "476         161042     F\n",
       "28319       158388     F\n",
       "27526       134575     F\n",
       "                      ..\n",
       "11400       109331     M\n",
       "24254       118562     M\n",
       "13243       143841     M\n",
       "25913       147240     M\n",
       "8982        192942     M\n",
       "Name: gender, Length: 7614, dtype: object"
      ]
     },
     "execution_count": 34,
     "metadata": {},
     "output_type": "execute_result"
    }
   ],
   "source": [
    "nicu_hadms['gender']"
   ]
  },
  {
   "cell_type": "code",
   "execution_count": 35,
   "metadata": {},
   "outputs": [],
   "source": [
    "ethnicities_dict = {'ASIAN - OTHER':'ASIAN', 'UNKNOWN/NOT SPECIFIED':'UNKNOWN', 'ASIAN':'ASIAN', 'WHITE':'WHITE',\n",
    "       'BLACK/AFRICAN AMERICAN':'BLACK', 'AMERICAN INDIAN/ALASKA NATIVE':'OTHER',\n",
    "       'UNABLE TO OBTAIN':'UNKNOWN', 'OTHER':'OTHER', 'MULTI RACE ETHNICITY':'OTHER',\n",
    "       'HISPANIC OR LATINO':'HISPANIC/LATINO', 'ASIAN - CHINESE':'ASIAN', 'BLACK/HAITIAN':'BLACK',\n",
    "       'NATIVE HAWAIIAN OR OTHER PACIFIC ISLANDER':'OTHER',\n",
    "       'PATIENT DECLINED TO ANSWER':'UNKNOWN', 'BLACK/CAPE VERDEAN':'BLACK',\n",
    "       'HISPANIC/LATINO - PUERTO RICAN':'HISPANIC/LATINO', 'PORTUGUESE':'WHITE', 'BLACK/AFRICAN':'BLACK',\n",
    "       'ASIAN - ASIAN INDIAN':'ASIAN', 'WHITE - OTHER EUROPEAN':'WHITE', 'MIDDLE EASTERN':'WHITE',\n",
    "       'WHITE - BRAZILIAN':'WHITE', 'HISPANIC/LATINO - MEXICAN':'HISPANIC/LATINO',\n",
    "       'HISPANIC/LATINO - CENTRAL AMERICAN (OTHER)':'HISPANIC/LATINO', 'ASIAN - VIETNAMESE':'ASIAN',\n",
    "       'ASIAN - FILIPINO':'ASIAN', 'ASIAN - JAPANESE':'ASIAN',\n",
    "       'HISPANIC/LATINO - GUATEMALAN':'HISPANIC/LATINO', 'HISPANIC/LATINO - SALVADORAN':'HISPANIC/LATINO',\n",
    "       'SOUTH AMERICAN':'HISPANIC/LATINO', 'ASIAN - KOREAN':'ASIAN'}"
   ]
  },
  {
   "cell_type": "code",
   "execution_count": 36,
   "metadata": {},
   "outputs": [],
   "source": [
    "nicu_hadms['ethnicity']= nicu_hadms['ethnicity'].apply(lambda x: ethnicities_dict[x])"
   ]
  },
  {
   "cell_type": "code",
   "execution_count": 37,
   "metadata": {},
   "outputs": [
    {
     "data": {
      "text/plain": [
       "array(['NEWBORN', 'EMERGENCY', 'URGENT', 'ELECTIVE'], dtype=object)"
      ]
     },
     "execution_count": 37,
     "metadata": {},
     "output_type": "execute_result"
    }
   ],
   "source": [
    "nicu_hadms['admission_type'].unique()"
   ]
  },
  {
   "cell_type": "code",
   "execution_count": 38,
   "metadata": {},
   "outputs": [],
   "source": [
    "nicu_hadms.reset_index().rename(columns={'icutime':'timestamp'})[['hadm_id','timestamp']].to_csv(os.path.join(dirs_dct['data_dir'],'nicu_hadms.csv'),index=False)\n"
   ]
  },
  {
   "cell_type": "code",
   "execution_count": 39,
   "metadata": {},
   "outputs": [],
   "source": [
    "buckets = {\n",
    "    'age': clue.BucketMapping( age_buckets[0:-1]+[30]),\n",
    "    'gender': clue.CategoryMapping(['F', 'M']),\n",
    "#     'icu': clue.CategoryMapping(['NICU']),\n",
    "# #     'adjusted_oasis': clue.BucketMapping([0] + oasis_buckets[1:-1] + [999]),\n",
    "    'ethnicity': clue.CategoryMapping(['ASIAN', 'BLACK', 'HISPANIC/LATINO', 'OTHER', 'UNKNOWN', 'WHITE']),\n",
    "    'insurance': clue.CategoryMapping(['Government', 'Medicaid', 'Medicare', 'Private', 'Self Pay']),\n",
    "    'admission_type': clue.CategoryMapping(['NEWBORN', 'EMERGENCY', 'URGENT', 'ELECTIVE']),\n",
    "    'admission_location': clue.CategoryMapping(['PHYS REFERRAL/NORMAL DELI', 'CLINIC REFERRAL/PREMATURE','** INFO NOT AVAILABLE **', 'HMO REFERRAL/SICK','TRANSFER FROM HOSP/EXTRAM']),\n",
    "    'label':  clue.BooleanMapping()\n",
    "}\n",
    "\n",
    "splitter = clue.NamedStratifier({'train': 2,\n",
    "                                 'test': 1,\n",
    "                                 'valid': 1})\n",
    "\n",
    "stratify = functools.partial(clue.stratify, hadms=nicu_hadms, splitter=splitter)"
   ]
  },
  {
   "cell_type": "code",
   "execution_count": 40,
   "metadata": {},
   "outputs": [],
   "source": [
    "for split, df in stratify(os.path.join(dirs_dct['data_dir'],'nicu_hadms.csv'), buckets):\n",
    "    df.reset_index().rename(columns={'index':'hadm_id'}).to_csv(output_dir / f'nicu.{split}.csv',index=False)"
   ]
  },
  {
   "cell_type": "code",
   "execution_count": 41,
   "metadata": {},
   "outputs": [
    {
     "data": {
      "text/html": [
       "<div>\n",
       "<style scoped>\n",
       "    .dataframe tbody tr th:only-of-type {\n",
       "        vertical-align: middle;\n",
       "    }\n",
       "\n",
       "    .dataframe tbody tr th {\n",
       "        vertical-align: top;\n",
       "    }\n",
       "\n",
       "    .dataframe thead th {\n",
       "        text-align: right;\n",
       "    }\n",
       "</style>\n",
       "<table border=\"1\" class=\"dataframe\">\n",
       "  <thead>\n",
       "    <tr style=\"text-align: right;\">\n",
       "      <th></th>\n",
       "      <th>hadm_id</th>\n",
       "      <th>timestamp</th>\n",
       "    </tr>\n",
       "  </thead>\n",
       "  <tbody>\n",
       "    <tr>\n",
       "      <th>0</th>\n",
       "      <td>104692</td>\n",
       "      <td>2100-08-03 08:55:52</td>\n",
       "    </tr>\n",
       "    <tr>\n",
       "      <th>1</th>\n",
       "      <td>108473</td>\n",
       "      <td>2100-08-25 09:30:55</td>\n",
       "    </tr>\n",
       "    <tr>\n",
       "      <th>2</th>\n",
       "      <td>135605</td>\n",
       "      <td>2100-08-29 22:58:46</td>\n",
       "    </tr>\n",
       "    <tr>\n",
       "      <th>3</th>\n",
       "      <td>111007</td>\n",
       "      <td>2100-09-09 13:31:08</td>\n",
       "    </tr>\n",
       "    <tr>\n",
       "      <th>4</th>\n",
       "      <td>119916</td>\n",
       "      <td>2100-09-17 15:11:18</td>\n",
       "    </tr>\n",
       "    <tr>\n",
       "      <th>...</th>\n",
       "      <td>...</td>\n",
       "      <td>...</td>\n",
       "    </tr>\n",
       "    <tr>\n",
       "      <th>3775</th>\n",
       "      <td>187343</td>\n",
       "      <td>2201-05-15 08:47:39</td>\n",
       "    </tr>\n",
       "    <tr>\n",
       "      <th>3776</th>\n",
       "      <td>161900</td>\n",
       "      <td>2201-05-21 08:43:00</td>\n",
       "    </tr>\n",
       "    <tr>\n",
       "      <th>3777</th>\n",
       "      <td>189638</td>\n",
       "      <td>2201-05-21 14:14:20</td>\n",
       "    </tr>\n",
       "    <tr>\n",
       "      <th>3778</th>\n",
       "      <td>122461</td>\n",
       "      <td>2201-06-07 14:44:41</td>\n",
       "    </tr>\n",
       "    <tr>\n",
       "      <th>3779</th>\n",
       "      <td>147240</td>\n",
       "      <td>2201-07-17 18:30:49</td>\n",
       "    </tr>\n",
       "  </tbody>\n",
       "</table>\n",
       "<p>3780 rows × 2 columns</p>\n",
       "</div>"
      ],
      "text/plain": [
       "      hadm_id            timestamp\n",
       "0      104692  2100-08-03 08:55:52\n",
       "1      108473  2100-08-25 09:30:55\n",
       "2      135605  2100-08-29 22:58:46\n",
       "3      111007  2100-09-09 13:31:08\n",
       "4      119916  2100-09-17 15:11:18\n",
       "...       ...                  ...\n",
       "3775   187343  2201-05-15 08:47:39\n",
       "3776   161900  2201-05-21 08:43:00\n",
       "3777   189638  2201-05-21 14:14:20\n",
       "3778   122461  2201-06-07 14:44:41\n",
       "3779   147240  2201-07-17 18:30:49\n",
       "\n",
       "[3780 rows x 2 columns]"
      ]
     },
     "execution_count": 41,
     "metadata": {},
     "output_type": "execute_result"
    }
   ],
   "source": [
    "pd.read_csv(output_dir / f'nicu.train.csv')"
   ]
  },
  {
   "cell_type": "code",
   "execution_count": 42,
   "metadata": {},
   "outputs": [
    {
     "data": {
      "text/html": [
       "<div>\n",
       "<style scoped>\n",
       "    .dataframe tbody tr th:only-of-type {\n",
       "        vertical-align: middle;\n",
       "    }\n",
       "\n",
       "    .dataframe tbody tr th {\n",
       "        vertical-align: top;\n",
       "    }\n",
       "\n",
       "    .dataframe thead th {\n",
       "        text-align: right;\n",
       "    }\n",
       "</style>\n",
       "<table border=\"1\" class=\"dataframe\">\n",
       "  <thead>\n",
       "    <tr style=\"text-align: right;\">\n",
       "      <th></th>\n",
       "      <th></th>\n",
       "      <th>age</th>\n",
       "      <th>gender</th>\n",
       "      <th>admittime</th>\n",
       "      <th>icutime</th>\n",
       "      <th>icu</th>\n",
       "      <th>oasis</th>\n",
       "      <th>ethnicity</th>\n",
       "      <th>insurance</th>\n",
       "      <th>admission_type</th>\n",
       "      <th>admission_location</th>\n",
       "      <th>adjusted_oasis</th>\n",
       "      <th>adjusted_age</th>\n",
       "    </tr>\n",
       "    <tr>\n",
       "      <th>subject_id</th>\n",
       "      <th>hadm_id</th>\n",
       "      <th></th>\n",
       "      <th></th>\n",
       "      <th></th>\n",
       "      <th></th>\n",
       "      <th></th>\n",
       "      <th></th>\n",
       "      <th></th>\n",
       "      <th></th>\n",
       "      <th></th>\n",
       "      <th></th>\n",
       "      <th></th>\n",
       "      <th></th>\n",
       "    </tr>\n",
       "  </thead>\n",
       "  <tbody>\n",
       "    <tr>\n",
       "      <th>142</th>\n",
       "      <th>131357</th>\n",
       "      <td>48.087611</td>\n",
       "      <td>F</td>\n",
       "      <td>2143-04-01 07:15:00</td>\n",
       "      <td>2143-04-01 14:19:37</td>\n",
       "      <td>CSRU</td>\n",
       "      <td>27</td>\n",
       "      <td>WHITE</td>\n",
       "      <td>Private</td>\n",
       "      <td>ELECTIVE</td>\n",
       "      <td>PHYS REFERRAL</td>\n",
       "      <td>27</td>\n",
       "      <td>48.087611</td>\n",
       "    </tr>\n",
       "    <tr>\n",
       "      <th>161</th>\n",
       "      <th>121804</th>\n",
       "      <td>72.000000</td>\n",
       "      <td>M</td>\n",
       "      <td>2173-05-26 16:03:00</td>\n",
       "      <td>2173-06-09 21:54:27</td>\n",
       "      <td>SICU</td>\n",
       "      <td>27</td>\n",
       "      <td>OTHER</td>\n",
       "      <td>Medicare</td>\n",
       "      <td>EMERGENCY</td>\n",
       "      <td>CLINIC REFERRAL</td>\n",
       "      <td>0</td>\n",
       "      <td>72.000000</td>\n",
       "    </tr>\n",
       "    <tr>\n",
       "      <th>256</th>\n",
       "      <th>153771</th>\n",
       "      <td>79.969884</td>\n",
       "      <td>M</td>\n",
       "      <td>2166-07-21 23:38:00</td>\n",
       "      <td>2166-07-22 01:10:31</td>\n",
       "      <td>MICU</td>\n",
       "      <td>21</td>\n",
       "      <td>WHITE</td>\n",
       "      <td>Medicare</td>\n",
       "      <td>EMERGENCY</td>\n",
       "      <td>OTHER</td>\n",
       "      <td>21</td>\n",
       "      <td>79.969884</td>\n",
       "    </tr>\n",
       "    <tr>\n",
       "      <th>518</th>\n",
       "      <th>161635</th>\n",
       "      <td>49.004791</td>\n",
       "      <td>M</td>\n",
       "      <td>2111-09-21 16:00:00</td>\n",
       "      <td>2111-09-21 16:01:26</td>\n",
       "      <td>MICU</td>\n",
       "      <td>17</td>\n",
       "      <td>BLACK</td>\n",
       "      <td>Medicare</td>\n",
       "      <td>EMERGENCY</td>\n",
       "      <td>OTHER</td>\n",
       "      <td>17</td>\n",
       "      <td>49.004791</td>\n",
       "    </tr>\n",
       "    <tr>\n",
       "      <th>704</th>\n",
       "      <th>151175</th>\n",
       "      <td>80.240931</td>\n",
       "      <td>M</td>\n",
       "      <td>2176-03-24 14:26:00</td>\n",
       "      <td>2176-03-31 02:44:00</td>\n",
       "      <td>CCU</td>\n",
       "      <td>40</td>\n",
       "      <td>UNKNOWN</td>\n",
       "      <td>Medicare</td>\n",
       "      <td>URGENT</td>\n",
       "      <td>TRANSFER FROM HOSP</td>\n",
       "      <td>0</td>\n",
       "      <td>80.240931</td>\n",
       "    </tr>\n",
       "    <tr>\n",
       "      <th>...</th>\n",
       "      <th>...</th>\n",
       "      <td>...</td>\n",
       "      <td>...</td>\n",
       "      <td>...</td>\n",
       "      <td>...</td>\n",
       "      <td>...</td>\n",
       "      <td>...</td>\n",
       "      <td>...</td>\n",
       "      <td>...</td>\n",
       "      <td>...</td>\n",
       "      <td>...</td>\n",
       "      <td>...</td>\n",
       "      <td>...</td>\n",
       "    </tr>\n",
       "    <tr>\n",
       "      <th>98514</th>\n",
       "      <th>101117</th>\n",
       "      <td>74.666667</td>\n",
       "      <td>M</td>\n",
       "      <td>2121-09-08 20:12:00</td>\n",
       "      <td>2121-09-08 20:13:13</td>\n",
       "      <td>CCU</td>\n",
       "      <td>57</td>\n",
       "      <td>WHITE</td>\n",
       "      <td>Medicare</td>\n",
       "      <td>EMERGENCY</td>\n",
       "      <td>OTHER</td>\n",
       "      <td>57</td>\n",
       "      <td>74.666667</td>\n",
       "    </tr>\n",
       "    <tr>\n",
       "      <th>99384</th>\n",
       "      <th>168087</th>\n",
       "      <td>85.552361</td>\n",
       "      <td>M</td>\n",
       "      <td>2117-12-15 18:12:00</td>\n",
       "      <td>2117-12-15 18:13:36</td>\n",
       "      <td>TSICU</td>\n",
       "      <td>38</td>\n",
       "      <td>WHITE</td>\n",
       "      <td>Medicare</td>\n",
       "      <td>EMERGENCY</td>\n",
       "      <td>OTHER</td>\n",
       "      <td>38</td>\n",
       "      <td>90.000000</td>\n",
       "    </tr>\n",
       "    <tr>\n",
       "      <th>99423</th>\n",
       "      <th>174021</th>\n",
       "      <td>50.173854</td>\n",
       "      <td>F</td>\n",
       "      <td>2116-08-14 12:15:00</td>\n",
       "      <td>2116-08-17 20:56:15</td>\n",
       "      <td>TSICU</td>\n",
       "      <td>25</td>\n",
       "      <td>WHITE</td>\n",
       "      <td>Private</td>\n",
       "      <td>ELECTIVE</td>\n",
       "      <td>PHYS REFERRAL</td>\n",
       "      <td>0</td>\n",
       "      <td>50.173854</td>\n",
       "    </tr>\n",
       "    <tr>\n",
       "      <th>99458</th>\n",
       "      <th>121483</th>\n",
       "      <td>67.214237</td>\n",
       "      <td>M</td>\n",
       "      <td>2169-04-03 08:14:00</td>\n",
       "      <td>2169-04-03 08:15:10</td>\n",
       "      <td>MICU</td>\n",
       "      <td>25</td>\n",
       "      <td>WHITE</td>\n",
       "      <td>Medicare</td>\n",
       "      <td>EMERGENCY</td>\n",
       "      <td>CLINIC REFERRAL</td>\n",
       "      <td>25</td>\n",
       "      <td>67.214237</td>\n",
       "    </tr>\n",
       "    <tr>\n",
       "      <th>99817</th>\n",
       "      <th>195557</th>\n",
       "      <td>70.622861</td>\n",
       "      <td>M</td>\n",
       "      <td>2166-10-14 23:16:00</td>\n",
       "      <td>2166-10-14 23:18:54</td>\n",
       "      <td>CSRU</td>\n",
       "      <td>59</td>\n",
       "      <td>UNKNOWN</td>\n",
       "      <td>Medicare</td>\n",
       "      <td>EMERGENCY</td>\n",
       "      <td>OTHER</td>\n",
       "      <td>59</td>\n",
       "      <td>70.622861</td>\n",
       "    </tr>\n",
       "  </tbody>\n",
       "</table>\n",
       "<p>49793 rows × 12 columns</p>\n",
       "</div>"
      ],
      "text/plain": [
       "                          age gender           admittime             icutime  \\\n",
       "subject_id hadm_id                                                             \n",
       "142        131357   48.087611      F 2143-04-01 07:15:00 2143-04-01 14:19:37   \n",
       "161        121804   72.000000      M 2173-05-26 16:03:00 2173-06-09 21:54:27   \n",
       "256        153771   79.969884      M 2166-07-21 23:38:00 2166-07-22 01:10:31   \n",
       "518        161635   49.004791      M 2111-09-21 16:00:00 2111-09-21 16:01:26   \n",
       "704        151175   80.240931      M 2176-03-24 14:26:00 2176-03-31 02:44:00   \n",
       "...                       ...    ...                 ...                 ...   \n",
       "98514      101117   74.666667      M 2121-09-08 20:12:00 2121-09-08 20:13:13   \n",
       "99384      168087   85.552361      M 2117-12-15 18:12:00 2117-12-15 18:13:36   \n",
       "99423      174021   50.173854      F 2116-08-14 12:15:00 2116-08-17 20:56:15   \n",
       "99458      121483   67.214237      M 2169-04-03 08:14:00 2169-04-03 08:15:10   \n",
       "99817      195557   70.622861      M 2166-10-14 23:16:00 2166-10-14 23:18:54   \n",
       "\n",
       "                      icu  oasis ethnicity insurance admission_type  \\\n",
       "subject_id hadm_id                                                    \n",
       "142        131357    CSRU     27     WHITE   Private       ELECTIVE   \n",
       "161        121804    SICU     27     OTHER  Medicare      EMERGENCY   \n",
       "256        153771    MICU     21     WHITE  Medicare      EMERGENCY   \n",
       "518        161635    MICU     17     BLACK  Medicare      EMERGENCY   \n",
       "704        151175     CCU     40   UNKNOWN  Medicare         URGENT   \n",
       "...                   ...    ...       ...       ...            ...   \n",
       "98514      101117     CCU     57     WHITE  Medicare      EMERGENCY   \n",
       "99384      168087   TSICU     38     WHITE  Medicare      EMERGENCY   \n",
       "99423      174021   TSICU     25     WHITE   Private       ELECTIVE   \n",
       "99458      121483    MICU     25     WHITE  Medicare      EMERGENCY   \n",
       "99817      195557    CSRU     59   UNKNOWN  Medicare      EMERGENCY   \n",
       "\n",
       "                    admission_location  adjusted_oasis  adjusted_age  \n",
       "subject_id hadm_id                                                    \n",
       "142        131357        PHYS REFERRAL              27     48.087611  \n",
       "161        121804      CLINIC REFERRAL               0     72.000000  \n",
       "256        153771                OTHER              21     79.969884  \n",
       "518        161635                OTHER              17     49.004791  \n",
       "704        151175   TRANSFER FROM HOSP               0     80.240931  \n",
       "...                                ...             ...           ...  \n",
       "98514      101117                OTHER              57     74.666667  \n",
       "99384      168087                OTHER              38     90.000000  \n",
       "99423      174021        PHYS REFERRAL               0     50.173854  \n",
       "99458      121483      CLINIC REFERRAL              25     67.214237  \n",
       "99817      195557                OTHER              59     70.622861  \n",
       "\n",
       "[49793 rows x 12 columns]"
      ]
     },
     "execution_count": 42,
     "metadata": {},
     "output_type": "execute_result"
    }
   ],
   "source": [
    "all_hadms"
   ]
  },
  {
   "cell_type": "code",
   "execution_count": null,
   "metadata": {},
   "outputs": [],
   "source": []
  }
 ],
 "metadata": {
  "kernelspec": {
   "display_name": "Python 3",
   "language": "python",
   "name": "python3"
  },
  "language_info": {
   "codemirror_mode": {
    "name": "ipython",
    "version": 3
   },
   "file_extension": ".py",
   "mimetype": "text/x-python",
   "name": "python",
   "nbconvert_exporter": "python",
   "pygments_lexer": "ipython3",
   "version": "3.6.10"
  }
 },
 "nbformat": 4,
 "nbformat_minor": 4
}
