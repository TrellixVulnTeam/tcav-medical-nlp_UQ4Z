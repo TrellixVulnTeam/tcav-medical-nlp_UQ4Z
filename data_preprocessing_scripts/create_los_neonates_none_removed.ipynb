{
 "cells": [
  {
   "cell_type": "code",
   "execution_count": 9,
   "metadata": {},
   "outputs": [],
   "source": [
    "import pandas as pd\n",
    "import os\n",
    "import numpy as np\n",
    "from brat_parser import get_entities_relations_attributes_groups\n",
    "import gzip\n",
    "import math\n",
    "\n",
    "\n",
    "dirs_dct = dict(list(pd.read_csv('../directory_paths.csv')['paths'].apply(eval)))\n",
    "\n",
    "\n",
    "# Load relevant MIMIC-III files as dataframes\n",
    "\n",
    "admissions_df =  pd.read_csv(os.path.join(dirs_dct['mimic_dir'],'ADMISSIONS.csv'))\n",
    "\n",
    "subjects_df = pd.read_csv(os.path.join(dirs_dct['mimic_dir'],'PATIENTS.csv'))\n",
    "\n",
    "patients_df = pd.read_csv(os.path.join(dirs_dct['mimic_dir'],'PATIENTS.csv'))\n",
    "\n",
    "\n",
    "items=pd.read_csv(os.path.join(dirs_dct['mimic_dir'],'D_LABITEMS.csv'))\n",
    "\n",
    "#get DOB and gender in admissions df\n",
    "admissions_df = admissions_df.merge(subjects_df[['SUBJECT_ID','DOB','GENDER']], on='SUBJECT_ID')\n",
    "\n",
    "admissions_df['ADMITTIME'] = pd.to_datetime(admissions_df['ADMITTIME'])\n",
    "admissions_df['DOB'] = pd.to_datetime(admissions_df['DOB'])\n",
    "admissions_df['DEATHTIME'] = pd.to_datetime(admissions_df['DEATHTIME'])\n",
    "admissions_df['DISCHTIME'] = pd.to_datetime(admissions_df['DISCHTIME'])\n",
    "\n",
    "#function to get age in days from df row (age at admittime)\n",
    "def get_age(row):\n",
    "    try:\n",
    "        return (row.ADMITTIME-row.DOB) / np.timedelta64(1, 's')/ 60./60/24\n",
    "    except:\n",
    "        return np.nan\n",
    "#get age in days in admissions df\n",
    "admissions_df['AGE'] = admissions_df.apply(get_age, axis=1)\n",
    "\n",
    "#get expire flag in admissions df\n",
    "admissions_df = admissions_df.merge(patients_df[['SUBJECT_ID','EXPIRE_FLAG']], how='left',on='SUBJECT_ID')\n",
    "\n",
    "#set of patients whose first admission was within 30 days of birth\n",
    "neonate_patients=set(admissions_df[admissions_df['AGE']<30]['SUBJECT_ID'].unique())\n",
    "#Number of admissions those patients had (even after 30 days)\n",
    "patients_not_deceased=set(admissions_df[admissions_df['EXPIRE_FLAG']==0]['SUBJECT_ID'].unique())\n",
    "neonate_and_not_deceased=set(neonate_patients.intersection(patients_not_deceased))\n",
    "\n",
    "grouped = admissions_df.groupby('SUBJECT_ID')\n",
    "#only look at patients with multiple admissions\n",
    "only_multiple=grouped.filter(func=lambda x: len(x) >1, dropna=True)[['HADM_ID','SUBJECT_ID','DISCHTIME','ADMITTIME','AGE']]\n",
    "#Find mean difference between admission and previous discharge\n",
    "only_multiple.groupby('SUBJECT_ID').apply(lambda row:  row['ADMITTIME']-row['DISCHTIME'].shift(1)).mean()"
   ]
  },
  {
   "cell_type": "code",
   "execution_count": 15,
   "metadata": {},
   "outputs": [],
   "source": [
    "#filter to limit only_multiple to patients whose minimum \"age at admission\" was less than 30 days\n",
    "age_filter = only_multiple.merge( pd.DataFrame(only_multiple.groupby('SUBJECT_ID')['AGE'].apply(lambda x:x.min()<30).reset_index()), on='SUBJECT_ID',how='left' )['AGE_y']\n",
    "\n",
    "only_multiple= only_multiple[list(age_filter)]\n",
    "\n",
    "#make interval starting at admission and ending 3 days after discharge, so we can check for approximate overlaps with later admissions\n",
    "only_multiple['interval_with_buffer']=only_multiple.apply(lambda row: pd.Interval(row['ADMITTIME'], (row['DISCHTIME']+pd.Timedelta('3 days'))) ,axis=1)\n",
    "\n",
    "#starting at the first admission for each patient, check subsequent admissions for approximate overlaps and assign a 'new_HADM' for the merged HADM_IDs\n",
    "this_row=only_multiple.iloc[0]\n",
    "new_hadm=[this_row['HADM_ID']]\n",
    "for i in range(1,len(only_multiple)):\n",
    "    prev_row=this_row\n",
    "    this_row = only_multiple.iloc[i]\n",
    "   \n",
    "    if this_row['interval_with_buffer'].overlaps(prev_row['interval_with_buffer']):\n",
    "        new_hadm.append(new_hadm[i-1])\n",
    "    else:\n",
    "        new_hadm.append(this_row['HADM_ID'])\n",
    "\n",
    "only_multiple['new_HADM'] = new_hadm\n",
    "\n",
    "only_multiple=only_multiple.merge(pd.DataFrame(only_multiple.groupby('new_HADM')['DISCHTIME'].apply(lambda group:group.max() )).reset_index(), how='left',on='new_HADM', suffixes=['','_new'])"
   ]
  },
  {
   "cell_type": "code",
   "execution_count": 30,
   "metadata": {},
   "outputs": [],
   "source": [
    "admissions_df = admissions_df.merge(only_multiple[['HADM_ID','new_HADM','DISCHTIME_new']], how='left', on='HADM_ID')\n",
    "\n",
    "admissions_df['new_HADM'] = admissions_df['new_HADM'].fillna(admissions_df['HADM_ID'])\n",
    "admissions_df['DISCHTIME_new'] = admissions_df['DISCHTIME_new'].fillna(admissions_df['DISCHTIME'])\n",
    "\n",
    "nicu_los_admissions = admissions_df[admissions_df['AGE']<30]\n",
    "nicu_los_admissions = nicu_los_admissions[nicu_los_admissions['EXPIRE_FLAG']==0]\n",
    "\n",
    "nicu_los_admissions = nicu_los_admissions.sort_values(by='ADMITTIME', ascending=True)\n",
    "\n",
    "new_HADM_to_old = admissions_df.groupby('new_HADM')['HADM_ID'].apply(list).to_dict()\n",
    "\n",
    "nicu_los_admissions = nicu_los_admissions.drop_duplicates(subset='new_HADM', keep='first')\n",
    "\n",
    "#number of distinct \"merged\" admissions per patient\n",
    "nicu_los_admissions.groupby('SUBJECT_ID').apply(len).value_counts()\n",
    "\n",
    "\n",
    "nicu_los_admissions['los'] = nicu_los_admissions.apply(lambda row:  ( (row['DISCHTIME_new']-row['ADMITTIME']) / np.timedelta64(1, 's')/ 60./60/24 )  ,axis=1)\n",
    "\n",
    "\n",
    "nicu_los_admissions[['new_HADM','los']].to_csv(os.path.join(dirs_dct['data_dir'],'all_neonate_los.csv'))\n",
    "\n",
    "def num_admissions(subject_ids):\n",
    "    subject_ids_df=pd.DataFrame({'SUBJECT_ID':list(subject_ids)})\n",
    "    return len(admissions_df.merge(subject_ids_df, on='SUBJECT_ID',how='inner')['new_HADM'].unique())"
   ]
  },
  {
   "cell_type": "code",
   "execution_count": 35,
   "metadata": {},
   "outputs": [
    {
     "name": "stdout",
     "output_type": "stream",
     "text": [
      "Age <30 days at admission?\n",
      "YES: n= 7867; h=7979\n",
      "NO: n= 38653; h=50874\n",
      "Record of patient dying?\n",
      "YES: n= 66; h=66\n",
      "NO: n= 7801; h=7913\n",
      "Less than 10 days?\n",
      "YES: n= 5860; h=5941\n",
      "NO: n= 1941; h=1972\n"
     ]
    }
   ],
   "source": [
    "all_patients=set(admissions_df['SUBJECT_ID'])\n",
    "patients_with_neonate_adm = set(admissions_df[admissions_df['AGE']<=30]['SUBJECT_ID'].unique())\n",
    "patients_no_death = set(admissions_df[admissions_df['EXPIRE_FLAG']==0]['SUBJECT_ID'].unique())\n",
    "patients_short_stay = set(nicu_los_admissions[nicu_los_admissions['los']<10]['SUBJECT_ID'].unique())\n",
    "print('Age <30 days at admission?')\n",
    "print('YES: n= %d; h=%d' % (len(patients_with_neonate_adm),num_admissions(patients_with_neonate_adm) ) )\n",
    "not_neonate_patients =all_patients.difference(patients_with_neonate_adm)\n",
    "print('NO: n= %d; h=%d' % (len(not_neonate_patients),num_admissions(not_neonate_patients) ) )\n",
    "\n",
    "print('Record of patient dying?')\n",
    "death_and_neonate=patients_with_neonate_adm.intersection(all_patients.difference(patients_no_death))\n",
    "print('YES: n= %d; h=%d' % (len(death_and_neonate),num_admissions(death_and_neonate) ) )\n",
    "no_death_neonates =patients_with_neonate_adm.intersection(patients_no_death)\n",
    "print('NO: n= %d; h=%d' % (len(no_death_neonates),num_admissions(no_death_neonates) ) )\n",
    "\n",
    "print('Less than 10 days?')\n",
    "short_and_no_death_neonate=no_death_neonates.intersection(patients_short_stay)\n",
    "long_and_no_death_neonate=no_death_neonates.intersection(all_patients.difference(patients_short_stay))\n",
    "\n",
    "print('YES: n= %d; h=%d' % (len(short_and_no_death_neonate),num_admissions(short_and_no_death_neonate) ) )\n",
    "no_death_neonates =patients_with_neonate_adm.intersection(patients_no_death)\n",
    "print('NO: n= %d; h=%d' % (len(long_and_no_death_neonate),num_admissions(long_and_no_death_neonate) ) )\n"
   ]
  },
  {
   "cell_type": "code",
   "execution_count": 60,
   "metadata": {},
   "outputs": [],
   "source": [
    "import matplotlib.pyplot as plt\n",
    "nicu_los_admissions['los'].plot.hist(alpha=0.9,bins=100)\n",
    "plt.title('Days in NICU for Neonates\\nEventually Discharged to Home')\n",
    "\n",
    "#We round up to 10 for simplicity\n",
    "print('fourth quartile LOS',nicu_los_admissions.quantile(0.75)['los'])\n",
    "\n",
    "nicu_los_admissions['label'] = nicu_los_admissions['los'].apply(lambda x: 0 if x< 10 else 1 )\n",
    "\n",
    "positive_subjects = set(nicu_los_admissions[nicu_los_admissions['label']==1]['SUBJECT_ID'].unique())\n",
    "\n",
    "notes_df = pd.read_csv(os.path.join(dirs_dct['mimic_dir'],'NOTEEVENTS.csv'))\n",
    "\n",
    "#delete iserror\n",
    "notes_df = notes_df[notes_df['ISERROR'].apply(lambda x: not x==1)]\n",
    "\n",
    "notes_df=notes_df.dropna(subset=['HADM_ID','SUBJECT_ID'], how='any')\n",
    "\n",
    "notes_df=notes_df.merge(admissions_df[['HADM_ID','new_HADM']],on='HADM_ID',how='left')\n",
    "\n",
    "notes_df = notes_df.merge(nicu_los_admissions[['new_HADM','AGE','GENDER','los']], on='new_HADM')"
   ]
  },
  {
   "cell_type": "code",
   "execution_count": 71,
   "metadata": {},
   "outputs": [],
   "source": [
    "notes_df['CHARTTIME']= pd.to_datetime(notes_df['CHARTTIME'])\n",
    "#path to section annotations, delete if unavailable\n",
    "sections_df = pd.read_csv('../section_annotations_df.csv')\n",
    "\n",
    "adm_sections = [ 'chief_complaint','history_of_present_illness', 'ros', 'assessment_and_plan','allergies','past_medical_history','family_history','social_history','physical_exam']\n",
    "\n",
    "merged = notes_df.merge(sections_df[['ROW_ID','sections']],on='ROW_ID')\n",
    "\n",
    "merged['has_adm_section']=merged['sections'].apply(lambda x: any([ y in x for y in adm_sections]))\n",
    "\n",
    "admission_notes =merged[merged.apply(lambda row: row['CATEGORY'] in ['Nursing/other','Nursing','General','Physician '],axis=1)].sort_values(by='CHARTTIME')\n",
    "\n",
    "admissions_with_adm_section = list(admission_notes['new_HADM'].unique())"
   ]
  },
  {
   "cell_type": "code",
   "execution_count": 72,
   "metadata": {},
   "outputs": [
    {
     "name": "stdout",
     "output_type": "stream",
     "text": [
      "num admissions below 1 month 7944\n",
      "num patients below 1 month 7867\n",
      "adms below 1 month and with note 7643\n",
      "num patients below 1 month with note 7602\n",
      "neonate admissions discharged alive with note 7643\n",
      "neonate patients discharged alive with note 7602\n"
     ]
    }
   ],
   "source": [
    "A = set(admissions_df[admissions_df['AGE']<30]['new_HADM'])\n",
    "B = set(admissions_with_adm_section)\n",
    "print('num admissions below 1 month', len(A))\n",
    "print('num patients below 1 month', len(admissions_df[admissions_df['new_HADM'].apply(lambda x: x in A)]['SUBJECT_ID'].unique()))\n",
    "C=B.intersection(A)\n",
    "print('adms below 1 month and with note', len(C))\n",
    "print('num patients below 1 month with note', len(admissions_df[admissions_df['new_HADM'].apply(lambda x: x in C)]['SUBJECT_ID'].unique()))\n",
    "D=set(admissions_df[admissions_df['DISCHARGE_LOCATION'] != 'DEAD/EXPIRED']['new_HADM'])\n",
    "E=C.intersection(D)\n",
    "print('neonate admissions discharged alive with note',len(E) )\n",
    "print('neonate patients discharged alive with note', len(admissions_df[admissions_df['new_HADM'].apply(lambda x: x in E)]['SUBJECT_ID'].unique()))"
   ]
  },
  {
   "cell_type": "code",
   "execution_count": 76,
   "metadata": {},
   "outputs": [],
   "source": [
    "admission_notes = admission_notes.sort_values(by='CHARTTIME', ascending=True)\n",
    "\n",
    "admission_notes['num_sections'] = admission_notes['sections'].apply(lambda x: len(set([y for y in x if y in adm_sections])))\n",
    "\n",
    "admission_notes['text_len']=admission_notes['TEXT'].apply(len)"
   ]
  },
  {
   "cell_type": "code",
   "execution_count": 77,
   "metadata": {},
   "outputs": [
    {
     "data": {
      "text/plain": [
       "<AxesSubplot:>"
      ]
     },
     "execution_count": 77,
     "metadata": {},
     "output_type": "execute_result"
    },
    {
     "data": {
      "image/png": "[encoded data removed]",
      "text/plain": [
       "<Figure size 432x288 with 1 Axes>"
      ]
     },
     "metadata": {
      "needs_background": "light"
     },
     "output_type": "display_data"
    }
   ],
   "source": [
    "admission_notes.sort_values(by='text_len', ascending=False).groupby('new_HADM').head(1)['TEXT'].apply(len).hist()"
   ]
  },
  {
   "cell_type": "code",
   "execution_count": 82,
   "metadata": {},
   "outputs": [],
   "source": [
    "admission_notes['mentions_admission'] =admission_notes['TEXT'].apply(lambda x:  1 if any([y in x[:150].lower() for y in ['adm','triage','refer','sent']]) else 0 )\n",
    "\n",
    "admission_notes['mentions_admission'] =admission_notes['TEXT'].apply(lambda x:  1 if any([y in x[:80].lower() for y in ['adm','triage','referred', 'chief complaint', 'this is a', 'y/o','acceptance','hpi', 'year old',' yo ']]) else 0 )\n",
    "\n",
    "admission_notes = admission_notes.sort_values(by='text_len', ascending=False,kind='mergesort')\n",
    "\n",
    "admission_notes = admission_notes.sort_values(by='CHARTTIME', ascending=True,kind='mergesort')\n",
    "\n",
    "admission_notes = admission_notes.sort_values(by='num_sections', ascending=False,kind='mergesort')\n",
    "\n",
    "admission_notes = admission_notes.sort_values(by='mentions_admission', ascending=False,kind='mergesort').groupby('new_HADM').head(1)\n",
    "\n",
    "#get first chronological admission note from each admission\n",
    "admission_notes = admission_notes.sort_values(by='CHARTTIME', ascending = True)\n",
    "admission_notes = admission_notes.drop_duplicates(subset =['new_HADM'], keep='first' )"
   ]
  },
  {
   "cell_type": "code",
   "execution_count": 87,
   "metadata": {},
   "outputs": [],
   "source": [
    "admission_notes['label'] = admission_notes['los'].apply(lambda x: 0 if x<10 else 1 )"
   ]
  },
  {
   "cell_type": "code",
   "execution_count": 88,
   "metadata": {},
   "outputs": [
    {
     "data": {
      "text/plain": [
       "<AxesSubplot:>"
      ]
     },
     "execution_count": 88,
     "metadata": {},
     "output_type": "execute_result"
    },
    {
     "data": {
      "image/png": "[encoded data removed]",
      "text/plain": [
       "<Figure size 432x288 with 1 Axes>"
      ]
     },
     "metadata": {
      "needs_background": "light"
     },
     "output_type": "display_data"
    }
   ],
   "source": [
    "admission_notes['TEXT'].apply(len).hist()"
   ]
  },
  {
   "cell_type": "code",
   "execution_count": 89,
   "metadata": {},
   "outputs": [
    {
     "data": {
      "text/plain": [
       "0    5704\n",
       "1    1939\n",
       "Name: label, dtype: int64"
      ]
     },
     "execution_count": 89,
     "metadata": {},
     "output_type": "execute_result"
    }
   ],
   "source": [
    "admission_notes['label'].value_counts()"
   ]
  },
  {
   "cell_type": "code",
   "execution_count": 98,
   "metadata": {},
   "outputs": [],
   "source": [
    "admission_notes = admission_notes[admission_notes.apply(lambda row: not (row['label']==0 and row['SUBJECT_ID'] in positive_subjects), axis=1)]\n",
    "\n",
    "train_and_test_data = admission_notes[['TEXT','label','ROW_ID','new_HADM','SUBJECT_ID','CHARTTIME','AGE','GENDER']]\n",
    "\n",
    "train_and_test_data.to_csv(os.path.join(dirs_dct['data_dir'],'nicu_full_cohort.csv'))"
   ]
  },
  {
   "cell_type": "code",
   "execution_count": 98,
   "metadata": {},
   "outputs": [],
   "source": [
    "#Before continuing: run split_task_cohorts.ipynb to generate the cohort splits used:\n",
    "import pandas as pd\n",
    "train = pd.read_csv('os.path.join(dirs_dct['data_dir'],'nicu.train.csv'))[['hadm_id']].rename(columns={'hadm_id':'new_HADM'})\n",
    "val = pd.read_csv(os.path.join(dirs_dct['data_dir'],'nicu.valid.csv'))[['hadm_id']].rename(columns={'hadm_id':'new_HADM'})\n",
    "test = pd.read_csv(os.path.join(dirs_dct['data_dir'],'nicu.test.csv'))[['hadm_id']].rename(columns={'hadm_id':'new_HADM'})\n",
    "\n",
    "train_and_test_data= pd.read_csv(os.path.join(dirs_dct['data_dir'],'nicu_full_cohort.csv'))\n",
    "\n",
    "train.merge(train_and_test_data, how='left', on='new_HADM').to_csv(os.path.join(dirs_dct['data_dir'],'los_nicu_train_admissions.csv'))\n",
    "val.merge(train_and_test_data, how='left', on='new_HADM').to_csv(os.path.join(dirs_dct['data_dir'],'los_nicu_val_admissions.csv'))\n",
    "test.merge(train_and_test_data, how='left', on='new_HADM').to_csv(os.path.join(dirs_dct['data_dir'],'los_nicu_test_admissions.csv'))\n",
    "\n",
    "import pandas as pd\n",
    "train=pd.read_csv(os.path.join(dirs_dct['data_dir'],'los_nicu_train_admissions.csv'))\n",
    "val=pd.read_csv(os.path.join(dirs_dct['data_dir'],'los_nicu_val_admissions.csv'))\n",
    "test=pd.read_csv('os.path.join(dirs_dct['data_dir'],los_nicu_test_admissions.csv'))\n",
    "\n",
    "\n",
    "test[test['label']==1]['label'].sum()\n",
    "\n",
    "val_and_test=pd.concat([pd.read_csv(os.path.join(dirs_dct['data_dir'],'los_nicu_val_admissions.csv')),\n",
    "                        pd.read_csv(os.path.join(dirs_dct['data_dir'],'los_nicu_test_admissions.csv'))])[['TEXT','label','ROW_ID','new_HADM']]\n",
    "\n",
    "diagnoses_df = pd.read_csv(os.path.join(dirs_dct['mimic_dir'],'DIAGNOSES_ICD.csv')).merge(admissions_df[['HADM_ID','new_HADM']],on='HADM_ID')\n",
    "\n",
    "new_HADM_dxs = pd.DataFrame(val_and_test.merge(diagnoses_df[['new_HADM','ICD9_CODE']],on='new_HADM',how='left').groupby('new_HADM')['ICD9_CODE'].apply(list)).reset_index()\n",
    "val_and_test = val_and_test.merge(new_HADM_dxs, on='new_HADM',how='left')\n",
    "\n",
    "dx_labels_df = pd.read_csv(os.path.join(dirs_dct['mimic_dir'],'D_ICD_DIAGNOSES.csv'))\n",
    "\n",
    "concept_names= ['Jaundice', 'Respiratory Distress Syndrome', 'Sleep Apnea', 'Bradycardia', 'Single Birth, Cesarean Section', 'Twin Birth, Cesarian Section', '3+ Birthmates, Cesarian Section', 'Suspected Infection', 'Needs Hepatitis Vaccination', 'Anemia of prematurity', 'Premature birth', 'Premature birth', 'Premature birth', 'Premature birth', 'Low birth weight', 'Low birth weight', 'Low birth weight', 'Low birth weight', 'Low birth weight', 'Low birth weight', 'Patent ductus arteriosus', 'Other perinatal conditions', 'Septicemia', 'Retrolental fibroplasia', 'Chronic respiratory disease']\n",
    "icd_codes = ['7742', '769', '77081', '77981', 'V3001', 'V3101', 'V3401', 'V290', 'V053', '7766', '76526', '76527', '76524', '76525', '76503', '76514', '76515', '76516', '76517', '76518', '7470', '77989', '77181', '36221', '7707']\n",
    "\n",
    "concept_to_code_dct = pd.DataFrame(zip(icd_codes,concept_names), columns=['ICD9_CODE','concept_name']).groupby('concept_name')['ICD9_CODE'].apply(list).to_dict()\n",
    "\n",
    "concept_to_code_dct.keys()\n",
    "\n",
    "for concept in concept_to_code_dct.keys():\n",
    "    concept_df = val_and_test[val_and_test['ICD9_CODE'].apply(lambda x: len(set(x).intersection( set(concept_to_code_dct[concept]) ))>0 )]\n",
    "    concept_df.to_csv(os.path.join(dirs_dct['concepts_dir'],'/NICU/positive_'+concept))\n",
    "    negative_df = val_and_test[val_and_test['ICD9_CODE'].apply(lambda x: len(set(x).intersection( set(concept_to_code_dct[concept]) ))==0 )]\n",
    "    for i in range(50):\n",
    "        negative_df.sample(500).to_csv(os.path.join(dirs_dct['concepts_dir'],'/NICU/negative_'+concept+'_'+str(i)))\n",
    "    print(concept, len(concept_df),len(negative_df))\n",
    "\n",
    "concept_names= ['24_wks', '25_26_wks', '27_28_wks', '29_30_wks', '31_32_wks', '33_34_wks', '35_36_wks', '37_plus_wks', 'below_24_wks']\n",
    "icd_codes =    ['76522','76523','76524','76525','76526','76527','76528','76529','76521']\n",
    "concept_names = concept_names +['Low birthwt status NOS','<500g','500-999g', '1000-1499g', '1500-1999g', '2000-2500g']\n",
    "icd_codes = icd_codes + ['V2130','V2131','V2132', 'V2133','V2134','V2135']\n",
    "\n",
    "code_to_concept_dct = dict(zip(concept_names,icd_codes))"
   ]
  },
  {
   "cell_type": "code",
   "execution_count": 142,
   "metadata": {},
   "outputs": [],
   "source": [
    "val_and_test_with_chart = val_and_test.merge(pd.read_csv(os.path.join(dirs_dct['data_dir'],'all_admission_fulladm_all_stats_merged.csv')), how='left',on='new_HADM' )\n",
    "\n",
    "nicu_chart_df = pd.read_csv(os.path.join(dirs_dct['data_dir'],'all_nicu_chart_stats_merged.csv')\n",
    "\n",
    "nicu_chart_df= nicu_chart_df[nicu_chart_df['VALUE'].apply(lambda x: 'PMA' not in str(x))]\n",
    "\n",
    "gest_ages = nicu_chart_df[nicu_chart_df['ITEMID']==3446].groupby('new_HADM')['VALUE'].apply(lambda x: x.iloc[0] if len(x)>0 else x )\n",
    "birth_weights = nicu_chart_df[nicu_chart_df['field']=='birth_weight'].groupby('new_HADM')['VALUENUM'].apply(lambda x: x.iloc[0] if len(x)>0 else x )\n",
    "\n",
    "val_and_test = val_and_test.merge(admissions_df[['new_HADM','GENDER']],on='new_HADM')\n",
    "\n",
    "bins = [0,500,750, 1000,1250, 1500,1750, 2500,9000]\n",
    "val_and_test['weight_bin'] = pd.cut(val_and_test['BIRTH_WEIGHT'].apply(lambda x: x*1000),bins)\n",
    "\n",
    "val_and_test['weight_bin']= val_and_test['weight_bin'].apply(lambda x: 'birth_weight_'+str(int(x.right))+'_'+str(int(x.left)) if not str(x)=='nan' else np.nan)\n",
    "\n",
    "for weight_concept in [ x for x in val_and_test['weight_bin'].unique() if str(x)!='nan']:\n",
    "    concept_df = val_and_test[val_and_test['weight_bin']==weight_concept]\n",
    "    concept_df.to_csv(os.path.join(dirs_dct['concepts_dir'],'NICU/chart_weights/positive_'+weight_concept))\n",
    "    print(weight_concept,len(concept_df))\n",
    "    for i in range(50):\n",
    "        val_and_test[val_and_test['weight_bin']!=weight_concept].sample(500).to_csv(os.path.join(dirs_dct['concepts_dir'],'NICU/chart_weights/negative_'+weight_concept+'_'+str(i)))"
   ]
  },
  {
   "cell_type": "code",
   "execution_count": 55,
   "metadata": {},
   "outputs": [],
   "source": [
    "for age_concept in ['33-36 weeks gest', '37-40 weeks gest', '29-32 weeks gest','>40 weeks gest', '26-28 weeks gest'] :\n",
    "    concept_df = val_and_test[val_and_test['GEST_AGE']==age_concept]\n",
    "    age_concept=age_concept.replace('>','greater_')\n",
    "    concept_df.to_csv(os.path.join(dirs_dct['concepts_dir'],'NICU/chart_gest_ages/positive_'+age_concept))\n",
    "    print(age_concept,len(concept_df))\n",
    "    for i in range(50):\n",
    "        val_and_test[val_and_test['weight_bin']!=age_concept].sample(500).to_csv(os.path.join(dirs_dct['concepts_dir'],'NICU/chart_gest_ages/negative_'+age_concept+'_'+str(i)))\n",
    "\n",
    "val_and_test = val_and_test.merge( pd.DataFrame(birth_weights).reset_index().rename(columns={'VALUENUM':'BIRTH_WEIGHT'}), on='new_HADM', how='left').merge(\n",
    "pd.DataFrame(gest_ages).reset_index().rename(columns={'VALUE':'GEST_AGE'}), how='left', on='new_HADM')\n",
    "\n",
    "val_and_test[val_and_test['GENDER']=='M'].to_csv('os.path.join(dirs_dct['concepts_dir'],'NICU/positive_MALE'))\n",
    "val_and_test[val_and_test['GENDER']=='F'].to_csv('os.path.join(dirs_dct['concepts_dir'],'NICU/positive_FEMALE'))\n",
    "for i in range(50):\n",
    "    val_and_test[val_and_test['GENDER']=='M'].sample(500).to_csv(os.path.join(dirs_dct['concepts_dir'],'NICU/negative_FEMALE_'+str(i))'\n",
    "    val_and_test[val_and_test['GENDER']=='F'].sample(500).to_csv(os.path.join(dirs_dct['concepts_dir'],'NICU/negative_MALE_'+str(i)))\n",
    "\n",
    "concept_to_code_dct = pd.DataFrame(zip(icd_codes,concept_names), columns=['ICD9_CODE','concept_name']).groupby('concept_name')['ICD9_CODE'].apply(list).to_dict()"
   ]
  },
  {
   "cell_type": "code",
   "execution_count": 74,
   "metadata": {},
   "outputs": [
    {
     "name": "stdout",
     "output_type": "stream",
     "text": [
      "25_26_wks 46 3764\n",
      "27_28_wks 78 3732\n",
      "29_30_wks 118 3692\n",
      "31_32_wks 234 3576\n",
      "33_34_wks 431 3379\n",
      "35_36_wks 419 3391\n"
     ]
    }
   ],
   "source": [
    "concept_to_code_dct.keys()\n",
    "\n",
    "for concept in concept_to_code_dct.keys():\n",
    "    concept_df = val_and_test[val_and_test['ICD9_CODE'].apply(lambda x: len(set(x).intersection( set(concept_to_code_dct[concept]) ))>0 )]\n",
    "    if len(concept_df)<40:\n",
    "        continue\n",
    "    concept_df.to_csv(os.path.join(dirs_dct['concepts_dir'],'NICU/positive_'+concept))\n",
    "    negative_df = val_and_test[val_and_test['ICD9_CODE'].apply(lambda x: len(set(x).intersection( set(concept_to_code_dct[concept]) ))==0 )]\n",
    "    for i in range(50):\n",
    "        negative_df.sample(500).to_csv(os.path.join(dirs_dct['concepts_dir'],'NICU/negative_'+concept+'_'+str(i)))\n",
    "    print(concept, len(concept_df),len(negative_df))"
   ]
  },
  {
   "cell_type": "code",
   "execution_count": 113,
   "metadata": {},
   "outputs": [],
   "source": [
    "items_df = pd.concat([pd.read_csv(os.path.join(dirs_dct['mimic_dir'],'D_ITEMS.csv'),pd.read_csv(os.path.join(dirs_dct['mimic_dir'],'D_LABITEMS.csv')])\n",
    "\n",
    "val_and_test=val_and_test.merge(admissions_df[['ADMITTIME','HADM_ID']].rename(columns={'HADM_ID':'new_HADM'}),on='new_HADM',how='left')\n",
    "\n",
    "val_and_test['day'] = val_and_test['ADMITTIME'].apply(lambda x: x.day_name())"
   ]
  },
  {
   "cell_type": "code",
   "execution_count": 114,
   "metadata": {},
   "outputs": [
    {
     "name": "stdout",
     "output_type": "stream",
     "text": [
      "Sunday 414 3368\n",
      "Monday 515 3267\n",
      "Friday 593 3189\n",
      "Thursday 603 3179\n",
      "Tuesday 560 3222\n",
      "Saturday 479 3303\n",
      "Wednesday 618 3164\n"
     ]
    }
   ],
   "source": [
    "for concept in val_and_test['day'].unique() :\n",
    "    concept_df = val_and_test[val_and_test['day'].apply(lambda x: x==concept)]\n",
    "    concept_df.to_csv(os.path.join(dirs_dct['concepts_dir'],'NICU/positive_'+concept)\n",
    "    negative_df = val_and_test[val_and_test['day'].apply(lambda x: not x==concept)]\n",
    "    for i in range(50):\n",
    "        negative_df.sample(500).to_csv(os.path.join(dirs_dct['concepts_dir'],'NICU/negative_'+concept+'_'+str(i))\n",
    "    print(concept, len(concept_df),len(negative_df))"
   ]
  },
  {
   "cell_type": "code",
   "execution_count": 115,
   "metadata": {},
   "outputs": [],
   "source": [
    "val_and_test[val_and_test['label']==1].to_csv(os.path.join(dirs_dct['concepts_dir'],'NICU/nicu_los')"
   ]
  }
 ],
 "metadata": {
  "kernelspec": {
   "display_name": "Python 3",
   "language": "python",
   "name": "python3"
  },
  "language_info": {
   "codemirror_mode": {
    "name": "ipython",
    "version": 3
   },
   "file_extension": ".py",
   "mimetype": "text/x-python",
   "name": "python",
   "nbconvert_exporter": "python",
   "pygments_lexer": "ipython3",
   "version": "3.6.10"
  }
 },
 "nbformat": 4,
 "nbformat_minor": 4
}
