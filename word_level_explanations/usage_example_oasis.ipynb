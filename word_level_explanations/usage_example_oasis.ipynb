{
 "cells": [
  {
   "cell_type": "code",
   "execution_count": 1,
   "metadata": {},
   "outputs": [],
   "source": [
    "import pickle\n",
    "\n",
    "from dataset import NewsDataset\n",
    "from DistilbertModelMultilabel import DistilBertForSequenceClassification\n",
    "\n",
    "from smooth_gradient import SmoothGradient\n",
    "from integrated_gradient import IntegratedGradient\n",
    "\n",
    "import torch\n",
    "from torch import nn\n",
    "from torch.utils.data import DataLoader\n",
    "from transformers import DistilBertConfig, DistilBertTokenizer\n",
    "import pandas as pd\n",
    "from IPython.display import display, HTML\n",
    "import numpy as np"
   ]
  },
  {
   "cell_type": "code",
   "execution_count": 2,
   "metadata": {},
   "outputs": [],
   "source": [
    "config = DistilBertConfig()\n",
    "tokenizer = DistilBertTokenizer.from_pretrained(\"distilbert-base-uncased\")\n",
    "# distilbert = DistilBertForSequenceClassification(config, num_labels=2)"
   ]
  },
  {
   "cell_type": "code",
   "execution_count": 3,
   "metadata": {},
   "outputs": [],
   "source": [
    "# from transformers import DistilBertForSequenceClassification"
   ]
  },
  {
   "cell_type": "code",
   "execution_count": 4,
   "metadata": {},
   "outputs": [],
   "source": [
    "config.multi=True"
   ]
  },
  {
   "cell_type": "code",
   "execution_count": 5,
   "metadata": {},
   "outputs": [
    {
     "name": "stderr",
     "output_type": "stream",
     "text": [
      "All TF 2.0 model weights were used when initializing DistilBertForSequenceClassification.\n",
      "\n",
      "All the weights of DistilBertForSequenceClassification were initialized from the TF 2.0 model.\n",
      "If your task is similar to the task the model of the checkpoint was trained on, you can already use DistilBertForSequenceClassification for predictions without further training.\n"
     ]
    }
   ],
   "source": [
    "config.num_labels=10\n",
    "distilbert = DistilBertForSequenceClassification.from_pretrained( \"../tcav2/predict_sapsii/checkpoints/distilbert_OASIS__5.h5\",from_tf=True,config=config)"
   ]
  },
  {
   "cell_type": "code",
   "execution_count": 6,
   "metadata": {},
   "outputs": [],
   "source": [
    "# distilbert.state_dict"
   ]
  },
  {
   "cell_type": "code",
   "execution_count": 7,
   "metadata": {},
   "outputs": [],
   "source": [
    "# import torch \n",
    "# torch.save(distilbert.state_dict(),'oasis_model.pt')"
   ]
  },
  {
   "cell_type": "code",
   "execution_count": 8,
   "metadata": {},
   "outputs": [],
   "source": [
    "# distilbert = DistilBertForSequenceClassification(config=config)#.from_pretrained(None,config=config,state_dict='distilbert_cad_final1.pt')"
   ]
  },
  {
   "cell_type": "code",
   "execution_count": 9,
   "metadata": {},
   "outputs": [],
   "source": [
    "criterion = nn.CrossEntropyLoss()"
   ]
  },
  {
   "cell_type": "code",
   "execution_count": 10,
   "metadata": {},
   "outputs": [],
   "source": [
    "batch_size = 1"
   ]
  },
  {
   "cell_type": "code",
   "execution_count": 11,
   "metadata": {},
   "outputs": [],
   "source": [
    "# \"../predict_sapsii/checkpoints/distilbert_OASIS__5.h5\""
   ]
  },
  {
   "cell_type": "code",
   "execution_count": 12,
   "metadata": {},
   "outputs": [],
   "source": [
    "# torch.load(path, map_location=torch.device('cpu'))"
   ]
  },
  {
   "cell_type": "code",
   "execution_count": 13,
   "metadata": {},
   "outputs": [],
   "source": [
    "# path = './oasis_model.pt'\n",
    "\n",
    "# if torch.cuda.is_available():\n",
    "#     distilbert.load_state_dict(\n",
    "#         torch.load(path)\n",
    "#     )\n",
    "# else:\n",
    "#     distilbert.load_state_dict(\n",
    "#         torch.load(path, map_location=torch.device('cpu'))\n",
    "#     )\n",
    "    \n",
    "# # # with open('../label_encoder.sklrn', 'rb') as f:\n",
    "# # #     le = pickle.load(f)"
   ]
  },
  {
   "cell_type": "code",
   "execution_count": 14,
   "metadata": {},
   "outputs": [],
   "source": [
    "# distilbert = DistilBertForSequenceClassification.from_pretrained('../tcav/bertcheckpoints/distilbert/distilbert_cad_final1.h5',output_attentions=True, from_tf=True)"
   ]
  },
  {
   "cell_type": "code",
   "execution_count": 15,
   "metadata": {},
   "outputs": [],
   "source": [
    "# np.array([[0]*512]).size()"
   ]
  },
  {
   "cell_type": "code",
   "execution_count": 16,
   "metadata": {},
   "outputs": [],
   "source": [
    "# predictions=distilbert(input_ids=torch.tensor([[0]*512]),return_dict=True,output_hidden_states=True)"
   ]
  },
  {
   "cell_type": "code",
   "execution_count": 18,
   "metadata": {},
   "outputs": [],
   "source": [
    "test_df = pd.read_csv('../tcav2/data/oasis_test.csv',nrows=2)"
   ]
  },
  {
   "cell_type": "code",
   "execution_count": 36,
   "metadata": {},
   "outputs": [],
   "source": [
    "classes = list(test_df.columns[3:])"
   ]
  },
  {
   "cell_type": "code",
   "execution_count": 27,
   "metadata": {},
   "outputs": [],
   "source": [
    "texts = list(test_df['TEXT'])"
   ]
  },
  {
   "cell_type": "code",
   "execution_count": 28,
   "metadata": {},
   "outputs": [
    {
     "data": {
      "text/plain": [
       "\"MICU nursing admission Note\\nPt found unresponsive this am. taken to ED with resp distress. Narcan, abx and nebs given. CXR showed PCP, ?SARS. Pt also states that she has bloody sputum, thus pt placed on airborne iso room. pt admitted to Cocaine and Heroin use last noc. arrived to MICU A slurring speech, drowsy. additional Narcan given. Pt alert and oriented. Arrived on Venturi mask, tolerating NC now at 3liters with sats 95-98%.\\n\\nResp- On 3 liters NC, no SOB at rest, does become dyspneic with anxiety. Reports cough X3 days. awaiting sputum spec, pt aware of need for sample. On nebs. Lung sounds clear with Occ wheezes.\\n\\nCV- NSR with HR 90-100. BP stable. without edema, clubbing. palpable peripheral pulses. Currently repleating K (40MEQ) IV.\\n\\nSkin- dry and intact. no breaks in skin integrity.\\n\\nNeuro- Alert and oriented, especially after 2nd does of Narcan. Moves all extermities, without loss of sensation. [**Last Name (un) 207**] and coop. pt c/o diffuse bone pain.\\n\\nGI/GU- bowel sounds active. no c/o abd pain or change in bowel regimen. Voiding with bedside commode. Needs urine sample for UA and tox. screen.\\n\\nID- afebrile. on Flagyl, Levo for ?PCP. [**Name10 (NameIs) **] cultures X2 sent. also r/o TB. WBC's elevated at 20.1. pt reports hx of leukemia, denies ever recieving tx. Also denies recently traveling to outside countries or living with those that had.\\n\\nAnxiety/[**Name (NI) **] Pt very anxious and fidgety at times. tearful when discussing the days events. Multiple family members present, tense and arguing with pt at times. Family reminded of the need for pt to rest. encouraged to limit time with pt this [**Last Name (LF) **], [**First Name3 (LF) 9**] pt request. Family unaware of pt's HIV+ status, pt requests family not be made aware. RN discussed with pt the need for family to be made aware, especially her husband, but pt refuses.\\n\\n\\n\\n\""
      ]
     },
     "execution_count": 28,
     "metadata": {},
     "output_type": "execute_result"
    }
   ],
   "source": [
    "texts[0]"
   ]
  },
  {
   "cell_type": "code",
   "execution_count": 29,
   "metadata": {},
   "outputs": [
    {
     "name": "stderr",
     "output_type": "stream",
     "text": [
      "100%|██████████| 1/1 [00:32<00:00, 32.88s/it]\n",
      "100%|██████████| 1/1 [00:33<00:00, 33.03s/it]\n"
     ]
    }
   ],
   "source": [
    "all_instances = []\n",
    "# texts=['patient had high bp', 'Patient is 76 years old']\n",
    "for text in texts:\n",
    "    test_example = [\n",
    "        [text], \n",
    "        [\"\"]\n",
    "    ]\n",
    "\n",
    "    test_dataset = NewsDataset(\n",
    "        data_list=test_example,\n",
    "        tokenizer=tokenizer,\n",
    "        max_length=config.max_position_embeddings, \n",
    "    )\n",
    "\n",
    "    test_dataloader = DataLoader(\n",
    "        test_dataset,\n",
    "        batch_size=batch_size,\n",
    "        shuffle=False,\n",
    "    )\n",
    "\n",
    "    integrated_grad = IntegratedGradient(\n",
    "        distilbert, \n",
    "        criterion, \n",
    "        tokenizer, \n",
    "        show_progress=True,\n",
    "        encoder=\"bert\"\n",
    "    )\n",
    "    instances = integrated_grad.saliency_interpret(test_dataloader)\n",
    "    all_instances.append(instances)"
   ]
  },
  {
   "cell_type": "code",
   "execution_count": 30,
   "metadata": {},
   "outputs": [],
   "source": [
    "integrated_grad = IntegratedGradient(\n",
    "        distilbert, \n",
    "        criterion, \n",
    "        tokenizer, \n",
    "        show_progress=True,\n",
    "        encoder=\"bert\"\n",
    "    )"
   ]
  },
  {
   "cell_type": "code",
   "execution_count": 31,
   "metadata": {},
   "outputs": [
    {
     "data": {
      "text/html": [
       "<span class=\"barcode\"; style=\"color: black; background-color: #f4f9fe\"> [CLS]</span><span class=\"barcode\"; style=\"color: black; background-color: #c6dbef\"> neon</span><span class=\"barcode\"; style=\"color: black; background-color: #f4f9fe\">ato</span><span class=\"barcode\"; style=\"color: black; background-color: #f0f6fd\">logy</span><span class=\"barcode\"; style=\"color: black; background-color: #f3f8fe\"> attending</span><span class=\"barcode\"; style=\"color: black; background-color: #eff6fc\"> tri</span><span class=\"barcode\"; style=\"color: black; background-color: #f5f9fe\">age</span><span class=\"barcode\"; style=\"color: black; background-color: #d9e7f5\"> note</span><span class=\"barcode\"; style=\"color: black; background-color: #f6faff\"> asked</span><span class=\"barcode\"; style=\"color: black; background-color: #e1edf8\"> by</span><span class=\"barcode\"; style=\"color: black; background-color: #e7f0fa\"> dr</span><span class=\"barcode\"; style=\"color: black; background-color: #f4f9fe\"> .</span><span class=\"barcode\"; style=\"color: black; background-color: #f2f8fd\"> [</span><span class=\"barcode\"; style=\"color: black; background-color: #d4e4f4\"> *</span><span class=\"barcode\"; style=\"color: black; background-color: #ecf4fb\"> *</span><span class=\"barcode\"; style=\"color: black; background-color: #f5f9fe\"> name</span><span class=\"barcode\"; style=\"color: black; background-color: #d8e7f5\"> (</span><span class=\"barcode\"; style=\"color: black; background-color: #aacfe5\"> ni</span><span class=\"barcode\"; style=\"color: black; background-color: #f7fbff\"> )</span><span class=\"barcode\"; style=\"color: black; background-color: #f7fbff\"> 105</span><span class=\"barcode\"; style=\"color: black; background-color: #d5e5f4\">2</span><span class=\"barcode\"; style=\"color: black; background-color: #f5f9fe\"> *</span><span class=\"barcode\"; style=\"color: black; background-color: #f3f8fe\"> *</span><span class=\"barcode\"; style=\"color: black; background-color: #f6faff\"> ]</span><span class=\"barcode\"; style=\"color: black; background-color: #e3eef8\"> to</span><span class=\"barcode\"; style=\"color: black; background-color: #4a98c9\"> evaluate</span><span class=\"barcode\"; style=\"color: black; background-color: #f5fafe\"> infant</span><span class=\"barcode\"; style=\"color: black; background-color: #cfe1f2\"> for</span><span class=\"barcode\"; style=\"color: black; background-color: #f3f8fe\"> sep</span><span class=\"barcode\"; style=\"color: black; background-color: #eef5fc\">sis</span><span class=\"barcode\"; style=\"color: black; background-color: #d0e2f2\"> risk</span><span class=\"barcode\"; style=\"color: black; background-color: #d2e3f3\"> .</span><span class=\"barcode\"; style=\"color: black; background-color: #d5e5f4\"> infant</span><span class=\"barcode\"; style=\"color: black; background-color: #f0f6fd\"> is</span><span class=\"barcode\"; style=\"color: black; background-color: #dceaf6\"> a</span><span class=\"barcode\"; style=\"color: black; background-color: #eff6fc\"> ft</span><span class=\"barcode\"; style=\"color: black; background-color: #eff6fc\"> ,</span><span class=\"barcode\"; style=\"color: black; background-color: #f5fafe\"> 36</span><span class=\"barcode\"; style=\"color: black; background-color: #f0f6fd\">65</span><span class=\"barcode\"; style=\"color: black; background-color: #f2f8fd\"> gm</span><span class=\"barcode\"; style=\"color: black; background-color: #d1e2f3\"> male</span><span class=\"barcode\"; style=\"color: black; background-color: #f6faff\"> newborn</span><span class=\"barcode\"; style=\"color: black; background-color: #e3eef9\"> who</span><span class=\"barcode\"; style=\"color: black; background-color: #f7fbff\"> was</span><span class=\"barcode\"; style=\"color: black; background-color: #6caed6\"> born</span><span class=\"barcode\"; style=\"color: black; background-color: #f5fafe\"> to</span><span class=\"barcode\"; style=\"color: black; background-color: #08306b\"> a</span><span class=\"barcode\"; style=\"color: black; background-color: #e7f0fa\"> 31</span><span class=\"barcode\"; style=\"color: black; background-color: #e3eef9\"> y</span><span class=\"barcode\"; style=\"color: black; background-color: #d6e6f4\"> .</span><span class=\"barcode\"; style=\"color: black; background-color: #cde0f1\"> o</span><span class=\"barcode\"; style=\"color: black; background-color: #f0f6fd\"> .</span><span class=\"barcode\"; style=\"color: black; background-color: #f5fafe\"> g</span><span class=\"barcode\"; style=\"color: black; background-color: #eaf3fb\">1</span><span class=\"barcode\"; style=\"color: black; background-color: #f2f8fd\">p</span><span class=\"barcode\"; style=\"color: black; background-color: #f5fafe\">0</span><span class=\"barcode\"; style=\"color: black; background-color: #f2f7fd\"> now</span><span class=\"barcode\"; style=\"color: black; background-color: #eff6fc\"> 1</span><span class=\"barcode\"; style=\"color: black; background-color: #ebf3fb\"> mother</span><span class=\"barcode\"; style=\"color: black; background-color: #f1f7fd\"> .</span><span class=\"barcode\"; style=\"color: black; background-color: #f4f9fe\"> pre</span><span class=\"barcode\"; style=\"color: black; background-color: #e3eef9\">nat</span><span class=\"barcode\"; style=\"color: black; background-color: #eaf3fb\">al</span><span class=\"barcode\"; style=\"color: black; background-color: #ccdff1\"> screens</span><span class=\"barcode\"; style=\"color: black; background-color: #f7fbff\"> :</span><span class=\"barcode\"; style=\"color: black; background-color: #f2f7fd\"> o</span><span class=\"barcode\"; style=\"color: black; background-color: #f7fbff\"> +</span><span class=\"barcode\"; style=\"color: black; background-color: #f4f9fe\"> ,</span><span class=\"barcode\"; style=\"color: black; background-color: #f0f6fd\"> antibody</span><span class=\"barcode\"; style=\"color: black; background-color: #f4f9fe\"> negative</span><span class=\"barcode\"; style=\"color: black; background-color: #f3f8fe\"> ,</span><span class=\"barcode\"; style=\"color: black; background-color: #f6faff\"> h</span><span class=\"barcode\"; style=\"color: black; background-color: #f0f6fd\">bs</span><span class=\"barcode\"; style=\"color: black; background-color: #f5fafe\">ag</span><span class=\"barcode\"; style=\"color: black; background-color: #f5f9fe\"> negative</span><span class=\"barcode\"; style=\"color: black; background-color: #eff6fc\"> ,</span><span class=\"barcode\"; style=\"color: black; background-color: #f0f6fd\"> r</span><span class=\"barcode\"; style=\"color: black; background-color: #f3f8fe\">pr</span><span class=\"barcode\"; style=\"color: black; background-color: #eaf3fb\"> nr</span><span class=\"barcode\"; style=\"color: black; background-color: #f7fbff\"> ,</span><span class=\"barcode\"; style=\"color: black; background-color: #f5fafe\"> ri</span><span class=\"barcode\"; style=\"color: black; background-color: #f5fafe\"> ,</span><span class=\"barcode\"; style=\"color: black; background-color: #f7fbff\"> gb</span><span class=\"barcode\"; style=\"color: black; background-color: #f5fafe\">s</span><span class=\"barcode\"; style=\"color: black; background-color: #f6faff\"> negative</span><span class=\"barcode\"; style=\"color: black; background-color: #f3f8fe\"> .</span><span class=\"barcode\"; style=\"color: black; background-color: #edf4fc\"> pregnancy</span><span class=\"barcode\"; style=\"color: black; background-color: #f3f8fe\"> complicated</span><span class=\"barcode\"; style=\"color: black; background-color: #f1f7fd\"> by</span><span class=\"barcode\"; style=\"color: black; background-color: #0e59a2\"> place</span><span class=\"barcode\"; style=\"color: black; background-color: #f2f7fd\">nta</span><span class=\"barcode\"; style=\"color: black; background-color: #f5fafe\"> pre</span><span class=\"barcode\"; style=\"color: black; background-color: #ecf4fb\">via</span><span class=\"barcode\"; style=\"color: black; background-color: #f2f7fd\"> which</span><span class=\"barcode\"; style=\"color: black; background-color: #f6faff\"> ultimately</span><span class=\"barcode\"; style=\"color: black; background-color: #f5fafe\"> resolved</span><span class=\"barcode\"; style=\"color: black; background-color: #f5fafe\"> and</span><span class=\"barcode\"; style=\"color: black; background-color: #f3f8fe\"> ge</span><span class=\"barcode\"; style=\"color: black; background-color: #f7fbff\">station</span><span class=\"barcode\"; style=\"color: black; background-color: #f7fbff\">al</span><span class=\"barcode\"; style=\"color: black; background-color: #f1f7fd\"> diabetes</span><span class=\"barcode\"; style=\"color: black; background-color: #f1f7fd\"> .</span><span class=\"barcode\"; style=\"color: black; background-color: #ebf3fb\"> maternal</span><span class=\"barcode\"; style=\"color: black; background-color: #f3f8fe\"> medications</span><span class=\"barcode\"; style=\"color: black; background-color: #f3f8fe\"> included</span><span class=\"barcode\"; style=\"color: black; background-color: #f5fafe\"> insulin</span><span class=\"barcode\"; style=\"color: black; background-color: #f2f8fd\"> and</span><span class=\"barcode\"; style=\"color: black; background-color: #f6faff\"> p</span><span class=\"barcode\"; style=\"color: black; background-color: #f4f9fe\">n</span><span class=\"barcode\"; style=\"color: black; background-color: #eaf2fb\">v</span><span class=\"barcode\"; style=\"color: black; background-color: #ecf4fb\"> .</span><span class=\"barcode\"; style=\"color: black; background-color: #f6faff\"> remainder</span><span class=\"barcode\"; style=\"color: black; background-color: #f2f8fd\"> of</span><span class=\"barcode\"; style=\"color: black; background-color: #f5fafe\"> f</span><span class=\"barcode\"; style=\"color: black; background-color: #f5f9fe\">h</span><span class=\"barcode\"; style=\"color: black; background-color: #eff6fc\"> non</span><span class=\"barcode\"; style=\"color: black; background-color: #c1d9ed\"> -</span><span class=\"barcode\"; style=\"color: black; background-color: #bfd8ed\"> contributor</span><span class=\"barcode\"; style=\"color: black; background-color: #f7fbff\">y</span><span class=\"barcode\"; style=\"color: black; background-color: #f4f9fe\"> .</span><span class=\"barcode\"; style=\"color: black; background-color: #f3f8fe\"> mother</span><span class=\"barcode\"; style=\"color: black; background-color: #f5fafe\"> presented</span><span class=\"barcode\"; style=\"color: black; background-color: #c8dcf0\"> in</span><span class=\"barcode\"; style=\"color: black; background-color: #dceaf6\"> spontaneous</span><span class=\"barcode\"; style=\"color: black; background-color: #f2f7fd\"> labor</span><span class=\"barcode\"; style=\"color: black; background-color: #f6faff\"> .</span><span class=\"barcode\"; style=\"color: black; background-color: #eff6fc\"> maternal</span><span class=\"barcode\"; style=\"color: black; background-color: #e7f0fa\"> t</span><span class=\"barcode\"; style=\"color: black; background-color: #f5fafe\">max</span><span class=\"barcode\"; style=\"color: black; background-color: #eef5fc\"> 102</span><span class=\"barcode\"; style=\"color: black; background-color: #f3f8fe\"> .</span><span class=\"barcode\"; style=\"color: black; background-color: #f4f9fe\"> sr</span><span class=\"barcode\"; style=\"color: black; background-color: #f6faff\">om</span><span class=\"barcode\"; style=\"color: black; background-color: #caddf0\"> .</span><span class=\"barcode\"; style=\"color: black; background-color: #e9f2fa\"> duration</span><span class=\"barcode\"; style=\"color: black; background-color: #e3eef8\"> just</span><span class=\"barcode\"; style=\"color: black; background-color: #ebf3fb\"> shy</span><span class=\"barcode\"; style=\"color: black; background-color: #f5f9fe\"> of</span><span class=\"barcode\"; style=\"color: black; background-color: #eef5fc\"> 24</span><span class=\"barcode\"; style=\"color: black; background-color: #f7fbff\"> hr</span><span class=\"barcode\"; style=\"color: black; background-color: #f5fafe\">s</span><span class=\"barcode\"; style=\"color: black; background-color: #ecf4fb\"> .</span><span class=\"barcode\"; style=\"color: black; background-color: #eaf2fb\"> clear</span><span class=\"barcode\"; style=\"color: black; background-color: #f6faff\"> fluid</span><span class=\"barcode\"; style=\"color: black; background-color: #f0f6fd\"> .</span><span class=\"barcode\"; style=\"color: black; background-color: #f6faff\"> intra</span><span class=\"barcode\"; style=\"color: black; background-color: #eaf3fb\">par</span><span class=\"barcode\"; style=\"color: black; background-color: #e8f1fa\">tum</span><span class=\"barcode\"; style=\"color: black; background-color: #f0f6fd\"> ab</span><span class=\"barcode\"; style=\"color: black; background-color: #edf4fc\">x</span><span class=\"barcode\"; style=\"color: black; background-color: #eef5fc\"> for</span><span class=\"barcode\"; style=\"color: black; background-color: #f5fafe\"> ~</span><span class=\"barcode\"; style=\"color: black; background-color: #b3d3e8\"> 2</span><span class=\"barcode\"; style=\"color: black; background-color: #f1f7fd\"> hours</span><span class=\"barcode\"; style=\"color: black; background-color: #ecf4fb\"> pt</span><span class=\"barcode\"; style=\"color: black; background-color: #e8f1fa\">d</span><span class=\"barcode\"; style=\"color: black; background-color: #e3eef9\"> .</span><span class=\"barcode\"; style=\"color: black; background-color: #e4eff9\"> maternal</span><span class=\"barcode\"; style=\"color: black; background-color: #f5f9fe\"> an</span><span class=\"barcode\"; style=\"color: black; background-color: #f2f7fd\">esthesia</span><span class=\"barcode\"; style=\"color: black; background-color: #d9e8f5\"> by</span><span class=\"barcode\"; style=\"color: black; background-color: #f4f9fe\"> ep</span><span class=\"barcode\"; style=\"color: black; background-color: #f5fafe\">id</span><span class=\"barcode\"; style=\"color: black; background-color: #eef5fc\">ural</span><span class=\"barcode\"; style=\"color: black; background-color: #f0f6fd\"> and</span><span class=\"barcode\"; style=\"color: black; background-color: #ecf4fb\"> spinal</span><span class=\"barcode\"; style=\"color: black; background-color: #f1f7fd\"> .</span><span class=\"barcode\"; style=\"color: black; background-color: #f2f8fd\"> delivery</span><span class=\"barcode\"; style=\"color: black; background-color: #81badb\"> by</span><span class=\"barcode\"; style=\"color: black; background-color: #e6f0f9\"> cesare</span><span class=\"barcode\"; style=\"color: black; background-color: #f6faff\">an</span><span class=\"barcode\"; style=\"color: black; background-color: #d5e5f4\"> section</span><span class=\"barcode\"; style=\"color: black; background-color: #f0f6fd\"> due</span><span class=\"barcode\"; style=\"color: black; background-color: #f5fafe\"> to</span><span class=\"barcode\"; style=\"color: black; background-color: #f4f9fe\"> \"</span><span class=\"barcode\"; style=\"color: black; background-color: #f1f7fd\"> arrest</span><span class=\"barcode\"; style=\"color: black; background-color: #f2f7fd\"> of</span><span class=\"barcode\"; style=\"color: black; background-color: #ecf4fb\"> dil</span><span class=\"barcode\"; style=\"color: black; background-color: #f6faff\">ata</span><span class=\"barcode\"; style=\"color: black; background-color: #f4f9fe\">tion</span><span class=\"barcode\"; style=\"color: black; background-color: #f3f8fe\"> \"</span><span class=\"barcode\"; style=\"color: black; background-color: #e5eff9\"> .</span><span class=\"barcode\"; style=\"color: black; background-color: #f5fafe\"> ap</span><span class=\"barcode\"; style=\"color: black; background-color: #f4f9fe\">gar</span><span class=\"barcode\"; style=\"color: black; background-color: #f7fbff\">s</span><span class=\"barcode\"; style=\"color: black; background-color: #f3f8fe\"> 9</span><span class=\"barcode\"; style=\"color: black; background-color: #f0f6fd\"> ,</span><span class=\"barcode\"; style=\"color: black; background-color: #f5f9fe\"> 9</span><span class=\"barcode\"; style=\"color: black; background-color: #f3f8fe\"> .</span><span class=\"barcode\"; style=\"color: black; background-color: #f2f8fd\"> remainder</span><span class=\"barcode\"; style=\"color: black; background-color: #d1e2f3\"> of</span><span class=\"barcode\"; style=\"color: black; background-color: #f1f7fd\"> ro</span><span class=\"barcode\"; style=\"color: black; background-color: #eef5fc\">s</span><span class=\"barcode\"; style=\"color: black; background-color: #f4f9fe\"> non</span><span class=\"barcode\"; style=\"color: black; background-color: #f5fafe\"> -</span><span class=\"barcode\"; style=\"color: black; background-color: #f5f9fe\"> contributor</span><span class=\"barcode\"; style=\"color: black; background-color: #f2f7fd\">y</span><span class=\"barcode\"; style=\"color: black; background-color: #f6faff\"> .</span><span class=\"barcode\"; style=\"color: black; background-color: #f5fafe\"> physical</span><span class=\"barcode\"; style=\"color: black; background-color: #b2d2e8\"> exam</span><span class=\"barcode\"; style=\"color: black; background-color: #f4f9fe\"> :</span><span class=\"barcode\"; style=\"color: black; background-color: #f7fbff\"> vs</span><span class=\"barcode\"; style=\"color: black; background-color: #f2f7fd\"> per</span><span class=\"barcode\"; style=\"color: black; background-color: #f0f6fd\"> care</span><span class=\"barcode\"; style=\"color: black; background-color: #f6faff\">view</span><span class=\"barcode\"; style=\"color: black; background-color: #f7fbff\"> initial</span><span class=\"barcode\"; style=\"color: black; background-color: #f5fafe\"> d</span><span class=\"barcode\"; style=\"color: black; background-color: #f4f9fe\"> /</span><span class=\"barcode\"; style=\"color: black; background-color: #f5fafe\"> s</span><span class=\"barcode\"; style=\"color: black; background-color: #f5fafe\"> 68</span><span class=\"barcode\"; style=\"color: black; background-color: #f0f6fd\"> .</span><span class=\"barcode\"; style=\"color: black; background-color: #f4f9fe\"> general</span><span class=\"barcode\"; style=\"color: black; background-color: #f5fafe\"> :</span><span class=\"barcode\"; style=\"color: black; background-color: #f3f8fe\"> pink</span><span class=\"barcode\"; style=\"color: black; background-color: #f4f9fe\"> ,</span><span class=\"barcode\"; style=\"color: black; background-color: #f3f8fe\"> non</span><span class=\"barcode\"; style=\"color: black; background-color: #f5f9fe\"> -</span><span class=\"barcode\"; style=\"color: black; background-color: #f0f6fd\"> d</span><span class=\"barcode\"; style=\"color: black; background-color: #e8f1fa\">ys</span><span class=\"barcode\"; style=\"color: black; background-color: #eaf2fb\">morphic</span><span class=\"barcode\"; style=\"color: black; background-color: #f5fafe\"> ,</span><span class=\"barcode\"; style=\"color: black; background-color: #f4f9fe\"> resting</span><span class=\"barcode\"; style=\"color: black; background-color: #f5f9fe\"> on</span><span class=\"barcode\"; style=\"color: black; background-color: #d4e4f4\"> radiant</span><span class=\"barcode\"; style=\"color: black; background-color: #f6faff\"> warmer</span><span class=\"barcode\"; style=\"color: black; background-color: #bed8ec\"> ,</span><span class=\"barcode\"; style=\"color: black; background-color: #dae8f6\"> no</span><span class=\"barcode\"; style=\"color: black; background-color: #f6faff\"> distress</span><span class=\"barcode\"; style=\"color: black; background-color: #eaf3fb\"> .</span><span class=\"barcode\"; style=\"color: black; background-color: #f4f9fe\"> af</span><span class=\"barcode\"; style=\"color: black; background-color: #f6faff\">sf</span><span class=\"barcode\"; style=\"color: black; background-color: #f5f9fe\"> .</span><span class=\"barcode\"; style=\"color: black; background-color: #a1cbe2\"> +</span><span class=\"barcode\"; style=\"color: black; background-color: #f2f8fd\"> mold</span><span class=\"barcode\"; style=\"color: black; background-color: #f5fafe\">ing</span><span class=\"barcode\"; style=\"color: black; background-color: #d2e3f3\"> .</span><span class=\"barcode\"; style=\"color: black; background-color: #f5fafe\"> pal</span><span class=\"barcode\"; style=\"color: black; background-color: #f7fbff\">ate</span><span class=\"barcode\"; style=\"color: black; background-color: #f7fbff\"> intact</span><span class=\"barcode\"; style=\"color: black; background-color: #f2f7fd\"> .</span><span class=\"barcode\"; style=\"color: black; background-color: #d9e7f5\"> neck</span><span class=\"barcode\"; style=\"color: black; background-color: #f2f8fd\"> su</span><span class=\"barcode\"; style=\"color: black; background-color: #f5f9fe\">pp</span><span class=\"barcode\"; style=\"color: black; background-color: #eff6fc\">le</span><span class=\"barcode\"; style=\"color: black; background-color: #ecf4fb\"> .</span><span class=\"barcode\"; style=\"color: black; background-color: #f2f7fd\"> cl</span><span class=\"barcode\"; style=\"color: black; background-color: #ebf3fb\">avi</span><span class=\"barcode\"; style=\"color: black; background-color: #f5fafe\">cles</span><span class=\"barcode\"; style=\"color: black; background-color: #f6faff\"> intact</span><span class=\"barcode\"; style=\"color: black; background-color: #f2f8fd\"> .</span><span class=\"barcode\"; style=\"color: black; background-color: #f7fbff\"> lungs</span><span class=\"barcode\"; style=\"color: black; background-color: #f0f6fd\"> ct</span><span class=\"barcode\"; style=\"color: black; background-color: #eff6fc\">a</span><span class=\"barcode\"; style=\"color: black; background-color: #d0e1f2\"> ,</span><span class=\"barcode\"; style=\"color: black; background-color: #f7fbff\"> =</span><span class=\"barcode\"; style=\"color: black; background-color: #f7fbff\"> .</span><span class=\"barcode\"; style=\"color: black; background-color: #f5f9fe\"> cv</span><span class=\"barcode\"; style=\"color: black; background-color: #f2f7fd\"> rr</span><span class=\"barcode\"; style=\"color: black; background-color: #f3f8fe\">r</span><span class=\"barcode\"; style=\"color: black; background-color: #dce9f6\"> ,</span><span class=\"barcode\"; style=\"color: black; background-color: #f5fafe\"> soft</span><span class=\"barcode\"; style=\"color: black; background-color: #f4f9fe\"> sy</span><span class=\"barcode\"; style=\"color: black; background-color: #f2f7fd\">sto</span><span class=\"barcode\"; style=\"color: black; background-color: #f6faff\">lic</span><span class=\"barcode\"; style=\"color: black; background-color: #f5fafe\"> murmur</span><span class=\"barcode\"; style=\"color: black; background-color: #f2f7fd\"> .</span><span class=\"barcode\"; style=\"color: black; background-color: #f5f9fe\"> 2</span><span class=\"barcode\"; style=\"color: black; background-color: #f5f9fe\"> +</span><span class=\"barcode\"; style=\"color: black; background-color: #f4f9fe\"> f</span><span class=\"barcode\"; style=\"color: black; background-color: #eef5fc\">p</span><span class=\"barcode\"; style=\"color: black; background-color: #f5fafe\"> .</span><span class=\"barcode\"; style=\"color: black; background-color: #f3f8fe\"> abd</span><span class=\"barcode\"; style=\"color: black; background-color: #f6faff\"> soft</span><span class=\"barcode\"; style=\"color: black; background-color: #f7fbff\"> ,</span><span class=\"barcode\"; style=\"color: black; background-color: #084b93\"> +</span><span class=\"barcode\"; style=\"color: black; background-color: #f7fbff\"> bs</span><span class=\"barcode\"; style=\"color: black; background-color: #f7fbff\"> .</span><span class=\"barcode\"; style=\"color: black; background-color: #eaf2fb\"> no</span><span class=\"barcode\"; style=\"color: black; background-color: #f7fbff\"> hs</span><span class=\"barcode\"; style=\"color: black; background-color: #f4f9fe\">m</span><span class=\"barcode\"; style=\"color: black; background-color: #f7fbff\"> .</span><span class=\"barcode\"; style=\"color: black; background-color: #f7fbff\"> gu</span><span class=\"barcode\"; style=\"color: black; background-color: #f7fbff\"> nl</span><span class=\"barcode\"; style=\"color: black; background-color: #f1f7fd\"> male</span><span class=\"barcode\"; style=\"color: black; background-color: #3d8dc4\"> .</span><span class=\"barcode\"; style=\"color: black; background-color: #f6faff\"> test</span><span class=\"barcode\"; style=\"color: black; background-color: #f7fbff\">es</span><span class=\"barcode\"; style=\"color: black; background-color: #deebf7\"> down</span><span class=\"barcode\"; style=\"color: black; background-color: #eff6fc\"> bilateral</span><span class=\"barcode\"; style=\"color: black; background-color: #f7fbff\">ly</span><span class=\"barcode\"; style=\"color: black; background-color: #f0f6fd\"> .</span><span class=\"barcode\"; style=\"color: black; background-color: #f4f9fe\"> patent</span><span class=\"barcode\"; style=\"color: black; background-color: #f2f7fd\"> an</span><span class=\"barcode\"; style=\"color: black; background-color: #eef5fc\">us</span><span class=\"barcode\"; style=\"color: black; background-color: #f6faff\"> .</span><span class=\"barcode\"; style=\"color: black; background-color: #f5fafe\"> no</span><span class=\"barcode\"; style=\"color: black; background-color: #f3f8fe\"> sac</span><span class=\"barcode\"; style=\"color: black; background-color: #cbdef1\">ral</span><span class=\"barcode\"; style=\"color: black; background-color: #d7e6f5\"> an</span><span class=\"barcode\"; style=\"color: black; background-color: #f5fafe\">oma</span><span class=\"barcode\"; style=\"color: black; background-color: #eaf2fb\">lies</span><span class=\"barcode\"; style=\"color: black; background-color: #3f8fc5\"> .</span><span class=\"barcode\"; style=\"color: black; background-color: #e5eff9\"> hips</span><span class=\"barcode\"; style=\"color: black; background-color: #f5fafe\"> stable</span><span class=\"barcode\"; style=\"color: black; background-color: #f2f8fd\"> .</span><span class=\"barcode\"; style=\"color: black; background-color: #f4f9fe\"> ex</span><span class=\"barcode\"; style=\"color: black; background-color: #f6faff\">t</span><span class=\"barcode\"; style=\"color: black; background-color: #f1f7fd\"> warm</span><span class=\"barcode\"; style=\"color: black; background-color: #f7fbff\"> ,</span><span class=\"barcode\"; style=\"color: black; background-color: #f6faff\"> pink</span><span class=\"barcode\"; style=\"color: black; background-color: #f5f9fe\"> and</span><span class=\"barcode\"; style=\"color: black; background-color: #f7fbff\"> well</span><span class=\"barcode\"; style=\"color: black; background-color: #f2f7fd\"> -</span><span class=\"barcode\"; style=\"color: black; background-color: #f7fbff\"> per</span><span class=\"barcode\"; style=\"color: black; background-color: #dbe9f6\">fus</span><span class=\"barcode\"; style=\"color: black; background-color: #f7fbff\">ed</span><span class=\"barcode\"; style=\"color: black; background-color: #f4f9fe\"> .</span><span class=\"barcode\"; style=\"color: black; background-color: #ecf4fb\"> impression</span><span class=\"barcode\"; style=\"color: black; background-color: #e7f1fa\"> /</span><span class=\"barcode\"; style=\"color: black; background-color: #e7f0fa\"> plan</span><span class=\"barcode\"; style=\"color: black; background-color: #f6faff\"> :</span><span class=\"barcode\"; style=\"color: black; background-color: #f6faff\"> well</span><span class=\"barcode\"; style=\"color: black; background-color: #f3f8fe\"> -</span><span class=\"barcode\"; style=\"color: black; background-color: #dfebf7\"> appearing</span><span class=\"barcode\"; style=\"color: black; background-color: #f6faff\"> ft</span><span class=\"barcode\"; style=\"color: black; background-color: #f5fafe\"> male</span><span class=\"barcode\"; style=\"color: black; background-color: #f4f9fe\"> newborn</span><span class=\"barcode\"; style=\"color: black; background-color: #f0f6fd\"> born</span><span class=\"barcode\"; style=\"color: black; background-color: #cbdef1\"> to</span><span class=\"barcode\"; style=\"color: black; background-color: #f6faff\"> a</span><span class=\"barcode\"; style=\"color: black; background-color: #125ea6\"> mother</span><span class=\"barcode\"; style=\"color: black; background-color: #f4f9fe\"> with</span><span class=\"barcode\"; style=\"color: black; background-color: #f0f6fd\"> a</span><span class=\"barcode\"; style=\"color: black; background-color: #f2f8fd\"> couple</span><span class=\"barcode\"; style=\"color: black; background-color: #f5fafe\"> of</span><span class=\"barcode\"; style=\"color: black; background-color: #e7f1fa\"> sep</span><span class=\"barcode\"; style=\"color: black; background-color: #f7fbff\">sis</span><span class=\"barcode\"; style=\"color: black; background-color: #f4f9fe\"> risk</span><span class=\"barcode\"; style=\"color: black; background-color: #f7fbff\"> factors</span><span class=\"barcode\"; style=\"color: black; background-color: #f5fafe\"> including</span><span class=\"barcode\"; style=\"color: black; background-color: #f4f9fe\"> maternal</span><span class=\"barcode\"; style=\"color: black; background-color: #f5fafe\"> te</span><span class=\"barcode\"; style=\"color: black; background-color: #f7fbff\">mp</span><span class=\"barcode\"; style=\"color: black; background-color: #e8f1fa\"> ></span><span class=\"barcode\"; style=\"color: black; background-color: #f5f9fe\"> 100</span><span class=\"barcode\"; style=\"color: black; background-color: #deebf7\"> .</span><span class=\"barcode\"; style=\"color: black; background-color: #f3f8fe\"> 4</span><span class=\"barcode\"; style=\"color: black; background-color: #e9f2fa\"> and</span><span class=\"barcode\"; style=\"color: black; background-color: #63a8d3\"> rom</span><span class=\"barcode\"; style=\"color: black; background-color: #f5f9fe\"> for</span><span class=\"barcode\"; style=\"color: black; background-color: #083370\"> 24</span><span class=\"barcode\"; style=\"color: black; background-color: #f4f9fe\"> hr</span><span class=\"barcode\"; style=\"color: black; background-color: #f6faff\">s</span><span class=\"barcode\"; style=\"color: black; background-color: #f7fbff\"> .</span><span class=\"barcode\"; style=\"color: black; background-color: #f6faff\"> will</span><span class=\"barcode\"; style=\"color: black; background-color: #f2f7fd\"> obtain</span><span class=\"barcode\"; style=\"color: black; background-color: #f1f7fd\"> cbc</span><span class=\"barcode\"; style=\"color: black; background-color: #f6faff\"> w</span><span class=\"barcode\"; style=\"color: black; background-color: #f5f9fe\"> di</span><span class=\"barcode\"; style=\"color: black; background-color: #f4f9fe\">ff</span><span class=\"barcode\"; style=\"color: black; background-color: #f0f6fd\"> and</span><span class=\"barcode\"; style=\"color: black; background-color: #f7fbff\"> b</span><span class=\"barcode\"; style=\"color: black; background-color: #ecf4fb\">ld</span><span class=\"barcode\"; style=\"color: black; background-color: #eef5fc\"> c</span><span class=\"barcode\"; style=\"color: black; background-color: #f5f9fe\">x</span><span class=\"barcode\"; style=\"color: black; background-color: #f7fbff\"> .</span><span class=\"barcode\"; style=\"color: black; background-color: #c8dcf0\"> given</span><span class=\"barcode\"; style=\"color: black; background-color: #eef5fc\"> height</span><span class=\"barcode\"; style=\"color: black; background-color: #f5fafe\"> of</span><span class=\"barcode\"; style=\"color: black; background-color: #f3f8fe\"> maternal</span><span class=\"barcode\"; style=\"color: black; background-color: #ebf3fb\"> te</span><span class=\"barcode\"; style=\"color: black; background-color: #f3f8fe\">mp</span><span class=\"barcode\"; style=\"color: black; background-color: #f5fafe\"> ,</span><span class=\"barcode\"; style=\"color: black; background-color: #f1f7fd\"> will</span><span class=\"barcode\"; style=\"color: black; background-color: #eaf3fb\"> begin</span><span class=\"barcode\"; style=\"color: black; background-color: #f4f9fe\"> broad</span><span class=\"barcode\"; style=\"color: black; background-color: #cde0f1\"> spectrum</span><span class=\"barcode\"; style=\"color: black; background-color: #f2f8fd\"> ab</span><span class=\"barcode\"; style=\"color: black; background-color: #ebf3fb\">x</span><span class=\"barcode\"; style=\"color: black; background-color: #f5fafe\"> with</span><span class=\"barcode\"; style=\"color: black; background-color: #f2f8fd\"> duration</span><span class=\"barcode\"; style=\"color: black; background-color: #f7fbff\"> pending</span><span class=\"barcode\"; style=\"color: black; background-color: #dce9f6\"> lab</span><span class=\"barcode\"; style=\"color: black; background-color: #eaf2fb\"> results</span><span class=\"barcode\"; style=\"color: black; background-color: #f3f8fe\"> and</span><span class=\"barcode\"; style=\"color: black; background-color: #f7fbff\"> clinical</span><span class=\"barcode\"; style=\"color: black; background-color: #f5f9fe\"> course</span><span class=\"barcode\"; style=\"color: black; background-color: #e2edf8\"> .</span><span class=\"barcode\"; style=\"color: black; background-color: #f7fbff\"> murmur</span><span class=\"barcode\"; style=\"color: black; background-color: #eff6fc\"> likely</span><span class=\"barcode\"; style=\"color: black; background-color: #e5eff9\"> transitional</span><span class=\"barcode\"; style=\"color: black; background-color: #f5f9fe\"> .</span><span class=\"barcode\"; style=\"color: black; background-color: #f5f9fe\"> follow</span><span class=\"barcode\"; style=\"color: black; background-color: #f3f8fe\"> clinical</span><span class=\"barcode\"; style=\"color: black; background-color: #d6e5f4\">ly</span><span class=\"barcode\"; style=\"color: black; background-color: #8fc2de\"> for</span><span class=\"barcode\"; style=\"color: black; background-color: #f7fbff\"> now</span><span class=\"barcode\"; style=\"color: black; background-color: #f7fbff\"> .</span><span class=\"barcode\"; style=\"color: black; background-color: #f5fafe\"> if</span><span class=\"barcode\"; style=\"color: black; background-color: #f6faff\"> still</span><span class=\"barcode\"; style=\"color: black; background-color: #f2f8fd\"> present</span><span class=\"barcode\"; style=\"color: black; background-color: #083471\"> at</span><span class=\"barcode\"; style=\"color: black; background-color: #f1f7fd\"> time</span><span class=\"barcode\"; style=\"color: black; background-color: #68acd5\"> of</span><span class=\"barcode\"; style=\"color: black; background-color: #f5fafe\"> discharge</span><span class=\"barcode\"; style=\"color: black; background-color: #8abfdd\"> consider</span><span class=\"barcode\"; style=\"color: black; background-color: #f2f8fd\"> cardiac</span><span class=\"barcode\"; style=\"color: black; background-color: #f0f6fd\"> evaluation</span><span class=\"barcode\"; style=\"color: black; background-color: #f7fbff\"> .</span><span class=\"barcode\"; style=\"color: black; background-color: #f2f7fd\"> continue</span><span class=\"barcode\"; style=\"color: black; background-color: #e3eef8\"> on</span><span class=\"barcode\"; style=\"color: black; background-color: #f7fbff\"> h</span><span class=\"barcode\"; style=\"color: black; background-color: #dce9f6\">yp</span><span class=\"barcode\"; style=\"color: black; background-color: #f1f7fd\">og</span><span class=\"barcode\"; style=\"color: black; background-color: #f7fbff\">ly</span><span class=\"barcode\"; style=\"color: black; background-color: #eff6fc\">ce</span><span class=\"barcode\"; style=\"color: black; background-color: #f6faff\">mia</span><span class=\"barcode\"; style=\"color: black; background-color: #f5f9fe\"> protocol</span><span class=\"barcode\"; style=\"color: black; background-color: #f7fbff\"> given</span><span class=\"barcode\"; style=\"color: black; background-color: #f7fbff\"> id</span><span class=\"barcode\"; style=\"color: black; background-color: #f3f8fe\">m</span><span class=\"barcode\"; style=\"color: black; background-color: #f5fafe\"> status</span><span class=\"barcode\"; style=\"color: black; background-color: #f5f9fe\"> .</span><span class=\"barcode\"; style=\"color: black; background-color: #d9e8f5\"> return</span><span class=\"barcode\"; style=\"color: black; background-color: #f7fbff\"> to</span><span class=\"barcode\"; style=\"color: black; background-color: #f6faff\"> n</span><span class=\"barcode\"; style=\"color: black; background-color: #9cc9e1\">bn</span><span class=\"barcode\"; style=\"color: black; background-color: #f5f9fe\"> for</span><span class=\"barcode\"; style=\"color: black; background-color: #ecf4fb\"> continued</span><span class=\"barcode\"; style=\"color: black; background-color: #f4f9fe\"> care</span><span class=\"barcode\"; style=\"color: black; background-color: #f5fafe\"> once</span><span class=\"barcode\"; style=\"color: black; background-color: #f6faff\"> evaluation</span><span class=\"barcode\"; style=\"color: black; background-color: #f2f8fd\"> complete</span><span class=\"barcode\"; style=\"color: black; background-color: #f5fafe\"> .</span><span class=\"barcode\"; style=\"color: black; background-color: #125ea6\"> [SEP]</span><span class=\"barcode\"; style=\"color: black; background-color: #f6faff\"> [SEP]</span><span class=\"barcode\"; style=\"color: black; background-color: 0\">    Label: 7 |</span><span class=\"barcode\"; style=\"color: black; background-color: #e2f4dd\">13.84%</span>|"
      ],
      "text/plain": [
       "<IPython.core.display.HTML object>"
      ]
     },
     "metadata": {},
     "output_type": "display_data"
    }
   ],
   "source": [
    "coloder_string = integrated_grad.colorize(instances[0])\n",
    "display(HTML(coloder_string))"
   ]
  },
  {
   "cell_type": "code",
   "execution_count": 56,
   "metadata": {},
   "outputs": [
    {
     "data": {
      "text/plain": [
       "'urineoutput_score'"
      ]
     },
     "execution_count": 56,
     "metadata": {},
     "output_type": "execute_result"
    }
   ],
   "source": [
    "classes[7]"
   ]
  },
  {
   "cell_type": "code",
   "execution_count": 28,
   "metadata": {},
   "outputs": [],
   "source": [
    "grads_df = pd.DataFrame([instance[0] for instance in all_instances])#.to_csv('all_test_grads.csv')"
   ]
  },
  {
   "cell_type": "code",
   "execution_count": 39,
   "metadata": {},
   "outputs": [],
   "source": [
    "def unravel(lst):\n",
    "    return [i for j in lst for i in j]"
   ]
  },
  {
   "cell_type": "code",
   "execution_count": 40,
   "metadata": {},
   "outputs": [],
   "source": [
    "import pandas as pd\n",
    "\n",
    "# grads_df = pd.read_csv('all_test_grads2.csv')\n",
    "grads_df = pd.read_csv('all_train_grads_oasis.csv')"
   ]
  },
  {
   "cell_type": "code",
   "execution_count": 41,
   "metadata": {},
   "outputs": [],
   "source": [
    "grads_df['tokens']=grads_df['tokens'].apply(eval)"
   ]
  },
  {
   "cell_type": "code",
   "execution_count": 42,
   "metadata": {},
   "outputs": [],
   "source": [
    "grads_df['grad'] = grads_df['grad'].apply(eval)"
   ]
  },
  {
   "cell_type": "code",
   "execution_count": 43,
   "metadata": {},
   "outputs": [
    {
     "data": {
      "text/html": [
       "<div>\n",
       "<style scoped>\n",
       "    .dataframe tbody tr th:only-of-type {\n",
       "        vertical-align: middle;\n",
       "    }\n",
       "\n",
       "    .dataframe tbody tr th {\n",
       "        vertical-align: top;\n",
       "    }\n",
       "\n",
       "    .dataframe thead th {\n",
       "        text-align: right;\n",
       "    }\n",
       "</style>\n",
       "<table border=\"1\" class=\"dataframe\">\n",
       "  <thead>\n",
       "    <tr style=\"text-align: right;\">\n",
       "      <th></th>\n",
       "      <th>Unnamed: 0</th>\n",
       "      <th>tokens</th>\n",
       "      <th>grad</th>\n",
       "      <th>label</th>\n",
       "      <th>prob</th>\n",
       "    </tr>\n",
       "  </thead>\n",
       "  <tbody>\n",
       "    <tr>\n",
       "      <th>184</th>\n",
       "      <td>184</td>\n",
       "      <td>[[CLS], [, *, *, 210, ##3, -, 8, -, 15, *, *, ...</td>\n",
       "      <td>[0.007302305195480585, 0.006230922415852547, 0...</td>\n",
       "      <td>9</td>\n",
       "      <td>0.197702</td>\n",
       "    </tr>\n",
       "    <tr>\n",
       "      <th>2432</th>\n",
       "      <td>2432</td>\n",
       "      <td>[[CLS], respiratory, care, pt, was, admitted, ...</td>\n",
       "      <td>[0.005153948906809092, 0.04265802353620529, 0....</td>\n",
       "      <td>9</td>\n",
       "      <td>0.195273</td>\n",
       "    </tr>\n",
       "    <tr>\n",
       "      <th>3597</th>\n",
       "      <td>3597</td>\n",
       "      <td>[[CLS], respiratory, care, :, patient, receive...</td>\n",
       "      <td>[0.002436938928440213, 0.03851640224456787, 0....</td>\n",
       "      <td>9</td>\n",
       "      <td>0.194829</td>\n",
       "    </tr>\n",
       "    <tr>\n",
       "      <th>2815</th>\n",
       "      <td>2815</td>\n",
       "      <td>[[CLS], cc, ##u, np, ##n, pt, arrived, from, c...</td>\n",
       "      <td>[0.001412274083122611, 0.012089354917407036, 0...</td>\n",
       "      <td>9</td>\n",
       "      <td>0.193610</td>\n",
       "    </tr>\n",
       "    <tr>\n",
       "      <th>1931</th>\n",
       "      <td>1931</td>\n",
       "      <td>[[CLS], res, ##p, care, note, ,, pt, remains, ...</td>\n",
       "      <td>[0.0014866458950564265, 0.028132222592830658, ...</td>\n",
       "      <td>9</td>\n",
       "      <td>0.192721</td>\n",
       "    </tr>\n",
       "    <tr>\n",
       "      <th>...</th>\n",
       "      <td>...</td>\n",
       "      <td>...</td>\n",
       "      <td>...</td>\n",
       "      <td>...</td>\n",
       "      <td>...</td>\n",
       "    </tr>\n",
       "    <tr>\n",
       "      <th>5136</th>\n",
       "      <td>5136</td>\n",
       "      <td>[[CLS], mr, [, *, *, known, last, ##name, 84, ...</td>\n",
       "      <td>[0.006509016267955303, 0.011597655713558197, 0...</td>\n",
       "      <td>6</td>\n",
       "      <td>0.123108</td>\n",
       "    </tr>\n",
       "    <tr>\n",
       "      <th>1605</th>\n",
       "      <td>1605</td>\n",
       "      <td>[[CLS], pm, ##ic, ##u, np, ##n, 7, ##p, -, 7, ...</td>\n",
       "      <td>[0.0006316918297670782, 0.01141029130667448, 0...</td>\n",
       "      <td>6</td>\n",
       "      <td>0.122764</td>\n",
       "    </tr>\n",
       "    <tr>\n",
       "      <th>1220</th>\n",
       "      <td>1220</td>\n",
       "      <td>[[CLS], [, *, *, 212, ##0, -, 10, -, 1, *, *, ...</td>\n",
       "      <td>[0.009816708974540234, 0.0065320380963385105, ...</td>\n",
       "      <td>1</td>\n",
       "      <td>0.122558</td>\n",
       "    </tr>\n",
       "    <tr>\n",
       "      <th>4540</th>\n",
       "      <td>4540</td>\n",
       "      <td>[[CLS], [, *, *, 217, ##7, -, 8, -, 14, *, *, ...</td>\n",
       "      <td>[0.0017538964748382568, 0.010574903339147568, ...</td>\n",
       "      <td>7</td>\n",
       "      <td>0.122526</td>\n",
       "    </tr>\n",
       "    <tr>\n",
       "      <th>2495</th>\n",
       "      <td>2495</td>\n",
       "      <td>[[CLS], [, *, *, 214, ##1, -, 8, -, 17, *, *, ...</td>\n",
       "      <td>[0.0037411823868751526, 0.0029193370137363672,...</td>\n",
       "      <td>7</td>\n",
       "      <td>0.122217</td>\n",
       "    </tr>\n",
       "  </tbody>\n",
       "</table>\n",
       "<p>6013 rows × 5 columns</p>\n",
       "</div>"
      ],
      "text/plain": [
       "      Unnamed: 0                                             tokens  \\\n",
       "184          184  [[CLS], [, *, *, 210, ##3, -, 8, -, 15, *, *, ...   \n",
       "2432        2432  [[CLS], respiratory, care, pt, was, admitted, ...   \n",
       "3597        3597  [[CLS], respiratory, care, :, patient, receive...   \n",
       "2815        2815  [[CLS], cc, ##u, np, ##n, pt, arrived, from, c...   \n",
       "1931        1931  [[CLS], res, ##p, care, note, ,, pt, remains, ...   \n",
       "...          ...                                                ...   \n",
       "5136        5136  [[CLS], mr, [, *, *, known, last, ##name, 84, ...   \n",
       "1605        1605  [[CLS], pm, ##ic, ##u, np, ##n, 7, ##p, -, 7, ...   \n",
       "1220        1220  [[CLS], [, *, *, 212, ##0, -, 10, -, 1, *, *, ...   \n",
       "4540        4540  [[CLS], [, *, *, 217, ##7, -, 8, -, 14, *, *, ...   \n",
       "2495        2495  [[CLS], [, *, *, 214, ##1, -, 8, -, 17, *, *, ...   \n",
       "\n",
       "                                                   grad  label      prob  \n",
       "184   [0.007302305195480585, 0.006230922415852547, 0...      9  0.197702  \n",
       "2432  [0.005153948906809092, 0.04265802353620529, 0....      9  0.195273  \n",
       "3597  [0.002436938928440213, 0.03851640224456787, 0....      9  0.194829  \n",
       "2815  [0.001412274083122611, 0.012089354917407036, 0...      9  0.193610  \n",
       "1931  [0.0014866458950564265, 0.028132222592830658, ...      9  0.192721  \n",
       "...                                                 ...    ...       ...  \n",
       "5136  [0.006509016267955303, 0.011597655713558197, 0...      6  0.123108  \n",
       "1605  [0.0006316918297670782, 0.01141029130667448, 0...      6  0.122764  \n",
       "1220  [0.009816708974540234, 0.0065320380963385105, ...      1  0.122558  \n",
       "4540  [0.0017538964748382568, 0.010574903339147568, ...      7  0.122526  \n",
       "2495  [0.0037411823868751526, 0.0029193370137363672,...      7  0.122217  \n",
       "\n",
       "[6013 rows x 5 columns]"
      ]
     },
     "execution_count": 43,
     "metadata": {},
     "output_type": "execute_result"
    }
   ],
   "source": [
    "grads_df.sort_values(by='prob',ascending=False)"
   ]
  },
  {
   "cell_type": "code",
   "execution_count": 44,
   "metadata": {},
   "outputs": [],
   "source": []
  },
  {
   "cell_type": "code",
   "execution_count": 45,
   "metadata": {},
   "outputs": [
    {
     "data": {
      "text/html": [
       "<span class=\"barcode\"; style=\"color: black; background-color: #f3f8fe\"> [CLS]</span><span class=\"barcode\"; style=\"color: black; background-color: #d5e5f4\"> cc</span><span class=\"barcode\"; style=\"color: black; background-color: #f6faff\">u</span><span class=\"barcode\"; style=\"color: black; background-color: #f7fbff\"> np</span><span class=\"barcode\"; style=\"color: black; background-color: #f6faff\">n</span><span class=\"barcode\"; style=\"color: black; background-color: #e7f0fa\"> pt</span><span class=\"barcode\"; style=\"color: black; background-color: #f5f9fe\"> arrived</span><span class=\"barcode\"; style=\"color: black; background-color: #b7d4ea\"> from</span><span class=\"barcode\"; style=\"color: black; background-color: #f7fbff\"> cat</span><span class=\"barcode\"; style=\"color: black; background-color: #d7e6f5\">h</span><span class=\"barcode\"; style=\"color: black; background-color: #bdd7ec\"> lab</span><span class=\"barcode\"; style=\"color: black; background-color: #f4f9fe\"> ~</span><span class=\"barcode\"; style=\"color: black; background-color: #f2f8fd\"> 1800</span><span class=\"barcode\"; style=\"color: black; background-color: #f0f6fd\"> .</span><span class=\"barcode\"; style=\"color: black; background-color: #e3eef9\"> ne</span><span class=\"barcode\"; style=\"color: black; background-color: #f6faff\">uro</span><span class=\"barcode\"; style=\"color: black; background-color: #91c3de\"> :</span><span class=\"barcode\"; style=\"color: black; background-color: #d5e5f4\"> alert</span><span class=\"barcode\"; style=\"color: black; background-color: #f6faff\"> ,</span><span class=\"barcode\"; style=\"color: black; background-color: #f6faff\"> oriented</span><span class=\"barcode\"; style=\"color: black; background-color: #c9ddf0\"> x</span><span class=\"barcode\"; style=\"color: black; background-color: #f7fbff\">3</span><span class=\"barcode\"; style=\"color: black; background-color: #eef5fc\"> cooperative</span><span class=\"barcode\"; style=\"color: black; background-color: #f3f8fe\"> w</span><span class=\"barcode\"; style=\"color: black; background-color: #cadef0\"> /</span><span class=\"barcode\"; style=\"color: black; background-color: #81badb\"> care</span><span class=\"barcode\"; style=\"color: black; background-color: #f1f7fd\"> cv</span><span class=\"barcode\"; style=\"color: black; background-color: #e0ecf8\"> :</span><span class=\"barcode\"; style=\"color: black; background-color: #f6faff\"> 40</span><span class=\"barcode\"; style=\"color: black; background-color: #e8f1fa\">cc</span><span class=\"barcode\"; style=\"color: black; background-color: #dfebf7\"> ia</span><span class=\"barcode\"; style=\"color: black; background-color: #bad6eb\">b</span><span class=\"barcode\"; style=\"color: black; background-color: #b7d4ea\">p</span><span class=\"barcode\"; style=\"color: black; background-color: #eaf3fb\"> in</span><span class=\"barcode\"; style=\"color: black; background-color: #ebf3fb\"> r</span><span class=\"barcode\"; style=\"color: black; background-color: #e0ecf8\"> groin</span><span class=\"barcode\"; style=\"color: black; background-color: #f2f7fd\"> ,</span><span class=\"barcode\"; style=\"color: black; background-color: #f7fbff\"> area</span><span class=\"barcode\"; style=\"color: black; background-color: #f5fafe\"> d</span><span class=\"barcode\"; style=\"color: black; background-color: #f3f8fe\"> /</span><span class=\"barcode\"; style=\"color: black; background-color: #f6faff\"> i</span><span class=\"barcode\"; style=\"color: black; background-color: #f3f8fe\"> ,</span><span class=\"barcode\"; style=\"color: black; background-color: #e8f1fa\"> distal</span><span class=\"barcode\"; style=\"color: black; background-color: #f4f9fe\"> pulses</span><span class=\"barcode\"; style=\"color: black; background-color: #f5fafe\"> all</span><span class=\"barcode\"; style=\"color: black; background-color: #eaf2fb\"> pal</span><span class=\"barcode\"; style=\"color: black; background-color: #afd1e7\">pa</span><span class=\"barcode\"; style=\"color: black; background-color: #e6f0f9\">ba</span><span class=\"barcode\"; style=\"color: black; background-color: #89bedc\">ble</span><span class=\"barcode\"; style=\"color: black; background-color: #dce9f6\"> .</span><span class=\"barcode\"; style=\"color: black; background-color: #e2edf8\"> poor</span><span class=\"barcode\"; style=\"color: black; background-color: #e8f1fa\"> aug</span><span class=\"barcode\"; style=\"color: black; background-color: #f2f7fd\">ment</span><span class=\"barcode\"; style=\"color: black; background-color: #d4e4f4\">ation</span><span class=\"barcode\"; style=\"color: black; background-color: #f5f9fe\"> ,</span><span class=\"barcode\"; style=\"color: black; background-color: #d9e8f5\"> tracing</span><span class=\"barcode\"; style=\"color: black; background-color: #dfecf7\"> .</span><span class=\"barcode\"; style=\"color: black; background-color: #f6faff\"> dia</span><span class=\"barcode\"; style=\"color: black; background-color: #f5f9fe\">sto</span><span class=\"barcode\"; style=\"color: black; background-color: #e5eff9\">lic</span><span class=\"barcode\"; style=\"color: black; background-color: #ebf3fb\"> pressures</span><span class=\"barcode\"; style=\"color: black; background-color: #d3e3f3\"> 107</span><span class=\"barcode\"; style=\"color: black; background-color: #d9e8f5\"> -</span><span class=\"barcode\"; style=\"color: black; background-color: #eff6fc\"> 120</span><span class=\"barcode\"; style=\"color: black; background-color: #f6faff\"> w</span><span class=\"barcode\"; style=\"color: black; background-color: #e4eff9\"> /</span><span class=\"barcode\"; style=\"color: black; background-color: #f7fbff\"> maps</span><span class=\"barcode\"; style=\"color: black; background-color: #f7fbff\"> 140</span><span class=\"barcode\"; style=\"color: black; background-color: #f2f7fd\"> .</span><span class=\"barcode\"; style=\"color: black; background-color: #eff6fc\"> n</span><span class=\"barcode\"; style=\"color: black; background-color: #f7fbff\">b</span><span class=\"barcode\"; style=\"color: black; background-color: #f2f8fd\">p</span><span class=\"barcode\"; style=\"color: black; background-color: #b9d6ea\"> ~</span><span class=\"barcode\"; style=\"color: black; background-color: #e2edf8\"> 10</span><span class=\"barcode\"; style=\"color: black; background-color: #f2f7fd\"> pts</span><span class=\"barcode\"; style=\"color: black; background-color: #f6faff\"> lower</span><span class=\"barcode\"; style=\"color: black; background-color: #eaf2fb\"> .</span><span class=\"barcode\"; style=\"color: black; background-color: #f5fafe\"> c</span><span class=\"barcode\"; style=\"color: black; background-color: #f3f8fe\">x</span><span class=\"barcode\"; style=\"color: black; background-color: #f5fafe\">r</span><span class=\"barcode\"; style=\"color: black; background-color: #eef5fc\"> ordered</span><span class=\"barcode\"; style=\"color: black; background-color: #f2f8fd\"> to</span><span class=\"barcode\"; style=\"color: black; background-color: #f4f9fe\"> check</span><span class=\"barcode\"; style=\"color: black; background-color: #ecf4fb\"> placement</span><span class=\"barcode\"; style=\"color: black; background-color: #f3f8fe\"> .</span><span class=\"barcode\"; style=\"color: black; background-color: #f5fafe\"> dr</span><span class=\"barcode\"; style=\"color: black; background-color: #e7f0fa\"> .</span><span class=\"barcode\"; style=\"color: black; background-color: #f7fbff\"> [</span><span class=\"barcode\"; style=\"color: black; background-color: #f6faff\"> *</span><span class=\"barcode\"; style=\"color: black; background-color: #08306b\"> *</span><span class=\"barcode\"; style=\"color: black; background-color: #f4f9fe\"> last</span><span class=\"barcode\"; style=\"color: black; background-color: #f2f8fd\"> name</span><span class=\"barcode\"; style=\"color: black; background-color: #f3f8fe\"> (</span><span class=\"barcode\"; style=\"color: black; background-color: #f2f7fd\"> st</span><span class=\"barcode\"; style=\"color: black; background-color: #f3f8fe\">it</span><span class=\"barcode\"; style=\"color: black; background-color: #ecf4fb\">le</span><span class=\"barcode\"; style=\"color: black; background-color: #f5f9fe\"> )</span><span class=\"barcode\"; style=\"color: black; background-color: #ecf4fb\"> 57</span><span class=\"barcode\"; style=\"color: black; background-color: #e1edf8\"> *</span><span class=\"barcode\"; style=\"color: black; background-color: #f7fbff\"> *</span><span class=\"barcode\"; style=\"color: black; background-color: #f6faff\"> ]</span><span class=\"barcode\"; style=\"color: black; background-color: #e6f0f9\"> in</span><span class=\"barcode\"; style=\"color: black; background-color: #e9f2fa\"> to</span><span class=\"barcode\"; style=\"color: black; background-color: #f2f8fd\"> speak</span><span class=\"barcode\"; style=\"color: black; background-color: #eff6fc\"> w</span><span class=\"barcode\"; style=\"color: black; background-color: #f1f7fd\"> /</span><span class=\"barcode\"; style=\"color: black; background-color: #f7fbff\"> pt</span><span class=\"barcode\"; style=\"color: black; background-color: #e1edf8\"> re</span><span class=\"barcode\"; style=\"color: black; background-color: #f7fbff\"> :</span><span class=\"barcode\"; style=\"color: black; background-color: #d9e8f5\"> cab</span><span class=\"barcode\"; style=\"color: black; background-color: #d0e2f2\">g</span><span class=\"barcode\"; style=\"color: black; background-color: #f5fafe\"> in</span><span class=\"barcode\"; style=\"color: black; background-color: #f5fafe\"> am</span><span class=\"barcode\"; style=\"color: black; background-color: #f3f8fe\"> .</span><span class=\"barcode\"; style=\"color: black; background-color: #ebf3fb\"> pain</span><span class=\"barcode\"; style=\"color: black; background-color: #ecf4fb\"> free</span><span class=\"barcode\"; style=\"color: black; background-color: #f4f9fe\"> .</span><span class=\"barcode\"; style=\"color: black; background-color: #eef5fc\"> he</span><span class=\"barcode\"; style=\"color: black; background-color: #f4f9fe\">par</span><span class=\"barcode\"; style=\"color: black; background-color: #e7f1fa\">in</span><span class=\"barcode\"; style=\"color: black; background-color: #f5fafe\"> to</span><span class=\"barcode\"; style=\"color: black; background-color: #f5f9fe\"> be</span><span class=\"barcode\"; style=\"color: black; background-color: #d6e5f4\"> started</span><span class=\"barcode\"; style=\"color: black; background-color: #deebf7\"> .</span><span class=\"barcode\"; style=\"color: black; background-color: #f6faff\"> res</span><span class=\"barcode\"; style=\"color: black; background-color: #f4f9fe\">p</span><span class=\"barcode\"; style=\"color: black; background-color: #f2f8fd\"> :</span><span class=\"barcode\"; style=\"color: black; background-color: #e1edf8\"> sat</span><span class=\"barcode\"; style=\"color: black; background-color: #f6faff\">s</span><span class=\"barcode\"; style=\"color: black; background-color: #f1f7fd\"> 97</span><span class=\"barcode\"; style=\"color: black; background-color: #eaf2fb\"> %</span><span class=\"barcode\"; style=\"color: black; background-color: #f5f9fe\"> on</span><span class=\"barcode\"; style=\"color: black; background-color: #f5fafe\"> 4</span><span class=\"barcode\"; style=\"color: black; background-color: #f6faff\">l</span><span class=\"barcode\"; style=\"color: black; background-color: #f2f8fd\"> np</span><span class=\"barcode\"; style=\"color: black; background-color: #f5f9fe\"> ,</span><span class=\"barcode\"; style=\"color: black; background-color: #f4f9fe\"> lungs</span><span class=\"barcode\"; style=\"color: black; background-color: #f7fbff\"> ct</span><span class=\"barcode\"; style=\"color: black; background-color: #f5f9fe\">a</span><span class=\"barcode\"; style=\"color: black; background-color: #e7f0fa\"> gi</span><span class=\"barcode\"; style=\"color: black; background-color: #f5fafe\"> :</span><span class=\"barcode\"; style=\"color: black; background-color: #cddff1\"> fair</span><span class=\"barcode\"; style=\"color: black; background-color: #e8f1fa\"> app</span><span class=\"barcode\"; style=\"color: black; background-color: #e7f1fa\">iti</span><span class=\"barcode\"; style=\"color: black; background-color: #eaf3fb\">te</span><span class=\"barcode\"; style=\"color: black; background-color: #f3f8fe\"> ,</span><span class=\"barcode\"; style=\"color: black; background-color: #f6faff\"> np</span><span class=\"barcode\"; style=\"color: black; background-color: #e6f0f9\">o</span><span class=\"barcode\"; style=\"color: black; background-color: #f6faff\"> after</span><span class=\"barcode\"; style=\"color: black; background-color: #ebf3fb\"> mn</span><span class=\"barcode\"; style=\"color: black; background-color: #eaf3fb\"> ,</span><span class=\"barcode\"; style=\"color: black; background-color: #ecf4fb\"> gu</span><span class=\"barcode\"; style=\"color: black; background-color: #eaf3fb\"> :</span><span class=\"barcode\"; style=\"color: black; background-color: #cddff1\"> condom</span><span class=\"barcode\"; style=\"color: black; background-color: #f6faff\"> cat</span><span class=\"barcode\"; style=\"color: black; background-color: #deebf7\">h</span><span class=\"barcode\"; style=\"color: black; background-color: #f6faff\"> on</span><span class=\"barcode\"; style=\"color: black; background-color: #f5fafe\"> ,</span><span class=\"barcode\"; style=\"color: black; background-color: #f7fbff\"> dt</span><span class=\"barcode\"; style=\"color: black; background-color: #f7fbff\">v</span><span class=\"barcode\"; style=\"color: black; background-color: #f5fafe\"> id</span><span class=\"barcode\"; style=\"color: black; background-color: #f7fbff\"> :</span><span class=\"barcode\"; style=\"color: black; background-color: #ecf4fb\"> af</span><span class=\"barcode\"; style=\"color: black; background-color: #f4f9fe\">eb</span><span class=\"barcode\"; style=\"color: black; background-color: #f2f8fd\">ril</span><span class=\"barcode\"; style=\"color: black; background-color: #e3eef9\">e</span><span class=\"barcode\"; style=\"color: black; background-color: #f1f7fd\"> social</span><span class=\"barcode\"; style=\"color: black; background-color: #d8e7f5\"> :</span><span class=\"barcode\"; style=\"color: black; background-color: #c9ddf0\"> married</span><span class=\"barcode\"; style=\"color: black; background-color: #f5fafe\"> ,</span><span class=\"barcode\"; style=\"color: black; background-color: #f4f9fe\"> lives</span><span class=\"barcode\"; style=\"color: black; background-color: #eef5fc\"> w</span><span class=\"barcode\"; style=\"color: black; background-color: #e8f1fa\"> /</span><span class=\"barcode\"; style=\"color: black; background-color: #f6faff\"> wife</span><span class=\"barcode\"; style=\"color: black; background-color: #f5fafe\"> ,</span><span class=\"barcode\"; style=\"color: black; background-color: #f4f9fe\"> supportive</span><span class=\"barcode\"; style=\"color: black; background-color: #f3f8fe\"> a</span><span class=\"barcode\"; style=\"color: black; background-color: #dce9f6\"> :</span><span class=\"barcode\"; style=\"color: black; background-color: #f4f9fe\"> 3</span><span class=\"barcode\"; style=\"color: black; background-color: #f6faff\">vd</span><span class=\"barcode\"; style=\"color: black; background-color: #eaf3fb\"> w</span><span class=\"barcode\"; style=\"color: black; background-color: #dfecf7\"> /</span><span class=\"barcode\"; style=\"color: black; background-color: #f4f9fe\"> l</span><span class=\"barcode\"; style=\"color: black; background-color: #f5fafe\">m</span><span class=\"barcode\"; style=\"color: black; background-color: #dae8f6\"> involvement</span><span class=\"barcode\"; style=\"color: black; background-color: #f5fafe\"> ,</span><span class=\"barcode\"; style=\"color: black; background-color: #f5fafe\"> awaiting</span><span class=\"barcode\"; style=\"color: black; background-color: #caddf0\"> cab</span><span class=\"barcode\"; style=\"color: black; background-color: #f7fbff\">g</span><span class=\"barcode\"; style=\"color: black; background-color: #edf4fc\"> in</span><span class=\"barcode\"; style=\"color: black; background-color: #e0ecf8\"> am</span><span class=\"barcode\"; style=\"color: black; background-color: #f3f8fe\"> .</span><span class=\"barcode\"; style=\"color: black; background-color: #f6faff\"> p</span><span class=\"barcode\"; style=\"color: black; background-color: #eef5fc\"> :</span><span class=\"barcode\"; style=\"color: black; background-color: #f3f8fe\"> c</span><span class=\"barcode\"; style=\"color: black; background-color: #f0f6fd\">x</span><span class=\"barcode\"; style=\"color: black; background-color: #f3f8fe\">r</span><span class=\"barcode\"; style=\"color: black; background-color: #f4f9fe\"> to</span><span class=\"barcode\"; style=\"color: black; background-color: #eef5fc\"> confirm</span><span class=\"barcode\"; style=\"color: black; background-color: #e1edf8\"> proper</span><span class=\"barcode\"; style=\"color: black; background-color: #f2f8fd\"> ia</span><span class=\"barcode\"; style=\"color: black; background-color: #f2f7fd\">b</span><span class=\"barcode\"; style=\"color: black; background-color: #f1f7fd\">p</span><span class=\"barcode\"; style=\"color: black; background-color: #eef5fc\"> placement</span><span class=\"barcode\"; style=\"color: black; background-color: #f7fbff\"> ,</span><span class=\"barcode\"; style=\"color: black; background-color: #f6faff\"> monitor</span><span class=\"barcode\"; style=\"color: black; background-color: #f7fbff\"> bp</span><span class=\"barcode\"; style=\"color: black; background-color: #f3f8fe\"> ,</span><span class=\"barcode\"; style=\"color: black; background-color: #d9e8f5\"> pre</span><span class=\"barcode\"; style=\"color: black; background-color: #f3f8fe\"> op</span><span class=\"barcode\"; style=\"color: black; background-color: #f4f9fe\"> cab</span><span class=\"barcode\"; style=\"color: black; background-color: #f7fbff\">g</span><span class=\"barcode\"; style=\"color: black; background-color: #f4f9fe\"> .</span><span class=\"barcode\"; style=\"color: black; background-color: #f4f9fe\"> support</span><span class=\"barcode\"; style=\"color: black; background-color: #f6faff\"> pt</span><span class=\"barcode\"; style=\"color: black; background-color: #f3f8fe\"> and</span><span class=\"barcode\"; style=\"color: black; background-color: #f6faff\"> family</span><span class=\"barcode\"; style=\"color: black; background-color: #f6faff\"> [SEP]</span><span class=\"barcode\"; style=\"color: black; background-color: #d5e5f4\"> [SEP]</span><span class=\"barcode\"; style=\"color: black; background-color: 0\">    Label: 9 |</span><span class=\"barcode\"; style=\"color: black; background-color: #d5efcf\">19.36%</span>|"
      ],
      "text/plain": [
       "<IPython.core.display.HTML object>"
      ]
     },
     "metadata": {},
     "output_type": "display_data"
    }
   ],
   "source": [
    "ex = grads_df.sort_values(by='prob',ascending=False).iloc[3]\n",
    "coloder_string=integrated_grad.colorize({'tokens':ex['tokens'], 'grad':ex['grad'], 'label':ex['label'],'prob':ex['prob']})\n",
    "display(HTML(coloder_string))"
   ]
  },
  {
   "cell_type": "code",
   "execution_count": 49,
   "metadata": {},
   "outputs": [
    {
     "name": "stdout",
     "output_type": "stream",
     "text": [
      "preiculos_score\n"
     ]
    }
   ],
   "source": [
    "label = 1\n",
    "print(classes[label])\n",
    "all_class_grads = pd.DataFrame(  list(zip( unravel(grads_df[grads_df['label']==label]['tokens']),  unravel(grads_df[grads_df['label']==label]['grad']) )) , columns=['tokens', 'grad']  )"
   ]
  },
  {
   "cell_type": "code",
   "execution_count": null,
   "metadata": {},
   "outputs": [],
   "source": []
  },
  {
   "cell_type": "code",
   "execution_count": 50,
   "metadata": {},
   "outputs": [],
   "source": [
    "word =''\n",
    "score=0\n",
    "words=[]\n",
    "scores=[]\n",
    "for i in reversed(range(len(all_class_grads))):\n",
    "    token=all_class_grads['tokens'].iloc[i]\n",
    "    if token.startswith('##'):\n",
    "        word = token[2:]+word\n",
    "        score = max(score,all_class_grads['grad'].iloc[i] )\n",
    "#         print(word)\n",
    "    else:\n",
    "        word = token+word\n",
    "#         print(word)\n",
    "        words.append(word)\n",
    "        score = max(score,all_class_grads['grad'].iloc[i] )\n",
    "        scores.append(score)\n",
    "        word=''\n",
    "        score=0"
   ]
  },
  {
   "cell_type": "code",
   "execution_count": 51,
   "metadata": {},
   "outputs": [
    {
     "name": "stdout",
     "output_type": "stream",
     "text": [
      "\\begin{tabular}{lrr}\n",
      "\\toprule\n",
      "            word &  grad\\_mean &  word\\_count \\\\\n",
      "\\midrule\n",
      "             npn &      0.020 &          16 \\\\\n",
      "        incision &      0.016 &           9 \\\\\n",
      "     hemodynamic &      0.012 &           6 \\\\\n",
      "             tpn &      0.012 &           6 \\\\\n",
      "        infusing &      0.012 &          15 \\\\\n",
      "    unremarkable &      0.012 &          13 \\\\\n",
      "         tylenol &      0.012 &           7 \\\\\n",
      "    namepattern1 &      0.011 &           7 \\\\\n",
      "             ica &      0.011 &           6 \\\\\n",
      "   opacification &      0.011 &           6 \\\\\n",
      "               e &      0.011 &           7 \\\\\n",
      "         carevue &      0.011 &          10 \\\\\n",
      "             fhp &      0.011 &           9 \\\\\n",
      "            ciwa &      0.010 &           7 \\\\\n",
      "           bipap &      0.010 &           7 \\\\\n",
      "     mediastinal &      0.010 &           7 \\\\\n",
      "             med &      0.010 &          15 \\\\\n",
      " cardiopulmonary &      0.010 &           6 \\\\\n",
      "             neg &      0.009 &          12 \\\\\n",
      "             dka &      0.009 &           9 \\\\\n",
      "         removed &      0.009 &           8 \\\\\n",
      "           lasix &      0.009 &          13 \\\\\n",
      "       objective &      0.009 &           8 \\\\\n",
      "             pna &      0.009 &           8 \\\\\n",
      "        troponin &      0.009 &           9 \\\\\n",
      "\\bottomrule\n",
      "\\end{tabular}\n",
      "\n"
     ]
    }
   ],
   "source": [
    "tokens_grouped = pd.DataFrame(list(zip(words, scores)), columns=['words', 'grad']).groupby('words')\n",
    "means = tokens_grouped['grad'].mean()\n",
    "cts = tokens_grouped['grad'].count()\n",
    "wrds = tokens_grouped.apply(lambda group: str(group.name))\n",
    "class_df = pd.DataFrame(list(zip(wrds,means,cts)), columns=['word','grad_mean','word_count' ]).sort_values(by='grad_mean',ascending=False)\n",
    "class_df = class_df[class_df['word_count']>5]\n",
    "print(class_df.head(25).to_latex(index=False, float_format=\"%.3f\"))"
   ]
  },
  {
   "cell_type": "code",
   "execution_count": 38,
   "metadata": {},
   "outputs": [],
   "source": [
    "word =''\n",
    "score=0\n",
    "negative_words=[]\n",
    "negative_scores=[]\n",
    "for i in reversed(range(len(all_negative_grads))):\n",
    "    token=all_negative_grads['tokens'].iloc[i]\n",
    "    if token.startswith('##'):\n",
    "        word = token[2:]+word\n",
    "        score = max(score,all_negative_grads['grad'].iloc[i] )\n",
    "#         print(word)\n",
    "    else:\n",
    "        word = token+word\n",
    "#         print(word)\n",
    "        negative_words.append(word)\n",
    "        score = max(score,all_negative_grads['grad'].iloc[i] )\n",
    "        negative_scores.append(score)\n",
    "        word=''\n",
    "        score=0"
   ]
  },
  {
   "cell_type": "code",
   "execution_count": 39,
   "metadata": {},
   "outputs": [
    {
     "name": "stdout",
     "output_type": "stream",
     "text": [
      "\\begin{tabular}{lrr}\n",
      "\\toprule\n",
      "                word &  grad\\_mean &  word\\_count \\\\\n",
      "\\midrule\n",
      "                 cad &      0.094 &          76 \\\\\n",
      "               [SEP] &      0.081 &        6819 \\\\\n",
      "                 lad &      0.075 &           7 \\\\\n",
      "           narrative &      0.069 &          37 \\\\\n",
      "                cabg &      0.068 &          10 \\\\\n",
      "                 npn &      0.064 &         762 \\\\\n",
      "           cadaveric &      0.057 &           7 \\\\\n",
      "                 pvc &      0.047 &         480 \\\\\n",
      "                pvcs &      0.042 &         166 \\\\\n",
      "                 ccu &      0.040 &         306 \\\\\n",
      "                simv &      0.037 &          72 \\\\\n",
      "         prostectomy &      0.036 &           6 \\\\\n",
      "         thorocotomy &      0.036 &           6 \\\\\n",
      "              pedial &      0.035 &          20 \\\\\n",
      "               tsicu &      0.035 &         516 \\\\\n",
      "   gastrojejunostomy &      0.033 &           7 \\\\\n",
      "           lobectomy &      0.032 &          65 \\\\\n",
      "                sicu &      0.032 &        1475 \\\\\n",
      " esophagogastrectomy &      0.032 &          19 \\\\\n",
      "                 pvd &      0.032 &          78 \\\\\n",
      "                csru &      0.031 &          58 \\\\\n",
      "               msicu &      0.030 &          16 \\\\\n",
      "                cart &      0.030 &          11 \\\\\n",
      "        thrombectomy &      0.029 &          16 \\\\\n",
      "        annuloplasty &      0.029 &           9 \\\\\n",
      "\\bottomrule\n",
      "\\end{tabular}\n",
      "\n"
     ]
    }
   ],
   "source": [
    "tokens_grouped = pd.DataFrame(list(zip(negative_words, negative_scores)), columns=['words', 'grad']).groupby('words')\n",
    "means = tokens_grouped['grad'].mean()\n",
    "cts = tokens_grouped['grad'].count()\n",
    "wrds = tokens_grouped.apply(lambda group: str(group.name))\n",
    "negative_df = pd.DataFrame(list(zip(wrds,means,cts)), columns=['word','grad_mean','word_count' ]).sort_values(by='grad_mean',ascending=False)\n",
    "negative_df = negative_df[negative_df['word_count']>5]\n",
    "print(negative_df.head(25).to_latex(index=False, float_format=\"%.3f\"))"
   ]
  },
  {
   "cell_type": "code",
   "execution_count": 93,
   "metadata": {},
   "outputs": [
    {
     "data": {
      "text/plain": [
       "['grad']"
      ]
     },
     "execution_count": 93,
     "metadata": {},
     "output_type": "execute_result"
    }
   ],
   "source": [
    "list(means"
   ]
  },
  {
   "cell_type": "code",
   "execution_count": 72,
   "metadata": {},
   "outputs": [
    {
     "data": {
      "text/html": [
       "<div>\n",
       "<style scoped>\n",
       "    .dataframe tbody tr th:only-of-type {\n",
       "        vertical-align: middle;\n",
       "    }\n",
       "\n",
       "    .dataframe tbody tr th {\n",
       "        vertical-align: top;\n",
       "    }\n",
       "\n",
       "    .dataframe thead th {\n",
       "        text-align: right;\n",
       "    }\n",
       "</style>\n",
       "<table border=\"1\" class=\"dataframe\">\n",
       "  <thead>\n",
       "    <tr style=\"text-align: right;\">\n",
       "      <th></th>\n",
       "      <th>words</th>\n",
       "      <th>grad</th>\n",
       "    </tr>\n",
       "  </thead>\n",
       "  <tbody>\n",
       "    <tr>\n",
       "      <th>0</th>\n",
       "      <td>'</td>\n",
       "      <td>0.028707</td>\n",
       "    </tr>\n",
       "    <tr>\n",
       "      <th>1</th>\n",
       "      <td>a</td>\n",
       "      <td>0.051793</td>\n",
       "    </tr>\n",
       "    <tr>\n",
       "      <th>2</th>\n",
       "      <td>i</td>\n",
       "      <td>0.001401</td>\n",
       "    </tr>\n",
       "    <tr>\n",
       "      <th>3</th>\n",
       "      <td>s</td>\n",
       "      <td>0.000330</td>\n",
       "    </tr>\n",
       "    <tr>\n",
       "      <th>4</th>\n",
       "      <td>e</td>\n",
       "      <td>0.005617</td>\n",
       "    </tr>\n",
       "    <tr>\n",
       "      <th>...</th>\n",
       "      <td>...</td>\n",
       "      <td>...</td>\n",
       "    </tr>\n",
       "    <tr>\n",
       "      <th>117397</th>\n",
       "      <td>L</td>\n",
       "      <td>0.007958</td>\n",
       "    </tr>\n",
       "    <tr>\n",
       "      <th>117398</th>\n",
       "      <td>C</td>\n",
       "      <td>0.003365</td>\n",
       "    </tr>\n",
       "    <tr>\n",
       "      <th>117399</th>\n",
       "      <td>[</td>\n",
       "      <td>0.001415</td>\n",
       "    </tr>\n",
       "    <tr>\n",
       "      <th>117400</th>\n",
       "      <td>'</td>\n",
       "      <td>0.005063</td>\n",
       "    </tr>\n",
       "    <tr>\n",
       "      <th>117401</th>\n",
       "      <td>[</td>\n",
       "      <td>0.007274</td>\n",
       "    </tr>\n",
       "  </tbody>\n",
       "</table>\n",
       "<p>117402 rows × 2 columns</p>\n",
       "</div>"
      ],
      "text/plain": [
       "       words      grad\n",
       "0          '  0.028707\n",
       "1          a  0.051793\n",
       "2          i  0.001401\n",
       "3          s  0.000330\n",
       "4          e  0.005617\n",
       "...      ...       ...\n",
       "117397     L  0.007958\n",
       "117398     C  0.003365\n",
       "117399     [  0.001415\n",
       "117400     '  0.005063\n",
       "117401     [  0.007274\n",
       "\n",
       "[117402 rows x 2 columns]"
      ]
     },
     "execution_count": 72,
     "metadata": {},
     "output_type": "execute_result"
    }
   ],
   "source": [
    "pd.DataFrame(list(zip(words, scores)), columns=['words', 'grad'])"
   ]
  },
  {
   "cell_type": "code",
   "execution_count": 57,
   "metadata": {},
   "outputs": [
    {
     "ename": "IndexError",
     "evalue": "list index out of range",
     "output_type": "error",
     "traceback": [
      "\u001b[0;31m---------------------------------------------------------------------------\u001b[0m",
      "\u001b[0;31mIndexError\u001b[0m                                Traceback (most recent call last)",
      "\u001b[0;32m<ipython-input-57-d62e443bf3c7>\u001b[0m in \u001b[0;36m<module>\u001b[0;34m\u001b[0m\n\u001b[1;32m      1\u001b[0m \u001b[0;32mimport\u001b[0m \u001b[0mpandas\u001b[0m \u001b[0;32mas\u001b[0m \u001b[0mpd\u001b[0m\u001b[0;34m\u001b[0m\u001b[0;34m\u001b[0m\u001b[0m\n\u001b[0;32m----> 2\u001b[0;31m \u001b[0mpd\u001b[0m\u001b[0;34m.\u001b[0m\u001b[0mDataFrame\u001b[0m\u001b[0;34m(\u001b[0m\u001b[0mlist\u001b[0m\u001b[0;34m(\u001b[0m\u001b[0mzip\u001b[0m\u001b[0;34m(\u001b[0m\u001b[0minstances\u001b[0m\u001b[0;34m[\u001b[0m\u001b[0;36m1\u001b[0m\u001b[0;34m]\u001b[0m\u001b[0;34m[\u001b[0m\u001b[0;34m'tokens'\u001b[0m\u001b[0;34m]\u001b[0m\u001b[0;34m,\u001b[0m \u001b[0minstances\u001b[0m\u001b[0;34m[\u001b[0m\u001b[0;36m1\u001b[0m\u001b[0;34m]\u001b[0m\u001b[0;34m[\u001b[0m\u001b[0;34m'grad'\u001b[0m\u001b[0;34m]\u001b[0m\u001b[0;34m)\u001b[0m\u001b[0;34m)\u001b[0m\u001b[0;34m)\u001b[0m\u001b[0;34m\u001b[0m\u001b[0;34m\u001b[0m\u001b[0m\n\u001b[0m",
      "\u001b[0;31mIndexError\u001b[0m: list index out of range"
     ]
    }
   ],
   "source": [
    "import pandas as pd\n",
    "pd.DataFrame(list(zip(instances[0]['tokens'], instances[0]['grad'])))"
   ]
  },
  {
   "cell_type": "code",
   "execution_count": 20,
   "metadata": {},
   "outputs": [
    {
     "data": {
      "text/plain": [
       "[{'tokens': ['[CLS]',\n",
       "   \"'\",\n",
       "   'patient',\n",
       "   'was',\n",
       "   'a',\n",
       "   'pleasant',\n",
       "   'male',\n",
       "   'in',\n",
       "   'his',\n",
       "   'early',\n",
       "   '40',\n",
       "   '##s',\n",
       "   'who',\n",
       "   'was',\n",
       "   'given',\n",
       "   'pl',\n",
       "   '##avi',\n",
       "   '##x',\n",
       "   'and',\n",
       "   'as',\n",
       "   '##pi',\n",
       "   '##rin',\n",
       "   'for',\n",
       "   'cad',\n",
       "   'and',\n",
       "   'required',\n",
       "   'cab',\n",
       "   '##g',\n",
       "   \"'\",\n",
       "   '[SEP]',\n",
       "   'transform',\n",
       "   '##er',\n",
       "   '-',\n",
       "   'based',\n",
       "   'models',\n",
       "   'have',\n",
       "   'taken',\n",
       "   'a',\n",
       "   'leading',\n",
       "   'role',\n",
       "   'in',\n",
       "   'nl',\n",
       "   '##p',\n",
       "   'today',\n",
       "   '.',\n",
       "   '[SEP]'],\n",
       "  'grad': [0.0024040760472416878,\n",
       "   0.011202486231923103,\n",
       "   0.013759119436144829,\n",
       "   0.002332319738343358,\n",
       "   0.011373970657587051,\n",
       "   0.02735648676753044,\n",
       "   0.015535157173871994,\n",
       "   0.030777039006352425,\n",
       "   0.008332711644470692,\n",
       "   0.013340604491531849,\n",
       "   0.0001066805562004447,\n",
       "   0.0027349493466317654,\n",
       "   0.004292184952646494,\n",
       "   0.00442542415112257,\n",
       "   0.007150531280785799,\n",
       "   0.0028611449524760246,\n",
       "   0.015010221861302853,\n",
       "   0.018782952800393105,\n",
       "   0.01669878326356411,\n",
       "   0.009789077565073967,\n",
       "   0.016139263287186623,\n",
       "   0.007285908330231905,\n",
       "   0.0340462364256382,\n",
       "   0.0994633287191391,\n",
       "   0.02390855737030506,\n",
       "   0.01794828474521637,\n",
       "   0.17008531093597412,\n",
       "   0.12981343269348145,\n",
       "   0.021933887153863907,\n",
       "   0.1389886736869812,\n",
       "   0.020783530548214912,\n",
       "   0.0065027992241084576,\n",
       "   0.008362825959920883,\n",
       "   0.0033463663421571255,\n",
       "   0.003560791490599513,\n",
       "   0.0011002038372680545,\n",
       "   0.00035022245720028877,\n",
       "   0.020194558426737785,\n",
       "   0.002988012507557869,\n",
       "   0.0009293951443396509,\n",
       "   0.0005665147327817976,\n",
       "   0.004190972540527582,\n",
       "   0.004393792245537043,\n",
       "   0.003207903355360031,\n",
       "   0.003286235500127077,\n",
       "   0.03835707902908325],\n",
       "  'label': 1,\n",
       "  'prob': 0.985454797744751}]"
      ]
     },
     "execution_count": 20,
     "metadata": {},
     "output_type": "execute_result"
    }
   ],
   "source": [
    "instances"
   ]
  },
  {
   "cell_type": "code",
   "execution_count": null,
   "metadata": {},
   "outputs": [],
   "source": []
  }
 ],
 "metadata": {
  "kernelspec": {
   "display_name": "Python 3",
   "language": "python",
   "name": "python3"
  },
  "language_info": {
   "codemirror_mode": {
    "name": "ipython",
    "version": 3
   },
   "file_extension": ".py",
   "mimetype": "text/x-python",
   "name": "python",
   "nbconvert_exporter": "python",
   "pygments_lexer": "ipython3",
   "version": "3.6.10"
  }
 },
 "nbformat": 4,
 "nbformat_minor": 4
}
