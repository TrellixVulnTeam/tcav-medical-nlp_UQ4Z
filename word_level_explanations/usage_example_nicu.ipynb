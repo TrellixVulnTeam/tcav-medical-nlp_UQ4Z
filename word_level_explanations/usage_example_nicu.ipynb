{
 "cells": [
  {
   "cell_type": "code",
   "execution_count": 1,
   "metadata": {},
   "outputs": [],
   "source": [
    "import pickle\n",
    "\n",
    "from dataset import NewsDataset\n",
    "from BertModel import WeightedBertForSequenceClassification\n",
    "\n",
    "from smooth_gradient import SmoothGradient\n",
    "from integrated_gradient import IntegratedGradient\n",
    "\n",
    "import torch\n",
    "from torch import nn\n",
    "from torch.utils.data import DataLoader\n",
    "from transformers import DistilBertConfig, DistilBertTokenizer\n",
    "import pandas as pd\n",
    "from IPython.display import display, HTML\n",
    "import numpy as np\n",
    "from transformers import BertConfig, BertTokenizer"
   ]
  },
  {
   "cell_type": "code",
   "execution_count": 2,
   "metadata": {},
   "outputs": [],
   "source": [
    "tokenizer = BertTokenizer.from_pretrained(\"bert-base-uncased\")"
   ]
  },
  {
   "cell_type": "code",
   "execution_count": 5,
   "metadata": {},
   "outputs": [],
   "source": [
    "train_df = pd.read_csv('../tcav2/data/los_nicu_train_admissions.csv')\n",
    "val_df = pd.read_csv('../tcav2/data/los_nicu_val_admissions.csv')\n",
    "test_df = pd.read_csv('../tcav2/data/los_nicu_test_admissions.csv')"
   ]
  },
  {
   "cell_type": "code",
   "execution_count": 6,
   "metadata": {},
   "outputs": [
    {
     "data": {
      "text/html": [
       "<div>\n",
       "<style scoped>\n",
       "    .dataframe tbody tr th:only-of-type {\n",
       "        vertical-align: middle;\n",
       "    }\n",
       "\n",
       "    .dataframe tbody tr th {\n",
       "        vertical-align: top;\n",
       "    }\n",
       "\n",
       "    .dataframe thead th {\n",
       "        text-align: right;\n",
       "    }\n",
       "</style>\n",
       "<table border=\"1\" class=\"dataframe\">\n",
       "  <thead>\n",
       "    <tr style=\"text-align: right;\">\n",
       "      <th></th>\n",
       "      <th>Unnamed: 0</th>\n",
       "      <th>new_HADM</th>\n",
       "      <th>Unnamed: 0.1</th>\n",
       "      <th>TEXT</th>\n",
       "      <th>label</th>\n",
       "      <th>ROW_ID</th>\n",
       "      <th>SUBJECT_ID</th>\n",
       "      <th>CHARTTIME</th>\n",
       "      <th>AGE</th>\n",
       "      <th>GENDER</th>\n",
       "    </tr>\n",
       "  </thead>\n",
       "  <tbody>\n",
       "    <tr>\n",
       "      <th>0</th>\n",
       "      <td>0</td>\n",
       "      <td>104692</td>\n",
       "      <td>403165</td>\n",
       "      <td>Nsg  admit/transfer note\\n  [**Hospital 20**] ...</td>\n",
       "      <td>0</td>\n",
       "      <td>1711540</td>\n",
       "      <td>2437</td>\n",
       "      <td>2100-08-03 11:13:00</td>\n",
       "      <td>0.346528</td>\n",
       "      <td>M</td>\n",
       "    </tr>\n",
       "    <tr>\n",
       "      <th>1</th>\n",
       "      <td>1</td>\n",
       "      <td>108473</td>\n",
       "      <td>410336</td>\n",
       "      <td>NURSING NOTE\\nBaby Girl [**Known lastname 1591...</td>\n",
       "      <td>0</td>\n",
       "      <td>2028728</td>\n",
       "      <td>25831</td>\n",
       "      <td>2100-08-25 11:18:00</td>\n",
       "      <td>0.393056</td>\n",
       "      <td>F</td>\n",
       "    </tr>\n",
       "    <tr>\n",
       "      <th>2</th>\n",
       "      <td>2</td>\n",
       "      <td>135605</td>\n",
       "      <td>173472</td>\n",
       "      <td>Neonatology Attending\\n\\n1790 gram 34 [**4-14*...</td>\n",
       "      <td>1</td>\n",
       "      <td>2072280</td>\n",
       "      <td>31329</td>\n",
       "      <td>2100-08-29 23:17:00</td>\n",
       "      <td>0.950000</td>\n",
       "      <td>F</td>\n",
       "    </tr>\n",
       "    <tr>\n",
       "      <th>3</th>\n",
       "      <td>3</td>\n",
       "      <td>111007</td>\n",
       "      <td>402527</td>\n",
       "      <td>Neonatology Attending Triage Note\\n\\nAsked by ...</td>\n",
       "      <td>0</td>\n",
       "      <td>1689273</td>\n",
       "      <td>783</td>\n",
       "      <td>2100-09-09 14:27:00</td>\n",
       "      <td>0.477083</td>\n",
       "      <td>F</td>\n",
       "    </tr>\n",
       "    <tr>\n",
       "      <th>4</th>\n",
       "      <td>4</td>\n",
       "      <td>119916</td>\n",
       "      <td>366566</td>\n",
       "      <td>Neonatology\\nPatient is 2085 gram product of 3...</td>\n",
       "      <td>0</td>\n",
       "      <td>1763950</td>\n",
       "      <td>6122</td>\n",
       "      <td>2100-09-17 17:14:00</td>\n",
       "      <td>0.621528</td>\n",
       "      <td>M</td>\n",
       "    </tr>\n",
       "    <tr>\n",
       "      <th>...</th>\n",
       "      <td>...</td>\n",
       "      <td>...</td>\n",
       "      <td>...</td>\n",
       "      <td>...</td>\n",
       "      <td>...</td>\n",
       "      <td>...</td>\n",
       "      <td>...</td>\n",
       "      <td>...</td>\n",
       "      <td>...</td>\n",
       "      <td>...</td>\n",
       "    </tr>\n",
       "    <tr>\n",
       "      <th>3775</th>\n",
       "      <td>3775</td>\n",
       "      <td>187343</td>\n",
       "      <td>408082</td>\n",
       "      <td>Admission Note\\nBaby brought to NICU from L&amp;D ...</td>\n",
       "      <td>0</td>\n",
       "      <td>1961023</td>\n",
       "      <td>20650</td>\n",
       "      <td>2201-05-15 15:18:00</td>\n",
       "      <td>0.981250</td>\n",
       "      <td>M</td>\n",
       "    </tr>\n",
       "    <tr>\n",
       "      <th>3776</th>\n",
       "      <td>3776</td>\n",
       "      <td>161900</td>\n",
       "      <td>402464</td>\n",
       "      <td>Admission Note\\nReceived baby from L&amp;D for sep...</td>\n",
       "      <td>0</td>\n",
       "      <td>1698622</td>\n",
       "      <td>1424</td>\n",
       "      <td>2201-05-21 12:17:00</td>\n",
       "      <td>0.356944</td>\n",
       "      <td>M</td>\n",
       "    </tr>\n",
       "    <tr>\n",
       "      <th>3777</th>\n",
       "      <td>3777</td>\n",
       "      <td>189638</td>\n",
       "      <td>252703</td>\n",
       "      <td>Neonatology Attending Admit Note:\\n\\n33 [**7-1...</td>\n",
       "      <td>0</td>\n",
       "      <td>1819238</td>\n",
       "      <td>10100</td>\n",
       "      <td>2201-05-21 14:53:00</td>\n",
       "      <td>0.588889</td>\n",
       "      <td>M</td>\n",
       "    </tr>\n",
       "    <tr>\n",
       "      <th>3778</th>\n",
       "      <td>3778</td>\n",
       "      <td>122461</td>\n",
       "      <td>400567</td>\n",
       "      <td>Admission Note\\nNursing Admit and transfer not...</td>\n",
       "      <td>0</td>\n",
       "      <td>1931947</td>\n",
       "      <td>18079</td>\n",
       "      <td>2201-06-07 16:57:00</td>\n",
       "      <td>0.606250</td>\n",
       "      <td>M</td>\n",
       "    </tr>\n",
       "    <tr>\n",
       "      <th>3779</th>\n",
       "      <td>3779</td>\n",
       "      <td>147240</td>\n",
       "      <td>411053</td>\n",
       "      <td>Newborn Med Attending\\n\\nFT male infant admitt...</td>\n",
       "      <td>0</td>\n",
       "      <td>2029873</td>\n",
       "      <td>25913</td>\n",
       "      <td>2201-07-17 18:34:00</td>\n",
       "      <td>0.724306</td>\n",
       "      <td>M</td>\n",
       "    </tr>\n",
       "  </tbody>\n",
       "</table>\n",
       "<p>3780 rows × 10 columns</p>\n",
       "</div>"
      ],
      "text/plain": [
       "      Unnamed: 0  new_HADM  Unnamed: 0.1  \\\n",
       "0              0    104692        403165   \n",
       "1              1    108473        410336   \n",
       "2              2    135605        173472   \n",
       "3              3    111007        402527   \n",
       "4              4    119916        366566   \n",
       "...          ...       ...           ...   \n",
       "3775        3775    187343        408082   \n",
       "3776        3776    161900        402464   \n",
       "3777        3777    189638        252703   \n",
       "3778        3778    122461        400567   \n",
       "3779        3779    147240        411053   \n",
       "\n",
       "                                                   TEXT  label   ROW_ID  \\\n",
       "0     Nsg  admit/transfer note\\n  [**Hospital 20**] ...      0  1711540   \n",
       "1     NURSING NOTE\\nBaby Girl [**Known lastname 1591...      0  2028728   \n",
       "2     Neonatology Attending\\n\\n1790 gram 34 [**4-14*...      1  2072280   \n",
       "3     Neonatology Attending Triage Note\\n\\nAsked by ...      0  1689273   \n",
       "4     Neonatology\\nPatient is 2085 gram product of 3...      0  1763950   \n",
       "...                                                 ...    ...      ...   \n",
       "3775  Admission Note\\nBaby brought to NICU from L&D ...      0  1961023   \n",
       "3776  Admission Note\\nReceived baby from L&D for sep...      0  1698622   \n",
       "3777  Neonatology Attending Admit Note:\\n\\n33 [**7-1...      0  1819238   \n",
       "3778  Admission Note\\nNursing Admit and transfer not...      0  1931947   \n",
       "3779  Newborn Med Attending\\n\\nFT male infant admitt...      0  2029873   \n",
       "\n",
       "      SUBJECT_ID            CHARTTIME       AGE GENDER  \n",
       "0           2437  2100-08-03 11:13:00  0.346528      M  \n",
       "1          25831  2100-08-25 11:18:00  0.393056      F  \n",
       "2          31329  2100-08-29 23:17:00  0.950000      F  \n",
       "3            783  2100-09-09 14:27:00  0.477083      F  \n",
       "4           6122  2100-09-17 17:14:00  0.621528      M  \n",
       "...          ...                  ...       ...    ...  \n",
       "3775       20650  2201-05-15 15:18:00  0.981250      M  \n",
       "3776        1424  2201-05-21 12:17:00  0.356944      M  \n",
       "3777       10100  2201-05-21 14:53:00  0.588889      M  \n",
       "3778       18079  2201-06-07 16:57:00  0.606250      M  \n",
       "3779       25913  2201-07-17 18:34:00  0.724306      M  \n",
       "\n",
       "[3780 rows x 10 columns]"
      ]
     },
     "execution_count": 6,
     "metadata": {},
     "output_type": "execute_result"
    }
   ],
   "source": [
    "train_df"
   ]
  },
  {
   "cell_type": "code",
   "execution_count": 7,
   "metadata": {},
   "outputs": [],
   "source": [
    "classes = list(test_df.columns[3:])"
   ]
  },
  {
   "cell_type": "code",
   "execution_count": 8,
   "metadata": {},
   "outputs": [],
   "source": [
    "import pandas as pd\n",
    "\n",
    "# grads_df = pd.read_csv('all_test_grads2.csv')\n",
    "grads_df = pd.read_csv('all_nicu_grads.csv')\n",
    "\n",
    "grads_df['tokens']=grads_df['tokens'].apply(eval)\n",
    "\n",
    "grads_df['grad'] = grads_df['grad'].apply(eval)"
   ]
  },
  {
   "cell_type": "code",
   "execution_count": 9,
   "metadata": {},
   "outputs": [],
   "source": [
    "# grads_df=grads_df[-1*len(test_df):]"
   ]
  },
  {
   "cell_type": "code",
   "execution_count": 10,
   "metadata": {},
   "outputs": [],
   "source": [
    "criterion = nn.CrossEntropyLoss()"
   ]
  },
  {
   "cell_type": "code",
   "execution_count": 11,
   "metadata": {},
   "outputs": [],
   "source": [
    "model_path = '../torch_tcav/model_train_scripts/checkpoints/FINALWeightedBlueBert512NicuLosAdmissions_2/checkpoint-26015'\n",
    "bert = WeightedBertForSequenceClassification.from_pretrained(model_path,output_attentions=True)"
   ]
  },
  {
   "cell_type": "code",
   "execution_count": 12,
   "metadata": {},
   "outputs": [],
   "source": [
    "device = torch.device('cuda' if torch.cuda.is_available() else 'cpu')\n",
    "bert.eval();\n",
    "tokens = tokenizer.encode(['This is a test','so is this'], padding='max_length', max_length=512)\n",
    "layer_acts = bert(input_ids=torch.LongTensor([tokens,tokens]))\n"
   ]
  },
  {
   "cell_type": "code",
   "execution_count": 13,
   "metadata": {},
   "outputs": [
    {
     "data": {
      "text/plain": [
       "tensor([[-2.2032,  1.8657],\n",
       "        [-2.2032,  1.8657]], grad_fn=<AddmmBackward>)"
      ]
     },
     "execution_count": 13,
     "metadata": {},
     "output_type": "execute_result"
    }
   ],
   "source": [
    "layer_acts"
   ]
  },
  {
   "cell_type": "code",
   "execution_count": 14,
   "metadata": {},
   "outputs": [],
   "source": [
    "quotes_list = ['IUI, trichorionic, triamniotic','Antepartum remarkable for ART conception with subsequent twinning of one embryo',\n",
    "              'Growth better than siblings, but still only around 10-25%','Infant TRIPLET BORN AT 31 WEEKS GESTATION']"
   ]
  },
  {
   "cell_type": "code",
   "execution_count": 15,
   "metadata": {},
   "outputs": [],
   "source": [
    "grads_df['ROW_ID'] = list(train_df['ROW_ID'])+list(val_df['ROW_ID'])+list(test_df['ROW_ID'])\n",
    "grads_df['TEXT'] = list(train_df['TEXT'])+list(val_df['TEXT'])+list(test_df['TEXT'])"
   ]
  },
  {
   "cell_type": "code",
   "execution_count": 16,
   "metadata": {
    "tags": []
   },
   "outputs": [],
   "source": [
    "# list(grads_df[grads_df['TEXT'].apply(lambda x: 'eclampsia' in x.lower())]['TEXT'])"
   ]
  },
  {
   "cell_type": "code",
   "execution_count": 17,
   "metadata": {},
   "outputs": [],
   "source": [
    "note='Past Medical History:- HTN- HL- arrhythmia-  on stress testing [**3-/2145**], increased ectopy including frequent APB\\'s, couplets, triplets and several runs of nonsustained wide complex tachycardia.'"
   ]
  },
  {
   "cell_type": "code",
   "execution_count": 18,
   "metadata": {},
   "outputs": [
    {
     "name": "stderr",
     "output_type": "stream",
     "text": [
      "  0%|          | 0/1 [00:00<?, ?it/s]/gpfs/gsfs12/users/moldwinar/environments/torchtcav/lib/python3.6/site-packages/torch/nn/modules/module.py:974: UserWarning: Using a non-full backward hook when the forward contains multiple autograd Nodes is deprecated and will be removed in future versions. This hook will be missing some grad_input. Please use register_full_backward_hook to get the documented behavior.\n",
      "  warnings.warn(\"Using a non-full backward hook when the forward contains multiple autograd Nodes \"\n",
      "100%|██████████| 1/1 [01:03<00:00, 63.96s/it]\n",
      "100%|██████████| 1/1 [01:03<00:00, 63.41s/it]\n"
     ]
    }
   ],
   "source": [
    "texts=['trhiu=','']\n",
    "config = BertConfig()\n",
    "batch_size=1\n",
    "all_instances = []\n",
    "for text in texts:\n",
    "    test_example = [[note],['this also is']]\n",
    "\n",
    "    test_dataset = NewsDataset(\n",
    "        data_list=test_example,\n",
    "        tokenizer=tokenizer,\n",
    "        max_length=config.max_position_embeddings, \n",
    "    )\n",
    "\n",
    "    test_dataloader = DataLoader(\n",
    "        test_dataset,\n",
    "        batch_size=batch_size,\n",
    "        shuffle=False,\n",
    "    )\n",
    "\n",
    "    integrated_grad = IntegratedGradient(\n",
    "        bert, \n",
    "        criterion, \n",
    "        tokenizer, \n",
    "        show_progress=True,\n",
    "        encoder=\"bert\"\n",
    "    )\n",
    "    instances = integrated_grad.saliency_interpret(test_dataloader)\n",
    "    all_instances.append(instances)"
   ]
  },
  {
   "cell_type": "code",
   "execution_count": 19,
   "metadata": {},
   "outputs": [],
   "source": [
    "# instances"
   ]
  },
  {
   "cell_type": "code",
   "execution_count": 20,
   "metadata": {},
   "outputs": [],
   "source": [
    "test_df = pd.read_csv('../tcav2/data/los_nicu_test_admissions.csv')\n",
    "notes_path='../../LHC_mimic/mimic3_1.4/raw_data/NOTEEVENTS.csv'\n",
    "test_df= test_df.merge(pd.read_csv(notes_path, usecols=['ROW_ID','HADM_ID']), on='ROW_ID',how='left')\n",
    "dx_df = pd.read_csv('../../LHC_mimic/mimic3_1.4/raw_data/DIAGNOSES_ICD.csv')\n",
    "dx_df = pd.DataFrame(dx_df.groupby('HADM_ID')['ICD9_CODE'].apply(list)).reset_index()\n",
    "test_df=test_df.merge(dx_df[['HADM_ID','ICD9_CODE']], on='HADM_ID',how='left')"
   ]
  },
  {
   "cell_type": "code",
   "execution_count": 55,
   "metadata": {},
   "outputs": [
    {
     "data": {
      "text/plain": [
       "[{'TEXT': 'Admission Note\\nNeonatology H&P\\n\\nBaby Girl [**Known lastname 2753**] is a newborn 35 wk infant admitted to the NICU with prematurity and respiratory distress.\\n\\nShe was born at 12:06 am this morning as the 3495 gram product of a 35 week twin gestation pregnancy to a 28 y.o. G2 P1-2 mother with [**Name (NI) 44**] [**2105-8-15**].  Prenatal labs included BT A+/Ab-, RPR NR, RI, HBsAg-, GBS unknown, and HIV negative.  Maternal history notable for HSV, not currently active, and depression, currently treated with prozac.  This pregnancy was notable for spontaneous mono/di twin gestation.  Mother was followed closely at [**Name (NI) 67**] Hospital by her OB and by Dr. [**Last Name (STitle) **] for concerns of twin-twin transfusion syndrome, with up to a 30% growth discrepancy seen.  Amniotic fluid volumes, however, remained similar, and no evidence of hydrops was noted.\\n\\nMother presented to her OB today with complaints of decreased fetal activity.  Ultrasound showed in-utero fetal demise of twin 2, the smaller twin.  Twin 1, this twin, was found to be in breech position with EFW 3177 grams, normal AFI, and BPP [**9-23**].  Due to demise of twin 2, mother was sent to [**Hospital1 187**] for delivery.  Of note, mother had been seen by her OB 3 days earlier with reassuring assessment of both twins at that time.  Mother denied recent illness or injury.\\n\\nAt [**Hospital1 187**], brief bedside ultrasound was performed; no ascited, pleural effusion, or pericardial effusion was seen, although some skin edema was present.\\n\\nDelivery occured via c-section.  Mother was not in labor, membraners were intact at delivery, there was no intrapartum fever noted, and mother did not receive antibiotic prophylaxis.  This infant emerged from breech position with moderate tone and activity, requiring suctioning, vigorous stimulation, and blow-by oxygen followed by facial CPAP for resuscitation.  Color and respiratory effort slowly improved, and infant was then brought to NICU with oxygen and facial CPAP.  Apgars were [**8-22**].\\n\\nInfant was placed on CPAP on arrival to NICU.\\n\\nPhysical Exam:\\nWt 3495 grams (>95%), HC 36.5 (>95%), L 49 cm (75-90%).\\nVS: T 99.8 HR 160-180s, RR 40s-50s, BP 71/19 (40)-->82/30 (48).\\nOn CPAP 7, FiO2 40-50%, O2sat 93-98%.\\nGen: LGA, somewhat plethoric appearing, active and irritable with exam, mild to moderate respiratory distress at rest with CPAP.\\nSkin: pink, edematous, ruddy over chest, arms and legs mottled, sluggish capillary refill.\\nHEENT: fontanelles soft and flat, palate intact, +RR bilaterally, ears/nares normal.\\nNeck: short, supple, no [**Doctor First Name **].\\nChest: coarse, well-aerated, mild to moderate retractions, mild grunting.\\nCardiac: RRR, no m, femoral pulses 2+.\\nAbdomen: soft, full, no HSM, no distinct mass, quiet BS, 3VC.\\nGU: normal female GU, anus patent.\\nExt: left hip lax but stable, right hip stable, back normal.\\nNeuro: appropriate tone and activity, intact moro, poor suck.\\n\\nLabs and studies:\\nDstik: 71.\\nCBC and blood cx sent.\\nCoags sent.\\nABG: 7.24/50/77/22 on CPAP approx 40-50% FiO2.\\nBabygram pending.\\n\\nIMP: Newborn 35 week infant admitted to the NICU with respiratory distre\\n',\n",
       "  'ROW_ID': 2040433,\n",
       "  'ICD9_CODE': ['V3101',\n",
       "   '76519',\n",
       "   '7742',\n",
       "   '76528',\n",
       "   '77089',\n",
       "   '75513',\n",
       "   'V290',\n",
       "   'V053']},\n",
       " {'TEXT': 'Admission Note\\nOb-[**Doctor Last Name 659**]\\nPedi-[**First Name4 (NamePattern1) 516**] [**Last Name (NamePattern1) 2371**] in [**Location (un) 2372**]\\n\\nBaby girl [**Known lastname 2373**] is the 1440 gram product of a 34 [**6-18**] week gestation (EDC [**2107-6-1**]) born to a 38 yo G3P2 mom with PNS A+, antibody negative, RPR NR, Rubella Immune, Hep B negative, GBS unknown. Pregnancy complicated by discordinate growth.\\n\\nThis infant was born by C-section for discordinate growth with Apgar scores 3 (1 min) 6 (5 min).  She was intubated in the delivery room because of poor respiratory distress.\\n\\nExam gen infant smaller than stated gestational age.\\nweight 1440 grams (<10%)\\nTemp 98.3 HR 168 RR 42 BP 43/22 mean 31 D stick 116\\nHEENT-normocephalic atraumatic ant font open flat palate intact\\nneck supple\\nlungs-coarse breath sounds equal bilaterally\\nCV regular rate and rhythm no murmur femoral pulses 2+ bilaterally\\nAbd soft with active bowel sounds no masses or distention\\nGU normal female premature slight prominence of the clitoris\\nAnus patent\\nHips limited abduction but no click present\\nExt hand looked contracted but will go back to normal easily suggestive of positional deformity\\n\\nImp-SGA 34 [**6-18**] week twin in stable but guarded condition\\nResp-will continue ventilation as needed. One dose of surfactant given.\\nCV-was initially mottled but stable currently\\nFEN-NPO will begin IVF at 60 cc/kg/day\\nID-will check CBC and blood culture and will begin amp/gent\\nDispo-will plan to transfer to [**Hospital1 120**] for further management.\\n',\n",
       "  'ROW_ID': 1868817,\n",
       "  'ICD9_CODE': ['V3101',\n",
       "   '769',\n",
       "   '76527',\n",
       "   '76405',\n",
       "   '76495',\n",
       "   '75249',\n",
       "   'V290',\n",
       "   'V721']},\n",
       " {'TEXT': \"NICU NSG ADMIT NOTE\\n\\n27 [**4-8**] week male twin B admitted from L&D for prematurity. Please see above MD note for maternal/delivery hx. [**Month/Day (4) **] was intubated in OR and transported to NICU via heated isolette, being hand bagged. Arrived to NICU pale pink. Placed on radiant warmer with monitors on. VS on admission as per flow sheet.\\nResp: Initial vent settings 26/5 x28. FIO2 40-60%. Weaned vent settings to 22/5 x25. ABG at 1715: 7.25/48/42/22/-6. FIO2 remained 40-50%. Repeat ABG at 2100 7.15/46/51/17/-12. Na+ Bicarb 1meq/k given as ordered. LS corase. IC/SubC retractions. RR 40's.\\nCV: [**Month/Day (4) **]'s BP's initially elevated with Systolic BPs 70-90's/Diastolics 50's and means 50-60's per cuff pressures. Color was pale--pale pink with increasing mottling. HR 150-170's. UAC placed with slightly imporved BP readings as documented on flow sheet (70's/30's with means 50's). After central umbilical lines placed, [**Month/Day (4) 168**] noted to have oozing of blood from umbi. NNP notified and at bedside. Pressure applied, but [**Month/Day (4) 168**] continued to have intermittant oozing. Attending at bedside and umbi stitched with multiple sutures by Dr [**Last Name (STitle) 58**]. PT/PTT, Fibrinogen and repeat hct and plts sent. Estimated total blood loss ~5-7cc. ECHO obtained d/t prenatal hx of pericardial effusion and enlarged heart on CXR. [**Name8 (MD) 85**] MD noted for ECHO results. Repeat hct 26 (from 39.7). 20cc/k PRBCs started after consent obtained from parents. BP now 41/25 (32) per UAC. Color pale pink, less mottled.\\nFEN: BW 1220g. TF 100cc/k/d. NPO. Initial DS 157. DLUVC and UAC running per orders. Of note, UAC is low lying. D10W changed to D15 following a ds 42 ([**Name8 (MD) 168**] had also received 2cc/k D10 bolus prior to lines being changed over. Follow up ds 60. UAC has 1/2NS with 1/2u hep/cc at 1cc/h. and Started PN D5W is currently at 50cc/k/d. [**Name8 (MD) **] has voided 27+cc. Mec stooled in OR after delivery.\\nSepsis: CBC and Blood Cx obtained and sent. No left shift. Csx pending. 1st doses ampi and gent started.\\nDev: Radiant warmer. Temps stable. Up to 100.3 x1 when probe was loose. Bruising noted on trunk, extremities and groin. Also sm bruise noted to rop of right big toe. Active with cares. Sleeping in between.\\nParenting. Mom and dad intact. 2yo daughter at home. Updated at bedside. Many family supports in to see [**Name8 (MD) 168**].\\n\",\n",
       "  'ROW_ID': 1911743,\n",
       "  'ICD9_CODE': ['V3101',\n",
       "   '76514',\n",
       "   '7742',\n",
       "   '769',\n",
       "   '7707',\n",
       "   '7470',\n",
       "   '77183',\n",
       "   '7763',\n",
       "   '7761',\n",
       "   '7793',\n",
       "   '2767',\n",
       "   '2762',\n",
       "   '5601',\n",
       "   '76524',\n",
       "   '7613',\n",
       "   '36221',\n",
       "   '77989',\n",
       "   '55090',\n",
       "   '77081',\n",
       "   '4019',\n",
       "   '7764',\n",
       "   '73026',\n",
       "   'V053',\n",
       "   '77981']},\n",
       " {'TEXT': 'Admission Note\\nOb-[**Doctor Last Name 4098**]\\nPedi-undecided at this time\\n\\nBaby [**Known lastname 4115**] [**Name2 (NI) 94**] is the 1090 gram product of a 31 [**3-30**] week gestation (EDC 5/20/7) born to a 29 yo G1 P0 mom with PNS blood type O negative, Hep B negative, RPR NR, RUbella Immune, Antibody negative, and GBS unknown.  This was a spontanesous mono-di twin gestation.  This pregnancy was complicated by pre-eclamsia and absent diastolic flow in this twin.  This twin was born by C-section. She was given BBO2 in the delivery room. Her Apgar scores 7 (1 min) 9 (5 min). She was taken to the NICU for further management\\n\\nSH-intact couple\\nFH-otherwise noncontributory\\nROS-all other systems unavailable\\n\\nExam-infant smaller than stated gestational age\\nweight 1090 grams (<10%) length 36 cm (10%) HC 26.5 (10%)\\nTemp 96.5 HR 142 RR 38 Bp 56/41 mean 46 sat 100% in room a ir D stick 89\\nHEENT normocephalic atrauamtic ant font open flat palate intact red reflex deferred palate intact right ear tag present\\nskin mottled and wrinkled\\nneck supple\\nlungs clear bilaterally\\nCV regular rate and rhythm no murmur femoral pulses 2+ bilaterally\\nAbd soft active bowel sounds no masses or distention\\nGU normal preterm female\\nSpine midline no dimple\\nHips stable\\nClavicles intact\\nNeuro slightly decreased tone\\nAnus patent\\nExt warm with brisk cap refill\\n\\nIMP-infant born at 31 [**3-30**] week in stable currently\\nRESP-Will monitor carefully for distress. Will have a low threshold for\\nCV-stable currently\\nFEN-will keep NPO for now. Will begin starter PN at 50 cc/kg/day and IVF at 30 cc/kg/day\\nID-will draw cbc and blood culture. Will not begin abx unless there is clincal concern\\nNEURO-will have a HUS\\n',\n",
       "  'ROW_ID': 1944613,\n",
       "  'ICD9_CODE': ['V3101',\n",
       "   '76514',\n",
       "   '7793',\n",
       "   '7742',\n",
       "   '76404',\n",
       "   '76526',\n",
       "   '77081',\n",
       "   '77981',\n",
       "   '77989',\n",
       "   '55090',\n",
       "   '7766',\n",
       "   '7784',\n",
       "   '75739',\n",
       "   'V290',\n",
       "   'V053']},\n",
       " {'TEXT': \"Admission Note\\nOb-[**First Name8 (NamePattern2) 2494**] [**Last Name (NamePattern1) 398**]\\nPedi-[**First Name8 (NamePattern2) 185**] [**Last Name (NamePattern1) 1432**] in [**Hospital1 1935**], Ma\\n\\nBaby girl [**Known lastname 2495**] is the 3530 gram product of a 38 [**1-26**] week (EDC [**2128-2-10**]) gestation born to a 37 you G3 P 2 mom with PNS A positive, antibody negative, RPR NR, Rubella Immune, Hep B negative, GBS unknown. This pregnancy was complicated by gestational diabetes which was diet controlled.  Mom had a previous pregnancy that was complicated by a loss at 29 weeks due to hydrops. That infant was chromosomally normal.  Mom was taking prenatal vitamins and zantac.\\nShe was born by repeat scheduled C-section with Apgar scores of 4 (1min) 5 (5 min) 7 (10 min).  She required PPV in the delivery room and was noted to be limp and lethargic in the delivery room.  She was taken to the NICU for further evaluation.\\n\\nExam: infant profoundly pale and had obvious decreased tone and poor respiration\\ntemp 97.3 HR 156 sat in room air 74% BP 81/52 mean 62\\nHEENT-normocephalic atramatic ant font open flat palate intact\\nneck supple\\nLung clear bilaterally\\nCV regular rate and rhythm no murmur femoral pulses 2+ bilaterally\\nAbd soft with active bowel sounds no masses or distentions\\nExt warm well perfused brisk skin mottled and pale\\nNeuro unable to elicit deep tendon reflexes at the knees bilaterally tone decreased globally\\nSpine midline no sacral dimple\\nHips stable\\nGU normal premature female\\n\\nImp-Full term infant in guarded status. Because of the global palor and decreased tone worry about possible hypoxic injury.  It could also represent sepsis though there are no obvious risk factors. It could also be neonatal hemorrhage though there was no report of major blood loss in the delivery room.  This could represent drug exposure but mom not treated with\\n\\nResp-intubated now. Will wean ventilator as respiratory status improves\\nCV-stable will monitor BP closely\\nFEN-will keep NPO for now. Will begin IVF at 60 cc/kg/day\\nID-will check a CBC and a blood culture will begin amp/gent because of sepsis risk\\nNeuro-will follow clincal exam for now. Will have a head ultrasound over the weekend if necessary.  Worry about the potential for seizures\\nGI-will check LFT's as a potential marker for hypoxic injury.\\n\",\n",
       "  'ROW_ID': 1982212,\n",
       "  'ICD9_CODE': ['V3001', '769', '74602', '7790', '7720', 'V053', 'V290']},\n",
       " {'TEXT': \"NICU Admission/Progress Note:\\nAdmitted this infant to NICU warmer due to prematurity, r/o sepsis, and respiratory distress. Infant initially mottled/pink, and received 23cc NS bolus though BPm and other VS stable. Also was having frequent transient grunting with minimal retracting w/Sao2's in low 90's in RA. Rec'd blow-by Fio2 a few times but then able to withdraw. CXR unremarkable, D/S:76. CBC w/diff non-concerning and blood culture pending at this time. On gent and amp. Rec'd Vit K and erythro as ordered, was made NPO, and started D10W at 80cc/k/d. Voiding, no stool so far this shift. At present is pink and not grunting, appears comfortable w/RR in 50-60's, and has Sao2's in high 90's-100% in RA.\\nParents in to visit, da in a few times more this afternoon and has been updated. Con't to support.\\n\\n\",\n",
       "  'ROW_ID': 1947823,\n",
       "  'ICD9_CODE': ['V3001', '76518', '7708', '7742', 'V290', 'V053']},\n",
       " {'TEXT': 'Admission Note\\nOb-[**Doctor Last Name 2511**]\\nDelivering Ob-[**Hospital Ward Name 260**]\\nPedi-[**Doctor Last Name 2464**]\\n\\nBaby boy [**Known lastname 3834**] [**Name2 (NI) **] is the 1105 gram product of a 27 [**6-17**] week gestation (EDC [**2138-6-28**]) born to a 32 yo G2 P1 mom with PNS O positive, antibody negative, RPR NR, Rubella Immune, Hep B negative, GBS unknown.   Pregnancy complicated by unstoppable preterm labor.  Mom has a h/o of cervical shortening s/p cerclage placement. There was concern for premature rupture of membranes at 26 weeks so she was treated with betamethasone at that time.\\n\\nThis infant was born by C-section becasue of intolerance of labor. He emerged bruised with poor tone, decreased HR, and poor respiratory effort. He was intubated in the delivery room with Apgar scores of 7 (min) and 7 (5 min).  He was taken to the NICU for further management.\\n\\nExam: weight 1105 grams (50%) HC 26.5 cm (50%) length 35.5 cm (25%)\\nTemp 98.4 HR 183 RR 48 BP 56/18 mean 23\\nGEN infant with obvious respiratory distress appearing stated gestational age\\nSkin pale mottled with patchwork appearing\\nHEENT normocephalic atramatic red reflex present bilaterally palate intact\\nneck supple\\nlung-intercostal retractions poor respiratory effort\\nCV regular rate and rhythm no murmur\\nAbd soft hypoactive  bowel sounds\\nGU normal premature male with testes undescended\\nAnus patent\\nExt brusing of left leg, right calf, and right large toe blackened\\nNeuro decreaed tone\\n\\n\\nimp-twin male at 27 [**6-17**] week gestation with respiratory distress.\\n\\nResp-he most likely has HMD because of his gestational age. he also has potential of pneumonia because of history of premature rupture of mmebranes. Will treat with surfactant and begin mechanical ventilation\\n\\nCV-he has hypotension and poor perfusion.  Will begin with a normal saline bolus. Will [**Known lastname 3835**] for further hypotension. Will also [**Known lastname 3835**] for development of PDA\\n\\nFEN-will keep NPO. Will begin IVF at 100 cc/kg/day. Will begin starter PN at 50 cc/kg/dy\\n\\nID-will begin amp/gent because of risk of infection. Will check CBC and blood culture.\\n\\nNeuro-will have head ultrasound by day of life [**7-20**] because of risk of IVH due to prematurity.\\n',\n",
       "  'ROW_ID': 1885286,\n",
       "  'ICD9_CODE': ['V3101',\n",
       "   '76514',\n",
       "   '76524',\n",
       "   '769',\n",
       "   '7793',\n",
       "   '7742',\n",
       "   '7707',\n",
       "   '77210',\n",
       "   '7470',\n",
       "   '7766',\n",
       "   '77081',\n",
       "   'V053',\n",
       "   'V502',\n",
       "   'V290']},\n",
       " {'TEXT': 'Neonatology Attending\\n\\n2480 gram 37 [**6-14**] week twin #2 female admitted secondary to respiratory distress.\\n\\n2480 gram 37 [**6-14**] week twin #2 female born to a 36 yo G1 P0->1 white female\\nPNS:  A-/Ab-/RPR NR/RI/HBsAg-/GBS unknown\\nTwin pregnancy.  On routine office visit found to have bradycardia of twin A.  Sent to L&D.  HR 60s on twin A led to C/S.  ROM at delivery.  This twin with tight nuchal cord cut before delivery of body.  Pale with poor perfusion.  Given vigorous stimulation, BBO2 then CPAP.  Suctioned and Deleed.  Oximeter placed and sat 60s to low 90s with facial CPAP.  Apgars [**6-14**].  Shown to parents then transferred to NICU with facial CPAP.\\n\\nROS otherwise noncontributory\\nFH none known\\nSH Married parents.  First children.  Twin brother, [**Name (NI) 1048**], in L&D with parents.  This twin named [**Name (NI) **].  Family from [**Hospital1 2910**].\\n\\nExam Pale poorly perfused female pink with CPAP in place\\nT 98.6 P 159 R 51 BP 72/47 mean 53 O2 sat 84%-91% with facial CPAP\\nWt 2480 grams (10-25%) HC 33 cm (25-50%) Lt 47 cm (25-50%)\\nAF soft, flat, CPAP in place, nondysmorphic, intact palate, normal RR OU, intermittent grunt, mild retractions, good aeration on CPAP, clear bs, no murmur, normal pulses, soft abd, 3 vessel cord, no hsm, normal female genitalia, patent anus, no hip click, no sacral dimple, active, appropriate tone, mottled with 3-4 sec capillary refill\\n\\nDS 106\\n\\nA:  37 [**6-14**] week twin #2 female with hypovolemia and respiratory distress secondary to early clamping of cord.  Low risk for RDS.  Likely TTN.\\n\\nP:  Monitor\\n    CPAP with O2 as needed to keep sats > 94%\\n    Check ABG\\n    Check CXR\\n    Follow BP\\n    NS bolus secondary to poor perfusion\\n    Check CBC, BC\\n    Hold antibiotics unless CBC suspicious or unable to transition off CPAP within a 4-6 hours\\n    Check type and Coombs as mother is Rh negative\\n    Support parents--I updated them in L&D\\n    Pediatrician will be on [**Hospital1 2910**], none chosen yet\\n\\n',\n",
       "  'ROW_ID': 2067086,\n",
       "  'ICD9_CODE': ['V3101', '7706', '7452', 'V053']},\n",
       " {'TEXT': \"NICU admission note\\n\\nInfant arrived from [**Hospital3 513**] hosp via transport isolette, received on 1.0 BBO2. Infant born  [**1-13**] at 2340, now close to 24 hr old. Weighed, placed on radiant warmer servo control, weaning as tolerated. Color is pale pink, slightly mottled. Mild generalized edema noted. RR is 80-90, IC/SC retractions noted. Placed on prong CPAP 6,~60% FIO2. Color and appearance improved immediately, but comtinued to be tachypneic and have increased WOB. BS are clear and equal to bases. See flow sheet for VS. Remains on promg CPAP ~40%, SAO2 mid to high 90's. Weaning FIO2 as tolerated. Increased FIO2 needed with cares. RR is 70-80 range. PIV infusing D10W at 80cc/k/d in right foot without incident. DS 96 and 97. Electrolytes and CBG drawn. UOP is 1.4cc/k/hr since admission, sm mec x1. Decision to intubate and administer survanta. Infant remains on Ampicillin and Gentamycin. Mom and Dad each called x1 for update.\\n\",\n",
       "  'ROW_ID': 2021654,\n",
       "  'ICD9_CODE': ['769', '76518', '76528', '7742', '7454', 'V053', 'V290']},\n",
       " {'TEXT': 'Neonatology - NNP Admission Note\\n\\nBaby girl [**Known lastname 729**] is a 36 [**2-4**] wk infant delivered to a 36 yo G1P0 Mom. Prenatal screens: Blood type O+, antibody neg, RI, RPRffNR, HBsAg neg, GBS unknown. Maternal history significant for elevated BP, h/o depression, and MS. This was and IVF pregnancy, originally twins, then reduced to [**Doctor Last Name 730**] @ 19 wks secondary to [**Doctor Last Name 731**] syndrome. Mom admitted today with increased BP, PTL and breech position. Decision to deliver by CS. Membranes ruptured at time of delivery. No maternal temp. Neonatology called at several minutes of age for resp distress. Infant sl pale/mottled, but centrally pink. + grunting flaring, retracting. Infant admitted to NICU for observation. Apgars\\n\\nPE: Wt2720g, L-18.5 inches\\nVS: T-97.9, HR-148, BP-64/31 MAP 42, RR-55, O2 sat 98%, DS-105\\n\\nNon-dysmorphic preterm infant. AFOF. + red reflex OU, lips, gums, palates intact. Chest symmetrical, clear breath sounds, + grunting/flaring/retracting, but improving over time. She is pink, well perfused, soft murmur auscultated, +2 femoral pulses. Abd soft, active bowel sounds, passing mec. Normal female genitalia, patent anus, spine straight, clavicles intact, hips stable, normal tone and MAE.\\n\\nA/P: Preterm infant with likely transitional resp distress given her improvement over time. Will monitor in NICU. If increased WOB persists will consider CXR and support with O2/CPAP/ETT with surfactant. Will also consider CBC with diff and blood culture and antibiotics if WOB persists. Have discussed this plan with the parents.\\n',\n",
       "  'ROW_ID': 1682281,\n",
       "  'ICD9_CODE': ['V3001', '76519', '76528', 'V053']},\n",
       " {'TEXT': 'NICU admission note\\nInfant admitted to NICU from L&D @ 1545.  Infant born to 28yo mom, [**Name (NI) **] P0-2, via c-section r/t IUGR.  Please see attending note for further details.  Resp= Infant initially required BBO2, mottled, currently stable in room air. BSC/=, mild SC retractions.  Tacypnic at times.  Appears comfortable at present.  CV= No murmur audible, pink, well perfused.  BP 57/28(38). FEN= BW 2370g.  Started on IVF @ 60cc/kg/d of D10W via Lfoot PIV infusing without difficulty.  D-stick= 60.  Abd soft, voided.  Cont to monitor.  G&D= Temps stable, nested under servo warmer.  Alert and active, drowsy initially.  Cont to support G&D needs.  Parents visited briefly, updated by this RN and MD.  P/Cont to support and monitor.\\n',\n",
       "  'ROW_ID': 1786633,\n",
       "  'ICD9_CODE': ['V3101', '76518', '76528', '7783']}]"
      ]
     },
     "execution_count": 55,
     "metadata": {},
     "output_type": "execute_result"
    }
   ],
   "source": [
    "test_df[test_df['TEXT'].apply(lambda x: 'mottled' in x.lower())][['TEXT','ROW_ID','ICD9_CODE']].to_dict(orient='records')"
   ]
  },
  {
   "cell_type": "code",
   "execution_count": 23,
   "metadata": {},
   "outputs": [
    {
     "name": "stderr",
     "output_type": "stream",
     "text": [
      "Using bos_token, but it is not set yet.\n"
     ]
    },
    {
     "data": {
      "text/html": [
       "<span class=\"barcode\"; style=\"color: black; background-color: #f3f8fe\"> [CLS]</span><span class=\"barcode\"; style=\"color: black; background-color: #f7fbff\"> past</span><span class=\"barcode\"; style=\"color: black; background-color: #f7fbff\"> medical</span><span class=\"barcode\"; style=\"color: black; background-color: #f7fbff\"> history</span><span class=\"barcode\"; style=\"color: black; background-color: #f7fbff\"> :</span><span class=\"barcode\"; style=\"color: black; background-color: #f7fbff\"> -</span><span class=\"barcode\"; style=\"color: black; background-color: #f7fbff\"> h</span><span class=\"barcode\"; style=\"color: black; background-color: #f6faff\">t</span><span class=\"barcode\"; style=\"color: black; background-color: #f5fafe\">n</span><span class=\"barcode\"; style=\"color: black; background-color: #f6faff\"> -</span><span class=\"barcode\"; style=\"color: black; background-color: #f6faff\"> h</span><span class=\"barcode\"; style=\"color: black; background-color: #f6faff\">l</span><span class=\"barcode\"; style=\"color: black; background-color: #f7fbff\"> -</span><span class=\"barcode\"; style=\"color: black; background-color: #f7fbff\"> ar</span><span class=\"barcode\"; style=\"color: black; background-color: #f6faff\">rh</span><span class=\"barcode\"; style=\"color: black; background-color: #f7fbff\">yt</span><span class=\"barcode\"; style=\"color: black; background-color: #f7fbff\">hmi</span><span class=\"barcode\"; style=\"color: black; background-color: #f6faff\">a</span><span class=\"barcode\"; style=\"color: black; background-color: #f7fbff\"> -</span><span class=\"barcode\"; style=\"color: black; background-color: #f7fbff\"> on</span><span class=\"barcode\"; style=\"color: black; background-color: #f7fbff\"> stress</span><span class=\"barcode\"; style=\"color: black; background-color: #f3f8fe\"> testing</span><span class=\"barcode\"; style=\"color: black; background-color: #f6faff\"> [</span><span class=\"barcode\"; style=\"color: black; background-color: #f6faff\"> *</span><span class=\"barcode\"; style=\"color: black; background-color: #f5fafe\"> *</span><span class=\"barcode\"; style=\"color: black; background-color: #f7fbff\"> 3</span><span class=\"barcode\"; style=\"color: black; background-color: #f7fbff\"> -</span><span class=\"barcode\"; style=\"color: black; background-color: #f7fbff\"> /</span><span class=\"barcode\"; style=\"color: black; background-color: #f0f6fd\"> 214</span><span class=\"barcode\"; style=\"color: black; background-color: #f7fbff\">5</span><span class=\"barcode\"; style=\"color: black; background-color: #f7fbff\"> *</span><span class=\"barcode\"; style=\"color: black; background-color: #f6faff\"> *</span><span class=\"barcode\"; style=\"color: black; background-color: #f5fafe\"> ]</span><span class=\"barcode\"; style=\"color: black; background-color: #f3f8fe\"> ,</span><span class=\"barcode\"; style=\"color: black; background-color: #f1f7fd\"> increased</span><span class=\"barcode\"; style=\"color: black; background-color: #f6faff\"> ec</span><span class=\"barcode\"; style=\"color: black; background-color: #f5f9fe\">top</span><span class=\"barcode\"; style=\"color: black; background-color: #f5f9fe\">y</span><span class=\"barcode\"; style=\"color: black; background-color: #f7fbff\"> including</span><span class=\"barcode\"; style=\"color: black; background-color: #f7fbff\"> frequent</span><span class=\"barcode\"; style=\"color: black; background-color: #f7fbff\"> ap</span><span class=\"barcode\"; style=\"color: black; background-color: #f7fbff\">b</span><span class=\"barcode\"; style=\"color: black; background-color: #f7fbff\"> '</span><span class=\"barcode\"; style=\"color: black; background-color: #f6faff\"> s</span><span class=\"barcode\"; style=\"color: black; background-color: #f6faff\"> ,</span><span class=\"barcode\"; style=\"color: black; background-color: #f7fbff\"> couple</span><span class=\"barcode\"; style=\"color: black; background-color: #f4f9fe\">ts</span><span class=\"barcode\"; style=\"color: black; background-color: #f5fafe\"> ,</span><span class=\"barcode\"; style=\"color: black; background-color: #f4f9fe\"> triple</span><span class=\"barcode\"; style=\"color: black; background-color: #f3f8fe\">ts</span><span class=\"barcode\"; style=\"color: black; background-color: #f7fbff\"> and</span><span class=\"barcode\"; style=\"color: black; background-color: #f6faff\"> several</span><span class=\"barcode\"; style=\"color: black; background-color: #f4f9fe\"> runs</span><span class=\"barcode\"; style=\"color: black; background-color: #f7fbff\"> of</span><span class=\"barcode\"; style=\"color: black; background-color: #f7fbff\"> non</span><span class=\"barcode\"; style=\"color: black; background-color: #f6faff\">sus</span><span class=\"barcode\"; style=\"color: black; background-color: #f7fbff\">tained</span><span class=\"barcode\"; style=\"color: black; background-color: #f4f9fe\"> wide</span><span class=\"barcode\"; style=\"color: black; background-color: #f6faff\"> complex</span><span class=\"barcode\"; style=\"color: black; background-color: #f7fbff\"> ta</span><span class=\"barcode\"; style=\"color: black; background-color: #f7fbff\">chy</span><span class=\"barcode\"; style=\"color: black; background-color: #f4f9fe\">card</span><span class=\"barcode\"; style=\"color: black; background-color: #f7fbff\">ia</span><span class=\"barcode\"; style=\"color: black; background-color: #eff6fc\"> .</span><span class=\"barcode\"; style=\"color: black; background-color: #08306b\"> [SEP]</span><span class=\"barcode\"; style=\"color: black; background-color: 0\">    Label: 1 |</span><span class=\"barcode\"; style=\"color: black; background-color: #00441b\">99.97%</span>|"
      ],
      "text/plain": [
       "<IPython.core.display.HTML object>"
      ]
     },
     "metadata": {},
     "output_type": "display_data"
    }
   ],
   "source": [
    "coloder_string = integrated_grad.colorize(instances[0])\n",
    "display(HTML(coloder_string))"
   ]
  },
  {
   "cell_type": "code",
   "execution_count": 24,
   "metadata": {},
   "outputs": [
    {
     "data": {
      "text/html": [
       "<div>\n",
       "<style scoped>\n",
       "    .dataframe tbody tr th:only-of-type {\n",
       "        vertical-align: middle;\n",
       "    }\n",
       "\n",
       "    .dataframe tbody tr th {\n",
       "        vertical-align: top;\n",
       "    }\n",
       "\n",
       "    .dataframe thead th {\n",
       "        text-align: right;\n",
       "    }\n",
       "</style>\n",
       "<table border=\"1\" class=\"dataframe\">\n",
       "  <thead>\n",
       "    <tr style=\"text-align: right;\">\n",
       "      <th></th>\n",
       "      <th>Unnamed: 0</th>\n",
       "      <th>tokens</th>\n",
       "      <th>grad</th>\n",
       "      <th>label</th>\n",
       "      <th>prob</th>\n",
       "      <th>ROW_ID</th>\n",
       "      <th>TEXT_x</th>\n",
       "      <th>TEXT_y</th>\n",
       "    </tr>\n",
       "  </thead>\n",
       "  <tbody>\n",
       "    <tr>\n",
       "      <th>0</th>\n",
       "      <td>1286</td>\n",
       "      <td>[[CLS], neon, ##ato, ##logy, attending, admiss...</td>\n",
       "      <td>[3.172817741869949e-05, 0.0012127560330554843,...</td>\n",
       "      <td>0</td>\n",
       "      <td>0.999892</td>\n",
       "      <td>1741459</td>\n",
       "      <td>Neonatology Attending Admission Note\\n\\nInfnat...</td>\n",
       "      <td>Neonatology Attending Admission Note\\n\\nInfnat...</td>\n",
       "    </tr>\n",
       "    <tr>\n",
       "      <th>1</th>\n",
       "      <td>2713</td>\n",
       "      <td>[[CLS], neon, ##ato, ##logy, attending, pre, #...</td>\n",
       "      <td>[0.001805896288715303, 0.0003229107824154198, ...</td>\n",
       "      <td>1</td>\n",
       "      <td>0.999999</td>\n",
       "      <td>1924622</td>\n",
       "      <td>Neonatology Attending\\n\\nPreterm infant with r...</td>\n",
       "      <td>Neonatology Attending\\n\\nPreterm infant with r...</td>\n",
       "    </tr>\n",
       "  </tbody>\n",
       "</table>\n",
       "</div>"
      ],
      "text/plain": [
       "   Unnamed: 0                                             tokens  \\\n",
       "0        1286  [[CLS], neon, ##ato, ##logy, attending, admiss...   \n",
       "1        2713  [[CLS], neon, ##ato, ##logy, attending, pre, #...   \n",
       "\n",
       "                                                grad  label      prob  \\\n",
       "0  [3.172817741869949e-05, 0.0012127560330554843,...      0  0.999892   \n",
       "1  [0.001805896288715303, 0.0003229107824154198, ...      1  0.999999   \n",
       "\n",
       "    ROW_ID                                             TEXT_x  \\\n",
       "0  1741459  Neonatology Attending Admission Note\\n\\nInfnat...   \n",
       "1  1924622  Neonatology Attending\\n\\nPreterm infant with r...   \n",
       "\n",
       "                                              TEXT_y  \n",
       "0  Neonatology Attending Admission Note\\n\\nInfnat...  \n",
       "1  Neonatology Attending\\n\\nPreterm infant with r...  "
      ]
     },
     "execution_count": 24,
     "metadata": {},
     "output_type": "execute_result"
    }
   ],
   "source": [
    "texts = train_df[train_df['TEXT'].apply(lambda x: any([y in x for y in quotes_list]))]\n",
    "\n",
    "grads_df.merge(texts[['TEXT','ROW_ID']], on='ROW_ID',how='inner')"
   ]
  },
  {
   "cell_type": "code",
   "execution_count": 25,
   "metadata": {},
   "outputs": [],
   "source": [
    "texts_to_visualize=pd.DataFrame([1995762,960886,1797993,2021380  ,1756099,33367,1891184,1712408,1887933    ], columns=['ROW_ID']).merge(grads_df, how='left',on='ROW_ID')"
   ]
  },
  {
   "cell_type": "code",
   "execution_count": 26,
   "metadata": {},
   "outputs": [
    {
     "data": {
      "text/html": [
       "<div>\n",
       "<style scoped>\n",
       "    .dataframe tbody tr th:only-of-type {\n",
       "        vertical-align: middle;\n",
       "    }\n",
       "\n",
       "    .dataframe tbody tr th {\n",
       "        vertical-align: top;\n",
       "    }\n",
       "\n",
       "    .dataframe thead th {\n",
       "        text-align: right;\n",
       "    }\n",
       "</style>\n",
       "<table border=\"1\" class=\"dataframe\">\n",
       "  <thead>\n",
       "    <tr style=\"text-align: right;\">\n",
       "      <th></th>\n",
       "      <th>ROW_ID</th>\n",
       "      <th>Unnamed: 0</th>\n",
       "      <th>tokens</th>\n",
       "      <th>grad</th>\n",
       "      <th>label</th>\n",
       "      <th>prob</th>\n",
       "      <th>TEXT</th>\n",
       "    </tr>\n",
       "  </thead>\n",
       "  <tbody>\n",
       "    <tr>\n",
       "      <th>0</th>\n",
       "      <td>1995762</td>\n",
       "      <td>NaN</td>\n",
       "      <td>NaN</td>\n",
       "      <td>NaN</td>\n",
       "      <td>NaN</td>\n",
       "      <td>NaN</td>\n",
       "      <td>NaN</td>\n",
       "    </tr>\n",
       "    <tr>\n",
       "      <th>1</th>\n",
       "      <td>960886</td>\n",
       "      <td>NaN</td>\n",
       "      <td>NaN</td>\n",
       "      <td>NaN</td>\n",
       "      <td>NaN</td>\n",
       "      <td>NaN</td>\n",
       "      <td>NaN</td>\n",
       "    </tr>\n",
       "    <tr>\n",
       "      <th>2</th>\n",
       "      <td>1797993</td>\n",
       "      <td>4531.0</td>\n",
       "      <td>[[CLS], neon, ##ato, ##logy, attending, pre, #...</td>\n",
       "      <td>[0.0006579961045645177, 0.0005383858806453645,...</td>\n",
       "      <td>1.0</td>\n",
       "      <td>0.999999</td>\n",
       "      <td>Neonatology Attending\\n\\nPreterm infant with r...</td>\n",
       "    </tr>\n",
       "    <tr>\n",
       "      <th>3</th>\n",
       "      <td>2021380</td>\n",
       "      <td>6902.0</td>\n",
       "      <td>[[CLS], neon, ##ato, ##logy, attending, admiss...</td>\n",
       "      <td>[0.003377385903149843, 0.00105695438105613, 0....</td>\n",
       "      <td>1.0</td>\n",
       "      <td>0.999999</td>\n",
       "      <td>Neonatology Attending Admission Note\\n\\nInfant...</td>\n",
       "    </tr>\n",
       "    <tr>\n",
       "      <th>4</th>\n",
       "      <td>1756099</td>\n",
       "      <td>2097.0</td>\n",
       "      <td>[[CLS], nic, ##u, attending, admission, note, ...</td>\n",
       "      <td>[0.0004335545818321407, 0.00045383695396594703...</td>\n",
       "      <td>0.0</td>\n",
       "      <td>0.999999</td>\n",
       "      <td>NICU  Attending Admission Note\\n\\nID: 31 week ...</td>\n",
       "    </tr>\n",
       "    <tr>\n",
       "      <th>5</th>\n",
       "      <td>33367</td>\n",
       "      <td>NaN</td>\n",
       "      <td>NaN</td>\n",
       "      <td>NaN</td>\n",
       "      <td>NaN</td>\n",
       "      <td>NaN</td>\n",
       "      <td>NaN</td>\n",
       "    </tr>\n",
       "    <tr>\n",
       "      <th>6</th>\n",
       "      <td>1891184</td>\n",
       "      <td>766.0</td>\n",
       "      <td>[[CLS], neon, ##ato, ##logy, attending, admit,...</td>\n",
       "      <td>[0.004383975174278021, 0.0008386531262658536, ...</td>\n",
       "      <td>0.0</td>\n",
       "      <td>0.999999</td>\n",
       "      <td>Neonatology Attending Admit Note:\\n\\n32 [**6-1...</td>\n",
       "    </tr>\n",
       "    <tr>\n",
       "      <th>7</th>\n",
       "      <td>1712408</td>\n",
       "      <td>2425.0</td>\n",
       "      <td>[[CLS], admission, note, ob, -, [, *, *, docto...</td>\n",
       "      <td>[0.0014790587592869997, 0.004091564565896988, ...</td>\n",
       "      <td>1.0</td>\n",
       "      <td>0.999999</td>\n",
       "      <td>Admission Note\\nOb-[**Doctor Last Name 442**]\\...</td>\n",
       "    </tr>\n",
       "    <tr>\n",
       "      <th>8</th>\n",
       "      <td>1887933</td>\n",
       "      <td>6052.0</td>\n",
       "      <td>[[CLS], admission, note, neon, ##atal, attendi...</td>\n",
       "      <td>[0.0015696268528699875, 0.0019188850419595838,...</td>\n",
       "      <td>1.0</td>\n",
       "      <td>0.999999</td>\n",
       "      <td>Admission Note\\nNeonatal Attending Admission N...</td>\n",
       "    </tr>\n",
       "  </tbody>\n",
       "</table>\n",
       "</div>"
      ],
      "text/plain": [
       "    ROW_ID  Unnamed: 0                                             tokens  \\\n",
       "0  1995762         NaN                                                NaN   \n",
       "1   960886         NaN                                                NaN   \n",
       "2  1797993      4531.0  [[CLS], neon, ##ato, ##logy, attending, pre, #...   \n",
       "3  2021380      6902.0  [[CLS], neon, ##ato, ##logy, attending, admiss...   \n",
       "4  1756099      2097.0  [[CLS], nic, ##u, attending, admission, note, ...   \n",
       "5    33367         NaN                                                NaN   \n",
       "6  1891184       766.0  [[CLS], neon, ##ato, ##logy, attending, admit,...   \n",
       "7  1712408      2425.0  [[CLS], admission, note, ob, -, [, *, *, docto...   \n",
       "8  1887933      6052.0  [[CLS], admission, note, neon, ##atal, attendi...   \n",
       "\n",
       "                                                grad  label      prob  \\\n",
       "0                                                NaN    NaN       NaN   \n",
       "1                                                NaN    NaN       NaN   \n",
       "2  [0.0006579961045645177, 0.0005383858806453645,...    1.0  0.999999   \n",
       "3  [0.003377385903149843, 0.00105695438105613, 0....    1.0  0.999999   \n",
       "4  [0.0004335545818321407, 0.00045383695396594703...    0.0  0.999999   \n",
       "5                                                NaN    NaN       NaN   \n",
       "6  [0.004383975174278021, 0.0008386531262658536, ...    0.0  0.999999   \n",
       "7  [0.0014790587592869997, 0.004091564565896988, ...    1.0  0.999999   \n",
       "8  [0.0015696268528699875, 0.0019188850419595838,...    1.0  0.999999   \n",
       "\n",
       "                                                TEXT  \n",
       "0                                                NaN  \n",
       "1                                                NaN  \n",
       "2  Neonatology Attending\\n\\nPreterm infant with r...  \n",
       "3  Neonatology Attending Admission Note\\n\\nInfant...  \n",
       "4  NICU  Attending Admission Note\\n\\nID: 31 week ...  \n",
       "5                                                NaN  \n",
       "6  Neonatology Attending Admit Note:\\n\\n32 [**6-1...  \n",
       "7  Admission Note\\nOb-[**Doctor Last Name 442**]\\...  \n",
       "8  Admission Note\\nNeonatal Attending Admission N...  "
      ]
     },
     "execution_count": 26,
     "metadata": {},
     "output_type": "execute_result"
    }
   ],
   "source": [
    "texts_to_visualize"
   ]
  },
  {
   "cell_type": "code",
   "execution_count": 27,
   "metadata": {},
   "outputs": [],
   "source": [
    "def select_context_idx(row, start, stop):\n",
    "    row['grad']=[0.03]+row['grad'][start:stop]\n",
    "    row['tokens']=['']+row['tokens'][start:stop]\n",
    "    print(max(row['grad']))\n",
    "    return row"
   ]
  },
  {
   "cell_type": "code",
   "execution_count": 28,
   "metadata": {},
   "outputs": [
    {
     "ename": "TypeError",
     "evalue": "'float' object is not subscriptable",
     "output_type": "error",
     "traceback": [
      "\u001b[0;31m---------------------------------------------------------------------------\u001b[0m",
      "\u001b[0;31mTypeError\u001b[0m                                 Traceback (most recent call last)",
      "\u001b[0;32m<ipython-input-28-941d5dc33173>\u001b[0m in \u001b[0;36m<module>\u001b[0;34m\u001b[0m\n\u001b[0;32m----> 1\u001b[0;31m \u001b[0mcoloder_string\u001b[0m \u001b[0;34m=\u001b[0m \u001b[0mintegrated_grad\u001b[0m\u001b[0;34m.\u001b[0m\u001b[0mcolorize\u001b[0m\u001b[0;34m(\u001b[0m\u001b[0mselect_context_idx\u001b[0m\u001b[0;34m(\u001b[0m\u001b[0mtexts_to_visualize\u001b[0m\u001b[0;34m.\u001b[0m\u001b[0miloc\u001b[0m\u001b[0;34m[\u001b[0m\u001b[0;36m1\u001b[0m\u001b[0;34m]\u001b[0m\u001b[0;34m,\u001b[0m\u001b[0;36m145\u001b[0m\u001b[0;34m,\u001b[0m\u001b[0;36m170\u001b[0m\u001b[0;34m)\u001b[0m\u001b[0;34m.\u001b[0m\u001b[0mto_dict\u001b[0m\u001b[0;34m(\u001b[0m\u001b[0;34m)\u001b[0m\u001b[0;34m)\u001b[0m\u001b[0;34m\u001b[0m\u001b[0;34m\u001b[0m\u001b[0m\n\u001b[0m\u001b[1;32m      2\u001b[0m \u001b[0mdisplay\u001b[0m\u001b[0;34m(\u001b[0m\u001b[0mHTML\u001b[0m\u001b[0;34m(\u001b[0m\u001b[0mcoloder_string\u001b[0m\u001b[0;34m)\u001b[0m\u001b[0;34m)\u001b[0m\u001b[0;34m\u001b[0m\u001b[0;34m\u001b[0m\u001b[0m\n\u001b[1;32m      3\u001b[0m \u001b[0mprint\u001b[0m\u001b[0;34m(\u001b[0m\u001b[0;34m)\u001b[0m\u001b[0;34m\u001b[0m\u001b[0;34m\u001b[0m\u001b[0m\n\u001b[1;32m      4\u001b[0m \u001b[0mcoloder_string\u001b[0m \u001b[0;34m=\u001b[0m \u001b[0mintegrated_grad\u001b[0m\u001b[0;34m.\u001b[0m\u001b[0mcolorize\u001b[0m\u001b[0;34m(\u001b[0m\u001b[0mselect_context_idx\u001b[0m\u001b[0;34m(\u001b[0m\u001b[0mtexts_to_visualize\u001b[0m\u001b[0;34m.\u001b[0m\u001b[0miloc\u001b[0m\u001b[0;34m[\u001b[0m\u001b[0;36m0\u001b[0m\u001b[0;34m]\u001b[0m\u001b[0;34m,\u001b[0m\u001b[0;36m341\u001b[0m\u001b[0;34m,\u001b[0m\u001b[0;36m363\u001b[0m\u001b[0;34m)\u001b[0m\u001b[0;34m.\u001b[0m\u001b[0mto_dict\u001b[0m\u001b[0;34m(\u001b[0m\u001b[0;34m)\u001b[0m\u001b[0;34m)\u001b[0m\u001b[0;34m\u001b[0m\u001b[0;34m\u001b[0m\u001b[0m\n\u001b[1;32m      5\u001b[0m \u001b[0mdisplay\u001b[0m\u001b[0;34m(\u001b[0m\u001b[0mHTML\u001b[0m\u001b[0;34m(\u001b[0m\u001b[0mcoloder_string\u001b[0m\u001b[0;34m)\u001b[0m\u001b[0;34m)\u001b[0m\u001b[0;34m\u001b[0m\u001b[0;34m\u001b[0m\u001b[0m\n",
      "\u001b[0;32m<ipython-input-27-d6c561c3847c>\u001b[0m in \u001b[0;36mselect_context_idx\u001b[0;34m(row, start, stop)\u001b[0m\n\u001b[1;32m      1\u001b[0m \u001b[0;32mdef\u001b[0m \u001b[0mselect_context_idx\u001b[0m\u001b[0;34m(\u001b[0m\u001b[0mrow\u001b[0m\u001b[0;34m,\u001b[0m \u001b[0mstart\u001b[0m\u001b[0;34m,\u001b[0m \u001b[0mstop\u001b[0m\u001b[0;34m)\u001b[0m\u001b[0;34m:\u001b[0m\u001b[0;34m\u001b[0m\u001b[0;34m\u001b[0m\u001b[0m\n\u001b[0;32m----> 2\u001b[0;31m     \u001b[0mrow\u001b[0m\u001b[0;34m[\u001b[0m\u001b[0;34m'grad'\u001b[0m\u001b[0;34m]\u001b[0m\u001b[0;34m=\u001b[0m\u001b[0;34m[\u001b[0m\u001b[0;36m0.03\u001b[0m\u001b[0;34m]\u001b[0m\u001b[0;34m+\u001b[0m\u001b[0mrow\u001b[0m\u001b[0;34m[\u001b[0m\u001b[0;34m'grad'\u001b[0m\u001b[0;34m]\u001b[0m\u001b[0;34m[\u001b[0m\u001b[0mstart\u001b[0m\u001b[0;34m:\u001b[0m\u001b[0mstop\u001b[0m\u001b[0;34m]\u001b[0m\u001b[0;34m\u001b[0m\u001b[0;34m\u001b[0m\u001b[0m\n\u001b[0m\u001b[1;32m      3\u001b[0m     \u001b[0mrow\u001b[0m\u001b[0;34m[\u001b[0m\u001b[0;34m'tokens'\u001b[0m\u001b[0;34m]\u001b[0m\u001b[0;34m=\u001b[0m\u001b[0;34m[\u001b[0m\u001b[0;34m''\u001b[0m\u001b[0;34m]\u001b[0m\u001b[0;34m+\u001b[0m\u001b[0mrow\u001b[0m\u001b[0;34m[\u001b[0m\u001b[0;34m'tokens'\u001b[0m\u001b[0;34m]\u001b[0m\u001b[0;34m[\u001b[0m\u001b[0mstart\u001b[0m\u001b[0;34m:\u001b[0m\u001b[0mstop\u001b[0m\u001b[0;34m]\u001b[0m\u001b[0;34m\u001b[0m\u001b[0;34m\u001b[0m\u001b[0m\n\u001b[1;32m      4\u001b[0m     \u001b[0mprint\u001b[0m\u001b[0;34m(\u001b[0m\u001b[0mmax\u001b[0m\u001b[0;34m(\u001b[0m\u001b[0mrow\u001b[0m\u001b[0;34m[\u001b[0m\u001b[0;34m'grad'\u001b[0m\u001b[0;34m]\u001b[0m\u001b[0;34m)\u001b[0m\u001b[0;34m)\u001b[0m\u001b[0;34m\u001b[0m\u001b[0;34m\u001b[0m\u001b[0m\n\u001b[1;32m      5\u001b[0m     \u001b[0;32mreturn\u001b[0m \u001b[0mrow\u001b[0m\u001b[0;34m\u001b[0m\u001b[0;34m\u001b[0m\u001b[0m\n",
      "\u001b[0;31mTypeError\u001b[0m: 'float' object is not subscriptable"
     ]
    }
   ],
   "source": [
    "coloder_string = integrated_grad.colorize(select_context_idx(texts_to_visualize.iloc[1],145,170).to_dict())\n",
    "display(HTML(coloder_string))\n",
    "print()\n",
    "coloder_string = integrated_grad.colorize(select_context_idx(texts_to_visualize.iloc[0],341,363).to_dict())\n",
    "display(HTML(coloder_string))\n",
    "\n",
    "print()\n",
    "coloder_string = integrated_grad.colorize(select_context_idx(texts_to_visualize.iloc[2],54,75).to_dict())\n",
    "display(HTML(coloder_string))\n",
    "print()\n",
    "coloder_string = integrated_grad.colorize(select_context_idx(texts_to_visualize.iloc[3],169,188).to_dict())\n",
    "display(HTML(coloder_string))\n",
    "print()\n",
    "coloder_string = integrated_grad.colorize(select_context_idx(texts_to_visualize.iloc[4],203,225).to_dict())\n",
    "display(HTML(coloder_string))\n",
    "print()\n",
    "coloder_string = integrated_grad.colorize(select_context_idx(texts_to_visualize.iloc[5],352,-152).to_dict())\n",
    "display(HTML(coloder_string))\n",
    "print()\n",
    "coloder_string = integrated_grad.colorize(select_context_idx(texts_to_visualize.iloc[6],8,31).to_dict())\n",
    "display(HTML(coloder_string))\n",
    "print()\n",
    "coloder_string = integrated_grad.colorize(select_context_idx(texts_to_visualize.iloc[6],305,338).to_dict())\n",
    "display(HTML(coloder_string))\n",
    "print()\n",
    "coloder_string = integrated_grad.colorize(select_context_idx(texts_to_visualize.iloc[7],269,286).to_dict())\n",
    "display(HTML(coloder_string))\n",
    "print()\n",
    "coloder_string = integrated_grad.colorize(select_context_idx(texts_to_visualize.iloc[8],323,334).to_dict())\n",
    "display(HTML(coloder_string))\n"
   ]
  },
  {
   "cell_type": "code",
   "execution_count": 30,
   "metadata": {},
   "outputs": [],
   "source": [
    "grads_df=grads_df.iloc[-1*len(test_df):]"
   ]
  },
  {
   "cell_type": "code",
   "execution_count": 32,
   "metadata": {},
   "outputs": [],
   "source": [
    "grads_df['TEXT']=list(test_df['TEXT'])"
   ]
  },
  {
   "cell_type": "code",
   "execution_count": 33,
   "metadata": {},
   "outputs": [
    {
     "data": {
      "text/plain": [
       "5671    435\n",
       "5672    369\n",
       "5673     43\n",
       "5674    512\n",
       "5675    399\n",
       "       ... \n",
       "7557    250\n",
       "7558    349\n",
       "7559    430\n",
       "7560    512\n",
       "7561    159\n",
       "Name: tokens, Length: 1891, dtype: int64"
      ]
     },
     "execution_count": 33,
     "metadata": {},
     "output_type": "execute_result"
    }
   ],
   "source": [
    "grads_df['tokens'].apply(lambda x: len(x))"
   ]
  },
  {
   "cell_type": "code",
   "execution_count": 34,
   "metadata": {},
   "outputs": [
    {
     "data": {
      "text/plain": [
       "False    1891\n",
       "Name: TEXT, dtype: int64"
      ]
     },
     "execution_count": 34,
     "metadata": {},
     "output_type": "execute_result"
    }
   ],
   "source": [
    "grads_df['TEXT'].apply(lambda x: 'TRIPLET BORN AT 31 ' in x).value_counts()"
   ]
  },
  {
   "cell_type": "code",
   "execution_count": 35,
   "metadata": {},
   "outputs": [
    {
     "ename": "IndexError",
     "evalue": "single positional indexer is out-of-bounds",
     "output_type": "error",
     "traceback": [
      "\u001b[0;31m---------------------------------------------------------------------------\u001b[0m",
      "\u001b[0;31mIndexError\u001b[0m                                Traceback (most recent call last)",
      "\u001b[0;32m<ipython-input-35-927cddd48592>\u001b[0m in \u001b[0;36m<module>\u001b[0;34m\u001b[0m\n\u001b[0;32m----> 1\u001b[0;31m \u001b[0mex\u001b[0m \u001b[0;34m=\u001b[0m \u001b[0mgrads_df\u001b[0m\u001b[0;34m[\u001b[0m\u001b[0mgrads_df\u001b[0m\u001b[0;34m[\u001b[0m\u001b[0;34m'TEXT'\u001b[0m\u001b[0;34m]\u001b[0m\u001b[0;34m.\u001b[0m\u001b[0mapply\u001b[0m\u001b[0;34m(\u001b[0m\u001b[0;32mlambda\u001b[0m \u001b[0mx\u001b[0m\u001b[0;34m:\u001b[0m \u001b[0;34m'TRIPLET BORN AT 31 '\u001b[0m \u001b[0;32min\u001b[0m \u001b[0mx\u001b[0m\u001b[0;34m)\u001b[0m\u001b[0;34m]\u001b[0m\u001b[0;34m.\u001b[0m\u001b[0miloc\u001b[0m\u001b[0;34m[\u001b[0m\u001b[0;36m0\u001b[0m\u001b[0;34m]\u001b[0m\u001b[0;34m\u001b[0m\u001b[0;34m\u001b[0m\u001b[0m\n\u001b[0m\u001b[1;32m      2\u001b[0m \u001b[0mcoloder_string\u001b[0m\u001b[0;34m=\u001b[0m\u001b[0mintegrated_grad\u001b[0m\u001b[0;34m.\u001b[0m\u001b[0mcolorize\u001b[0m\u001b[0;34m(\u001b[0m\u001b[0;34m{\u001b[0m\u001b[0;34m'tokens'\u001b[0m\u001b[0;34m:\u001b[0m\u001b[0mex\u001b[0m\u001b[0;34m[\u001b[0m\u001b[0;34m'tokens'\u001b[0m\u001b[0;34m]\u001b[0m\u001b[0;34m,\u001b[0m \u001b[0;34m'grad'\u001b[0m\u001b[0;34m:\u001b[0m\u001b[0mex\u001b[0m\u001b[0;34m[\u001b[0m\u001b[0;34m'grad'\u001b[0m\u001b[0;34m]\u001b[0m\u001b[0;34m,\u001b[0m \u001b[0;34m'label'\u001b[0m\u001b[0;34m:\u001b[0m\u001b[0mex\u001b[0m\u001b[0;34m[\u001b[0m\u001b[0;34m'label'\u001b[0m\u001b[0;34m]\u001b[0m\u001b[0;34m,\u001b[0m\u001b[0;34m'prob'\u001b[0m\u001b[0;34m:\u001b[0m\u001b[0mex\u001b[0m\u001b[0;34m[\u001b[0m\u001b[0;34m'prob'\u001b[0m\u001b[0;34m]\u001b[0m\u001b[0;34m}\u001b[0m\u001b[0;34m)\u001b[0m\u001b[0;34m\u001b[0m\u001b[0;34m\u001b[0m\u001b[0m\n\u001b[1;32m      3\u001b[0m \u001b[0mdisplay\u001b[0m\u001b[0;34m(\u001b[0m\u001b[0mHTML\u001b[0m\u001b[0;34m(\u001b[0m\u001b[0mcoloder_string\u001b[0m\u001b[0;34m)\u001b[0m\u001b[0;34m)\u001b[0m\u001b[0;34m\u001b[0m\u001b[0;34m\u001b[0m\u001b[0m\n",
      "\u001b[0;32m/gpfs/gsfs12/users/moldwinar/environments/torchtcav/lib/python3.6/site-packages/pandas/core/indexing.py\u001b[0m in \u001b[0;36m__getitem__\u001b[0;34m(self, key)\u001b[0m\n\u001b[1;32m    877\u001b[0m \u001b[0;34m\u001b[0m\u001b[0m\n\u001b[1;32m    878\u001b[0m             \u001b[0mmaybe_callable\u001b[0m \u001b[0;34m=\u001b[0m \u001b[0mcom\u001b[0m\u001b[0;34m.\u001b[0m\u001b[0mapply_if_callable\u001b[0m\u001b[0;34m(\u001b[0m\u001b[0mkey\u001b[0m\u001b[0;34m,\u001b[0m \u001b[0mself\u001b[0m\u001b[0;34m.\u001b[0m\u001b[0mobj\u001b[0m\u001b[0;34m)\u001b[0m\u001b[0;34m\u001b[0m\u001b[0;34m\u001b[0m\u001b[0m\n\u001b[0;32m--> 879\u001b[0;31m             \u001b[0;32mreturn\u001b[0m \u001b[0mself\u001b[0m\u001b[0;34m.\u001b[0m\u001b[0m_getitem_axis\u001b[0m\u001b[0;34m(\u001b[0m\u001b[0mmaybe_callable\u001b[0m\u001b[0;34m,\u001b[0m \u001b[0maxis\u001b[0m\u001b[0;34m=\u001b[0m\u001b[0maxis\u001b[0m\u001b[0;34m)\u001b[0m\u001b[0;34m\u001b[0m\u001b[0;34m\u001b[0m\u001b[0m\n\u001b[0m\u001b[1;32m    880\u001b[0m \u001b[0;34m\u001b[0m\u001b[0m\n\u001b[1;32m    881\u001b[0m     \u001b[0;32mdef\u001b[0m \u001b[0m_is_scalar_access\u001b[0m\u001b[0;34m(\u001b[0m\u001b[0mself\u001b[0m\u001b[0;34m,\u001b[0m \u001b[0mkey\u001b[0m\u001b[0;34m:\u001b[0m \u001b[0mTuple\u001b[0m\u001b[0;34m)\u001b[0m\u001b[0;34m:\u001b[0m\u001b[0;34m\u001b[0m\u001b[0;34m\u001b[0m\u001b[0m\n",
      "\u001b[0;32m/gpfs/gsfs12/users/moldwinar/environments/torchtcav/lib/python3.6/site-packages/pandas/core/indexing.py\u001b[0m in \u001b[0;36m_getitem_axis\u001b[0;34m(self, key, axis)\u001b[0m\n\u001b[1;32m   1494\u001b[0m \u001b[0;34m\u001b[0m\u001b[0m\n\u001b[1;32m   1495\u001b[0m             \u001b[0;31m# validate the location\u001b[0m\u001b[0;34m\u001b[0m\u001b[0;34m\u001b[0m\u001b[0;34m\u001b[0m\u001b[0m\n\u001b[0;32m-> 1496\u001b[0;31m             \u001b[0mself\u001b[0m\u001b[0;34m.\u001b[0m\u001b[0m_validate_integer\u001b[0m\u001b[0;34m(\u001b[0m\u001b[0mkey\u001b[0m\u001b[0;34m,\u001b[0m \u001b[0maxis\u001b[0m\u001b[0;34m)\u001b[0m\u001b[0;34m\u001b[0m\u001b[0;34m\u001b[0m\u001b[0m\n\u001b[0m\u001b[1;32m   1497\u001b[0m \u001b[0;34m\u001b[0m\u001b[0m\n\u001b[1;32m   1498\u001b[0m             \u001b[0;32mreturn\u001b[0m \u001b[0mself\u001b[0m\u001b[0;34m.\u001b[0m\u001b[0mobj\u001b[0m\u001b[0;34m.\u001b[0m\u001b[0m_ixs\u001b[0m\u001b[0;34m(\u001b[0m\u001b[0mkey\u001b[0m\u001b[0;34m,\u001b[0m \u001b[0maxis\u001b[0m\u001b[0;34m=\u001b[0m\u001b[0maxis\u001b[0m\u001b[0;34m)\u001b[0m\u001b[0;34m\u001b[0m\u001b[0;34m\u001b[0m\u001b[0m\n",
      "\u001b[0;32m/gpfs/gsfs12/users/moldwinar/environments/torchtcav/lib/python3.6/site-packages/pandas/core/indexing.py\u001b[0m in \u001b[0;36m_validate_integer\u001b[0;34m(self, key, axis)\u001b[0m\n\u001b[1;32m   1435\u001b[0m         \u001b[0mlen_axis\u001b[0m \u001b[0;34m=\u001b[0m \u001b[0mlen\u001b[0m\u001b[0;34m(\u001b[0m\u001b[0mself\u001b[0m\u001b[0;34m.\u001b[0m\u001b[0mobj\u001b[0m\u001b[0;34m.\u001b[0m\u001b[0m_get_axis\u001b[0m\u001b[0;34m(\u001b[0m\u001b[0maxis\u001b[0m\u001b[0;34m)\u001b[0m\u001b[0;34m)\u001b[0m\u001b[0;34m\u001b[0m\u001b[0;34m\u001b[0m\u001b[0m\n\u001b[1;32m   1436\u001b[0m         \u001b[0;32mif\u001b[0m \u001b[0mkey\u001b[0m \u001b[0;34m>=\u001b[0m \u001b[0mlen_axis\u001b[0m \u001b[0;32mor\u001b[0m \u001b[0mkey\u001b[0m \u001b[0;34m<\u001b[0m \u001b[0;34m-\u001b[0m\u001b[0mlen_axis\u001b[0m\u001b[0;34m:\u001b[0m\u001b[0;34m\u001b[0m\u001b[0;34m\u001b[0m\u001b[0m\n\u001b[0;32m-> 1437\u001b[0;31m             \u001b[0;32mraise\u001b[0m \u001b[0mIndexError\u001b[0m\u001b[0;34m(\u001b[0m\u001b[0;34m\"single positional indexer is out-of-bounds\"\u001b[0m\u001b[0;34m)\u001b[0m\u001b[0;34m\u001b[0m\u001b[0;34m\u001b[0m\u001b[0m\n\u001b[0m\u001b[1;32m   1438\u001b[0m \u001b[0;34m\u001b[0m\u001b[0m\n\u001b[1;32m   1439\u001b[0m     \u001b[0;31m# -------------------------------------------------------------------\u001b[0m\u001b[0;34m\u001b[0m\u001b[0;34m\u001b[0m\u001b[0;34m\u001b[0m\u001b[0m\n",
      "\u001b[0;31mIndexError\u001b[0m: single positional indexer is out-of-bounds"
     ]
    }
   ],
   "source": [
    "ex = grads_df[grads_df['TEXT'].apply(lambda x: 'TRIPLET BORN AT 31 ' in x)].iloc[0]\n",
    "coloder_string=integrated_grad.colorize({'tokens':ex['tokens'], 'grad':ex['grad'], 'label':ex['label'],'prob':ex['prob']})\n",
    "display(HTML(coloder_string))"
   ]
  },
  {
   "cell_type": "code",
   "execution_count": 36,
   "metadata": {},
   "outputs": [
    {
     "name": "stdout",
     "output_type": "stream",
     "text": [
      "Unnamed: 0                                                 5671\n",
      "tokens        [[CLS], neon, ##ato, ##logy, attending, tri, #...\n",
      "grad          [0.0022628488950431347, 0.0002968515909742564,...\n",
      "label                                                         0\n",
      "prob                                                   0.999999\n",
      "ROW_ID                                                  2051008\n",
      "TEXT          Neonatology Attending Triage Note\\n\\nAsked by ...\n",
      "Name: 5671, dtype: object\n"
     ]
    },
    {
     "data": {
      "text/plain": [
       "torch.return_types.max(\n",
       "values=tensor([1.0000], grad_fn=<MaxBackward0>),\n",
       "indices=tensor([0]))"
      ]
     },
     "execution_count": 36,
     "metadata": {},
     "output_type": "execute_result"
    }
   ],
   "source": [
    "from torch.nn.functional import softmax\n",
    "print(grads_df.iloc[0])\n",
    "torch.max(softmax(bert(input_ids=torch.tensor([tokenizer.encode(test_df['TEXT'].iloc[0])])), dim=-1),dim=-1)"
   ]
  },
  {
   "cell_type": "code",
   "execution_count": 37,
   "metadata": {},
   "outputs": [
    {
     "data": {
      "text/plain": [
       "{'0': {'precision': 0.9070100143061517,\n",
       "  'recall': 0.902491103202847,\n",
       "  'f1-score': 0.904744916161256,\n",
       "  'support': 1405},\n",
       " '1': {'precision': 0.7221095334685599,\n",
       "  'recall': 0.7325102880658436,\n",
       "  'f1-score': 0.7272727272727274,\n",
       "  'support': 486},\n",
       " 'accuracy': 0.8588048651507139,\n",
       " 'macro avg': {'precision': 0.8145597738873558,\n",
       "  'recall': 0.8175006956343454,\n",
       "  'f1-score': 0.8160088217169916,\n",
       "  'support': 1891},\n",
       " 'weighted avg': {'precision': 0.8594893196011969,\n",
       "  'recall': 0.8588048651507139,\n",
       "  'f1-score': 0.8591333435542623,\n",
       "  'support': 1891}}"
      ]
     },
     "execution_count": 37,
     "metadata": {},
     "output_type": "execute_result"
    }
   ],
   "source": [
    "from sklearn.metrics import classification_report\n",
    "classification_report(grads_df['label'], test_df['label'], output_dict=True)"
   ]
  },
  {
   "cell_type": "code",
   "execution_count": 38,
   "metadata": {},
   "outputs": [],
   "source": [
    "def unravel(lst):\n",
    "    return [i for j in lst for i in j]"
   ]
  },
  {
   "cell_type": "code",
   "execution_count": null,
   "metadata": {},
   "outputs": [],
   "source": []
  },
  {
   "cell_type": "code",
   "execution_count": 39,
   "metadata": {},
   "outputs": [],
   "source": [
    "# label = 1\n",
    "all_class_grads = pd.DataFrame(  list(zip( unravel(grads_df['tokens']),  unravel(grads_df['grad']) )) , columns=['tokens', 'grad']  )"
   ]
  },
  {
   "cell_type": "code",
   "execution_count": 40,
   "metadata": {},
   "outputs": [],
   "source": [
    "word =''\n",
    "score=0\n",
    "words=[]\n",
    "scores=[]\n",
    "for i in reversed(range(len(all_class_grads))):\n",
    "    token=all_class_grads['tokens'].iloc[i]\n",
    "    if token.startswith('##'):\n",
    "        word = token[2:]+word\n",
    "        score = max(score,all_class_grads['grad'].iloc[i] )\n",
    "#         print(word)\n",
    "    else:\n",
    "        word = token+word\n",
    "#         print(word)\n",
    "        words.append(word)\n",
    "        score = max(score,all_class_grads['grad'].iloc[i] )\n",
    "        scores.append(score)\n",
    "        word=''\n",
    "        score=0"
   ]
  },
  {
   "cell_type": "code",
   "execution_count": 41,
   "metadata": {},
   "outputs": [
    {
     "name": "stdout",
     "output_type": "stream",
     "text": [
      "3074\n"
     ]
    },
    {
     "data": {
      "text/html": [
       "<div>\n",
       "<style scoped>\n",
       "    .dataframe tbody tr th:only-of-type {\n",
       "        vertical-align: middle;\n",
       "    }\n",
       "\n",
       "    .dataframe tbody tr th {\n",
       "        vertical-align: top;\n",
       "    }\n",
       "\n",
       "    .dataframe thead th {\n",
       "        text-align: right;\n",
       "    }\n",
       "</style>\n",
       "<table border=\"1\" class=\"dataframe\">\n",
       "  <thead>\n",
       "    <tr style=\"text-align: right;\">\n",
       "      <th></th>\n",
       "      <th>word</th>\n",
       "      <th>grad_mean</th>\n",
       "      <th>word_count</th>\n",
       "    </tr>\n",
       "  </thead>\n",
       "  <tbody>\n",
       "    <tr>\n",
       "      <th>10417</th>\n",
       "      <td>sheepskin</td>\n",
       "      <td>0.047350</td>\n",
       "      <td>30</td>\n",
       "    </tr>\n",
       "    <tr>\n",
       "      <th>8196</th>\n",
       "      <td>mottled</td>\n",
       "      <td>0.033975</td>\n",
       "      <td>9</td>\n",
       "    </tr>\n",
       "    <tr>\n",
       "      <th>7637</th>\n",
       "      <td>laser</td>\n",
       "      <td>0.023670</td>\n",
       "      <td>6</td>\n",
       "    </tr>\n",
       "    <tr>\n",
       "      <th>8550</th>\n",
       "      <td>notified</td>\n",
       "      <td>0.022094</td>\n",
       "      <td>16</td>\n",
       "    </tr>\n",
       "    <tr>\n",
       "      <th>3980</th>\n",
       "      <td>arrived</td>\n",
       "      <td>0.021549</td>\n",
       "      <td>81</td>\n",
       "    </tr>\n",
       "    <tr>\n",
       "      <th>10713</th>\n",
       "      <td>starter</td>\n",
       "      <td>0.021483</td>\n",
       "      <td>18</td>\n",
       "    </tr>\n",
       "    <tr>\n",
       "      <th>11809</th>\n",
       "      <td>vss</td>\n",
       "      <td>0.021290</td>\n",
       "      <td>150</td>\n",
       "    </tr>\n",
       "    <tr>\n",
       "      <th>7518</th>\n",
       "      <td>iugr</td>\n",
       "      <td>0.019502</td>\n",
       "      <td>65</td>\n",
       "    </tr>\n",
       "    <tr>\n",
       "      <th>4180</th>\n",
       "      <td>babycares</td>\n",
       "      <td>0.017878</td>\n",
       "      <td>7</td>\n",
       "    </tr>\n",
       "    <tr>\n",
       "      <th>11345</th>\n",
       "      <td>transfer</td>\n",
       "      <td>0.017731</td>\n",
       "      <td>431</td>\n",
       "    </tr>\n",
       "    <tr>\n",
       "      <th>11346</th>\n",
       "      <td>transfered</td>\n",
       "      <td>0.017731</td>\n",
       "      <td>33</td>\n",
       "    </tr>\n",
       "    <tr>\n",
       "      <th>11403</th>\n",
       "      <td>trial</td>\n",
       "      <td>0.017684</td>\n",
       "      <td>16</td>\n",
       "    </tr>\n",
       "    <tr>\n",
       "      <th>11685</th>\n",
       "      <td>vasopressors</td>\n",
       "      <td>0.017517</td>\n",
       "      <td>6</td>\n",
       "    </tr>\n",
       "    <tr>\n",
       "      <th>8395</th>\n",
       "      <td>nested</td>\n",
       "      <td>0.016913</td>\n",
       "      <td>59</td>\n",
       "    </tr>\n",
       "    <tr>\n",
       "      <th>11082</th>\n",
       "      <td>teaching</td>\n",
       "      <td>0.016909</td>\n",
       "      <td>11</td>\n",
       "    </tr>\n",
       "    <tr>\n",
       "      <th>8962</th>\n",
       "      <td>pathway</td>\n",
       "      <td>0.016703</td>\n",
       "      <td>16</td>\n",
       "    </tr>\n",
       "    <tr>\n",
       "      <th>11783</th>\n",
       "      <td>vitals</td>\n",
       "      <td>0.016539</td>\n",
       "      <td>18</td>\n",
       "    </tr>\n",
       "    <tr>\n",
       "      <th>7722</th>\n",
       "      <td>lib</td>\n",
       "      <td>0.016288</td>\n",
       "      <td>45</td>\n",
       "    </tr>\n",
       "    <tr>\n",
       "      <th>4573</th>\n",
       "      <td>caffeine</td>\n",
       "      <td>0.016133</td>\n",
       "      <td>10</td>\n",
       "    </tr>\n",
       "    <tr>\n",
       "      <th>8423</th>\n",
       "      <td>newborn</td>\n",
       "      <td>0.016070</td>\n",
       "      <td>781</td>\n",
       "    </tr>\n",
       "    <tr>\n",
       "      <th>8592</th>\n",
       "      <td>nursery</td>\n",
       "      <td>0.016070</td>\n",
       "      <td>446</td>\n",
       "    </tr>\n",
       "    <tr>\n",
       "      <th>5647</th>\n",
       "      <td>dluvc</td>\n",
       "      <td>0.015853</td>\n",
       "      <td>11</td>\n",
       "    </tr>\n",
       "    <tr>\n",
       "      <th>3422</th>\n",
       "      <td>[SEP]</td>\n",
       "      <td>0.015766</td>\n",
       "      <td>1891</td>\n",
       "    </tr>\n",
       "    <tr>\n",
       "      <th>10745</th>\n",
       "      <td>steroids</td>\n",
       "      <td>0.015645</td>\n",
       "      <td>13</td>\n",
       "    </tr>\n",
       "    <tr>\n",
       "      <th>11347</th>\n",
       "      <td>transferred</td>\n",
       "      <td>0.015607</td>\n",
       "      <td>460</td>\n",
       "    </tr>\n",
       "    <tr>\n",
       "      <th>11262</th>\n",
       "      <td>tocolysis</td>\n",
       "      <td>0.015295</td>\n",
       "      <td>30</td>\n",
       "    </tr>\n",
       "    <tr>\n",
       "      <th>7471</th>\n",
       "      <td>intubate</td>\n",
       "      <td>0.014928</td>\n",
       "      <td>26</td>\n",
       "    </tr>\n",
       "  </tbody>\n",
       "</table>\n",
       "</div>"
      ],
      "text/plain": [
       "               word  grad_mean  word_count\n",
       "10417     sheepskin   0.047350          30\n",
       "8196        mottled   0.033975           9\n",
       "7637          laser   0.023670           6\n",
       "8550       notified   0.022094          16\n",
       "3980        arrived   0.021549          81\n",
       "10713       starter   0.021483          18\n",
       "11809           vss   0.021290         150\n",
       "7518           iugr   0.019502          65\n",
       "4180      babycares   0.017878           7\n",
       "11345      transfer   0.017731         431\n",
       "11346    transfered   0.017731          33\n",
       "11403         trial   0.017684          16\n",
       "11685  vasopressors   0.017517           6\n",
       "8395         nested   0.016913          59\n",
       "11082      teaching   0.016909          11\n",
       "8962        pathway   0.016703          16\n",
       "11783        vitals   0.016539          18\n",
       "7722            lib   0.016288          45\n",
       "4573       caffeine   0.016133          10\n",
       "8423        newborn   0.016070         781\n",
       "8592        nursery   0.016070         446\n",
       "5647          dluvc   0.015853          11\n",
       "3422          [SEP]   0.015766        1891\n",
       "10745      steroids   0.015645          13\n",
       "11347   transferred   0.015607         460\n",
       "11262     tocolysis   0.015295          30\n",
       "7471       intubate   0.014928          26"
      ]
     },
     "execution_count": 41,
     "metadata": {},
     "output_type": "execute_result"
    }
   ],
   "source": [
    "tokens_grouped = pd.DataFrame(list(zip(words, scores)), columns=['words', 'grad']).groupby('words')\n",
    "means = tokens_grouped['grad'].mean()\n",
    "cts = tokens_grouped['grad'].count()\n",
    "wrds = tokens_grouped.apply(lambda group: str(group.name))\n",
    "class_df = pd.DataFrame(list(zip(wrds,means,cts)), columns=['word','grad_mean','word_count' ]).sort_values(by='grad_mean',ascending=False)\n",
    "class_df = class_df[class_df['word_count']>5]\n",
    "print(len(class_df))\n",
    "# print(class_df.head(25).to_latex(index=False, float_format=\"%.3f\"))\n",
    "class_df.head(27)"
   ]
  },
  {
   "cell_type": "code",
   "execution_count": 51,
   "metadata": {},
   "outputs": [
    {
     "data": {
      "text/html": [
       "<div>\n",
       "<style scoped>\n",
       "    .dataframe tbody tr th:only-of-type {\n",
       "        vertical-align: middle;\n",
       "    }\n",
       "\n",
       "    .dataframe tbody tr th {\n",
       "        vertical-align: top;\n",
       "    }\n",
       "\n",
       "    .dataframe thead th {\n",
       "        text-align: right;\n",
       "    }\n",
       "</style>\n",
       "<table border=\"1\" class=\"dataframe\">\n",
       "  <thead>\n",
       "    <tr style=\"text-align: right;\">\n",
       "      <th></th>\n",
       "      <th>word</th>\n",
       "      <th>grad_mean</th>\n",
       "      <th>word_count</th>\n",
       "    </tr>\n",
       "  </thead>\n",
       "  <tbody>\n",
       "    <tr>\n",
       "      <th>3422</th>\n",
       "      <td>[SEP]</td>\n",
       "      <td>0.015766</td>\n",
       "      <td>1891</td>\n",
       "    </tr>\n",
       "    <tr>\n",
       "      <th>3421</th>\n",
       "      <td>[CLS]</td>\n",
       "      <td>0.001626</td>\n",
       "      <td>1891</td>\n",
       "    </tr>\n",
       "    <tr>\n",
       "      <th>3420</th>\n",
       "      <td>[</td>\n",
       "      <td>0.001559</td>\n",
       "      <td>7359</td>\n",
       "    </tr>\n",
       "  </tbody>\n",
       "</table>\n",
       "</div>"
      ],
      "text/plain": [
       "       word  grad_mean  word_count\n",
       "3422  [SEP]   0.015766        1891\n",
       "3421  [CLS]   0.001626        1891\n",
       "3420      [   0.001559        7359"
      ]
     },
     "execution_count": 51,
     "metadata": {},
     "output_type": "execute_result"
    }
   ],
   "source": [
    "class_df[class_df['word'].apply(lambda x: x.startswith('['))]"
   ]
  },
  {
   "cell_type": "code",
   "execution_count": 42,
   "metadata": {},
   "outputs": [
    {
     "ename": "NameError",
     "evalue": "name 'all_negative_grads' is not defined",
     "output_type": "error",
     "traceback": [
      "\u001b[0;31m---------------------------------------------------------------------------\u001b[0m",
      "\u001b[0;31mNameError\u001b[0m                                 Traceback (most recent call last)",
      "\u001b[0;32m<ipython-input-42-eb9d9f9360ad>\u001b[0m in \u001b[0;36m<module>\u001b[0;34m\u001b[0m\n\u001b[1;32m      3\u001b[0m \u001b[0mnegative_words\u001b[0m\u001b[0;34m=\u001b[0m\u001b[0;34m[\u001b[0m\u001b[0;34m]\u001b[0m\u001b[0;34m\u001b[0m\u001b[0;34m\u001b[0m\u001b[0m\n\u001b[1;32m      4\u001b[0m \u001b[0mnegative_scores\u001b[0m\u001b[0;34m=\u001b[0m\u001b[0;34m[\u001b[0m\u001b[0;34m]\u001b[0m\u001b[0;34m\u001b[0m\u001b[0;34m\u001b[0m\u001b[0m\n\u001b[0;32m----> 5\u001b[0;31m \u001b[0;32mfor\u001b[0m \u001b[0mi\u001b[0m \u001b[0;32min\u001b[0m \u001b[0mreversed\u001b[0m\u001b[0;34m(\u001b[0m\u001b[0mrange\u001b[0m\u001b[0;34m(\u001b[0m\u001b[0mlen\u001b[0m\u001b[0;34m(\u001b[0m\u001b[0mall_negative_grads\u001b[0m\u001b[0;34m)\u001b[0m\u001b[0;34m)\u001b[0m\u001b[0;34m)\u001b[0m\u001b[0;34m:\u001b[0m\u001b[0;34m\u001b[0m\u001b[0;34m\u001b[0m\u001b[0m\n\u001b[0m\u001b[1;32m      6\u001b[0m     \u001b[0mtoken\u001b[0m\u001b[0;34m=\u001b[0m\u001b[0mall_negative_grads\u001b[0m\u001b[0;34m[\u001b[0m\u001b[0;34m'tokens'\u001b[0m\u001b[0;34m]\u001b[0m\u001b[0;34m.\u001b[0m\u001b[0miloc\u001b[0m\u001b[0;34m[\u001b[0m\u001b[0mi\u001b[0m\u001b[0;34m]\u001b[0m\u001b[0;34m\u001b[0m\u001b[0;34m\u001b[0m\u001b[0m\n\u001b[1;32m      7\u001b[0m     \u001b[0;32mif\u001b[0m \u001b[0mtoken\u001b[0m\u001b[0;34m.\u001b[0m\u001b[0mstartswith\u001b[0m\u001b[0;34m(\u001b[0m\u001b[0;34m'##'\u001b[0m\u001b[0;34m)\u001b[0m\u001b[0;34m:\u001b[0m\u001b[0;34m\u001b[0m\u001b[0;34m\u001b[0m\u001b[0m\n",
      "\u001b[0;31mNameError\u001b[0m: name 'all_negative_grads' is not defined"
     ]
    }
   ],
   "source": [
    "word =''\n",
    "score=0\n",
    "negative_words=[]\n",
    "negative_scores=[]\n",
    "for i in reversed(range(len(all_negative_grads))):\n",
    "    token=all_negative_grads['tokens'].iloc[i]\n",
    "    if token.startswith('##'):\n",
    "        word = token[2:]+word\n",
    "        score = max(score,all_negative_grads['grad'].iloc[i] )\n",
    "#         print(word)\n",
    "    else:\n",
    "        word = token+word\n",
    "#         print(word)\n",
    "        negative_words.append(word)\n",
    "        score = max(score,all_negative_grads['grad'].iloc[i] )\n",
    "        negative_scores.append(score)\n",
    "        word=''\n",
    "        score=0"
   ]
  },
  {
   "cell_type": "code",
   "execution_count": null,
   "metadata": {},
   "outputs": [],
   "source": [
    "tokens_grouped = pd.DataFrame(list(zip(negative_words, negative_scores)), columns=['words', 'grad']).groupby('words')\n",
    "means = tokens_grouped['grad'].mean()\n",
    "cts = tokens_grouped['grad'].count()\n",
    "wrds = tokens_grouped.apply(lambda group: str(group.name))\n",
    "negative_df = pd.DataFrame(list(zip(wrds,means,cts)), columns=['word','grad_mean','word_count' ]).sort_values(by='grad_mean',ascending=False)\n",
    "negative_df = negative_df[negative_df['word_count']>5]\n",
    "print(negative_df.head(25).to_latex(index=False, float_format=\"%.3f\"))"
   ]
  },
  {
   "cell_type": "code",
   "execution_count": null,
   "metadata": {},
   "outputs": [],
   "source": [
    "list(means"
   ]
  },
  {
   "cell_type": "code",
   "execution_count": null,
   "metadata": {},
   "outputs": [],
   "source": [
    "pd.DataFrame(list(zip(words, scores)), columns=['words', 'grad'])"
   ]
  },
  {
   "cell_type": "code",
   "execution_count": 57,
   "metadata": {},
   "outputs": [
    {
     "ename": "IndexError",
     "evalue": "list index out of range",
     "output_type": "error",
     "traceback": [
      "\u001b[0;31m---------------------------------------------------------------------------\u001b[0m",
      "\u001b[0;31mIndexError\u001b[0m                                Traceback (most recent call last)",
      "\u001b[0;32m<ipython-input-57-d62e443bf3c7>\u001b[0m in \u001b[0;36m<module>\u001b[0;34m\u001b[0m\n\u001b[1;32m      1\u001b[0m \u001b[0;32mimport\u001b[0m \u001b[0mpandas\u001b[0m \u001b[0;32mas\u001b[0m \u001b[0mpd\u001b[0m\u001b[0;34m\u001b[0m\u001b[0;34m\u001b[0m\u001b[0m\n\u001b[0;32m----> 2\u001b[0;31m \u001b[0mpd\u001b[0m\u001b[0;34m.\u001b[0m\u001b[0mDataFrame\u001b[0m\u001b[0;34m(\u001b[0m\u001b[0mlist\u001b[0m\u001b[0;34m(\u001b[0m\u001b[0mzip\u001b[0m\u001b[0;34m(\u001b[0m\u001b[0minstances\u001b[0m\u001b[0;34m[\u001b[0m\u001b[0;36m1\u001b[0m\u001b[0;34m]\u001b[0m\u001b[0;34m[\u001b[0m\u001b[0;34m'tokens'\u001b[0m\u001b[0;34m]\u001b[0m\u001b[0;34m,\u001b[0m \u001b[0minstances\u001b[0m\u001b[0;34m[\u001b[0m\u001b[0;36m1\u001b[0m\u001b[0;34m]\u001b[0m\u001b[0;34m[\u001b[0m\u001b[0;34m'grad'\u001b[0m\u001b[0;34m]\u001b[0m\u001b[0;34m)\u001b[0m\u001b[0;34m)\u001b[0m\u001b[0;34m)\u001b[0m\u001b[0;34m\u001b[0m\u001b[0;34m\u001b[0m\u001b[0m\n\u001b[0m",
      "\u001b[0;31mIndexError\u001b[0m: list index out of range"
     ]
    }
   ],
   "source": [
    "import pandas as pd\n",
    "pd.DataFrame(list(zip(instances[0]['tokens'], instances[0]['grad'])))"
   ]
  },
  {
   "cell_type": "code",
   "execution_count": 20,
   "metadata": {},
   "outputs": [
    {
     "data": {
      "text/plain": [
       "[{'tokens': ['[CLS]',\n",
       "   \"'\",\n",
       "   'patient',\n",
       "   'was',\n",
       "   'a',\n",
       "   'pleasant',\n",
       "   'male',\n",
       "   'in',\n",
       "   'his',\n",
       "   'early',\n",
       "   '40',\n",
       "   '##s',\n",
       "   'who',\n",
       "   'was',\n",
       "   'given',\n",
       "   'pl',\n",
       "   '##avi',\n",
       "   '##x',\n",
       "   'and',\n",
       "   'as',\n",
       "   '##pi',\n",
       "   '##rin',\n",
       "   'for',\n",
       "   'cad',\n",
       "   'and',\n",
       "   'required',\n",
       "   'cab',\n",
       "   '##g',\n",
       "   \"'\",\n",
       "   '[SEP]',\n",
       "   'transform',\n",
       "   '##er',\n",
       "   '-',\n",
       "   'based',\n",
       "   'models',\n",
       "   'have',\n",
       "   'taken',\n",
       "   'a',\n",
       "   'leading',\n",
       "   'role',\n",
       "   'in',\n",
       "   'nl',\n",
       "   '##p',\n",
       "   'today',\n",
       "   '.',\n",
       "   '[SEP]'],\n",
       "  'grad': [0.0024040760472416878,\n",
       "   0.011202486231923103,\n",
       "   0.013759119436144829,\n",
       "   0.002332319738343358,\n",
       "   0.011373970657587051,\n",
       "   0.02735648676753044,\n",
       "   0.015535157173871994,\n",
       "   0.030777039006352425,\n",
       "   0.008332711644470692,\n",
       "   0.013340604491531849,\n",
       "   0.0001066805562004447,\n",
       "   0.0027349493466317654,\n",
       "   0.004292184952646494,\n",
       "   0.00442542415112257,\n",
       "   0.007150531280785799,\n",
       "   0.0028611449524760246,\n",
       "   0.015010221861302853,\n",
       "   0.018782952800393105,\n",
       "   0.01669878326356411,\n",
       "   0.009789077565073967,\n",
       "   0.016139263287186623,\n",
       "   0.007285908330231905,\n",
       "   0.0340462364256382,\n",
       "   0.0994633287191391,\n",
       "   0.02390855737030506,\n",
       "   0.01794828474521637,\n",
       "   0.17008531093597412,\n",
       "   0.12981343269348145,\n",
       "   0.021933887153863907,\n",
       "   0.1389886736869812,\n",
       "   0.020783530548214912,\n",
       "   0.0065027992241084576,\n",
       "   0.008362825959920883,\n",
       "   0.0033463663421571255,\n",
       "   0.003560791490599513,\n",
       "   0.0011002038372680545,\n",
       "   0.00035022245720028877,\n",
       "   0.020194558426737785,\n",
       "   0.002988012507557869,\n",
       "   0.0009293951443396509,\n",
       "   0.0005665147327817976,\n",
       "   0.004190972540527582,\n",
       "   0.004393792245537043,\n",
       "   0.003207903355360031,\n",
       "   0.003286235500127077,\n",
       "   0.03835707902908325],\n",
       "  'label': 1,\n",
       "  'prob': 0.985454797744751}]"
      ]
     },
     "execution_count": 20,
     "metadata": {},
     "output_type": "execute_result"
    }
   ],
   "source": [
    "instances"
   ]
  },
  {
   "cell_type": "code",
   "execution_count": null,
   "metadata": {},
   "outputs": [],
   "source": []
  }
 ],
 "metadata": {
  "kernelspec": {
   "display_name": "Python 3",
   "language": "python",
   "name": "python3"
  },
  "language_info": {
   "codemirror_mode": {
    "name": "ipython",
    "version": 3
   },
   "file_extension": ".py",
   "mimetype": "text/x-python",
   "name": "python",
   "nbconvert_exporter": "python",
   "pygments_lexer": "ipython3",
   "version": "3.6.10"
  }
 },
 "nbformat": 4,
 "nbformat_minor": 4
}
