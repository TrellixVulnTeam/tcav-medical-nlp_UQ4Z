{
 "cells": [
  {
   "cell_type": "code",
   "execution_count": 1,
   "metadata": {},
   "outputs": [],
   "source": [
    "import pandas as pd\n",
    "import os\n",
    "import numpy as np\n",
    "from brat_parser import get_entities_relations_attributes_groups\n",
    "import gzip\n",
    "import math"
   ]
  },
  {
   "cell_type": "code",
   "execution_count": 2,
   "metadata": {},
   "outputs": [],
   "source": [
    "admissions_df =  pd.read_csv('../../../LHC_mimic/mimic3_1.4/raw_data/ADMISSIONS.csv')"
   ]
  },
  {
   "cell_type": "code",
   "execution_count": 3,
   "metadata": {},
   "outputs": [],
   "source": [
    "subjects_df = pd.read_csv('../../../LHC_mimic/mimic3_1.4/raw_data/PATIENTS.csv')"
   ]
  },
  {
   "cell_type": "code",
   "execution_count": 4,
   "metadata": {},
   "outputs": [],
   "source": [
    "admissions_df = admissions_df.merge(subjects_df[['SUBJECT_ID','DOB','GENDER']], on='SUBJECT_ID')"
   ]
  },
  {
   "cell_type": "code",
   "execution_count": 5,
   "metadata": {},
   "outputs": [],
   "source": [
    "admissions_df['ADMITTIME'] = pd.to_datetime(admissions_df['ADMITTIME'])\n",
    "admissions_df['DOB'] = pd.to_datetime(admissions_df['DOB'])\n",
    "admissions_df['DEATHTIME'] = pd.to_datetime(admissions_df['DEATHTIME'])\n",
    "admissions_df['DISCHTIME'] = pd.to_datetime(admissions_df['DISCHTIME'])\n"
   ]
  },
  {
   "cell_type": "code",
   "execution_count": 6,
   "metadata": {},
   "outputs": [],
   "source": [
    "def get_age(row):\n",
    "    try:\n",
    "        return (row.ADMITTIME-row.DOB) / np.timedelta64(1, 's')/ 60./60/24/365\n",
    "    except:\n",
    "        return np.nan\n",
    "admissions_df['AGE'] = admissions_df.apply(get_age, axis=1)"
   ]
  },
  {
   "cell_type": "code",
   "execution_count": 7,
   "metadata": {},
   "outputs": [
    {
     "data": {
      "text/plain": [
       "['D_ICD_PROCEDURES.csv',\n",
       " 'INPUTEVENTS_CV.csv',\n",
       " 'CAREGIVERS.csv.gz',\n",
       " 'CPTEVENTS.csv',\n",
       " 'DATETIMEEVENTS.csv',\n",
       " 'PROCEDURES_ICD.csv.gz',\n",
       " 'D_ICD_DIAGNOSES.csv.gz',\n",
       " 'CHARTEVENTS.csv.gz',\n",
       " 'DRGCODES.csv.gz',\n",
       " 'PROCEDUREEVENTS_MV.csv',\n",
       " 'D_ITEMS.csv',\n",
       " 'MICROBIOLOGYEVENTS.csv.gz',\n",
       " 'ICUSTAYS.csv.gz',\n",
       " 'CALLOUT.csv.gz',\n",
       " 'MICROBIOLOGYEVENTS.csv',\n",
       " 'OUTPUTEVENTS.csv',\n",
       " 'PROCEDURES_ICD.csv',\n",
       " 'D_ICD_DIAGNOSES.csv',\n",
       " 'PRESCRIPTIONS.csv.gz',\n",
       " 'PROCEDUREEVENTS_MV.csv.gz',\n",
       " 'CALLOUT.csv',\n",
       " 'TRANSFERS.csv',\n",
       " 'ADMISSIONS.csv',\n",
       " 'DIAGNOSES_ICD.csv.gz',\n",
       " 'INPUTEVENTS_MV.csv.gz',\n",
       " 'DATETIMEEVENTS.csv.gz',\n",
       " 'PATIENTS.csv',\n",
       " 'CPTEVENTS.csv.gz',\n",
       " 'NOTEEVENTS.csv.gz',\n",
       " 'PATIENTS.csv.gz',\n",
       " 'LABEVENTS.csv',\n",
       " 'PRESCRIPTIONS.csv',\n",
       " 'SERVICES.csv.gz',\n",
       " 'DRGCODES.csv',\n",
       " 'D_LABITEMS.csv',\n",
       " 'NOTEEVENTS.csv',\n",
       " 'D_ICD_PROCEDURES.csv.gz',\n",
       " 'D_ITEMS.csv.gz',\n",
       " 'TRANSFERS.csv.gz',\n",
       " 'robots.txt',\n",
       " 'ICUSTAYS.csv',\n",
       " 'CHARTEVENTS.csv',\n",
       " 'D_CPT.csv.gz',\n",
       " 'CAREGIVERS.csv',\n",
       " 'INPUTEVENTS_CV.csv.gz',\n",
       " 'LABEVENTS.csv.gz',\n",
       " 'DIAGNOSES_ICD.csv',\n",
       " 'INPUTEVENTS_MV.csv',\n",
       " 'OUTPUTEVENTS.csv.gz',\n",
       " 'ADMISSIONS.csv.gz',\n",
       " 'D_CPT.csv',\n",
       " 'SERVICES.csv',\n",
       " 'D_LABITEMS.csv.gz']"
      ]
     },
     "execution_count": 7,
     "metadata": {},
     "output_type": "execute_result"
    }
   ],
   "source": [
    "os.listdir('../../../LHC_mimic/mimic3_1.4/raw_data/')"
   ]
  },
  {
   "cell_type": "code",
   "execution_count": 8,
   "metadata": {},
   "outputs": [],
   "source": [
    "patients_df = pd.read_csv('../../../LHC_mimic/mimic3_1.4/raw_data/PATIENTS.csv')"
   ]
  },
  {
   "cell_type": "code",
   "execution_count": 9,
   "metadata": {},
   "outputs": [],
   "source": [
    "patients_df['DOD'] = pd.to_datetime(patients_df['DOD'])\n"
   ]
  },
  {
   "cell_type": "code",
   "execution_count": 10,
   "metadata": {},
   "outputs": [
    {
     "data": {
      "text/html": [
       "<div>\n",
       "<style scoped>\n",
       "    .dataframe tbody tr th:only-of-type {\n",
       "        vertical-align: middle;\n",
       "    }\n",
       "\n",
       "    .dataframe tbody tr th {\n",
       "        vertical-align: top;\n",
       "    }\n",
       "\n",
       "    .dataframe thead th {\n",
       "        text-align: right;\n",
       "    }\n",
       "</style>\n",
       "<table border=\"1\" class=\"dataframe\">\n",
       "  <thead>\n",
       "    <tr style=\"text-align: right;\">\n",
       "      <th></th>\n",
       "      <th>ROW_ID</th>\n",
       "      <th>SUBJECT_ID</th>\n",
       "      <th>GENDER</th>\n",
       "      <th>DOB</th>\n",
       "      <th>DOD</th>\n",
       "      <th>DOD_HOSP</th>\n",
       "      <th>DOD_SSN</th>\n",
       "      <th>EXPIRE_FLAG</th>\n",
       "    </tr>\n",
       "  </thead>\n",
       "  <tbody>\n",
       "    <tr>\n",
       "      <th>0</th>\n",
       "      <td>234</td>\n",
       "      <td>249</td>\n",
       "      <td>F</td>\n",
       "      <td>2075-03-13 00:00:00</td>\n",
       "      <td>NaT</td>\n",
       "      <td>NaN</td>\n",
       "      <td>NaN</td>\n",
       "      <td>0</td>\n",
       "    </tr>\n",
       "    <tr>\n",
       "      <th>1</th>\n",
       "      <td>235</td>\n",
       "      <td>250</td>\n",
       "      <td>F</td>\n",
       "      <td>2164-12-27 00:00:00</td>\n",
       "      <td>2188-11-22</td>\n",
       "      <td>2188-11-22 00:00:00</td>\n",
       "      <td>NaN</td>\n",
       "      <td>1</td>\n",
       "    </tr>\n",
       "    <tr>\n",
       "      <th>2</th>\n",
       "      <td>236</td>\n",
       "      <td>251</td>\n",
       "      <td>M</td>\n",
       "      <td>2090-03-15 00:00:00</td>\n",
       "      <td>NaT</td>\n",
       "      <td>NaN</td>\n",
       "      <td>NaN</td>\n",
       "      <td>0</td>\n",
       "    </tr>\n",
       "    <tr>\n",
       "      <th>3</th>\n",
       "      <td>237</td>\n",
       "      <td>252</td>\n",
       "      <td>M</td>\n",
       "      <td>2078-03-06 00:00:00</td>\n",
       "      <td>NaT</td>\n",
       "      <td>NaN</td>\n",
       "      <td>NaN</td>\n",
       "      <td>0</td>\n",
       "    </tr>\n",
       "    <tr>\n",
       "      <th>4</th>\n",
       "      <td>238</td>\n",
       "      <td>253</td>\n",
       "      <td>F</td>\n",
       "      <td>2089-11-26 00:00:00</td>\n",
       "      <td>NaT</td>\n",
       "      <td>NaN</td>\n",
       "      <td>NaN</td>\n",
       "      <td>0</td>\n",
       "    </tr>\n",
       "    <tr>\n",
       "      <th>...</th>\n",
       "      <td>...</td>\n",
       "      <td>...</td>\n",
       "      <td>...</td>\n",
       "      <td>...</td>\n",
       "      <td>...</td>\n",
       "      <td>...</td>\n",
       "      <td>...</td>\n",
       "      <td>...</td>\n",
       "    </tr>\n",
       "    <tr>\n",
       "      <th>46515</th>\n",
       "      <td>31840</td>\n",
       "      <td>44089</td>\n",
       "      <td>M</td>\n",
       "      <td>2026-05-25 00:00:00</td>\n",
       "      <td>NaT</td>\n",
       "      <td>NaN</td>\n",
       "      <td>NaN</td>\n",
       "      <td>0</td>\n",
       "    </tr>\n",
       "    <tr>\n",
       "      <th>46516</th>\n",
       "      <td>31841</td>\n",
       "      <td>44115</td>\n",
       "      <td>F</td>\n",
       "      <td>2124-07-27 00:00:00</td>\n",
       "      <td>NaT</td>\n",
       "      <td>NaN</td>\n",
       "      <td>NaN</td>\n",
       "      <td>0</td>\n",
       "    </tr>\n",
       "    <tr>\n",
       "      <th>46517</th>\n",
       "      <td>31842</td>\n",
       "      <td>44123</td>\n",
       "      <td>F</td>\n",
       "      <td>2049-11-26 00:00:00</td>\n",
       "      <td>2135-01-12</td>\n",
       "      <td>2135-01-12 00:00:00</td>\n",
       "      <td>NaN</td>\n",
       "      <td>1</td>\n",
       "    </tr>\n",
       "    <tr>\n",
       "      <th>46518</th>\n",
       "      <td>31843</td>\n",
       "      <td>44126</td>\n",
       "      <td>F</td>\n",
       "      <td>2076-07-25 00:00:00</td>\n",
       "      <td>NaT</td>\n",
       "      <td>NaN</td>\n",
       "      <td>NaN</td>\n",
       "      <td>0</td>\n",
       "    </tr>\n",
       "    <tr>\n",
       "      <th>46519</th>\n",
       "      <td>31844</td>\n",
       "      <td>44128</td>\n",
       "      <td>M</td>\n",
       "      <td>2098-07-25 00:00:00</td>\n",
       "      <td>NaT</td>\n",
       "      <td>NaN</td>\n",
       "      <td>NaN</td>\n",
       "      <td>0</td>\n",
       "    </tr>\n",
       "  </tbody>\n",
       "</table>\n",
       "<p>46520 rows × 8 columns</p>\n",
       "</div>"
      ],
      "text/plain": [
       "       ROW_ID  SUBJECT_ID GENDER                  DOB        DOD  \\\n",
       "0         234         249      F  2075-03-13 00:00:00        NaT   \n",
       "1         235         250      F  2164-12-27 00:00:00 2188-11-22   \n",
       "2         236         251      M  2090-03-15 00:00:00        NaT   \n",
       "3         237         252      M  2078-03-06 00:00:00        NaT   \n",
       "4         238         253      F  2089-11-26 00:00:00        NaT   \n",
       "...       ...         ...    ...                  ...        ...   \n",
       "46515   31840       44089      M  2026-05-25 00:00:00        NaT   \n",
       "46516   31841       44115      F  2124-07-27 00:00:00        NaT   \n",
       "46517   31842       44123      F  2049-11-26 00:00:00 2135-01-12   \n",
       "46518   31843       44126      F  2076-07-25 00:00:00        NaT   \n",
       "46519   31844       44128      M  2098-07-25 00:00:00        NaT   \n",
       "\n",
       "                  DOD_HOSP DOD_SSN  EXPIRE_FLAG  \n",
       "0                      NaN     NaN            0  \n",
       "1      2188-11-22 00:00:00     NaN            1  \n",
       "2                      NaN     NaN            0  \n",
       "3                      NaN     NaN            0  \n",
       "4                      NaN     NaN            0  \n",
       "...                    ...     ...          ...  \n",
       "46515                  NaN     NaN            0  \n",
       "46516                  NaN     NaN            0  \n",
       "46517  2135-01-12 00:00:00     NaN            1  \n",
       "46518                  NaN     NaN            0  \n",
       "46519                  NaN     NaN            0  \n",
       "\n",
       "[46520 rows x 8 columns]"
      ]
     },
     "execution_count": 10,
     "metadata": {},
     "output_type": "execute_result"
    }
   ],
   "source": [
    "patients_df\n"
   ]
  },
  {
   "cell_type": "code",
   "execution_count": 11,
   "metadata": {},
   "outputs": [],
   "source": [
    "mortality_subset = patients_df[patients_df['DOD'].apply(lambda x: (not pd.isnull(x)))]"
   ]
  },
  {
   "cell_type": "code",
   "execution_count": 12,
   "metadata": {},
   "outputs": [],
   "source": [
    "strict_mortality_subset = admissions_df.merge(mortality_subset[['SUBJECT_ID','DOD']], on='SUBJECT_ID', how='outer')\n",
    "# strict_mortality_subset = mortality_subset"
   ]
  },
  {
   "cell_type": "code",
   "execution_count": 13,
   "metadata": {},
   "outputs": [],
   "source": [
    "strict_mortality_subset['disch_to_death'] = strict_mortality_subset.apply(lambda row:  ( (row['DOD']-row['DISCHTIME']) / np.timedelta64(1, 's')/ 60./60 )  ,axis=1)\n"
   ]
  },
  {
   "cell_type": "code",
   "execution_count": 14,
   "metadata": {},
   "outputs": [
    {
     "data": {
      "text/plain": [
       "11336"
      ]
     },
     "execution_count": 14,
     "metadata": {},
     "output_type": "execute_result"
    }
   ],
   "source": [
    "len(strict_mortality_subset[strict_mortality_subset['disch_to_death']>0]['SUBJECT_ID'].unique())#/len(strict_mortality_subset['SUBJECT_ID'].unique())"
   ]
  },
  {
   "cell_type": "code",
   "execution_count": 15,
   "metadata": {},
   "outputs": [
    {
     "data": {
      "text/plain": [
       "58976"
      ]
     },
     "execution_count": 15,
     "metadata": {},
     "output_type": "execute_result"
    }
   ],
   "source": [
    "len(strict_mortality_subset)\n",
    "# len(admissions_df)"
   ]
  },
  {
   "cell_type": "code",
   "execution_count": 16,
   "metadata": {},
   "outputs": [],
   "source": [
    "strict_mortality_subset = strict_mortality_subset[strict_mortality_subset.apply(lambda row:  row['disch_to_death']>=24 and row['disch_to_death']<=720  ,axis=1)]"
   ]
  },
  {
   "cell_type": "code",
   "execution_count": 17,
   "metadata": {},
   "outputs": [
    {
     "data": {
      "text/html": [
       "<div>\n",
       "<style scoped>\n",
       "    .dataframe tbody tr th:only-of-type {\n",
       "        vertical-align: middle;\n",
       "    }\n",
       "\n",
       "    .dataframe tbody tr th {\n",
       "        vertical-align: top;\n",
       "    }\n",
       "\n",
       "    .dataframe thead th {\n",
       "        text-align: right;\n",
       "    }\n",
       "</style>\n",
       "<table border=\"1\" class=\"dataframe\">\n",
       "  <thead>\n",
       "    <tr style=\"text-align: right;\">\n",
       "      <th></th>\n",
       "      <th>ROW_ID</th>\n",
       "      <th>SUBJECT_ID</th>\n",
       "      <th>HADM_ID</th>\n",
       "      <th>ADMITTIME</th>\n",
       "      <th>DISCHTIME</th>\n",
       "      <th>DEATHTIME</th>\n",
       "      <th>ADMISSION_TYPE</th>\n",
       "      <th>ADMISSION_LOCATION</th>\n",
       "      <th>DISCHARGE_LOCATION</th>\n",
       "      <th>INSURANCE</th>\n",
       "      <th>...</th>\n",
       "      <th>EDREGTIME</th>\n",
       "      <th>EDOUTTIME</th>\n",
       "      <th>DIAGNOSIS</th>\n",
       "      <th>HOSPITAL_EXPIRE_FLAG</th>\n",
       "      <th>HAS_CHARTEVENTS_DATA</th>\n",
       "      <th>DOB</th>\n",
       "      <th>GENDER</th>\n",
       "      <th>AGE</th>\n",
       "      <th>DOD</th>\n",
       "      <th>disch_to_death</th>\n",
       "    </tr>\n",
       "  </thead>\n",
       "  <tbody>\n",
       "    <tr>\n",
       "      <th>42</th>\n",
       "      <td>476</td>\n",
       "      <td>370</td>\n",
       "      <td>123421</td>\n",
       "      <td>2153-03-04 01:17:00</td>\n",
       "      <td>2153-03-08 18:57:00</td>\n",
       "      <td>NaT</td>\n",
       "      <td>EMERGENCY</td>\n",
       "      <td>EMERGENCY ROOM ADMIT</td>\n",
       "      <td>REHAB/DISTINCT PART HOSP</td>\n",
       "      <td>Medicare</td>\n",
       "      <td>...</td>\n",
       "      <td>2153-03-03 14:34:00</td>\n",
       "      <td>2153-03-03 23:55:00</td>\n",
       "      <td>PNEUMONIA</td>\n",
       "      <td>0</td>\n",
       "      <td>1</td>\n",
       "      <td>2069-08-26</td>\n",
       "      <td>F</td>\n",
       "      <td>83.575489</td>\n",
       "      <td>2153-03-12</td>\n",
       "      <td>77.050000</td>\n",
       "    </tr>\n",
       "    <tr>\n",
       "      <th>72</th>\n",
       "      <td>70</td>\n",
       "      <td>68</td>\n",
       "      <td>108329</td>\n",
       "      <td>2174-01-04 22:21:00</td>\n",
       "      <td>2174-01-19 11:30:00</td>\n",
       "      <td>NaT</td>\n",
       "      <td>EMERGENCY</td>\n",
       "      <td>EMERGENCY ROOM ADMIT</td>\n",
       "      <td>SNF</td>\n",
       "      <td>Medicare</td>\n",
       "      <td>...</td>\n",
       "      <td>2174-01-04 17:40:00</td>\n",
       "      <td>2174-01-05 03:00:00</td>\n",
       "      <td>WEAKNESS</td>\n",
       "      <td>0</td>\n",
       "      <td>1</td>\n",
       "      <td>2132-02-29</td>\n",
       "      <td>F</td>\n",
       "      <td>41.879264</td>\n",
       "      <td>2174-02-11</td>\n",
       "      <td>540.500000</td>\n",
       "    </tr>\n",
       "    <tr>\n",
       "      <th>108</th>\n",
       "      <td>106</td>\n",
       "      <td>103</td>\n",
       "      <td>130744</td>\n",
       "      <td>2144-08-12 17:37:00</td>\n",
       "      <td>2144-08-20 11:15:00</td>\n",
       "      <td>NaT</td>\n",
       "      <td>EMERGENCY</td>\n",
       "      <td>TRANSFER FROM HOSP/EXTRAM</td>\n",
       "      <td>SNF</td>\n",
       "      <td>Private</td>\n",
       "      <td>...</td>\n",
       "      <td>NaN</td>\n",
       "      <td>NaN</td>\n",
       "      <td>SUBARACHNOID HEMORRHAGE</td>\n",
       "      <td>0</td>\n",
       "      <td>1</td>\n",
       "      <td>2084-04-14</td>\n",
       "      <td>F</td>\n",
       "      <td>60.369134</td>\n",
       "      <td>2144-09-01</td>\n",
       "      <td>276.750000</td>\n",
       "    </tr>\n",
       "    <tr>\n",
       "      <th>150</th>\n",
       "      <td>148</td>\n",
       "      <td>109</td>\n",
       "      <td>155726</td>\n",
       "      <td>2142-08-13 04:03:00</td>\n",
       "      <td>2142-08-16 18:17:00</td>\n",
       "      <td>NaT</td>\n",
       "      <td>EMERGENCY</td>\n",
       "      <td>EMERGENCY ROOM ADMIT</td>\n",
       "      <td>HOME</td>\n",
       "      <td>Medicaid</td>\n",
       "      <td>...</td>\n",
       "      <td>2142-08-13 01:49:00</td>\n",
       "      <td>2142-08-13 05:59:00</td>\n",
       "      <td>DYSPNEA</td>\n",
       "      <td>0</td>\n",
       "      <td>1</td>\n",
       "      <td>2117-08-07</td>\n",
       "      <td>F</td>\n",
       "      <td>25.033339</td>\n",
       "      <td>2142-08-30</td>\n",
       "      <td>317.716667</td>\n",
       "    </tr>\n",
       "    <tr>\n",
       "      <th>185</th>\n",
       "      <td>199</td>\n",
       "      <td>149</td>\n",
       "      <td>154869</td>\n",
       "      <td>2135-02-18 19:16:00</td>\n",
       "      <td>2135-02-26 17:00:00</td>\n",
       "      <td>NaT</td>\n",
       "      <td>EMERGENCY</td>\n",
       "      <td>CLINIC REFERRAL/PREMATURE</td>\n",
       "      <td>SNF</td>\n",
       "      <td>Medicare</td>\n",
       "      <td>...</td>\n",
       "      <td>2135-02-18 09:11:00</td>\n",
       "      <td>2135-02-18 13:00:00</td>\n",
       "      <td>CORONARY ARTERY DISEASE</td>\n",
       "      <td>0</td>\n",
       "      <td>1</td>\n",
       "      <td>1835-02-18</td>\n",
       "      <td>F</td>\n",
       "      <td>NaN</td>\n",
       "      <td>2135-03-02</td>\n",
       "      <td>79.000000</td>\n",
       "    </tr>\n",
       "    <tr>\n",
       "      <th>...</th>\n",
       "      <td>...</td>\n",
       "      <td>...</td>\n",
       "      <td>...</td>\n",
       "      <td>...</td>\n",
       "      <td>...</td>\n",
       "      <td>...</td>\n",
       "      <td>...</td>\n",
       "      <td>...</td>\n",
       "      <td>...</td>\n",
       "      <td>...</td>\n",
       "      <td>...</td>\n",
       "      <td>...</td>\n",
       "      <td>...</td>\n",
       "      <td>...</td>\n",
       "      <td>...</td>\n",
       "      <td>...</td>\n",
       "      <td>...</td>\n",
       "      <td>...</td>\n",
       "      <td>...</td>\n",
       "      <td>...</td>\n",
       "      <td>...</td>\n",
       "    </tr>\n",
       "    <tr>\n",
       "      <th>58788</th>\n",
       "      <td>58926</td>\n",
       "      <td>99836</td>\n",
       "      <td>101018</td>\n",
       "      <td>2116-05-21 19:23:00</td>\n",
       "      <td>2116-07-17 16:30:00</td>\n",
       "      <td>NaT</td>\n",
       "      <td>EMERGENCY</td>\n",
       "      <td>TRANSFER FROM HOSP/EXTRAM</td>\n",
       "      <td>HOSPICE-MEDICAL FACILITY</td>\n",
       "      <td>Medicare</td>\n",
       "      <td>...</td>\n",
       "      <td>NaN</td>\n",
       "      <td>NaN</td>\n",
       "      <td>HEPATITIS</td>\n",
       "      <td>0</td>\n",
       "      <td>1</td>\n",
       "      <td>2064-04-13</td>\n",
       "      <td>F</td>\n",
       "      <td>52.139199</td>\n",
       "      <td>2116-07-23</td>\n",
       "      <td>127.500000</td>\n",
       "    </tr>\n",
       "    <tr>\n",
       "      <th>58832</th>\n",
       "      <td>57000</td>\n",
       "      <td>93844</td>\n",
       "      <td>188035</td>\n",
       "      <td>2144-06-11 16:37:00</td>\n",
       "      <td>2144-06-17 18:34:00</td>\n",
       "      <td>NaT</td>\n",
       "      <td>EMERGENCY</td>\n",
       "      <td>CLINIC REFERRAL/PREMATURE</td>\n",
       "      <td>HOME</td>\n",
       "      <td>Private</td>\n",
       "      <td>...</td>\n",
       "      <td>2144-06-11 12:59:00</td>\n",
       "      <td>2144-06-11 21:45:00</td>\n",
       "      <td>ABDOMINAL PAIN</td>\n",
       "      <td>0</td>\n",
       "      <td>1</td>\n",
       "      <td>2101-06-02</td>\n",
       "      <td>F</td>\n",
       "      <td>43.056691</td>\n",
       "      <td>2144-07-11</td>\n",
       "      <td>557.433333</td>\n",
       "    </tr>\n",
       "    <tr>\n",
       "      <th>58836</th>\n",
       "      <td>57761</td>\n",
       "      <td>96234</td>\n",
       "      <td>195310</td>\n",
       "      <td>2117-12-29 18:21:00</td>\n",
       "      <td>2118-01-01 16:06:00</td>\n",
       "      <td>NaT</td>\n",
       "      <td>EMERGENCY</td>\n",
       "      <td>CLINIC REFERRAL/PREMATURE</td>\n",
       "      <td>HOME HEALTH CARE</td>\n",
       "      <td>Medicare</td>\n",
       "      <td>...</td>\n",
       "      <td>2117-12-29 14:04:00</td>\n",
       "      <td>2117-12-29 21:27:00</td>\n",
       "      <td>UPPER GI BLEED</td>\n",
       "      <td>0</td>\n",
       "      <td>1</td>\n",
       "      <td>2055-08-12</td>\n",
       "      <td>M</td>\n",
       "      <td>62.424013</td>\n",
       "      <td>2118-01-31</td>\n",
       "      <td>703.900000</td>\n",
       "    </tr>\n",
       "    <tr>\n",
       "      <th>58900</th>\n",
       "      <td>57491</td>\n",
       "      <td>95380</td>\n",
       "      <td>198194</td>\n",
       "      <td>2196-10-28 21:19:00</td>\n",
       "      <td>2196-11-09 17:40:00</td>\n",
       "      <td>NaT</td>\n",
       "      <td>EMERGENCY</td>\n",
       "      <td>TRANSFER FROM HOSP/EXTRAM</td>\n",
       "      <td>HOME HEALTH CARE</td>\n",
       "      <td>Private</td>\n",
       "      <td>...</td>\n",
       "      <td>NaN</td>\n",
       "      <td>NaN</td>\n",
       "      <td>KIDNEY FAILURE</td>\n",
       "      <td>0</td>\n",
       "      <td>1</td>\n",
       "      <td>2145-02-02</td>\n",
       "      <td>M</td>\n",
       "      <td>51.772296</td>\n",
       "      <td>2196-11-23</td>\n",
       "      <td>318.333333</td>\n",
       "    </tr>\n",
       "    <tr>\n",
       "      <th>58960</th>\n",
       "      <td>58581</td>\n",
       "      <td>98755</td>\n",
       "      <td>184156</td>\n",
       "      <td>2167-05-17 12:36:00</td>\n",
       "      <td>2167-05-18 17:03:00</td>\n",
       "      <td>NaT</td>\n",
       "      <td>EMERGENCY</td>\n",
       "      <td>EMERGENCY ROOM ADMIT</td>\n",
       "      <td>LONG TERM CARE HOSPITAL</td>\n",
       "      <td>Medicare</td>\n",
       "      <td>...</td>\n",
       "      <td>2167-05-17 10:48:00</td>\n",
       "      <td>2167-05-17 14:02:00</td>\n",
       "      <td>ASTHMA/COPD EXACERBATION</td>\n",
       "      <td>0</td>\n",
       "      <td>1</td>\n",
       "      <td>2087-03-31</td>\n",
       "      <td>F</td>\n",
       "      <td>80.182260</td>\n",
       "      <td>2167-05-20</td>\n",
       "      <td>30.950000</td>\n",
       "    </tr>\n",
       "  </tbody>\n",
       "</table>\n",
       "<p>2033 rows × 24 columns</p>\n",
       "</div>"
      ],
      "text/plain": [
       "       ROW_ID  SUBJECT_ID  HADM_ID           ADMITTIME           DISCHTIME  \\\n",
       "42        476         370   123421 2153-03-04 01:17:00 2153-03-08 18:57:00   \n",
       "72         70          68   108329 2174-01-04 22:21:00 2174-01-19 11:30:00   \n",
       "108       106         103   130744 2144-08-12 17:37:00 2144-08-20 11:15:00   \n",
       "150       148         109   155726 2142-08-13 04:03:00 2142-08-16 18:17:00   \n",
       "185       199         149   154869 2135-02-18 19:16:00 2135-02-26 17:00:00   \n",
       "...       ...         ...      ...                 ...                 ...   \n",
       "58788   58926       99836   101018 2116-05-21 19:23:00 2116-07-17 16:30:00   \n",
       "58832   57000       93844   188035 2144-06-11 16:37:00 2144-06-17 18:34:00   \n",
       "58836   57761       96234   195310 2117-12-29 18:21:00 2118-01-01 16:06:00   \n",
       "58900   57491       95380   198194 2196-10-28 21:19:00 2196-11-09 17:40:00   \n",
       "58960   58581       98755   184156 2167-05-17 12:36:00 2167-05-18 17:03:00   \n",
       "\n",
       "      DEATHTIME ADMISSION_TYPE         ADMISSION_LOCATION  \\\n",
       "42          NaT      EMERGENCY       EMERGENCY ROOM ADMIT   \n",
       "72          NaT      EMERGENCY       EMERGENCY ROOM ADMIT   \n",
       "108         NaT      EMERGENCY  TRANSFER FROM HOSP/EXTRAM   \n",
       "150         NaT      EMERGENCY       EMERGENCY ROOM ADMIT   \n",
       "185         NaT      EMERGENCY  CLINIC REFERRAL/PREMATURE   \n",
       "...         ...            ...                        ...   \n",
       "58788       NaT      EMERGENCY  TRANSFER FROM HOSP/EXTRAM   \n",
       "58832       NaT      EMERGENCY  CLINIC REFERRAL/PREMATURE   \n",
       "58836       NaT      EMERGENCY  CLINIC REFERRAL/PREMATURE   \n",
       "58900       NaT      EMERGENCY  TRANSFER FROM HOSP/EXTRAM   \n",
       "58960       NaT      EMERGENCY       EMERGENCY ROOM ADMIT   \n",
       "\n",
       "             DISCHARGE_LOCATION INSURANCE  ...            EDREGTIME  \\\n",
       "42     REHAB/DISTINCT PART HOSP  Medicare  ...  2153-03-03 14:34:00   \n",
       "72                          SNF  Medicare  ...  2174-01-04 17:40:00   \n",
       "108                         SNF   Private  ...                  NaN   \n",
       "150                        HOME  Medicaid  ...  2142-08-13 01:49:00   \n",
       "185                         SNF  Medicare  ...  2135-02-18 09:11:00   \n",
       "...                         ...       ...  ...                  ...   \n",
       "58788  HOSPICE-MEDICAL FACILITY  Medicare  ...                  NaN   \n",
       "58832                      HOME   Private  ...  2144-06-11 12:59:00   \n",
       "58836          HOME HEALTH CARE  Medicare  ...  2117-12-29 14:04:00   \n",
       "58900          HOME HEALTH CARE   Private  ...                  NaN   \n",
       "58960   LONG TERM CARE HOSPITAL  Medicare  ...  2167-05-17 10:48:00   \n",
       "\n",
       "                 EDOUTTIME                 DIAGNOSIS HOSPITAL_EXPIRE_FLAG  \\\n",
       "42     2153-03-03 23:55:00                 PNEUMONIA                    0   \n",
       "72     2174-01-05 03:00:00                  WEAKNESS                    0   \n",
       "108                    NaN   SUBARACHNOID HEMORRHAGE                    0   \n",
       "150    2142-08-13 05:59:00                   DYSPNEA                    0   \n",
       "185    2135-02-18 13:00:00   CORONARY ARTERY DISEASE                    0   \n",
       "...                    ...                       ...                  ...   \n",
       "58788                  NaN                 HEPATITIS                    0   \n",
       "58832  2144-06-11 21:45:00            ABDOMINAL PAIN                    0   \n",
       "58836  2117-12-29 21:27:00            UPPER GI BLEED                    0   \n",
       "58900                  NaN            KIDNEY FAILURE                    0   \n",
       "58960  2167-05-17 14:02:00  ASTHMA/COPD EXACERBATION                    0   \n",
       "\n",
       "      HAS_CHARTEVENTS_DATA        DOB GENDER        AGE        DOD  \\\n",
       "42                       1 2069-08-26      F  83.575489 2153-03-12   \n",
       "72                       1 2132-02-29      F  41.879264 2174-02-11   \n",
       "108                      1 2084-04-14      F  60.369134 2144-09-01   \n",
       "150                      1 2117-08-07      F  25.033339 2142-08-30   \n",
       "185                      1 1835-02-18      F        NaN 2135-03-02   \n",
       "...                    ...        ...    ...        ...        ...   \n",
       "58788                    1 2064-04-13      F  52.139199 2116-07-23   \n",
       "58832                    1 2101-06-02      F  43.056691 2144-07-11   \n",
       "58836                    1 2055-08-12      M  62.424013 2118-01-31   \n",
       "58900                    1 2145-02-02      M  51.772296 2196-11-23   \n",
       "58960                    1 2087-03-31      F  80.182260 2167-05-20   \n",
       "\n",
       "      disch_to_death  \n",
       "42         77.050000  \n",
       "72        540.500000  \n",
       "108       276.750000  \n",
       "150       317.716667  \n",
       "185        79.000000  \n",
       "...              ...  \n",
       "58788     127.500000  \n",
       "58832     557.433333  \n",
       "58836     703.900000  \n",
       "58900     318.333333  \n",
       "58960      30.950000  \n",
       "\n",
       "[2033 rows x 24 columns]"
      ]
     },
     "execution_count": 17,
     "metadata": {},
     "output_type": "execute_result"
    }
   ],
   "source": [
    "strict_mortality_subset"
   ]
  },
  {
   "cell_type": "code",
   "execution_count": 18,
   "metadata": {},
   "outputs": [],
   "source": [
    "# procedures_df = pd.read_csv('../../LHC_mimic/mimic3_1.4/raw_data/PROCEDURES_ICD.csv')"
   ]
  },
  {
   "cell_type": "code",
   "execution_count": 19,
   "metadata": {},
   "outputs": [],
   "source": [
    "# diagnoses = pd.read_csv('../../LHC_mimic/mimic3_1.4/raw_data/DIAGNOSES_ICD.csv')"
   ]
  },
  {
   "cell_type": "code",
   "execution_count": 20,
   "metadata": {},
   "outputs": [
    {
     "name": "stderr",
     "output_type": "stream",
     "text": [
      "/gpfs/gsfs12/users/moldwinar/chiqa-fsl-ks/tr3/lib/python3.6/site-packages/IPython/core/interactiveshell.py:3072: DtypeWarning: Columns (4,5) have mixed types.Specify dtype option on import or set low_memory=False.\n",
      "  interactivity=interactivity, compiler=compiler, result=result)\n"
     ]
    }
   ],
   "source": [
    "notes_df = pd.read_csv('../../../LHC_mimic/mimic3_1.4/raw_data/NOTEEVENTS.csv')"
   ]
  },
  {
   "cell_type": "code",
   "execution_count": 21,
   "metadata": {},
   "outputs": [],
   "source": [
    "notes_df=notes_df.dropna(subset=['HADM_ID','SUBJECT_ID'], how='any')"
   ]
  },
  {
   "cell_type": "code",
   "execution_count": 22,
   "metadata": {},
   "outputs": [],
   "source": [
    "notes_df = notes_df.merge(admissions_df[['HADM_ID','AGE','GENDER']], on='HADM_ID')"
   ]
  },
  {
   "cell_type": "code",
   "execution_count": 23,
   "metadata": {},
   "outputs": [],
   "source": [
    "notes_df = notes_df[notes_df['AGE']>15]"
   ]
  },
  {
   "cell_type": "code",
   "execution_count": 24,
   "metadata": {},
   "outputs": [],
   "source": [
    "notes_df['HADM_ID'] = notes_df['HADM_ID'].apply(lambda x: int(x))"
   ]
  },
  {
   "cell_type": "code",
   "execution_count": 25,
   "metadata": {},
   "outputs": [],
   "source": [
    "notes_df['CHARTTIME']= pd.to_datetime(notes_df['CHARTTIME'])"
   ]
  },
  {
   "cell_type": "code",
   "execution_count": 26,
   "metadata": {},
   "outputs": [],
   "source": [
    "sections_df = pd.read_csv('../section_annotations_df.csv')"
   ]
  },
  {
   "cell_type": "code",
   "execution_count": 27,
   "metadata": {},
   "outputs": [],
   "source": [
    "adm_sections = [ 'chief_complaint','history_of_present_illness', 'ros', 'assessment_and_plan','allergies','past_medical_history','family_history','social_history','physical_exam']"
   ]
  },
  {
   "cell_type": "code",
   "execution_count": 28,
   "metadata": {},
   "outputs": [],
   "source": [
    "merged = notes_df.merge(sections_df[['ROW_ID','sections']],on='ROW_ID')"
   ]
  },
  {
   "cell_type": "code",
   "execution_count": 29,
   "metadata": {},
   "outputs": [],
   "source": [
    "merged['has_adm_section']=merged['sections'].apply(lambda x: any([ y in x for y in adm_sections]))"
   ]
  },
  {
   "cell_type": "code",
   "execution_count": 30,
   "metadata": {},
   "outputs": [],
   "source": [
    "# admission_notes =merged[merged.apply(lambda row: row['has_adm_section'] and row['CATEGORY'] in ['Nursing/other','Nursing','General','Physician '],axis=1)].sort_values(by='CHARTTIME')\n",
    "admission_notes =merged[merged.apply(lambda row: 'discharge' in row['TEXT'].lower() and row['CATEGORY'] in ['Nursing/other','Nursing','General','Physician '],axis=1)].sort_values(by='CHARTTIME')"
   ]
  },
  {
   "cell_type": "code",
   "execution_count": 31,
   "metadata": {},
   "outputs": [],
   "source": [
    "# admission_notes"
   ]
  },
  {
   "cell_type": "code",
   "execution_count": 32,
   "metadata": {},
   "outputs": [
    {
     "data": {
      "text/plain": [
       "array(['Nursing/other', 'Nursing', 'Physician ', 'General'], dtype=object)"
      ]
     },
     "execution_count": 32,
     "metadata": {},
     "output_type": "execute_result"
    }
   ],
   "source": [
    "admission_notes['CATEGORY'].unique()"
   ]
  },
  {
   "cell_type": "code",
   "execution_count": 33,
   "metadata": {},
   "outputs": [],
   "source": [
    "mortality_subjects = list(mortality_subset['SUBJECT_ID'])\n",
    "# mortality_admissions = list(mortality_subset['HADM_ID'])\n",
    "\n",
    "\n",
    "negative_admission_notes = notes_df[notes_df.apply(lambda row:(not row['SUBJECT_ID'] in mortality_subjects) ,axis=1)]"
   ]
  },
  {
   "cell_type": "code",
   "execution_count": 34,
   "metadata": {},
   "outputs": [],
   "source": [
    "negative_admission_notes=negative_admission_notes[negative_admission_notes['CATEGORY']=='Discharge summary']"
   ]
  },
  {
   "cell_type": "code",
   "execution_count": 35,
   "metadata": {},
   "outputs": [],
   "source": [
    "negative_admission_notes = negative_admission_notes.sample(frac=1)"
   ]
  },
  {
   "cell_type": "code",
   "execution_count": 36,
   "metadata": {},
   "outputs": [
    {
     "data": {
      "text/plain": [
       "29771"
      ]
     },
     "execution_count": 36,
     "metadata": {},
     "output_type": "execute_result"
    }
   ],
   "source": [
    "len(negative_admission_notes['HADM_ID'].unique())\n",
    "len(negative_admission_notes['HADM_ID'])\n",
    "\n",
    "# len(negative_admission_notes['SUBJECT_ID'].unique())"
   ]
  },
  {
   "cell_type": "code",
   "execution_count": 37,
   "metadata": {},
   "outputs": [],
   "source": [
    "negative_admission_notes = negative_admission_notes.drop_duplicates(subset =['SUBJECT_ID'], keep='first' )\n",
    "negative_admission_notes = negative_admission_notes.sort_values(by='CHARTTIME', ascending = True)\n",
    "negative_admission_notes = negative_admission_notes.drop_duplicates(subset =['HADM_ID'], keep='first' )"
   ]
  },
  {
   "cell_type": "code",
   "execution_count": 38,
   "metadata": {},
   "outputs": [
    {
     "data": {
      "text/plain": [
       "21812"
      ]
     },
     "execution_count": 38,
     "metadata": {},
     "output_type": "execute_result"
    }
   ],
   "source": [
    "len(negative_admission_notes)"
   ]
  },
  {
   "cell_type": "code",
   "execution_count": 39,
   "metadata": {},
   "outputs": [],
   "source": [
    "strict_mortality_admissions = list(strict_mortality_subset['HADM_ID'])\n",
    "\n",
    "positive_admission_notes = notes_df[notes_df.apply(lambda row:(row['HADM_ID'] in strict_mortality_admissions) ,axis=1)]\n"
   ]
  },
  {
   "cell_type": "code",
   "execution_count": 40,
   "metadata": {},
   "outputs": [
    {
     "data": {
      "text/plain": [
       "72219"
      ]
     },
     "execution_count": 40,
     "metadata": {},
     "output_type": "execute_result"
    }
   ],
   "source": [
    "len(positive_admission_notes)"
   ]
  },
  {
   "cell_type": "code",
   "execution_count": 41,
   "metadata": {},
   "outputs": [],
   "source": [
    "positive_admission_notes=positive_admission_notes[positive_admission_notes['CATEGORY']=='Discharge summary']"
   ]
  },
  {
   "cell_type": "code",
   "execution_count": 42,
   "metadata": {},
   "outputs": [
    {
     "data": {
      "text/plain": [
       "2044"
      ]
     },
     "execution_count": 42,
     "metadata": {},
     "output_type": "execute_result"
    }
   ],
   "source": [
    "# strict_mortality_subset['HADM_ID']\n",
    "# 161773 in list(admission_notes['HADM_ID'])\n",
    "# admission_notes['HADM_ID']\n",
    "# # len(positive_admission_notes)\n",
    "# strict_mortality_subset['SUBJECT_ID']\n",
    "# 98669 in admission_notes['SUBJECT_ID']\n",
    "len(positive_admission_notes)"
   ]
  },
  {
   "cell_type": "code",
   "execution_count": 43,
   "metadata": {},
   "outputs": [],
   "source": [
    "positive_admission_notes = positive_admission_notes.sort_values(by='CHARTTIME', ascending = False)\n",
    "positive_admission_notes = positive_admission_notes.drop_duplicates(subset=['HADM_ID'],keep='first')\n",
    "positive_admission_notes = positive_admission_notes.drop_duplicates(subset=['SUBJECT_ID'],keep='first')"
   ]
  },
  {
   "cell_type": "code",
   "execution_count": 44,
   "metadata": {},
   "outputs": [
    {
     "data": {
      "text/plain": [
       "1688"
      ]
     },
     "execution_count": 44,
     "metadata": {},
     "output_type": "execute_result"
    }
   ],
   "source": [
    "len(positive_admission_notes)"
   ]
  },
  {
   "cell_type": "code",
   "execution_count": 45,
   "metadata": {},
   "outputs": [
    {
     "data": {
      "text/html": [
       "<div>\n",
       "<style scoped>\n",
       "    .dataframe tbody tr th:only-of-type {\n",
       "        vertical-align: middle;\n",
       "    }\n",
       "\n",
       "    .dataframe tbody tr th {\n",
       "        vertical-align: top;\n",
       "    }\n",
       "\n",
       "    .dataframe thead th {\n",
       "        text-align: right;\n",
       "    }\n",
       "</style>\n",
       "<table border=\"1\" class=\"dataframe\">\n",
       "  <thead>\n",
       "    <tr style=\"text-align: right;\">\n",
       "      <th></th>\n",
       "      <th>ROW_ID</th>\n",
       "      <th>SUBJECT_ID</th>\n",
       "      <th>HADM_ID</th>\n",
       "      <th>CHARTDATE</th>\n",
       "      <th>CHARTTIME</th>\n",
       "      <th>STORETIME</th>\n",
       "      <th>CATEGORY</th>\n",
       "      <th>DESCRIPTION</th>\n",
       "      <th>CGID</th>\n",
       "      <th>ISERROR</th>\n",
       "      <th>TEXT</th>\n",
       "      <th>AGE</th>\n",
       "      <th>GENDER</th>\n",
       "    </tr>\n",
       "  </thead>\n",
       "  <tbody>\n",
       "    <tr>\n",
       "      <th>212</th>\n",
       "      <td>178</td>\n",
       "      <td>26880</td>\n",
       "      <td>135453</td>\n",
       "      <td>2162-03-25</td>\n",
       "      <td>NaT</td>\n",
       "      <td>NaN</td>\n",
       "      <td>Discharge summary</td>\n",
       "      <td>Report</td>\n",
       "      <td>NaN</td>\n",
       "      <td>NaN</td>\n",
       "      <td>Admission Date:  [**2162-3-3**]              D...</td>\n",
       "      <td>82.215841</td>\n",
       "      <td>M</td>\n",
       "    </tr>\n",
       "    <tr>\n",
       "      <th>375</th>\n",
       "      <td>227</td>\n",
       "      <td>10044</td>\n",
       "      <td>124073</td>\n",
       "      <td>2152-10-11</td>\n",
       "      <td>NaT</td>\n",
       "      <td>NaN</td>\n",
       "      <td>Discharge summary</td>\n",
       "      <td>Report</td>\n",
       "      <td>NaN</td>\n",
       "      <td>NaN</td>\n",
       "      <td>Admission Date:  [**2152-10-2**]       Dischar...</td>\n",
       "      <td>81.695023</td>\n",
       "      <td>F</td>\n",
       "    </tr>\n",
       "    <tr>\n",
       "      <th>1489</th>\n",
       "      <td>218</td>\n",
       "      <td>11018</td>\n",
       "      <td>131769</td>\n",
       "      <td>2154-03-28</td>\n",
       "      <td>NaT</td>\n",
       "      <td>NaN</td>\n",
       "      <td>Discharge summary</td>\n",
       "      <td>Report</td>\n",
       "      <td>NaN</td>\n",
       "      <td>NaN</td>\n",
       "      <td>Admission Date:  [**2154-3-24**]              ...</td>\n",
       "      <td>69.275449</td>\n",
       "      <td>M</td>\n",
       "    </tr>\n",
       "    <tr>\n",
       "      <th>1514</th>\n",
       "      <td>221</td>\n",
       "      <td>75347</td>\n",
       "      <td>152030</td>\n",
       "      <td>2174-06-03</td>\n",
       "      <td>NaT</td>\n",
       "      <td>NaN</td>\n",
       "      <td>Discharge summary</td>\n",
       "      <td>Report</td>\n",
       "      <td>NaN</td>\n",
       "      <td>NaN</td>\n",
       "      <td>Admission Date:  [**2174-5-3**]              D...</td>\n",
       "      <td>64.221476</td>\n",
       "      <td>M</td>\n",
       "    </tr>\n",
       "    <tr>\n",
       "      <th>2762</th>\n",
       "      <td>36</td>\n",
       "      <td>5458</td>\n",
       "      <td>130840</td>\n",
       "      <td>2137-03-16</td>\n",
       "      <td>NaT</td>\n",
       "      <td>NaN</td>\n",
       "      <td>Discharge summary</td>\n",
       "      <td>Report</td>\n",
       "      <td>NaN</td>\n",
       "      <td>NaN</td>\n",
       "      <td>Admission Date:  [**2137-3-7**]              D...</td>\n",
       "      <td>76.461914</td>\n",
       "      <td>M</td>\n",
       "    </tr>\n",
       "    <tr>\n",
       "      <th>...</th>\n",
       "      <td>...</td>\n",
       "      <td>...</td>\n",
       "      <td>...</td>\n",
       "      <td>...</td>\n",
       "      <td>...</td>\n",
       "      <td>...</td>\n",
       "      <td>...</td>\n",
       "      <td>...</td>\n",
       "      <td>...</td>\n",
       "      <td>...</td>\n",
       "      <td>...</td>\n",
       "      <td>...</td>\n",
       "      <td>...</td>\n",
       "    </tr>\n",
       "    <tr>\n",
       "      <th>1815691</th>\n",
       "      <td>53342</td>\n",
       "      <td>16804</td>\n",
       "      <td>102306</td>\n",
       "      <td>2192-03-15</td>\n",
       "      <td>NaT</td>\n",
       "      <td>NaN</td>\n",
       "      <td>Discharge summary</td>\n",
       "      <td>Report</td>\n",
       "      <td>NaN</td>\n",
       "      <td>NaN</td>\n",
       "      <td>Admission Date:  [**2192-3-2**]       Discharg...</td>\n",
       "      <td>84.041414</td>\n",
       "      <td>F</td>\n",
       "    </tr>\n",
       "    <tr>\n",
       "      <th>1816932</th>\n",
       "      <td>53607</td>\n",
       "      <td>61998</td>\n",
       "      <td>176304</td>\n",
       "      <td>2200-03-28</td>\n",
       "      <td>NaT</td>\n",
       "      <td>NaN</td>\n",
       "      <td>Discharge summary</td>\n",
       "      <td>Report</td>\n",
       "      <td>NaN</td>\n",
       "      <td>NaN</td>\n",
       "      <td>Admission Date:  [**2200-3-25**]              ...</td>\n",
       "      <td>43.901714</td>\n",
       "      <td>M</td>\n",
       "    </tr>\n",
       "    <tr>\n",
       "      <th>1817192</th>\n",
       "      <td>56811</td>\n",
       "      <td>2896</td>\n",
       "      <td>178124</td>\n",
       "      <td>2105-11-02</td>\n",
       "      <td>NaT</td>\n",
       "      <td>NaN</td>\n",
       "      <td>Discharge summary</td>\n",
       "      <td>Addendum</td>\n",
       "      <td>NaN</td>\n",
       "      <td>NaN</td>\n",
       "      <td>Name:  [**Known lastname **], [**Known firstna...</td>\n",
       "      <td>88.602314</td>\n",
       "      <td>M</td>\n",
       "    </tr>\n",
       "    <tr>\n",
       "      <th>1817520</th>\n",
       "      <td>57780</td>\n",
       "      <td>28848</td>\n",
       "      <td>137939</td>\n",
       "      <td>2168-10-26</td>\n",
       "      <td>NaT</td>\n",
       "      <td>NaN</td>\n",
       "      <td>Discharge summary</td>\n",
       "      <td>Addendum</td>\n",
       "      <td>NaN</td>\n",
       "      <td>NaN</td>\n",
       "      <td>Name:  [**Known lastname 12352**],[**Known fir...</td>\n",
       "      <td>88.567452</td>\n",
       "      <td>M</td>\n",
       "    </tr>\n",
       "    <tr>\n",
       "      <th>1817932</th>\n",
       "      <td>59173</td>\n",
       "      <td>6200</td>\n",
       "      <td>131944</td>\n",
       "      <td>2124-03-29</td>\n",
       "      <td>NaT</td>\n",
       "      <td>NaN</td>\n",
       "      <td>Discharge summary</td>\n",
       "      <td>Addendum</td>\n",
       "      <td>NaN</td>\n",
       "      <td>NaN</td>\n",
       "      <td>Name:  [**Known lastname **], [**Known firstna...</td>\n",
       "      <td>59.726667</td>\n",
       "      <td>M</td>\n",
       "    </tr>\n",
       "  </tbody>\n",
       "</table>\n",
       "<p>1688 rows × 13 columns</p>\n",
       "</div>"
      ],
      "text/plain": [
       "         ROW_ID  SUBJECT_ID  HADM_ID   CHARTDATE CHARTTIME STORETIME  \\\n",
       "212         178       26880   135453  2162-03-25       NaT       NaN   \n",
       "375         227       10044   124073  2152-10-11       NaT       NaN   \n",
       "1489        218       11018   131769  2154-03-28       NaT       NaN   \n",
       "1514        221       75347   152030  2174-06-03       NaT       NaN   \n",
       "2762         36        5458   130840  2137-03-16       NaT       NaN   \n",
       "...         ...         ...      ...         ...       ...       ...   \n",
       "1815691   53342       16804   102306  2192-03-15       NaT       NaN   \n",
       "1816932   53607       61998   176304  2200-03-28       NaT       NaN   \n",
       "1817192   56811        2896   178124  2105-11-02       NaT       NaN   \n",
       "1817520   57780       28848   137939  2168-10-26       NaT       NaN   \n",
       "1817932   59173        6200   131944  2124-03-29       NaT       NaN   \n",
       "\n",
       "                  CATEGORY DESCRIPTION  CGID  ISERROR  \\\n",
       "212      Discharge summary      Report   NaN      NaN   \n",
       "375      Discharge summary      Report   NaN      NaN   \n",
       "1489     Discharge summary      Report   NaN      NaN   \n",
       "1514     Discharge summary      Report   NaN      NaN   \n",
       "2762     Discharge summary      Report   NaN      NaN   \n",
       "...                    ...         ...   ...      ...   \n",
       "1815691  Discharge summary      Report   NaN      NaN   \n",
       "1816932  Discharge summary      Report   NaN      NaN   \n",
       "1817192  Discharge summary    Addendum   NaN      NaN   \n",
       "1817520  Discharge summary    Addendum   NaN      NaN   \n",
       "1817932  Discharge summary    Addendum   NaN      NaN   \n",
       "\n",
       "                                                      TEXT        AGE GENDER  \n",
       "212      Admission Date:  [**2162-3-3**]              D...  82.215841      M  \n",
       "375      Admission Date:  [**2152-10-2**]       Dischar...  81.695023      F  \n",
       "1489     Admission Date:  [**2154-3-24**]              ...  69.275449      M  \n",
       "1514     Admission Date:  [**2174-5-3**]              D...  64.221476      M  \n",
       "2762     Admission Date:  [**2137-3-7**]              D...  76.461914      M  \n",
       "...                                                    ...        ...    ...  \n",
       "1815691  Admission Date:  [**2192-3-2**]       Discharg...  84.041414      F  \n",
       "1816932  Admission Date:  [**2200-3-25**]              ...  43.901714      M  \n",
       "1817192  Name:  [**Known lastname **], [**Known firstna...  88.602314      M  \n",
       "1817520  Name:  [**Known lastname 12352**],[**Known fir...  88.567452      M  \n",
       "1817932  Name:  [**Known lastname **], [**Known firstna...  59.726667      M  \n",
       "\n",
       "[1688 rows x 13 columns]"
      ]
     },
     "execution_count": 45,
     "metadata": {},
     "output_type": "execute_result"
    }
   ],
   "source": [
    "positive_admission_notes"
   ]
  },
  {
   "cell_type": "code",
   "execution_count": 46,
   "metadata": {},
   "outputs": [
    {
     "data": {
      "text/plain": [
       "set()"
      ]
     },
     "execution_count": 46,
     "metadata": {},
     "output_type": "execute_result"
    }
   ],
   "source": [
    "set(positive_admission_notes['SUBJECT_ID']).intersection(set(negative_admission_notes['SUBJECT_ID']))"
   ]
  },
  {
   "cell_type": "code",
   "execution_count": 47,
   "metadata": {},
   "outputs": [
    {
     "data": {
      "text/plain": [
       "0.07182978723404256"
      ]
     },
     "execution_count": 47,
     "metadata": {},
     "output_type": "execute_result"
    }
   ],
   "source": [
    "# len(pd.Series(mortality_admissions).unique())/len(admissions_df['HADM_ID'].unique())\n",
    "len(positive_admission_notes)/(len(negative_admission_notes)+len(positive_admission_notes))\n",
    "# len(positive_admission_notes['SUBJECT_ID'].unique())/(len(negative_admission_notes['SUBJECT_ID'].unique())+len(positive_admission_notes['SUBJECT_ID'].unique()))"
   ]
  },
  {
   "cell_type": "code",
   "execution_count": 48,
   "metadata": {},
   "outputs": [
    {
     "data": {
      "text/plain": [
       "0.12821677263094156"
      ]
     },
     "execution_count": 48,
     "metadata": {},
     "output_type": "execute_result"
    }
   ],
   "source": [
    "pd.read_csv('../../notes_benchmark/data/in-hospital-mortality/filtered_train_listfile.csv')['y_true'].mean()"
   ]
  },
  {
   "cell_type": "code",
   "execution_count": 49,
   "metadata": {},
   "outputs": [],
   "source": [
    "positive_admission_notes['label']=1\n",
    "negative_admission_notes['label']=0"
   ]
  },
  {
   "cell_type": "code",
   "execution_count": 50,
   "metadata": {},
   "outputs": [],
   "source": [
    "# #for sampling distribution of large dataframe to match smaller df\n",
    "# def get_same_distribution_sample(smaller,larger, q, column):\n",
    "#     smaller['age_quantile'],bins = pd.qcut(cad_admission_notes[column],q=q, retbins=True)\n",
    "#     larger['age_quantile'] = pd.cut(larger[column], bins=bins)\n",
    "#     larger=larger.dropna(subset=['age_quantile'])\n",
    "#     larger_quantile_size = larger.groupby('age_quantile').apply(len).min()\n",
    "#     bins = larger['age_quantile'].unique()\n",
    "#     all_quantiles = []\n",
    "#     for quantile in bins:\n",
    "#         print(quantile)\n",
    "#         all_quantiles.append(larger[larger['age_quantile']==quantile].sample(larger_quantile_size))\n",
    "#     return pd.concat(all_quantiles)"
   ]
  },
  {
   "cell_type": "code",
   "execution_count": 51,
   "metadata": {},
   "outputs": [],
   "source": [
    "# negatives_age_sampled = get_same_distribution_sample(cad_admission_notes,negative_admission_notes,6,'AGE')"
   ]
  },
  {
   "cell_type": "code",
   "execution_count": 52,
   "metadata": {},
   "outputs": [],
   "source": [
    "# shuffled_age_gender_negatives = pd.concat([negatives_age_sampled[negatives_age_sampled['GENDER']=='F'].sample(frac=0.5),(negatives_age_sampled[negatives_age_sampled['GENDER']=='M'])]).sample(frac=1)"
   ]
  },
  {
   "cell_type": "code",
   "execution_count": 53,
   "metadata": {},
   "outputs": [],
   "source": [
    "# shuffled_age_gender_negatives.groupby('GENDER').apply(len).max()/shuffled_age_gender_negatives.groupby('GENDER').apply(len).min()"
   ]
  },
  {
   "cell_type": "code",
   "execution_count": 54,
   "metadata": {},
   "outputs": [],
   "source": [
    "# len(cad_admission_notes)"
   ]
  },
  {
   "cell_type": "code",
   "execution_count": 55,
   "metadata": {},
   "outputs": [],
   "source": [
    "# cad_admission_notes['label']=1\n",
    "# shuffled_age_gender_negatives['label']=0"
   ]
  },
  {
   "cell_type": "code",
   "execution_count": 56,
   "metadata": {},
   "outputs": [],
   "source": [
    "train_and_test_data = pd.concat([positive_admission_notes[['TEXT','label']],negative_admission_notes[['TEXT','label']]]).sample(frac=1)"
   ]
  },
  {
   "cell_type": "code",
   "execution_count": 57,
   "metadata": {},
   "outputs": [],
   "source": [
    "# from sklearn.model_selection import train_test_split\n",
    "\n",
    "# train_patients, test_patients = train_test_split(train_and_test_data['SUBJECT_ID'], test_size=0.1)\n",
    "# train_patients,val_patients = train_test_split(train_patients, test_size=0.05)\n",
    "\n",
    "from sklearn.model_selection import train_test_split\n",
    "\n",
    "train, test = train_test_split(train_and_test_data, test_size=0.1)\n",
    "train,val = train_test_split(train, test_size=0.05)"
   ]
  },
  {
   "cell_type": "code",
   "execution_count": 58,
   "metadata": {},
   "outputs": [],
   "source": [
    "train.to_csv('../data/mortality_train.csv')\n",
    "val.to_csv('../data/mortality_val.csv')\n",
    "test.to_csv('../data/mortality_test.csv')"
   ]
  },
  {
   "cell_type": "code",
   "execution_count": 2,
   "metadata": {},
   "outputs": [],
   "source": [
    "import pandas as pd\n",
    "val = pd.read_csv('../data/mortality_val.csv')#['label'].mean()"
   ]
  },
  {
   "cell_type": "code",
   "execution_count": 11,
   "metadata": {},
   "outputs": [],
   "source": [
    "from transformers import DistilBertTokenizer"
   ]
  },
  {
   "cell_type": "code",
   "execution_count": 12,
   "metadata": {},
   "outputs": [],
   "source": [
    "tokenizer = DistilBertTokenizer.from_pretrained('distilbert-base-uncased')"
   ]
  },
  {
   "cell_type": "code",
   "execution_count": 13,
   "metadata": {},
   "outputs": [
    {
     "data": {
      "text/plain": [
       "[101, 2023, 2003, 1037, 1055, 21576, 10127, 102]"
      ]
     },
     "execution_count": 13,
     "metadata": {},
     "output_type": "execute_result"
    }
   ],
   "source": [
    "tokenizer.encode('this is a snentence')"
   ]
  },
  {
   "cell_type": "code",
   "execution_count": 15,
   "metadata": {},
   "outputs": [
    {
     "data": {
      "text/plain": [
       "2981.758034026465"
      ]
     },
     "execution_count": 15,
     "metadata": {},
     "output_type": "execute_result"
    }
   ],
   "source": [
    "val['TEXT'].apply(tokenizer.encode).apply(len).mean()"
   ]
  },
  {
   "cell_type": "code",
   "execution_count": null,
   "metadata": {},
   "outputs": [],
   "source": []
  },
  {
   "cell_type": "code",
   "execution_count": null,
   "metadata": {},
   "outputs": [],
   "source": []
  },
  {
   "cell_type": "code",
   "execution_count": null,
   "metadata": {},
   "outputs": [],
   "source": []
  },
  {
   "cell_type": "code",
   "execution_count": 1,
   "metadata": {},
   "outputs": [],
   "source": [
    "import pandas as pd\n",
    "all_data = pd.concat([pd.read_csv('../data/mortality_train.csv'),pd.read_csv('../data/mortality_val.csv'),pd.read_csv('../data/mortality_test.csv')])"
   ]
  },
  {
   "cell_type": "code",
   "execution_count": 2,
   "metadata": {},
   "outputs": [
    {
     "data": {
      "text/plain": [
       "80"
      ]
     },
     "execution_count": 2,
     "metadata": {},
     "output_type": "execute_result"
    }
   ],
   "source": [
    "# all_data[all_data['label']==0]\n",
    "pd.read_csv('../data/mortality_val.csv')['label'].sum()"
   ]
  },
  {
   "cell_type": "code",
   "execution_count": 3,
   "metadata": {},
   "outputs": [
    {
     "data": {
      "text/plain": [
       "1688"
      ]
     },
     "execution_count": 3,
     "metadata": {},
     "output_type": "execute_result"
    }
   ],
   "source": [
    "all_data['label'].sum()"
   ]
  },
  {
   "cell_type": "code",
   "execution_count": 8,
   "metadata": {},
   "outputs": [],
   "source": [
    "all_data[all_data['label']==1][['TEXT']].to_csv('../concept_listfiles/mort_30day')"
   ]
  },
  {
   "cell_type": "code",
   "execution_count": 9,
   "metadata": {},
   "outputs": [
    {
     "data": {
      "text/html": [
       "<div>\n",
       "<style scoped>\n",
       "    .dataframe tbody tr th:only-of-type {\n",
       "        vertical-align: middle;\n",
       "    }\n",
       "\n",
       "    .dataframe tbody tr th {\n",
       "        vertical-align: top;\n",
       "    }\n",
       "\n",
       "    .dataframe thead th {\n",
       "        text-align: right;\n",
       "    }\n",
       "</style>\n",
       "<table border=\"1\" class=\"dataframe\">\n",
       "  <thead>\n",
       "    <tr style=\"text-align: right;\">\n",
       "      <th></th>\n",
       "      <th>Unnamed: 0</th>\n",
       "      <th>TEXT</th>\n",
       "      <th>label</th>\n",
       "    </tr>\n",
       "  </thead>\n",
       "  <tbody>\n",
       "    <tr>\n",
       "      <th>0</th>\n",
       "      <td>1659827</td>\n",
       "      <td>Admission Date:  [**2109-12-20**]             ...</td>\n",
       "      <td>0</td>\n",
       "    </tr>\n",
       "    <tr>\n",
       "      <th>1</th>\n",
       "      <td>672545</td>\n",
       "      <td>Name:  [**Known lastname 8577**], [**Known fir...</td>\n",
       "      <td>0</td>\n",
       "    </tr>\n",
       "    <tr>\n",
       "      <th>2</th>\n",
       "      <td>413046</td>\n",
       "      <td>Admission Date:  [**2158-3-31**]              ...</td>\n",
       "      <td>1</td>\n",
       "    </tr>\n",
       "    <tr>\n",
       "      <th>3</th>\n",
       "      <td>291370</td>\n",
       "      <td>Admission Date:  [**2126-6-23**]              ...</td>\n",
       "      <td>0</td>\n",
       "    </tr>\n",
       "    <tr>\n",
       "      <th>4</th>\n",
       "      <td>1309903</td>\n",
       "      <td>Admission Date:  [**2161-3-9**]              D...</td>\n",
       "      <td>0</td>\n",
       "    </tr>\n",
       "    <tr>\n",
       "      <th>...</th>\n",
       "      <td>...</td>\n",
       "      <td>...</td>\n",
       "      <td>...</td>\n",
       "    </tr>\n",
       "    <tr>\n",
       "      <th>2345</th>\n",
       "      <td>1320243</td>\n",
       "      <td>Admission Date:  [**2107-10-6**]              ...</td>\n",
       "      <td>0</td>\n",
       "    </tr>\n",
       "    <tr>\n",
       "      <th>2346</th>\n",
       "      <td>1602263</td>\n",
       "      <td>Admission Date:  [**2195-8-18**]       Dischar...</td>\n",
       "      <td>0</td>\n",
       "    </tr>\n",
       "    <tr>\n",
       "      <th>2347</th>\n",
       "      <td>1001916</td>\n",
       "      <td>Admission Date:  [**2129-11-13**]             ...</td>\n",
       "      <td>0</td>\n",
       "    </tr>\n",
       "    <tr>\n",
       "      <th>2348</th>\n",
       "      <td>502531</td>\n",
       "      <td>Admission Date:  [**2131-9-28**]              ...</td>\n",
       "      <td>0</td>\n",
       "    </tr>\n",
       "    <tr>\n",
       "      <th>2349</th>\n",
       "      <td>805276</td>\n",
       "      <td>Admission Date:  [**2160-10-25**]             ...</td>\n",
       "      <td>0</td>\n",
       "    </tr>\n",
       "  </tbody>\n",
       "</table>\n",
       "<p>23500 rows × 3 columns</p>\n",
       "</div>"
      ],
      "text/plain": [
       "      Unnamed: 0                                               TEXT  label\n",
       "0        1659827  Admission Date:  [**2109-12-20**]             ...      0\n",
       "1         672545  Name:  [**Known lastname 8577**], [**Known fir...      0\n",
       "2         413046  Admission Date:  [**2158-3-31**]              ...      1\n",
       "3         291370  Admission Date:  [**2126-6-23**]              ...      0\n",
       "4        1309903  Admission Date:  [**2161-3-9**]              D...      0\n",
       "...          ...                                                ...    ...\n",
       "2345     1320243  Admission Date:  [**2107-10-6**]              ...      0\n",
       "2346     1602263  Admission Date:  [**2195-8-18**]       Dischar...      0\n",
       "2347     1001916  Admission Date:  [**2129-11-13**]             ...      0\n",
       "2348      502531  Admission Date:  [**2131-9-28**]              ...      0\n",
       "2349      805276  Admission Date:  [**2160-10-25**]             ...      0\n",
       "\n",
       "[23500 rows x 3 columns]"
      ]
     },
     "execution_count": 9,
     "metadata": {},
     "output_type": "execute_result"
    }
   ],
   "source": [
    "all_data"
   ]
  },
  {
   "cell_type": "code",
   "execution_count": 332,
   "metadata": {},
   "outputs": [
    {
     "name": "stdout",
     "output_type": "stream",
     "text": [
      "(70.592, 76.059]\n",
      "(25.656, 57.714]\n",
      "(81.488, 89.056]\n",
      "(76.059, 81.488]\n",
      "(57.714, 64.793]\n",
      "(64.793, 70.592]\n"
     ]
    }
   ],
   "source": [
    "bins = negative_admission_notes['age_quantile'].unique()\n",
    "all_quantiles = []\n",
    "for quantile in bins:\n",
    "    print(quantile)\n",
    "    all_quantiles.append(negative_admission_notes[negative_admission_notes['age_quantile']==quantile].sample(negative_quantile_size))"
   ]
  },
  {
   "cell_type": "code",
   "execution_count": 353,
   "metadata": {},
   "outputs": [
    {
     "data": {
      "text/plain": [
       "age_quantile\n",
       "(25.656, 57.714]    1276\n",
       "(57.714, 64.793]    1272\n",
       "(64.793, 70.592]    1236\n",
       "(70.592, 76.059]    1239\n",
       "(76.059, 81.488]    1196\n",
       "(81.488, 89.056]    1157\n",
       "dtype: int64"
      ]
     },
     "execution_count": 353,
     "metadata": {},
     "output_type": "execute_result"
    }
   ],
   "source": [
    "shuffled_age_gender_negatives.groupby('age_quantile').apply(len)"
   ]
  },
  {
   "cell_type": "code",
   "execution_count": 312,
   "metadata": {},
   "outputs": [],
   "source": [
    "bins = [0]+bins+[999]"
   ]
  },
  {
   "cell_type": "code",
   "execution_count": 303,
   "metadata": {},
   "outputs": [
    {
     "data": {
      "text/plain": [
       "GENDER\n",
       "F    2316\n",
       "M    4840\n",
       "dtype: int64"
      ]
     },
     "execution_count": 303,
     "metadata": {},
     "output_type": "execute_result"
    }
   ],
   "source": [
    "cad_admission_notes.groupby('GENDER').apply(len)"
   ]
  },
  {
   "cell_type": "code",
   "execution_count": null,
   "metadata": {},
   "outputs": [],
   "source": [
    "def get_brat_sections():\n",
    "    sections_dict = {}\n",
    "    sectionspath = '../../LHC_mimic/mimic3_1.4/notes/sections/'\n",
    "    for hashdir in os.listdir(sectionspath):\n",
    "        for subjectdir in os.listdir(sectionspath+hashdir):\n",
    "            for admissiondir in os.listdir(sectionspath+hashdir+'/'+subjectdir):\n",
    "                for fn in os.listdir(sectionspath+hashdir+'/'+subjectdir+'/'+admissiondir):\n",
    "                    ann_fn = sectionspath+hashdir+'/'+subjectdir+'/'+admissiondir + '/' + fn\n",
    "#                     entities, relations, attributes, groups = get_entities_relations_attributes_groups(ann_fn)\n",
    "#                     with gzip.open(ann_fn, 'rb') as ann_file:\n",
    "#                         lines = ann_file.readlines()\n",
    "                    lines= list(pd.read_csv(ann_fn, sep='\\n', names=['lines'])['lines'])\n",
    "                    for line in lines:\n",
    "                        if line[0]=='A':\n",
    "                            section=line.split(maxsplit=3)[3]\n",
    "                            if section in sections_dict.keys():\n",
    "                                sections_dict[section] = sections_dict[section]+[admissiondir]\n",
    "                            else: \n",
    "                                sections_dict[section] = [admissiondir]\n",
    "    return sections_dict\n",
    "brat_sections = get_brat_sections()\n",
    "sections_df = pd.DataFrame(list(brat_sections.values())).transpose()\n",
    "sections_df.columns=brat_sections.keys()\n",
    "sections_df.to_csv('sections_admissions_list.csv')"
   ]
  },
  {
   "cell_type": "code",
   "execution_count": null,
   "metadata": {},
   "outputs": [],
   "source": []
  },
  {
   "cell_type": "code",
   "execution_count": null,
   "metadata": {},
   "outputs": [],
   "source": []
  },
  {
   "cell_type": "code",
   "execution_count": 13,
   "metadata": {},
   "outputs": [],
   "source": []
  },
  {
   "cell_type": "code",
   "execution_count": 14,
   "metadata": {},
   "outputs": [],
   "source": [
    "notes_df['CHARTTIME'] = pd.to_datetime(notes_df['CHARTTIME']) \n",
    "notes_df['STORETIME'] = pd.to_datetime(notes_df['STORETIME']) "
   ]
  },
  {
   "cell_type": "code",
   "execution_count": 15,
   "metadata": {},
   "outputs": [],
   "source": [
    "admissions_dict = dict(zip(admissions_df['HADM_ID'],admissions_df['ADMITTIME']))"
   ]
  },
  {
   "cell_type": "code",
   "execution_count": 16,
   "metadata": {},
   "outputs": [],
   "source": [
    "notes_df = notes_df.dropna(subset=['HADM_ID','SUBJECT_ID', 'CHARTTIME', 'TEXT'], how='any')"
   ]
  },
  {
   "cell_type": "code",
   "execution_count": 17,
   "metadata": {},
   "outputs": [],
   "source": [
    "notes_df['admittime'] = notes_df['HADM_ID'].apply(lambda x: admissions_dict[x] )\n",
    "notes_df['admittime'] = pd.to_datetime(notes_df['admittime']) "
   ]
  },
  {
   "cell_type": "code",
   "execution_count": 18,
   "metadata": {},
   "outputs": [],
   "source": [
    "# after_admission = notes_df.apply(lambda row: row['CHARTTIME']>=row['admittime'], axis=1)"
   ]
  },
  {
   "cell_type": "code",
   "execution_count": 19,
   "metadata": {},
   "outputs": [],
   "source": [
    "# notes_df = notes_df[after_admission]"
   ]
  },
  {
   "cell_type": "code",
   "execution_count": 41,
   "metadata": {},
   "outputs": [],
   "source": [
    "# first_cad_notes = cad_notes.sort_values(by='CHARTTIME', ascending=True).drop_duplicates(subset=['HADM_ID'],keep='first')"
   ]
  },
  {
   "cell_type": "code",
   "execution_count": 40,
   "metadata": {},
   "outputs": [],
   "source": [
    "negative_examples = notes_df[notes_df.apply(lambda row: row['HADM_ID'] not in cad_admissions and row['SUBJECT_ID'] not in cad_patients,axis=1)]"
   ]
  },
  {
   "cell_type": "code",
   "execution_count": 36,
   "metadata": {},
   "outputs": [],
   "source": [
    "cad_procedure_admissions = procedures_df[procedures_df['ICD9_CODE'].apply(lambda x: x in cad_procedure_codes )]['HADM_ID'].unique()"
   ]
  },
  {
   "cell_type": "code",
   "execution_count": 64,
   "metadata": {},
   "outputs": [
    {
     "data": {
      "text/plain": [
       "13999"
      ]
     },
     "execution_count": 64,
     "metadata": {},
     "output_type": "execute_result"
    }
   ],
   "source": [
    "len(cad_admissions)"
   ]
  },
  {
   "cell_type": "code",
   "execution_count": 42,
   "metadata": {},
   "outputs": [],
   "source": [
    "cad_procedure_patients = procedures_df[procedures_df['ICD9_CODE'].apply(lambda x: x in cad_procedure_codes )]['SUBJECT_ID'].unique()"
   ]
  },
  {
   "cell_type": "code",
   "execution_count": 43,
   "metadata": {},
   "outputs": [],
   "source": [
    "negative_examples_minus_cad_procedures = negative_examples[negative_examples.apply(lambda x: x['HADM_ID'] not in cad_procedure_admissions and x['SUBJECT_ID'] not in cad_procedure_patients,axis=1)]"
   ]
  },
  {
   "cell_type": "code",
   "execution_count": 65,
   "metadata": {},
   "outputs": [
    {
     "data": {
      "text/plain": [
       "39664"
      ]
     },
     "execution_count": 65,
     "metadata": {},
     "output_type": "execute_result"
    }
   ],
   "source": [
    "len(negative_examples['HADM_ID'].unique())"
   ]
  },
  {
   "cell_type": "code",
   "execution_count": 54,
   "metadata": {},
   "outputs": [
    {
     "data": {
      "text/plain": [
       "19574"
      ]
     },
     "execution_count": 54,
     "metadata": {},
     "output_type": "execute_result"
    }
   ],
   "source": [
    "len(negative_examples_minus_cad_procedures['HADM_ID'].unique())"
   ]
  },
  {
   "cell_type": "code",
   "execution_count": null,
   "metadata": {},
   "outputs": [],
   "source": [
    "#44 CCS\n",
    "#neonates\n",
    "#age, gender distributions\n",
    "#take first admission of patient use the admission with CAD code"
   ]
  },
  {
   "cell_type": "code",
   "execution_count": 46,
   "metadata": {},
   "outputs": [],
   "source": [
    "cad_procedures = []\n",
    "#https://www.aafp.org/afp/2011/0401/p819.html\n",
    "beta_blockers = [x.lower() for x in  ['Atenolol','Tenormin','Bisoprolol','Zebeta', 'Carvedilol','Coreg', 'Labetalol', 'Metoprolol', 'Propranolol','Inderal']]\n",
    "anti_platelet = ['aspirin','clopidogrel','plavix' ]\n",
    "statins = [x.lower() for x in ['Atorvastatin', 'Lipitor', 'Lovastatin', 'Altoprev', 'Pitavastatin', 'Livalo', 'Zypitamag', 'Pravastatin', 'Pravachol','Rosuvastatin','Crestor', 'Ezallor','Simvastatin', 'Zocor']]"
   ]
  },
  {
   "cell_type": "code",
   "execution_count": 47,
   "metadata": {},
   "outputs": [],
   "source": [
    "# with_aspirin = drugs_df[drugs_df['DRUG'].apply(lambda x: 'aspirin' in x.lower())].groupby('HADM_ID').apply(lambda x: str(x.name) if len(x)>=1 else np.nan)\n",
    "\n",
    "with_beta_blockers = drugs_df[drugs_df.apply(lambda row: any([x in (str(row['DRUG'])+str(row['DRUG_NAME_POE'])+str(row['DRUG_NAME_GENERIC'])).lower() for x in beta_blockers]) , axis=1)].groupby('SUBJECT_ID').apply(lambda x: str(x.name) if len(x)>=1 else np.nan)\n",
    "\n",
    "with_anti_platelet = drugs_df[drugs_df.apply(lambda row: any([x in (str(row['DRUG'])+str(row['DRUG_NAME_POE'])+str(row['DRUG_NAME_GENERIC'])).lower() for x in anti_platelet]) , axis=1)].groupby('SUBJECT_ID').apply(lambda x: str(x.name) if len(x)>=1 else np.nan)\n",
    "\n",
    "with_statins = drugs_df[drugs_df.apply(lambda row: any([x in (str(row['DRUG'])+str(row['DRUG_NAME_POE'])+str(row['DRUG_NAME_GENERIC'])).lower() for x in statins]) , axis=1)].groupby('SUBJECT_ID').apply(lambda x: str(x.name) if len(x)>=1 else np.nan)"
   ]
  },
  {
   "cell_type": "code",
   "execution_count": 48,
   "metadata": {},
   "outputs": [],
   "source": [
    "all_criteria = set.intersection( set(with_beta_blockers),set(with_anti_platelet),set(with_statins))#,set([str(x) for x in no_coronary_in_drug_description]) )"
   ]
  },
  {
   "cell_type": "code",
   "execution_count": 56,
   "metadata": {},
   "outputs": [],
   "source": [
    "no_meds_or_procedures = set(negative_examples_minus_cad_procedures['HADM_ID'])-all_criteria"
   ]
  },
  {
   "cell_type": "code",
   "execution_count": 51,
   "metadata": {},
   "outputs": [],
   "source": [
    "negative_without_cad_meds = negative_examples[negative_examples['HADM_ID'].apply(lambda x: x not in all_criteria)]"
   ]
  },
  {
   "cell_type": "code",
   "execution_count": 53,
   "metadata": {},
   "outputs": [
    {
     "data": {
      "text/plain": [
       "39664"
      ]
     },
     "execution_count": 53,
     "metadata": {},
     "output_type": "execute_result"
    }
   ],
   "source": [
    "len(negative_without_cad_meds['HADM_ID'].unique())"
   ]
  },
  {
   "cell_type": "code",
   "execution_count": 1,
   "metadata": {},
   "outputs": [],
   "source": [
    "import pandas as pd"
   ]
  },
  {
   "cell_type": "code",
   "execution_count": 6,
   "metadata": {},
   "outputs": [],
   "source": [
    "test = pd.read_csv('data/CAD_test.csv')"
   ]
  },
  {
   "cell_type": "code",
   "execution_count": 10,
   "metadata": {},
   "outputs": [],
   "source": [
    "test[test['label']==1][['TEXT']].to_csv('concept_listfiles/CAD_final')"
   ]
  },
  {
   "cell_type": "code",
   "execution_count": null,
   "metadata": {},
   "outputs": [],
   "source": []
  }
 ],
 "metadata": {
  "kernelspec": {
   "display_name": "Python 3",
   "language": "python",
   "name": "python3"
  },
  "language_info": {
   "codemirror_mode": {
    "name": "ipython",
    "version": 3
   },
   "file_extension": ".py",
   "mimetype": "text/x-python",
   "name": "python",
   "nbconvert_exporter": "python",
   "pygments_lexer": "ipython3",
   "version": "3.6.10"
  }
 },
 "nbformat": 4,
 "nbformat_minor": 4
}
